{
 "cells": [
  {
   "cell_type": "code",
   "execution_count": 1,
   "id": "c6da6b95",
   "metadata": {
    "_cell_guid": "b1076dfc-b9ad-4769-8c92-a6c4dae69d19",
    "_uuid": "8f2839f25d086af736a60e9eeb907d3b93b6e0e5",
    "execution": {
     "iopub.execute_input": "2024-04-11T16:37:18.667607Z",
     "iopub.status.busy": "2024-04-11T16:37:18.667221Z",
     "iopub.status.idle": "2024-04-11T16:37:19.512885Z",
     "shell.execute_reply": "2024-04-11T16:37:19.511569Z"
    },
    "papermill": {
     "duration": 0.859481,
     "end_time": "2024-04-11T16:37:19.515357",
     "exception": false,
     "start_time": "2024-04-11T16:37:18.655876",
     "status": "completed"
    },
    "tags": []
   },
   "outputs": [
    {
     "name": "stdout",
     "output_type": "stream",
     "text": [
      "Suicidal dataframe:          label                                        twitterText\n",
      "0     SUICIDAL  \"pengen bunuh diri aja\"\\nyang paling sering te...\n",
      "1     SUICIDAL  Secara tidak langsung punya Fikiran pengen bun...\n",
      "2     SUICIDAL          sejam lalu haha hihi sekarang pengen mati\n",
      "3     SUICIDAL  Baru kelar 1 masalah datang lagi malah lainnya...\n",
      "4     SUICIDAL       fuck bundir aku lagi pgn mabok smpk ga sadar\n",
      "...        ...                                                ...\n",
      "8727  SUICIDAL  jujur cape hidup kaya gini terus, aku nganggur...\n",
      "8728  SUICIDAL  Siapa yang dari sd udah kepikiran mau mati ? A...\n",
      "8729  SUICIDAL   Apa aku doang kalo stres suka pengen bunuh diri?\n",
      "8730  SUICIDAL  Mood ga karuan. Ovt ga karuan. Selalu kek miki...\n",
      "8731  SUICIDAL   pengen bundir tapi takut gabisa dengerin mineral\n",
      "\n",
      "[8732 rows x 2 columns]\n"
     ]
    }
   ],
   "source": [
    "import pandas as pd\n",
    "import re\n",
    "import os\n",
    "\n",
    "df_suicidal = pd.read_csv(\"/kaggle/input/manual-annotation-indo-twitter-suicide/final-annotated-suicide-dataset.csv\", usecols=['label', 'twitterText'])\n",
    "df_suicidal.dropna(inplace=True)\n",
    "df_suicidal['label'] = \"SUICIDAL\"\n",
    "df_suicidal = df_suicidal.sample(frac=1, random_state=42).reset_index(drop=True)\n",
    "print(\"Suicidal dataframe:\", df_suicidal)"
   ]
  },
  {
   "cell_type": "code",
   "execution_count": 2,
   "id": "5fb85dcd",
   "metadata": {
    "execution": {
     "iopub.execute_input": "2024-04-11T16:37:19.535849Z",
     "iopub.status.busy": "2024-04-11T16:37:19.534987Z",
     "iopub.status.idle": "2024-04-11T16:37:20.016084Z",
     "shell.execute_reply": "2024-04-11T16:37:20.014550Z"
    },
    "papermill": {
     "duration": 0.494057,
     "end_time": "2024-04-11T16:37:20.018542",
     "exception": false,
     "start_time": "2024-04-11T16:37:19.524485",
     "status": "completed"
    },
    "tags": []
   },
   "outputs": [
    {
     "name": "stdout",
     "output_type": "stream",
     "text": [
      "Non-suicidal dataframe:               label                                        twitterText\n",
      "0      NOT_SUICIDAL  yall the feminists i know on twitter are happi...\n",
      "1      NOT_SUICIDAL  Imagine bini sedap masak and his brain thinks ...\n",
      "2      NOT_SUICIDAL  Kita masak macam katering dah raya ni dia kalu...\n",
      "3      NOT_SUICIDAL  Masak ni survival skills, bukan gender roles. ...\n",
      "4      NOT_SUICIDAL  Istg if I were a man, I'd surely date her. \\n\\...\n",
      "...             ...                                                ...\n",
      "35307  NOT_SUICIDAL  @leo_edw W slalu punya feel kalo dia cuma ghos...\n",
      "35308  NOT_SUICIDAL  Jog! Lagi ngrasake bersyukur tapi yo kesel ki,...\n",
      "35309  NOT_SUICIDAL  @mks_fess itulah pentingnya tidak berharap ket...\n",
      "35310  NOT_SUICIDAL  Moots pdkt yuk tapi enih harus delapan kata ad...\n",
      "35311  NOT_SUICIDAL  Pengertian Ghosting dan Cara Menghindarinya: H...\n",
      "\n",
      "[35312 rows x 2 columns]\n",
      "Non-suicidal dataframe:               label                                        twitterText\n",
      "0      NOT_SUICIDAL  [cm] sekarang aku paham kenapa anak semester a...\n",
      "1      NOT_SUICIDAL  Semoga kita kuat kuat aja ya ngejalanin hidup ...\n",
      "2      NOT_SUICIDAL                              pengen bundir lmaoooo\n",
      "3      NOT_SUICIDAL  sumpah pengen gua katain anjing tolol bego ban...\n",
      "4      NOT_SUICIDAL                   pengen beli immortal trus bundir\n",
      "...             ...                                                ...\n",
      "35392  NOT_SUICIDAL         @kadyasandya coba bundir di jembatan suhat\n",
      "35393  NOT_SUICIDAL  @BluueBleGum tapi gua jadi mikir nih, kan pres...\n",
      "35394  NOT_SUICIDAL  @amordevaleri @WeningAA @CNNIndonesia iya aku ...\n",
      "35395  NOT_SUICIDAL  Gua pas itu gini\\n\\n\"Capek bgt pikiran bundir ...\n",
      "35396  NOT_SUICIDAL  Dulu pernah ampe udh cari cara di google tapi ...\n",
      "\n",
      "[35397 rows x 2 columns]\n"
     ]
    }
   ],
   "source": [
    "df_not_suicidal_a = pd.read_csv(\"/kaggle/input/manual-annotation-indo-twitter-suicide/final-non-suicide-dataset.csv\", usecols=['label', 'twitterText'])\n",
    "df_not_suicidal_a.dropna(inplace=True)\n",
    "df_not_suicidal_a['label'] = \"NOT_SUICIDAL\"\n",
    "print(\"Non-suicidal dataframe:\", df_not_suicidal_a)\n",
    "\n",
    "df_not_suicidal_b = pd.read_csv(\"/kaggle/input/manual-annotation-indo-twitter-suicide/final-annotated-non-suicide-dataset.csv\", usecols=['label', 'twitterText'])\n",
    "df_not_suicidal_b.dropna(inplace=True)\n",
    "df_not_suicidal_b['label'] = \"NOT_SUICIDAL\"\n",
    "print(\"Non-suicidal dataframe:\", df_not_suicidal_b)"
   ]
  },
  {
   "cell_type": "code",
   "execution_count": 3,
   "id": "eada99ac",
   "metadata": {
    "execution": {
     "iopub.execute_input": "2024-04-11T16:37:20.040808Z",
     "iopub.status.busy": "2024-04-11T16:37:20.039861Z",
     "iopub.status.idle": "2024-04-11T16:37:20.058715Z",
     "shell.execute_reply": "2024-04-11T16:37:20.057710Z"
    },
    "papermill": {
     "duration": 0.032643,
     "end_time": "2024-04-11T16:37:20.061362",
     "exception": false,
     "start_time": "2024-04-11T16:37:20.028719",
     "status": "completed"
    },
    "tags": []
   },
   "outputs": [
    {
     "name": "stdout",
     "output_type": "stream",
     "text": [
      "Non-suicidal dataframe:              label                                        twitterText\n",
      "0     NOT_SUICIDAL  Gak mudah mengakhiri hubungan di umur 26thn di...\n",
      "1     NOT_SUICIDAL                   Canda. Sesempetnya aja ya bous 😎\n",
      "2     NOT_SUICIDAL  @thekuxell Cara Israel mengurangi populasi ten...\n",
      "3     NOT_SUICIDAL  Aku hanya lelah hidup seperti ini, tak tau har...\n",
      "4     NOT_SUICIDAL  Ada orang yg pintar karena tekun belajar dan a...\n",
      "...            ...                                                ...\n",
      "8727  NOT_SUICIDAL  @kkmanti @kangadang1 @Yanuardychandra @floriel...\n",
      "8728  NOT_SUICIDAL  @Don_gindo Kok dek akibat singo di ajar makan ...\n",
      "8729  NOT_SUICIDAL  Mande :\"Jadi mo cium gak\"\\nSurya :\"ntar aja ka...\n",
      "8730  NOT_SUICIDAL  Tuhan...knp z harus kenal,cyg,n nikah dg org y...\n",
      "8731  NOT_SUICIDAL  Demi tuhan, ini narasi paling berkesan. Gemes,...\n",
      "\n",
      "[8732 rows x 2 columns]\n"
     ]
    }
   ],
   "source": [
    "#Combine non-suicidal datasets from non-suicide keyword query (a) and suicide keyword but annotated non-suicide (b)\n",
    "#Randomly sample 8732 data to match number of suicidal data\n",
    "df_not_suicidal = pd.concat([df_not_suicidal_a, df_not_suicidal_b])\n",
    "df_not_suicidal = df_not_suicidal.sample(n=8732, random_state=42).reset_index(drop=True)\n",
    "print(\"Non-suicidal dataframe:\", df_not_suicidal)"
   ]
  },
  {
   "cell_type": "code",
   "execution_count": 4,
   "id": "5faecf9a",
   "metadata": {
    "execution": {
     "iopub.execute_input": "2024-04-11T16:37:20.083740Z",
     "iopub.status.busy": "2024-04-11T16:37:20.082808Z",
     "iopub.status.idle": "2024-04-11T16:37:20.094303Z",
     "shell.execute_reply": "2024-04-11T16:37:20.092908Z"
    },
    "papermill": {
     "duration": 0.025273,
     "end_time": "2024-04-11T16:37:20.096794",
     "exception": false,
     "start_time": "2024-04-11T16:37:20.071521",
     "status": "completed"
    },
    "tags": []
   },
   "outputs": [
    {
     "name": "stdout",
     "output_type": "stream",
     "text": [
      "              label                                        twitterText\n",
      "0          SUICIDAL  \"pengen bunuh diri aja\"\\nyang paling sering te...\n",
      "1          SUICIDAL  Secara tidak langsung punya Fikiran pengen bun...\n",
      "2          SUICIDAL          sejam lalu haha hihi sekarang pengen mati\n",
      "3          SUICIDAL  Baru kelar 1 masalah datang lagi malah lainnya...\n",
      "4          SUICIDAL       fuck bundir aku lagi pgn mabok smpk ga sadar\n",
      "...             ...                                                ...\n",
      "17459  NOT_SUICIDAL  @kkmanti @kangadang1 @Yanuardychandra @floriel...\n",
      "17460  NOT_SUICIDAL  @Don_gindo Kok dek akibat singo di ajar makan ...\n",
      "17461  NOT_SUICIDAL  Mande :\"Jadi mo cium gak\"\\nSurya :\"ntar aja ka...\n",
      "17462  NOT_SUICIDAL  Tuhan...knp z harus kenal,cyg,n nikah dg org y...\n",
      "17463  NOT_SUICIDAL  Demi tuhan, ini narasi paling berkesan. Gemes,...\n",
      "\n",
      "[17464 rows x 2 columns]\n"
     ]
    }
   ],
   "source": [
    "df = pd.concat([df_suicidal, df_not_suicidal])\n",
    "df = df.reset_index(drop=True)\n",
    "print(df)"
   ]
  },
  {
   "cell_type": "code",
   "execution_count": 5,
   "id": "57279824",
   "metadata": {
    "execution": {
     "iopub.execute_input": "2024-04-11T16:37:20.120021Z",
     "iopub.status.busy": "2024-04-11T16:37:20.118991Z",
     "iopub.status.idle": "2024-04-11T16:37:20.146259Z",
     "shell.execute_reply": "2024-04-11T16:37:20.145182Z"
    },
    "papermill": {
     "duration": 0.041428,
     "end_time": "2024-04-11T16:37:20.149185",
     "exception": false,
     "start_time": "2024-04-11T16:37:20.107757",
     "status": "completed"
    },
    "tags": []
   },
   "outputs": [
    {
     "name": "stdout",
     "output_type": "stream",
     "text": [
      "       label                                        twitterText\n",
      "0          1  \"pengen bunuh diri aja\"\\nyang paling sering te...\n",
      "1          1  Secara tidak langsung punya Fikiran pengen bun...\n",
      "2          1          sejam lalu haha hihi sekarang pengen mati\n",
      "3          1  Baru kelar 1 masalah datang lagi malah lainnya...\n",
      "4          1       fuck bundir aku lagi pgn mabok smpk ga sadar\n",
      "...      ...                                                ...\n",
      "17459      0  @kkmanti @kangadang1 @Yanuardychandra @floriel...\n",
      "17460      0  @Don_gindo Kok dek akibat singo di ajar makan ...\n",
      "17461      0  Mande :\"Jadi mo cium gak\"\\nSurya :\"ntar aja ka...\n",
      "17462      0  Tuhan...knp z harus kenal,cyg,n nikah dg org y...\n",
      "17463      0  Demi tuhan, ini narasi paling berkesan. Gemes,...\n",
      "\n",
      "[17464 rows x 2 columns]\n"
     ]
    },
    {
     "name": "stderr",
     "output_type": "stream",
     "text": [
      "/tmp/ipykernel_24/3044191695.py:1: FutureWarning: Downcasting behavior in `replace` is deprecated and will be removed in a future version. To retain the old behavior, explicitly call `result.infer_objects(copy=False)`. To opt-in to the future behavior, set `pd.set_option('future.no_silent_downcasting', True)`\n",
      "  df['label'] = df['label'].replace({'SUICIDAL': 1, 'NOT_SUICIDAL': 0})\n"
     ]
    }
   ],
   "source": [
    "df['label'] = df['label'].replace({'SUICIDAL': 1, 'NOT_SUICIDAL': 0})\n",
    "print(df)"
   ]
  },
  {
   "cell_type": "markdown",
   "id": "88b2e74b",
   "metadata": {
    "papermill": {
     "duration": 0.009606,
     "end_time": "2024-04-11T16:37:20.169572",
     "exception": false,
     "start_time": "2024-04-11T16:37:20.159966",
     "status": "completed"
    },
    "tags": []
   },
   "source": [
    "# Libraries"
   ]
  },
  {
   "cell_type": "code",
   "execution_count": 6,
   "id": "06848ace",
   "metadata": {
    "execution": {
     "iopub.execute_input": "2024-04-11T16:37:20.191530Z",
     "iopub.status.busy": "2024-04-11T16:37:20.190563Z",
     "iopub.status.idle": "2024-04-11T16:37:49.620186Z",
     "shell.execute_reply": "2024-04-11T16:37:49.619216Z"
    },
    "papermill": {
     "duration": 29.443307,
     "end_time": "2024-04-11T16:37:49.622782",
     "exception": false,
     "start_time": "2024-04-11T16:37:20.179475",
     "status": "completed"
    },
    "tags": []
   },
   "outputs": [
    {
     "name": "stdout",
     "output_type": "stream",
     "text": [
      "Collecting indonlp\r\n",
      "  Downloading indoNLP-0.3.4-py3-none-any.whl.metadata (3.4 kB)\r\n",
      "Downloading indoNLP-0.3.4-py3-none-any.whl (121 kB)\r\n",
      "\u001b[2K   \u001b[90m━━━━━━━━━━━━━━━━━━━━━━━━━━━━━━━━━━━━━━━━\u001b[0m \u001b[32m121.9/121.9 kB\u001b[0m \u001b[31m1.2 MB/s\u001b[0m eta \u001b[36m0:00:00\u001b[0m\r\n",
      "\u001b[?25hInstalling collected packages: indonlp\r\n",
      "Successfully installed indonlp-0.3.4\r\n",
      "Collecting unidecode\r\n",
      "  Downloading Unidecode-1.3.8-py3-none-any.whl.metadata (13 kB)\r\n",
      "Downloading Unidecode-1.3.8-py3-none-any.whl (235 kB)\r\n",
      "\u001b[2K   \u001b[90m━━━━━━━━━━━━━━━━━━━━━━━━━━━━━━━━━━━━━━━━\u001b[0m \u001b[32m235.5/235.5 kB\u001b[0m \u001b[31m1.9 MB/s\u001b[0m eta \u001b[36m0:00:00\u001b[0m\r\n",
      "\u001b[?25hInstalling collected packages: unidecode\r\n",
      "Successfully installed unidecode-1.3.8\r\n"
     ]
    }
   ],
   "source": [
    "!pip install indonlp\n",
    "!pip install unidecode"
   ]
  },
  {
   "cell_type": "markdown",
   "id": "683b4216",
   "metadata": {
    "papermill": {
     "duration": 0.010012,
     "end_time": "2024-04-11T16:37:49.643885",
     "exception": false,
     "start_time": "2024-04-11T16:37:49.633873",
     "status": "completed"
    },
    "tags": []
   },
   "source": [
    "# Data Pre Processing"
   ]
  },
  {
   "cell_type": "markdown",
   "id": "3ef411b3",
   "metadata": {
    "papermill": {
     "duration": 0.010318,
     "end_time": "2024-04-11T16:37:49.664915",
     "exception": false,
     "start_time": "2024-04-11T16:37:49.654597",
     "status": "completed"
    },
    "tags": []
   },
   "source": [
    "1. Transliteration (there's cases makası, whose letter 'i' is a Turkish lowercase, making it seem like a 'new' word. We try to make it uniform to English letters, thus becoming 'makasi')\n",
    "2. Remove newlines"
   ]
  },
  {
   "cell_type": "code",
   "execution_count": 7,
   "id": "7c18b399",
   "metadata": {
    "execution": {
     "iopub.execute_input": "2024-04-11T16:37:49.687420Z",
     "iopub.status.busy": "2024-04-11T16:37:49.687075Z",
     "iopub.status.idle": "2024-04-11T16:37:50.137210Z",
     "shell.execute_reply": "2024-04-11T16:37:50.136385Z"
    },
    "papermill": {
     "duration": 0.464319,
     "end_time": "2024-04-11T16:37:50.139666",
     "exception": false,
     "start_time": "2024-04-11T16:37:49.675347",
     "status": "completed"
    },
    "tags": []
   },
   "outputs": [],
   "source": [
    "from unidecode import unidecode\n",
    "df['twitterText'] = df['twitterText'].apply(unidecode)\n",
    "df['twitterText'] = df['twitterText'].str.replace(\"\\n\", \"\")"
   ]
  },
  {
   "cell_type": "markdown",
   "id": "dcec52bd",
   "metadata": {
    "papermill": {
     "duration": 0.010427,
     "end_time": "2024-04-11T16:37:50.161779",
     "exception": false,
     "start_time": "2024-04-11T16:37:50.151352",
     "status": "completed"
    },
    "tags": []
   },
   "source": [
    "3. Remove Elongation\n",
    "4. Convert Emoji To Indonesian Words"
   ]
  },
  {
   "cell_type": "code",
   "execution_count": 8,
   "id": "af81433d",
   "metadata": {
    "execution": {
     "iopub.execute_input": "2024-04-11T16:37:50.183753Z",
     "iopub.status.busy": "2024-04-11T16:37:50.183441Z",
     "iopub.status.idle": "2024-04-11T16:38:05.804854Z",
     "shell.execute_reply": "2024-04-11T16:38:05.803697Z"
    },
    "papermill": {
     "duration": 15.635806,
     "end_time": "2024-04-11T16:38:05.807947",
     "exception": false,
     "start_time": "2024-04-11T16:37:50.172141",
     "status": "completed"
    },
    "tags": []
   },
   "outputs": [
    {
     "name": "stdout",
     "output_type": "stream",
     "text": [
      "       label                                        twitterText\n",
      "0          1  \"pengen bunuh diri aja\"yang paling sering teru...\n",
      "1          1  Secara tidak langsung punya Fikiran pengen bun...\n",
      "2          1          sejam lalu haha hihi sekarang pengen mati\n",
      "3          1  Baru kelar 1 masalah datang lagi malah lainnya...\n",
      "4          1       fuck bundir aku lagi pgn mabok smpk ga sadar\n",
      "...      ...                                                ...\n",
      "17459      0  @kkmanti @kangadang1 @Yanuardychandra @floriel...\n",
      "17460      0  @Don_gindo Kok dek akibat singo di ajar makan ...\n",
      "17461      0  Mande :\"Jadi mo cium gak\"Surya :\"ntar aja kalo...\n",
      "17462      0  Tuhan...knp z harus kenal,cyg,n nikah dg org y...\n",
      "17463      0  Demi tuhan, ini narasi paling berkesan. Gemes,...\n",
      "\n",
      "[17464 rows x 2 columns]\n"
     ]
    }
   ],
   "source": [
    "from indoNLP.preprocessing import emoji_to_words, replace_word_elongation, remove_url, pipeline\n",
    "\n",
    "def preprocessing(twitterText):\n",
    "    pipe = pipeline([emoji_to_words, replace_word_elongation, remove_url])\n",
    "    return pipe(twitterText)\n",
    "df['twitterText'] = df['twitterText'].apply(preprocessing)\n",
    "print(df)"
   ]
  },
  {
   "cell_type": "markdown",
   "id": "22472427",
   "metadata": {
    "papermill": {
     "duration": 0.01222,
     "end_time": "2024-04-11T16:38:05.834091",
     "exception": false,
     "start_time": "2024-04-11T16:38:05.821871",
     "status": "completed"
    },
    "tags": []
   },
   "source": [
    "5. Formalize Slang Words (Lemmatization)"
   ]
  },
  {
   "cell_type": "code",
   "execution_count": 9,
   "id": "ab3e7581",
   "metadata": {
    "execution": {
     "iopub.execute_input": "2024-04-11T16:38:05.860690Z",
     "iopub.status.busy": "2024-04-11T16:38:05.860304Z",
     "iopub.status.idle": "2024-04-11T16:38:05.962467Z",
     "shell.execute_reply": "2024-04-11T16:38:05.960333Z"
    },
    "papermill": {
     "duration": 0.120572,
     "end_time": "2024-04-11T16:38:05.967116",
     "exception": false,
     "start_time": "2024-04-11T16:38:05.846544",
     "status": "completed"
    },
    "tags": []
   },
   "outputs": [
    {
     "name": "stdout",
     "output_type": "stream",
     "text": [
      "          slang         formal\n",
      "0          woww            wow\n",
      "1         aminn           amin\n",
      "2           met        selamat\n",
      "3        netaas        menetas\n",
      "4       keberpa       keberapa\n",
      "...         ...            ...\n",
      "15001  gataunya  enggak taunya\n",
      "15002      gtau     enggak tau\n",
      "15003     gatau     enggak tau\n",
      "15004     fans2        fan-fan\n",
      "15005   gaharus   enggak harus\n",
      "\n",
      "[15006 rows x 2 columns]\n"
     ]
    }
   ],
   "source": [
    "# Step 1: Read dataset of slang vs formal words\n",
    "# Taken from Colloquial Indonesian Lexicon by Salsabila, Winatmoko, Septriandi, and Jamal\n",
    "# https://ieeexplore.ieee.org/abstract/document/8629151\n",
    "slang_df = pd.read_csv('/kaggle/input/manual-annotation-indo-twitter-suicide/colloquial-indonesian-lexicon.csv', usecols=['slang', 'formal'])\n",
    "print(slang_df)"
   ]
  },
  {
   "cell_type": "code",
   "execution_count": 10,
   "id": "0ef52796",
   "metadata": {
    "execution": {
     "iopub.execute_input": "2024-04-11T16:38:05.994782Z",
     "iopub.status.busy": "2024-04-11T16:38:05.994385Z",
     "iopub.status.idle": "2024-04-11T16:38:06.006409Z",
     "shell.execute_reply": "2024-04-11T16:38:06.005342Z"
    },
    "papermill": {
     "duration": 0.029195,
     "end_time": "2024-04-11T16:38:06.009228",
     "exception": false,
     "start_time": "2024-04-11T16:38:05.980033",
     "status": "completed"
    },
    "tags": []
   },
   "outputs": [],
   "source": [
    "# Step 2: Create a dictionary mapping slang words to their normalized versions\n",
    "# Note: Is equivalent to IndoNLP's replace_slang(), but we also added specific suicidal slangs here, which don't exist in the dataset\n",
    "slang_mapping = dict(zip(slang_df['slang'], slang_df['formal']))\n",
    "slang_mapping.update({\n",
    "    'm*ti': 'mati',\n",
    "    'm4ti': 'mati',\n",
    "    'bundir': 'bunuh diri',\n",
    "    'bund1r': 'bunuh diri'\n",
    "})"
   ]
  },
  {
   "cell_type": "code",
   "execution_count": 11,
   "id": "a02ca0c1",
   "metadata": {
    "execution": {
     "iopub.execute_input": "2024-04-11T16:38:06.046240Z",
     "iopub.status.busy": "2024-04-11T16:38:06.045751Z",
     "iopub.status.idle": "2024-04-11T16:38:06.331262Z",
     "shell.execute_reply": "2024-04-11T16:38:06.330103Z"
    },
    "papermill": {
     "duration": 0.306996,
     "end_time": "2024-04-11T16:38:06.333918",
     "exception": false,
     "start_time": "2024-04-11T16:38:06.026922",
     "status": "completed"
    },
    "tags": []
   },
   "outputs": [],
   "source": [
    "import re\n",
    "# Step 3: Compile regular expressions for each slang word\n",
    "slang_patterns = {re.compile(r'\\b' + re.escape(slang) + r'\\b'): normalized for slang, normalized in slang_mapping.items()}"
   ]
  },
  {
   "cell_type": "code",
   "execution_count": 12,
   "id": "82cd84fa",
   "metadata": {
    "execution": {
     "iopub.execute_input": "2024-04-11T16:38:06.361580Z",
     "iopub.status.busy": "2024-04-11T16:38:06.360664Z",
     "iopub.status.idle": "2024-04-11T16:44:06.838091Z",
     "shell.execute_reply": "2024-04-11T16:44:06.836885Z"
    },
    "papermill": {
     "duration": 360.507448,
     "end_time": "2024-04-11T16:44:06.854117",
     "exception": false,
     "start_time": "2024-04-11T16:38:06.346669",
     "status": "completed"
    },
    "tags": []
   },
   "outputs": [
    {
     "name": "stdout",
     "output_type": "stream",
     "text": [
      "<bound method NDFrame.head of        index  label                                        twitterText\n",
      "0          0      1  \"pengin bunuh diri saja\"yang paling sering ter...\n",
      "1          1      1  Secara tidak langsung punya Fikiran pengin bun...\n",
      "2          2      1          sejam lalu haha hihi sekarang pengin mati\n",
      "3          3      1  Baru kelar 1 masalah datang lagi malah lainnya...\n",
      "4          4      1  fuck bunuh diri aku lagi pengin mabok smpk eng...\n",
      "...      ...    ...                                                ...\n",
      "17459  17459      0  @kkmanti @kangadang1 @Yanuardychandra @floriel...\n",
      "17460  17460      0  @Don_gindo Kok dek akibat singo di ajar makan ...\n",
      "17461  17461      0  Mande :\"Jadi mau cium enggak\"Surya :\"entar saj...\n",
      "17462  17462      0  Tuhan...kenapa saja harus kenal,cyg,n nikah de...\n",
      "17463  17463      0  Demi tuhan, ini narasi paling berkesan. Gemes,...\n",
      "\n",
      "[17464 rows x 3 columns]>\n"
     ]
    }
   ],
   "source": [
    "# Step 4: Iterate through the Twitter dataset and replace slang words with normalized versions\n",
    "def replace_slang(text):\n",
    "    for pattern, normalized in slang_patterns.items():\n",
    "        text = pattern.sub(normalized, text)\n",
    "    return text\n",
    "\n",
    "df['twitterText'] = df['twitterText'].apply(replace_slang)\n",
    "df = df.reset_index()\n",
    "print(df.head)"
   ]
  },
  {
   "cell_type": "markdown",
   "id": "60d70c3e",
   "metadata": {
    "papermill": {
     "duration": 0.011728,
     "end_time": "2024-04-11T16:44:06.877747",
     "exception": false,
     "start_time": "2024-04-11T16:44:06.866019",
     "status": "completed"
    },
    "tags": []
   },
   "source": [
    "6. Remove twitter tags (@user)"
   ]
  },
  {
   "cell_type": "code",
   "execution_count": 13,
   "id": "5357b228",
   "metadata": {
    "execution": {
     "iopub.execute_input": "2024-04-11T16:44:06.904616Z",
     "iopub.status.busy": "2024-04-11T16:44:06.903717Z",
     "iopub.status.idle": "2024-04-11T16:44:06.950394Z",
     "shell.execute_reply": "2024-04-11T16:44:06.949391Z"
    },
    "papermill": {
     "duration": 0.063486,
     "end_time": "2024-04-11T16:44:06.953587",
     "exception": false,
     "start_time": "2024-04-11T16:44:06.890101",
     "status": "completed"
    },
    "tags": []
   },
   "outputs": [
    {
     "name": "stdout",
     "output_type": "stream",
     "text": [
      "<bound method NDFrame.head of        index  label                                        twitterText\n",
      "0          0      1  \"pengin bunuh diri saja\"yang paling sering ter...\n",
      "1          1      1  Secara tidak langsung punya Fikiran pengin bun...\n",
      "2          2      1          sejam lalu haha hihi sekarang pengin mati\n",
      "3          3      1  Baru kelar 1 masalah datang lagi malah lainnya...\n",
      "4          4      1  fuck bunuh diri aku lagi pengin mabok smpk eng...\n",
      "...      ...    ...                                                ...\n",
      "17459  17459      0      Habis TL adanya Ribut Terus.Gak ada yang B...\n",
      "17460  17460      0   Kok dek akibat singo di ajar makan 2 buah pis...\n",
      "17461  17461      0  Mande :\"Jadi mau cium enggak\"Surya :\"entar saj...\n",
      "17462  17462      0  Tuhan...kenapa saja harus kenal,cyg,n nikah de...\n",
      "17463  17463      0  Demi tuhan, ini narasi paling berkesan. Gemes,...\n",
      "\n",
      "[17464 rows x 3 columns]>\n"
     ]
    }
   ],
   "source": [
    "def remove_twitter_tag(text):\n",
    "    return re.sub(r'@\\w+', '', text)\n",
    "\n",
    "df['twitterText'] = df['twitterText'].apply(remove_twitter_tag)\n",
    "print(df.head)"
   ]
  },
  {
   "cell_type": "code",
   "execution_count": 14,
   "id": "9ece4a9a",
   "metadata": {
    "execution": {
     "iopub.execute_input": "2024-04-11T16:44:06.981293Z",
     "iopub.status.busy": "2024-04-11T16:44:06.980534Z",
     "iopub.status.idle": "2024-04-11T16:44:06.989579Z",
     "shell.execute_reply": "2024-04-11T16:44:06.988483Z"
    },
    "papermill": {
     "duration": 0.024305,
     "end_time": "2024-04-11T16:44:06.991660",
     "exception": false,
     "start_time": "2024-04-11T16:44:06.967355",
     "status": "completed"
    },
    "tags": []
   },
   "outputs": [
    {
     "name": "stdout",
     "output_type": "stream",
     "text": [
      "[1 0]\n"
     ]
    }
   ],
   "source": [
    "print(df['label'].unique())"
   ]
  },
  {
   "cell_type": "markdown",
   "id": "6947500b",
   "metadata": {
    "papermill": {
     "duration": 0.01245,
     "end_time": "2024-04-11T16:44:07.016777",
     "exception": false,
     "start_time": "2024-04-11T16:44:07.004327",
     "status": "completed"
    },
    "tags": []
   },
   "source": [
    "# Classify Data"
   ]
  },
  {
   "cell_type": "code",
   "execution_count": 15,
   "id": "dc3c6c62",
   "metadata": {
    "execution": {
     "iopub.execute_input": "2024-04-11T16:44:07.044079Z",
     "iopub.status.busy": "2024-04-11T16:44:07.043208Z",
     "iopub.status.idle": "2024-04-11T16:44:20.190606Z",
     "shell.execute_reply": "2024-04-11T16:44:20.189645Z"
    },
    "papermill": {
     "duration": 13.164604,
     "end_time": "2024-04-11T16:44:20.194018",
     "exception": false,
     "start_time": "2024-04-11T16:44:07.029414",
     "status": "completed"
    },
    "tags": []
   },
   "outputs": [
    {
     "data": {
      "application/vnd.jupyter.widget-view+json": {
       "model_id": "58f39a7d290147ec894118b1f9397e65",
       "version_major": 2,
       "version_minor": 0
      },
      "text/plain": [
       "tokenizer_config.json:   0%|          | 0.00/2.00 [00:00<?, ?B/s]"
      ]
     },
     "metadata": {},
     "output_type": "display_data"
    },
    {
     "data": {
      "application/vnd.jupyter.widget-view+json": {
       "model_id": "f0ee6a8e70ea4e3c889367a6ea1b9e62",
       "version_major": 2,
       "version_minor": 0
      },
      "text/plain": [
       "vocab.txt:   0%|          | 0.00/229k [00:00<?, ?B/s]"
      ]
     },
     "metadata": {},
     "output_type": "display_data"
    },
    {
     "data": {
      "application/vnd.jupyter.widget-view+json": {
       "model_id": "c0601943fa19439e8ad11fee8f3fad4d",
       "version_major": 2,
       "version_minor": 0
      },
      "text/plain": [
       "special_tokens_map.json:   0%|          | 0.00/112 [00:00<?, ?B/s]"
      ]
     },
     "metadata": {},
     "output_type": "display_data"
    },
    {
     "data": {
      "application/vnd.jupyter.widget-view+json": {
       "model_id": "5a94e3d285064d17ba9e76b24cd95b7f",
       "version_major": 2,
       "version_minor": 0
      },
      "text/plain": [
       "config.json:   0%|          | 0.00/1.53k [00:00<?, ?B/s]"
      ]
     },
     "metadata": {},
     "output_type": "display_data"
    },
    {
     "data": {
      "application/vnd.jupyter.widget-view+json": {
       "model_id": "e56d6d20a38046d49dfbbfa0dc810efc",
       "version_major": 2,
       "version_minor": 0
      },
      "text/plain": [
       "pytorch_model.bin:   0%|          | 0.00/498M [00:00<?, ?B/s]"
      ]
     },
     "metadata": {},
     "output_type": "display_data"
    },
    {
     "name": "stderr",
     "output_type": "stream",
     "text": [
      "/opt/conda/lib/python3.10/site-packages/torch/_utils.py:831: UserWarning: TypedStorage is deprecated. It will be removed in the future and UntypedStorage will be the only storage class. This should only matter to you if you are using storages directly.  To access UntypedStorage directly, use tensor.untyped_storage() instead of tensor.storage()\n",
      "  return self.fget.__get__(instance, owner)()\n"
     ]
    }
   ],
   "source": [
    "# Load the IndobertModel and tokenizer\n",
    "from transformers import BertTokenizer, BertModel\n",
    "model_name = 'indobenchmark/indobert-base-p1'\n",
    "tokenizer = BertTokenizer.from_pretrained(model_name)\n",
    "bert_model = BertModel.from_pretrained(model_name)"
   ]
  },
  {
   "cell_type": "code",
   "execution_count": 16,
   "id": "5186f46e",
   "metadata": {
    "execution": {
     "iopub.execute_input": "2024-04-11T16:44:20.232047Z",
     "iopub.status.busy": "2024-04-11T16:44:20.231487Z",
     "iopub.status.idle": "2024-04-11T16:44:20.238546Z",
     "shell.execute_reply": "2024-04-11T16:44:20.237231Z"
    },
    "papermill": {
     "duration": 0.024926,
     "end_time": "2024-04-11T16:44:20.240873",
     "exception": false,
     "start_time": "2024-04-11T16:44:20.215947",
     "status": "completed"
    },
    "tags": []
   },
   "outputs": [],
   "source": [
    "# Prepare the data\n",
    "texts = df['twitterText'].tolist()\n",
    "labels = df['label'].tolist()"
   ]
  },
  {
   "cell_type": "code",
   "execution_count": 17,
   "id": "2c5003bc",
   "metadata": {
    "execution": {
     "iopub.execute_input": "2024-04-11T16:44:20.271418Z",
     "iopub.status.busy": "2024-04-11T16:44:20.270662Z",
     "iopub.status.idle": "2024-04-11T16:44:21.395836Z",
     "shell.execute_reply": "2024-04-11T16:44:21.394905Z"
    },
    "papermill": {
     "duration": 1.143195,
     "end_time": "2024-04-11T16:44:21.398382",
     "exception": false,
     "start_time": "2024-04-11T16:44:20.255187",
     "status": "completed"
    },
    "tags": []
   },
   "outputs": [],
   "source": [
    "from sklearn.model_selection import train_test_split\n",
    "# Split the data into train and test sets 8:2\n",
    "train_texts, test_texts, train_labels, test_labels = train_test_split(texts, labels, test_size=0.2, random_state=42)"
   ]
  },
  {
   "cell_type": "code",
   "execution_count": 18,
   "id": "41e2b2ae",
   "metadata": {
    "execution": {
     "iopub.execute_input": "2024-04-11T16:44:21.428599Z",
     "iopub.status.busy": "2024-04-11T16:44:21.427500Z",
     "iopub.status.idle": "2024-04-11T16:44:21.514041Z",
     "shell.execute_reply": "2024-04-11T16:44:21.512975Z"
    },
    "papermill": {
     "duration": 0.103742,
     "end_time": "2024-04-11T16:44:21.516166",
     "exception": false,
     "start_time": "2024-04-11T16:44:21.412424",
     "status": "completed"
    },
    "tags": []
   },
   "outputs": [],
   "source": [
    "import torch\n",
    "\n",
    "if torch.cuda.is_available():\n",
    "    device = torch.device(\"cuda\")\n",
    "else:\n",
    "    print('No GPU available, using the CPU instead.')\n",
    "    device = torch.device(\"cpu\")\n",
    "\n",
    "def tokenize_and_create_input_tensors(texts):\n",
    "    input_ids = []\n",
    "    attention_masks = []\n",
    "\n",
    "    for text in texts:\n",
    "        encoded_dict = tokenizer.encode_plus(\n",
    "            text,\n",
    "            add_special_tokens=True,\n",
    "            max_length=128,  # You can adjust the max_length as per your needs\n",
    "            padding='max_length',\n",
    "            truncation=True,\n",
    "            return_attention_mask=True,\n",
    "            return_tensors='pt'\n",
    "        )\n",
    "\n",
    "        input_ids.append(encoded_dict['input_ids'])\n",
    "        attention_masks.append(encoded_dict['attention_mask'])\n",
    "\n",
    "    # Convert the lists to tensors\n",
    "    input_ids = torch.cat(input_ids, dim=0)\n",
    "    attention_masks = torch.cat(attention_masks, dim=0)\n",
    "\n",
    "    return input_ids, attention_masks"
   ]
  },
  {
   "cell_type": "code",
   "execution_count": 19,
   "id": "681da543",
   "metadata": {
    "execution": {
     "iopub.execute_input": "2024-04-11T16:44:21.545724Z",
     "iopub.status.busy": "2024-04-11T16:44:21.544880Z",
     "iopub.status.idle": "2024-04-11T16:44:40.375502Z",
     "shell.execute_reply": "2024-04-11T16:44:40.374528Z"
    },
    "papermill": {
     "duration": 18.847991,
     "end_time": "2024-04-11T16:44:40.378028",
     "exception": false,
     "start_time": "2024-04-11T16:44:21.530037",
     "status": "completed"
    },
    "tags": []
   },
   "outputs": [
    {
     "name": "stdout",
     "output_type": "stream",
     "text": [
      "Before:\n",
      "torch.Size([13971, 128])\n",
      "torch.Size([13971, 128])\n",
      "torch.Size([13971])\n",
      "After:\n",
      "torch.Size([13971, 128])\n",
      "torch.Size([13971, 128])\n",
      "torch.Size([13971])\n"
     ]
    }
   ],
   "source": [
    "train_input_ids, train_attention_masks = tokenize_and_create_input_tensors(train_texts)\n",
    "train_labels = torch.tensor(train_labels).to(device)\n",
    "\n",
    "print(\"Before:\")\n",
    "print(train_input_ids.shape)\n",
    "print(train_attention_masks.shape)\n",
    "print(train_labels.shape)\n",
    "\n",
    "train_input_ids = train_input_ids.squeeze(dim=1).to(device)\n",
    "train_attention_masks = train_attention_masks.squeeze(dim=1).to(device)\n",
    "\n",
    "print(\"After:\")\n",
    "print(train_input_ids.shape)\n",
    "print(train_attention_masks.shape)\n",
    "print(train_labels.shape)"
   ]
  },
  {
   "cell_type": "code",
   "execution_count": 20,
   "id": "a1929647",
   "metadata": {
    "execution": {
     "iopub.execute_input": "2024-04-11T16:44:40.407718Z",
     "iopub.status.busy": "2024-04-11T16:44:40.407351Z",
     "iopub.status.idle": "2024-04-11T16:44:45.127358Z",
     "shell.execute_reply": "2024-04-11T16:44:45.125934Z"
    },
    "papermill": {
     "duration": 4.737352,
     "end_time": "2024-04-11T16:44:45.129659",
     "exception": false,
     "start_time": "2024-04-11T16:44:40.392307",
     "status": "completed"
    },
    "tags": []
   },
   "outputs": [
    {
     "name": "stdout",
     "output_type": "stream",
     "text": [
      "After:\n",
      "torch.Size([3493, 128])\n",
      "torch.Size([3493, 128])\n",
      "torch.Size([3493])\n"
     ]
    }
   ],
   "source": [
    "test_input_ids, test_attention_masks = tokenize_and_create_input_tensors(test_texts)\n",
    "test_labels = torch.tensor(test_labels).to(device)\n",
    "\n",
    "test_input_ids = test_input_ids.squeeze(dim=1).to(device)\n",
    "test_attention_masks = test_attention_masks.squeeze(dim=1).to(device)\n",
    "\n",
    "print(\"After:\")\n",
    "print(test_input_ids.shape)\n",
    "print(test_attention_masks.shape)\n",
    "print(test_labels.shape)"
   ]
  },
  {
   "cell_type": "code",
   "execution_count": 21,
   "id": "7b2cfc30",
   "metadata": {
    "execution": {
     "iopub.execute_input": "2024-04-11T16:44:45.158546Z",
     "iopub.status.busy": "2024-04-11T16:44:45.158203Z",
     "iopub.status.idle": "2024-04-11T16:44:45.219035Z",
     "shell.execute_reply": "2024-04-11T16:44:45.218088Z"
    },
    "papermill": {
     "duration": 0.077665,
     "end_time": "2024-04-11T16:44:45.221231",
     "exception": false,
     "start_time": "2024-04-11T16:44:45.143566",
     "status": "completed"
    },
    "tags": []
   },
   "outputs": [],
   "source": [
    "torch.save(train_input_ids, '/kaggle/working/train_input_ids.pt')\n",
    "torch.save(train_attention_masks, '/kaggle/working/train_attention_masks.pt')\n",
    "torch.save(train_labels, '/kaggle/working/train_labels.pt')\n",
    "\n",
    "torch.save(test_input_ids, '/kaggle/working/test_input_ids.pt')\n",
    "torch.save(test_attention_masks, '/kaggle/working/test_attention_masks.pt')\n",
    "torch.save(test_labels, '/kaggle/working/test_labels.pt')"
   ]
  },
  {
   "cell_type": "code",
   "execution_count": 22,
   "id": "e5b6b427",
   "metadata": {
    "execution": {
     "iopub.execute_input": "2024-04-11T16:44:45.249787Z",
     "iopub.status.busy": "2024-04-11T16:44:45.249447Z",
     "iopub.status.idle": "2024-04-11T16:44:45.259742Z",
     "shell.execute_reply": "2024-04-11T16:44:45.258760Z"
    },
    "papermill": {
     "duration": 0.026624,
     "end_time": "2024-04-11T16:44:45.261696",
     "exception": false,
     "start_time": "2024-04-11T16:44:45.235072",
     "status": "completed"
    },
    "tags": []
   },
   "outputs": [],
   "source": [
    "import torch.nn as nn\n",
    "import torch.nn.functional as F\n",
    "\n",
    "class BertCNNClassifier(nn.Module):\n",
    "    def __init__(self, bert_model, num_filters, kernel_sizes, num_classes):\n",
    "        super(BertCNNClassifier, self).__init__()\n",
    "        self.bert = bert_model\n",
    "        self.conv1d = nn.ModuleList([nn.Conv1d(bert_model.config.hidden_size, num_filters, kernel_size, bias=True) for kernel_size in kernel_sizes])\n",
    "        self.dropout = nn.Dropout(0.45)\n",
    "        self.fc = nn.Linear(len(kernel_sizes) * num_filters, num_classes, bias=True)\n",
    "\n",
    "    def forward(self, input_ids, attention_mask):\n",
    "        token_type_ids = torch.zeros_like(input_ids)  # Create token_type_ids tensor\n",
    "        outputs = self.bert(input_ids=input_ids, attention_mask=attention_mask, token_type_ids=token_type_ids)\n",
    "        last_hidden_state = outputs[0].permute(0, 2, 1)  # (batch_size, hidden_size, seq_len)\n",
    "\n",
    "        conved = [torch.relu(conv(last_hidden_state)) for conv in self.conv1d]  # Apply convolution to each kernel\n",
    "        pooled = [F.max_pool1d(conv, conv.shape[2]).squeeze(2) for conv in conved]  # Max-over-time pooling\n",
    "        cat = self.dropout(torch.cat(pooled, dim=1))  # Concatenate pooled outputs and apply dropout\n",
    "\n",
    "        logits = self.fc(cat)  # Apply linear layer for classification\n",
    "        return logits"
   ]
  },
  {
   "cell_type": "code",
   "execution_count": 23,
   "id": "cf009119",
   "metadata": {
    "execution": {
     "iopub.execute_input": "2024-04-11T16:44:45.290706Z",
     "iopub.status.busy": "2024-04-11T16:44:45.290392Z",
     "iopub.status.idle": "2024-04-11T16:44:45.483801Z",
     "shell.execute_reply": "2024-04-11T16:44:45.482920Z"
    },
    "papermill": {
     "duration": 0.21102,
     "end_time": "2024-04-11T16:44:45.486492",
     "exception": false,
     "start_time": "2024-04-11T16:44:45.275472",
     "status": "completed"
    },
    "tags": []
   },
   "outputs": [],
   "source": [
    "num_filters = 700  # Number of filters for each kernel size\n",
    "kernel_sizes = [2, 3, 4]  # List of kernel sizes\n",
    "num_classes = 2\n",
    "\n",
    "# Initialize the CNN model\n",
    "model = BertCNNClassifier(bert_model, num_filters, kernel_sizes, num_classes).to(device)"
   ]
  },
  {
   "cell_type": "code",
   "execution_count": 24,
   "id": "41e115da",
   "metadata": {
    "execution": {
     "iopub.execute_input": "2024-04-11T16:44:45.515081Z",
     "iopub.status.busy": "2024-04-11T16:44:45.514734Z",
     "iopub.status.idle": "2024-04-11T16:44:45.521013Z",
     "shell.execute_reply": "2024-04-11T16:44:45.520093Z"
    },
    "papermill": {
     "duration": 0.022644,
     "end_time": "2024-04-11T16:44:45.522980",
     "exception": false,
     "start_time": "2024-04-11T16:44:45.500336",
     "status": "completed"
    },
    "tags": []
   },
   "outputs": [],
   "source": [
    "# Define the loss function and optimizer\n",
    "criterion = nn.CrossEntropyLoss()\n",
    "optimizer = torch.optim.Adam(model.parameters(), lr=2.45e-5)"
   ]
  },
  {
   "cell_type": "code",
   "execution_count": 25,
   "id": "58eac6e6",
   "metadata": {
    "execution": {
     "iopub.execute_input": "2024-04-11T16:44:45.551293Z",
     "iopub.status.busy": "2024-04-11T16:44:45.550971Z",
     "iopub.status.idle": "2024-04-11T16:44:45.556297Z",
     "shell.execute_reply": "2024-04-11T16:44:45.555388Z"
    },
    "papermill": {
     "duration": 0.022412,
     "end_time": "2024-04-11T16:44:45.558387",
     "exception": false,
     "start_time": "2024-04-11T16:44:45.535975",
     "status": "completed"
    },
    "tags": []
   },
   "outputs": [],
   "source": [
    "from torch.utils.data import TensorDataset, DataLoader, RandomSampler, SequentialSampler\n",
    "\n",
    "# Create TensorDatasets and DataLoaders\n",
    "batch_size = 32\n",
    "\n",
    "train_data = TensorDataset(train_input_ids, train_attention_masks, train_labels)\n",
    "train_sampler = RandomSampler(train_data)\n",
    "train_dataloader = DataLoader(train_data, sampler=train_sampler, batch_size=batch_size)"
   ]
  },
  {
   "cell_type": "code",
   "execution_count": 26,
   "id": "037ab406",
   "metadata": {
    "execution": {
     "iopub.execute_input": "2024-04-11T16:44:45.586997Z",
     "iopub.status.busy": "2024-04-11T16:44:45.586110Z",
     "iopub.status.idle": "2024-04-11T16:44:45.591508Z",
     "shell.execute_reply": "2024-04-11T16:44:45.590524Z"
    },
    "papermill": {
     "duration": 0.021825,
     "end_time": "2024-04-11T16:44:45.593549",
     "exception": false,
     "start_time": "2024-04-11T16:44:45.571724",
     "status": "completed"
    },
    "tags": []
   },
   "outputs": [
    {
     "name": "stdout",
     "output_type": "stream",
     "text": [
      "437\n"
     ]
    }
   ],
   "source": [
    "print(len(train_dataloader)) # number of batches"
   ]
  },
  {
   "cell_type": "markdown",
   "id": "4a7de0e3",
   "metadata": {
    "papermill": {
     "duration": 0.012961,
     "end_time": "2024-04-11T16:44:45.620481",
     "exception": false,
     "start_time": "2024-04-11T16:44:45.607520",
     "status": "completed"
    },
    "tags": []
   },
   "source": [
    "Training for 4 epochs"
   ]
  },
  {
   "cell_type": "code",
   "execution_count": 27,
   "id": "09fd7acb",
   "metadata": {
    "execution": {
     "iopub.execute_input": "2024-04-11T16:44:45.648625Z",
     "iopub.status.busy": "2024-04-11T16:44:45.648059Z",
     "iopub.status.idle": "2024-04-11T17:07:27.759751Z",
     "shell.execute_reply": "2024-04-11T17:07:27.758909Z"
    },
    "papermill": {
     "duration": 1362.128237,
     "end_time": "2024-04-11T17:07:27.762121",
     "exception": false,
     "start_time": "2024-04-11T16:44:45.633884",
     "status": "completed"
    },
    "tags": []
   },
   "outputs": [
    {
     "name": "stdout",
     "output_type": "stream",
     "text": [
      "epoch  0  batch  0   2024-04-11 16:44:45.861008\n",
      "epoch  0  batch  100   2024-04-11 16:45:56.869781\n",
      "epoch  0  batch  200   2024-04-11 16:47:10.032758\n",
      "epoch  0  batch  300   2024-04-11 16:48:26.227610\n",
      "epoch  0  batch  400   2024-04-11 16:49:44.475304\n",
      "epoch  1  batch  0   2024-04-11 16:50:13.241789\n",
      "epoch  1  batch  100   2024-04-11 16:51:31.914093\n",
      "epoch  1  batch  200   2024-04-11 16:52:50.652118\n",
      "epoch  1  batch  300   2024-04-11 16:54:09.190457\n",
      "epoch  1  batch  400   2024-04-11 16:55:27.910613\n",
      "epoch  2  batch  0   2024-04-11 16:55:56.710401\n",
      "epoch  2  batch  100   2024-04-11 16:57:15.502584\n",
      "epoch  2  batch  200   2024-04-11 16:58:34.377830\n",
      "epoch  2  batch  300   2024-04-11 16:59:53.280844\n",
      "epoch  2  batch  400   2024-04-11 17:01:12.289379\n",
      "epoch  3  batch  0   2024-04-11 17:01:41.279664\n",
      "epoch  3  batch  100   2024-04-11 17:02:59.968510\n",
      "epoch  3  batch  200   2024-04-11 17:04:18.813174\n",
      "epoch  3  batch  300   2024-04-11 17:05:37.690176\n",
      "epoch  3  batch  400   2024-04-11 17:06:56.223567\n"
     ]
    }
   ],
   "source": [
    "import datetime\n",
    "import gc\n",
    "# Train the model\n",
    "\n",
    "def save_ckp(state):\n",
    "    f_path = '/kaggle/working/' + 'checkpoint_epoch' + str(state['epoch']) + '.pt'\n",
    "    torch.save(state, f_path)\n",
    "\n",
    "num_epoch = 4\n",
    "gc.collect()\n",
    "torch.cuda.empty_cache()\n",
    "\n",
    "for i in range(num_epoch):\n",
    "  num_batch = 0\n",
    "  for batch in train_dataloader:\n",
    "    if (num_batch % 100 == 0):\n",
    "      print('epoch ', i, ' batch ', num_batch, ' ', datetime.datetime.now())\n",
    "    input_ids, attention_masks, labels = batch\n",
    "    outputs = model(input_ids, attention_masks)\n",
    "    loss = criterion(outputs, labels)\n",
    "\n",
    "    optimizer.zero_grad()\n",
    "    loss.backward()\n",
    "    optimizer.step()\n",
    "    num_batch+=1\n",
    "    del input_ids\n",
    "    del attention_masks\n",
    "    del labels\n",
    "    del outputs\n",
    "    gc.collect()\n",
    "    torch.cuda.empty_cache()\n",
    "\n",
    "checkpoint = {\n",
    "    'epoch': num_epoch - 1,\n",
    "    'state_dict': model.state_dict(),\n",
    "    'optimizer': optimizer.state_dict()\n",
    "}\n",
    "save_ckp(checkpoint)\n",
    "\n",
    "del train_data\n",
    "del train_sampler\n",
    "del train_dataloader\n",
    "gc.collect()\n",
    "torch.cuda.empty_cache()"
   ]
  },
  {
   "cell_type": "code",
   "execution_count": 28,
   "id": "12371b6d",
   "metadata": {
    "execution": {
     "iopub.execute_input": "2024-04-11T17:07:27.796326Z",
     "iopub.status.busy": "2024-04-11T17:07:27.795472Z",
     "iopub.status.idle": "2024-04-11T17:07:54.799283Z",
     "shell.execute_reply": "2024-04-11T17:07:54.798267Z"
    },
    "papermill": {
     "duration": 27.023256,
     "end_time": "2024-04-11T17:07:54.801352",
     "exception": false,
     "start_time": "2024-04-11T17:07:27.778096",
     "status": "completed"
    },
    "tags": []
   },
   "outputs": [
    {
     "name": "stdout",
     "output_type": "stream",
     "text": [
      "Accuracy: 0.8944\n",
      "Recall: 0.9326\n",
      "Precision: 0.8682\n",
      "F1-Score: 0.8993\n"
     ]
    },
    {
     "data": {
      "text/plain": [
       "0"
      ]
     },
     "execution_count": 28,
     "metadata": {},
     "output_type": "execute_result"
    }
   ],
   "source": [
    "from sklearn.metrics import accuracy_score, recall_score, precision_score, f1_score\n",
    "import torch.nn.functional as F\n",
    "\n",
    "# Evaluate the model on the test set\n",
    "model.eval()\n",
    "test_preds = []\n",
    "test_proba = []\n",
    "test_labels_list = []\n",
    "\n",
    "test_data = TensorDataset(test_input_ids, test_attention_masks, test_labels)\n",
    "test_sampler = SequentialSampler(test_data)\n",
    "test_dataloader = DataLoader(test_data, sampler=test_sampler, batch_size=batch_size)\n",
    "\n",
    "with torch.no_grad():\n",
    "    for batch in test_dataloader:\n",
    "        input_ids, attention_masks, labels = batch\n",
    "        outputs = model(input_ids, attention_masks)\n",
    "        preds = torch.argmax(outputs, dim=1)\n",
    "        test_preds.extend(preds.tolist())\n",
    "        test_proba.extend(F.softmax(outputs, dim=1)[:, 1])\n",
    "        test_labels_list.extend(labels.tolist())\n",
    "\n",
    "accuracy = accuracy_score(test_labels_list, test_preds)\n",
    "recall = recall_score(test_labels_list, test_preds)\n",
    "precision = precision_score(test_labels_list, test_preds)\n",
    "f1 = f1_score(test_labels_list, test_preds)\n",
    "test_proba = [i.cpu().tolist() for i in test_proba]\n",
    "\n",
    "print(f\"Accuracy: {accuracy:.4f}\")\n",
    "print(f\"Recall: {recall:.4f}\")\n",
    "print(f\"Precision: {precision:.4f}\")\n",
    "print(f\"F1-Score: {f1:.4f}\")\n",
    "\n",
    "del test_data\n",
    "del test_sampler\n",
    "del test_dataloader\n",
    "gc.collect()\n",
    "torch.cuda.empty_cache()\n",
    "gc.collect()"
   ]
  },
  {
   "cell_type": "code",
   "execution_count": 29,
   "id": "c1077262",
   "metadata": {
    "execution": {
     "iopub.execute_input": "2024-04-11T17:07:54.833992Z",
     "iopub.status.busy": "2024-04-11T17:07:54.833435Z",
     "iopub.status.idle": "2024-04-11T17:07:55.330766Z",
     "shell.execute_reply": "2024-04-11T17:07:55.329836Z"
    },
    "papermill": {
     "duration": 0.515495,
     "end_time": "2024-04-11T17:07:55.332914",
     "exception": false,
     "start_time": "2024-04-11T17:07:54.817419",
     "status": "completed"
    },
    "tags": []
   },
   "outputs": [
    {
     "data": {
      "image/png": "[encoded data removed]",
      "text/plain": [
       "<Figure size 640x480 with 2 Axes>"
      ]
     },
     "metadata": {},
     "output_type": "display_data"
    }
   ],
   "source": [
    "from sklearn.metrics import confusion_matrix\n",
    "import seaborn as sns\n",
    "import matplotlib.pyplot as plt\n",
    "\n",
    "cf_matrix = confusion_matrix(test_labels_list, test_preds)\n",
    "\n",
    "cf = sns.heatmap(cf_matrix, annot=True, fmt='d')\n",
    "cf.xaxis.set_ticklabels(['Negative', 'Positive'])\n",
    "cf.set_xlabel('Predicted Label')\n",
    "cf.yaxis.set_ticklabels(['Negative', 'Positive'])\n",
    "cf.set_ylabel('True Label')\n",
    "cf.set_title(\"Confusion Matrix for Indonesian Language Suicidal Posts Classification\", pad=20)\n",
    "\n",
    "plt.show()"
   ]
  },
  {
   "cell_type": "code",
   "execution_count": 30,
   "id": "f9736f4a",
   "metadata": {
    "execution": {
     "iopub.execute_input": "2024-04-11T17:07:55.367006Z",
     "iopub.status.busy": "2024-04-11T17:07:55.366535Z",
     "iopub.status.idle": "2024-04-11T17:07:55.716907Z",
     "shell.execute_reply": "2024-04-11T17:07:55.715869Z"
    },
    "papermill": {
     "duration": 0.36977,
     "end_time": "2024-04-11T17:07:55.718954",
     "exception": false,
     "start_time": "2024-04-11T17:07:55.349184",
     "status": "completed"
    },
    "tags": []
   },
   "outputs": [
    {
     "name": "stdout",
     "output_type": "stream",
     "text": [
      "ROC AUC Score:\n",
      "0.9488231020085368\n"
     ]
    },
    {
     "data": {
      "image/png": "[encoded data removed]",
      "text/plain": [
       "<Figure size 500x500 with 1 Axes>"
      ]
     },
     "metadata": {},
     "output_type": "display_data"
    }
   ],
   "source": [
    "from sklearn.metrics import roc_auc_score, roc_curve, RocCurveDisplay\n",
    "\n",
    "def plot_sklearn_roc_curve(y_real, y_pred, roc_score):\n",
    "    fpr, tpr, _ = roc_curve(y_real, y_pred)\n",
    "    df_fpr = pd.DataFrame(fpr)\n",
    "    df_fpr.to_csv(\"/kaggle/working/fpr.csv\")\n",
    "    df_tpr = pd.DataFrame(tpr)\n",
    "    df_tpr.to_csv(\"/kaggle/working/tpr.csv\")\n",
    "    print(\"ROC AUC Score:\")\n",
    "    print(roc_score)\n",
    "    roc_display = RocCurveDisplay(fpr=fpr, tpr=tpr, roc_auc=roc_score, estimator_name='ROC Curve').plot()\n",
    "    roc_display.figure_.set_size_inches(5,5)\n",
    "    plt.plot([0, 1], [0, 1], color='green', linestyle='dashed')\n",
    "    plt.title(\"ROC Curve for Indonesian Language Suicidal Posts Classification\")\n",
    "\n",
    "roc_score = roc_auc_score(test_labels_list, test_proba)\n",
    "plot_sklearn_roc_curve(test_labels_list, test_proba, roc_score)"
   ]
  }
 ],
 "metadata": {
  "kaggle": {
   "accelerator": "nvidiaTeslaT4",
   "dataSources": [
    {
     "datasetId": 4750496,
     "sourceId": 8083396,
     "sourceType": "datasetVersion"
    }
   ],
   "isGpuEnabled": true,
   "isInternetEnabled": true,
   "language": "python",
   "sourceType": "notebook"
  },
  "kernelspec": {
   "display_name": "Python 3",
   "language": "python",
   "name": "python3"
  },
  "language_info": {
   "codemirror_mode": {
    "name": "ipython",
    "version": 3
   },
   "file_extension": ".py",
   "mimetype": "text/x-python",
   "name": "python",
   "nbconvert_exporter": "python",
   "pygments_lexer": "ipython3",
   "version": "3.10.13"
  },
  "papermill": {
   "default_parameters": {},
   "duration": 1841.889918,
   "end_time": "2024-04-11T17:07:57.564853",
   "environment_variables": {},
   "exception": null,
   "input_path": "__notebook__.ipynb",
   "output_path": "__notebook__.ipynb",
   "parameters": {},
   "start_time": "2024-04-11T16:37:15.674935",
   "version": "2.5.0"
  },
  "widgets": {
   "application/vnd.jupyter.widget-state+json": {
    "state": {
     "00af0c55d2de462495f455c8ff9e0019": {
      "model_module": "@jupyter-widgets/base",
      "model_module_version": "1.2.0",
      "model_name": "LayoutModel",
      "state": {
       "_model_module": "@jupyter-widgets/base",
       "_model_module_version": "1.2.0",
       "_model_name": "LayoutModel",
       "_view_count": null,
       "_view_module": "@jupyter-widgets/base",
       "_view_module_version": "1.2.0",
       "_view_name": "LayoutView",
       "align_content": null,
       "align_items": null,
       "align_self": null,
       "border": null,
       "bottom": null,
       "display": null,
       "flex": null,
       "flex_flow": null,
       "grid_area": null,
       "grid_auto_columns": null,
       "grid_auto_flow": null,
       "grid_auto_rows": null,
       "grid_column": null,
       "grid_gap": null,
       "grid_row": null,
       "grid_template_areas": null,
       "grid_template_columns": null,
       "grid_template_rows": null,
       "height": null,
       "justify_content": null,
       "justify_items": null,
       "left": null,
       "margin": null,
       "max_height": null,
       "max_width": null,
       "min_height": null,
       "min_width": null,
       "object_fit": null,
       "object_position": null,
       "order": null,
       "overflow": null,
       "overflow_x": null,
       "overflow_y": null,
       "padding": null,
       "right": null,
       "top": null,
       "visibility": null,
       "width": null
      }
     },
     "081f6d8532a143858d8ac20efc77d6ed": {
      "model_module": "@jupyter-widgets/controls",
      "model_module_version": "1.5.0",
      "model_name": "ProgressStyleModel",
      "state": {
       "_model_module": "@jupyter-widgets/controls",
       "_model_module_version": "1.5.0",
       "_model_name": "ProgressStyleModel",
       "_view_count": null,
       "_view_module": "@jupyter-widgets/base",
       "_view_module_version": "1.2.0",
       "_view_name": "StyleView",
       "bar_color": null,
       "description_width": ""
      }
     },
     "0e639717611449f48af932169266b203": {
      "model_module": "@jupyter-widgets/base",
      "model_module_version": "1.2.0",
      "model_name": "LayoutModel",
      "state": {
       "_model_module": "@jupyter-widgets/base",
       "_model_module_version": "1.2.0",
       "_model_name": "LayoutModel",
       "_view_count": null,
       "_view_module": "@jupyter-widgets/base",
       "_view_module_version": "1.2.0",
       "_view_name": "LayoutView",
       "align_content": null,
       "align_items": null,
       "align_self": null,
       "border": null,
       "bottom": null,
       "display": null,
       "flex": null,
       "flex_flow": null,
       "grid_area": null,
       "grid_auto_columns": null,
       "grid_auto_flow": null,
       "grid_auto_rows": null,
       "grid_column": null,
       "grid_gap": null,
       "grid_row": null,
       "grid_template_areas": null,
       "grid_template_columns": null,
       "grid_template_rows": null,
       "height": null,
       "justify_content": null,
       "justify_items": null,
       "left": null,
       "margin": null,
       "max_height": null,
       "max_width": null,
       "min_height": null,
       "min_width": null,
       "object_fit": null,
       "object_position": null,
       "order": null,
       "overflow": null,
       "overflow_x": null,
       "overflow_y": null,
       "padding": null,
       "right": null,
       "top": null,
       "visibility": null,
       "width": null
      }
     },
     "0f24a22404b3478e9572bb87820b81f8": {
      "model_module": "@jupyter-widgets/base",
      "model_module_version": "1.2.0",
      "model_name": "LayoutModel",
      "state": {
       "_model_module": "@jupyter-widgets/base",
       "_model_module_version": "1.2.0",
       "_model_name": "LayoutModel",
       "_view_count": null,
       "_view_module": "@jupyter-widgets/base",
       "_view_module_version": "1.2.0",
       "_view_name": "LayoutView",
       "align_content": null,
       "align_items": null,
       "align_self": null,
       "border": null,
       "bottom": null,
       "display": null,
       "flex": null,
       "flex_flow": null,
       "grid_area": null,
       "grid_auto_columns": null,
       "grid_auto_flow": null,
       "grid_auto_rows": null,
       "grid_column": null,
       "grid_gap": null,
       "grid_row": null,
       "grid_template_areas": null,
       "grid_template_columns": null,
       "grid_template_rows": null,
       "height": null,
       "justify_content": null,
       "justify_items": null,
       "left": null,
       "margin": null,
       "max_height": null,
       "max_width": null,
       "min_height": null,
       "min_width": null,
       "object_fit": null,
       "object_position": null,
       "order": null,
       "overflow": null,
       "overflow_x": null,
       "overflow_y": null,
       "padding": null,
       "right": null,
       "top": null,
       "visibility": null,
       "width": null
      }
     },
     "1143cbf1e5f644f0a3e3184d26ec616a": {
      "model_module": "@jupyter-widgets/controls",
      "model_module_version": "1.5.0",
      "model_name": "FloatProgressModel",
      "state": {
       "_dom_classes": [],
       "_model_module": "@jupyter-widgets/controls",
       "_model_module_version": "1.5.0",
       "_model_name": "FloatProgressModel",
       "_view_count": null,
       "_view_module": "@jupyter-widgets/controls",
       "_view_module_version": "1.5.0",
       "_view_name": "ProgressView",
       "bar_style": "success",
       "description": "",
       "description_tooltip": null,
       "layout": "IPY_MODEL_3a92922b6b8c4c06a4e79702063490d9",
       "max": 229167.0,
       "min": 0.0,
       "orientation": "horizontal",
       "style": "IPY_MODEL_6b8bc1c2ff994d0b92d23a939b848015",
       "value": 229167.0
      }
     },
     "160fef26dca94d03a4a5092e2ff9a930": {
      "model_module": "@jupyter-widgets/controls",
      "model_module_version": "1.5.0",
      "model_name": "ProgressStyleModel",
      "state": {
       "_model_module": "@jupyter-widgets/controls",
       "_model_module_version": "1.5.0",
       "_model_name": "ProgressStyleModel",
       "_view_count": null,
       "_view_module": "@jupyter-widgets/base",
       "_view_module_version": "1.2.0",
       "_view_name": "StyleView",
       "bar_color": null,
       "description_width": ""
      }
     },
     "18ab77378ed64769a42b88710d3dd5fe": {
      "model_module": "@jupyter-widgets/controls",
      "model_module_version": "1.5.0",
      "model_name": "HTMLModel",
      "state": {
       "_dom_classes": [],
       "_model_module": "@jupyter-widgets/controls",
       "_model_module_version": "1.5.0",
       "_model_name": "HTMLModel",
       "_view_count": null,
       "_view_module": "@jupyter-widgets/controls",
       "_view_module_version": "1.5.0",
       "_view_name": "HTMLView",
       "description": "",
       "description_tooltip": null,
       "layout": "IPY_MODEL_475edaf53a424c5c963a0bdd7f33dc7d",
       "placeholder": "​",
       "style": "IPY_MODEL_a9d5e397d1cb4afea3bf22b839045169",
       "value": " 229k/229k [00:00&lt;00:00, 5.09MB/s]"
      }
     },
     "18f87ff4361243359ddd89ffd7e0817b": {
      "model_module": "@jupyter-widgets/controls",
      "model_module_version": "1.5.0",
      "model_name": "FloatProgressModel",
      "state": {
       "_dom_classes": [],
       "_model_module": "@jupyter-widgets/controls",
       "_model_module_version": "1.5.0",
       "_model_name": "FloatProgressModel",
       "_view_count": null,
       "_view_module": "@jupyter-widgets/controls",
       "_view_module_version": "1.5.0",
       "_view_name": "ProgressView",
       "bar_style": "success",
       "description": "",
       "description_tooltip": null,
       "layout": "IPY_MODEL_00af0c55d2de462495f455c8ff9e0019",
       "max": 112.0,
       "min": 0.0,
       "orientation": "horizontal",
       "style": "IPY_MODEL_b5d883b6a94c42fcbc86cba474d3e11c",
       "value": 112.0
      }
     },
     "1aac8842e1444df89d9e62f64098dcd3": {
      "model_module": "@jupyter-widgets/controls",
      "model_module_version": "1.5.0",
      "model_name": "DescriptionStyleModel",
      "state": {
       "_model_module": "@jupyter-widgets/controls",
       "_model_module_version": "1.5.0",
       "_model_name": "DescriptionStyleModel",
       "_view_count": null,
       "_view_module": "@jupyter-widgets/base",
       "_view_module_version": "1.2.0",
       "_view_name": "StyleView",
       "description_width": ""
      }
     },
     "1ba0900843254714ac526e143a5c0ac5": {
      "model_module": "@jupyter-widgets/controls",
      "model_module_version": "1.5.0",
      "model_name": "FloatProgressModel",
      "state": {
       "_dom_classes": [],
       "_model_module": "@jupyter-widgets/controls",
       "_model_module_version": "1.5.0",
       "_model_name": "FloatProgressModel",
       "_view_count": null,
       "_view_module": "@jupyter-widgets/controls",
       "_view_module_version": "1.5.0",
       "_view_name": "ProgressView",
       "bar_style": "success",
       "description": "",
       "description_tooltip": null,
       "layout": "IPY_MODEL_92d9649a7e0042db9f12bb7eeb1df1e2",
       "max": 1534.0,
       "min": 0.0,
       "orientation": "horizontal",
       "style": "IPY_MODEL_081f6d8532a143858d8ac20efc77d6ed",
       "value": 1534.0
      }
     },
     "1e66eccf82f6430abc2d58c5eeddfa20": {
      "model_module": "@jupyter-widgets/controls",
      "model_module_version": "1.5.0",
      "model_name": "HTMLModel",
      "state": {
       "_dom_classes": [],
       "_model_module": "@jupyter-widgets/controls",
       "_model_module_version": "1.5.0",
       "_model_name": "HTMLModel",
       "_view_count": null,
       "_view_module": "@jupyter-widgets/controls",
       "_view_module_version": "1.5.0",
       "_view_name": "HTMLView",
       "description": "",
       "description_tooltip": null,
       "layout": "IPY_MODEL_31b02dee86f3478aab2065e7b30ee852",
       "placeholder": "​",
       "style": "IPY_MODEL_ecbef80cc7034e7ca8a6cd9b6bf581a1",
       "value": " 2.00/2.00 [00:00&lt;00:00, 146B/s]"
      }
     },
     "2144cae6a43f4b6a9b2d0e0a873736ff": {
      "model_module": "@jupyter-widgets/base",
      "model_module_version": "1.2.0",
      "model_name": "LayoutModel",
      "state": {
       "_model_module": "@jupyter-widgets/base",
       "_model_module_version": "1.2.0",
       "_model_name": "LayoutModel",
       "_view_count": null,
       "_view_module": "@jupyter-widgets/base",
       "_view_module_version": "1.2.0",
       "_view_name": "LayoutView",
       "align_content": null,
       "align_items": null,
       "align_self": null,
       "border": null,
       "bottom": null,
       "display": null,
       "flex": null,
       "flex_flow": null,
       "grid_area": null,
       "grid_auto_columns": null,
       "grid_auto_flow": null,
       "grid_auto_rows": null,
       "grid_column": null,
       "grid_gap": null,
       "grid_row": null,
       "grid_template_areas": null,
       "grid_template_columns": null,
       "grid_template_rows": null,
       "height": null,
       "justify_content": null,
       "justify_items": null,
       "left": null,
       "margin": null,
       "max_height": null,
       "max_width": null,
       "min_height": null,
       "min_width": null,
       "object_fit": null,
       "object_position": null,
       "order": null,
       "overflow": null,
       "overflow_x": null,
       "overflow_y": null,
       "padding": null,
       "right": null,
       "top": null,
       "visibility": null,
       "width": null
      }
     },
     "275316f2fe6a4003a90cea20fb696b79": {
      "model_module": "@jupyter-widgets/controls",
      "model_module_version": "1.5.0",
      "model_name": "HTMLModel",
      "state": {
       "_dom_classes": [],
       "_model_module": "@jupyter-widgets/controls",
       "_model_module_version": "1.5.0",
       "_model_name": "HTMLModel",
       "_view_count": null,
       "_view_module": "@jupyter-widgets/controls",
       "_view_module_version": "1.5.0",
       "_view_name": "HTMLView",
       "description": "",
       "description_tooltip": null,
       "layout": "IPY_MODEL_c96c5e963d264875ab4a9a308361e49e",
       "placeholder": "​",
       "style": "IPY_MODEL_1aac8842e1444df89d9e62f64098dcd3",
       "value": " 112/112 [00:00&lt;00:00, 9.67kB/s]"
      }
     },
     "2a67a40c460b490eae63f5a2da79538c": {
      "model_module": "@jupyter-widgets/base",
      "model_module_version": "1.2.0",
      "model_name": "LayoutModel",
      "state": {
       "_model_module": "@jupyter-widgets/base",
       "_model_module_version": "1.2.0",
       "_model_name": "LayoutModel",
       "_view_count": null,
       "_view_module": "@jupyter-widgets/base",
       "_view_module_version": "1.2.0",
       "_view_name": "LayoutView",
       "align_content": null,
       "align_items": null,
       "align_self": null,
       "border": null,
       "bottom": null,
       "display": null,
       "flex": null,
       "flex_flow": null,
       "grid_area": null,
       "grid_auto_columns": null,
       "grid_auto_flow": null,
       "grid_auto_rows": null,
       "grid_column": null,
       "grid_gap": null,
       "grid_row": null,
       "grid_template_areas": null,
       "grid_template_columns": null,
       "grid_template_rows": null,
       "height": null,
       "justify_content": null,
       "justify_items": null,
       "left": null,
       "margin": null,
       "max_height": null,
       "max_width": null,
       "min_height": null,
       "min_width": null,
       "object_fit": null,
       "object_position": null,
       "order": null,
       "overflow": null,
       "overflow_x": null,
       "overflow_y": null,
       "padding": null,
       "right": null,
       "top": null,
       "visibility": null,
       "width": null
      }
     },
     "2c429dc9388d4353b456f90ac5db3038": {
      "model_module": "@jupyter-widgets/controls",
      "model_module_version": "1.5.0",
      "model_name": "DescriptionStyleModel",
      "state": {
       "_model_module": "@jupyter-widgets/controls",
       "_model_module_version": "1.5.0",
       "_model_name": "DescriptionStyleModel",
       "_view_count": null,
       "_view_module": "@jupyter-widgets/base",
       "_view_module_version": "1.2.0",
       "_view_name": "StyleView",
       "description_width": ""
      }
     },
     "31b02dee86f3478aab2065e7b30ee852": {
      "model_module": "@jupyter-widgets/base",
      "model_module_version": "1.2.0",
      "model_name": "LayoutModel",
      "state": {
       "_model_module": "@jupyter-widgets/base",
       "_model_module_version": "1.2.0",
       "_model_name": "LayoutModel",
       "_view_count": null,
       "_view_module": "@jupyter-widgets/base",
       "_view_module_version": "1.2.0",
       "_view_name": "LayoutView",
       "align_content": null,
       "align_items": null,
       "align_self": null,
       "border": null,
       "bottom": null,
       "display": null,
       "flex": null,
       "flex_flow": null,
       "grid_area": null,
       "grid_auto_columns": null,
       "grid_auto_flow": null,
       "grid_auto_rows": null,
       "grid_column": null,
       "grid_gap": null,
       "grid_row": null,
       "grid_template_areas": null,
       "grid_template_columns": null,
       "grid_template_rows": null,
       "height": null,
       "justify_content": null,
       "justify_items": null,
       "left": null,
       "margin": null,
       "max_height": null,
       "max_width": null,
       "min_height": null,
       "min_width": null,
       "object_fit": null,
       "object_position": null,
       "order": null,
       "overflow": null,
       "overflow_x": null,
       "overflow_y": null,
       "padding": null,
       "right": null,
       "top": null,
       "visibility": null,
       "width": null
      }
     },
     "3a92922b6b8c4c06a4e79702063490d9": {
      "model_module": "@jupyter-widgets/base",
      "model_module_version": "1.2.0",
      "model_name": "LayoutModel",
      "state": {
       "_model_module": "@jupyter-widgets/base",
       "_model_module_version": "1.2.0",
       "_model_name": "LayoutModel",
       "_view_count": null,
       "_view_module": "@jupyter-widgets/base",
       "_view_module_version": "1.2.0",
       "_view_name": "LayoutView",
       "align_content": null,
       "align_items": null,
       "align_self": null,
       "border": null,
       "bottom": null,
       "display": null,
       "flex": null,
       "flex_flow": null,
       "grid_area": null,
       "grid_auto_columns": null,
       "grid_auto_flow": null,
       "grid_auto_rows": null,
       "grid_column": null,
       "grid_gap": null,
       "grid_row": null,
       "grid_template_areas": null,
       "grid_template_columns": null,
       "grid_template_rows": null,
       "height": null,
       "justify_content": null,
       "justify_items": null,
       "left": null,
       "margin": null,
       "max_height": null,
       "max_width": null,
       "min_height": null,
       "min_width": null,
       "object_fit": null,
       "object_position": null,
       "order": null,
       "overflow": null,
       "overflow_x": null,
       "overflow_y": null,
       "padding": null,
       "right": null,
       "top": null,
       "visibility": null,
       "width": null
      }
     },
     "3de690265ad64a7a859bd57531a37130": {
      "model_module": "@jupyter-widgets/controls",
      "model_module_version": "1.5.0",
      "model_name": "FloatProgressModel",
      "state": {
       "_dom_classes": [],
       "_model_module": "@jupyter-widgets/controls",
       "_model_module_version": "1.5.0",
       "_model_name": "FloatProgressModel",
       "_view_count": null,
       "_view_module": "@jupyter-widgets/controls",
       "_view_module_version": "1.5.0",
       "_view_name": "ProgressView",
       "bar_style": "success",
       "description": "",
       "description_tooltip": null,
       "layout": "IPY_MODEL_2a67a40c460b490eae63f5a2da79538c",
       "max": 2.0,
       "min": 0.0,
       "orientation": "horizontal",
       "style": "IPY_MODEL_8c5f1122a22e4e169b7f267244375fcf",
       "value": 2.0
      }
     },
     "410a38f2cd264f218ebd1110b676c511": {
      "model_module": "@jupyter-widgets/controls",
      "model_module_version": "1.5.0",
      "model_name": "FloatProgressModel",
      "state": {
       "_dom_classes": [],
       "_model_module": "@jupyter-widgets/controls",
       "_model_module_version": "1.5.0",
       "_model_name": "FloatProgressModel",
       "_view_count": null,
       "_view_module": "@jupyter-widgets/controls",
       "_view_module_version": "1.5.0",
       "_view_name": "ProgressView",
       "bar_style": "success",
       "description": "",
       "description_tooltip": null,
       "layout": "IPY_MODEL_eae36f97b6ae44c1822c05bd548e0b2f",
       "max": 497810400.0,
       "min": 0.0,
       "orientation": "horizontal",
       "style": "IPY_MODEL_160fef26dca94d03a4a5092e2ff9a930",
       "value": 497810400.0
      }
     },
     "475edaf53a424c5c963a0bdd7f33dc7d": {
      "model_module": "@jupyter-widgets/base",
      "model_module_version": "1.2.0",
      "model_name": "LayoutModel",
      "state": {
       "_model_module": "@jupyter-widgets/base",
       "_model_module_version": "1.2.0",
       "_model_name": "LayoutModel",
       "_view_count": null,
       "_view_module": "@jupyter-widgets/base",
       "_view_module_version": "1.2.0",
       "_view_name": "LayoutView",
       "align_content": null,
       "align_items": null,
       "align_self": null,
       "border": null,
       "bottom": null,
       "display": null,
       "flex": null,
       "flex_flow": null,
       "grid_area": null,
       "grid_auto_columns": null,
       "grid_auto_flow": null,
       "grid_auto_rows": null,
       "grid_column": null,
       "grid_gap": null,
       "grid_row": null,
       "grid_template_areas": null,
       "grid_template_columns": null,
       "grid_template_rows": null,
       "height": null,
       "justify_content": null,
       "justify_items": null,
       "left": null,
       "margin": null,
       "max_height": null,
       "max_width": null,
       "min_height": null,
       "min_width": null,
       "object_fit": null,
       "object_position": null,
       "order": null,
       "overflow": null,
       "overflow_x": null,
       "overflow_y": null,
       "padding": null,
       "right": null,
       "top": null,
       "visibility": null,
       "width": null
      }
     },
     "508eab76a146425e9db8ec153eb5c80f": {
      "model_module": "@jupyter-widgets/controls",
      "model_module_version": "1.5.0",
      "model_name": "HTMLModel",
      "state": {
       "_dom_classes": [],
       "_model_module": "@jupyter-widgets/controls",
       "_model_module_version": "1.5.0",
       "_model_name": "HTMLModel",
       "_view_count": null,
       "_view_module": "@jupyter-widgets/controls",
       "_view_module_version": "1.5.0",
       "_view_name": "HTMLView",
       "description": "",
       "description_tooltip": null,
       "layout": "IPY_MODEL_bb8f10d25fd04445a141c91fbd5d418d",
       "placeholder": "​",
       "style": "IPY_MODEL_56b99df97ac34eae8ba85e2ebfc58fe5",
       "value": "config.json: 100%"
      }
     },
     "53775e8a7a39455e811697df420e01d8": {
      "model_module": "@jupyter-widgets/base",
      "model_module_version": "1.2.0",
      "model_name": "LayoutModel",
      "state": {
       "_model_module": "@jupyter-widgets/base",
       "_model_module_version": "1.2.0",
       "_model_name": "LayoutModel",
       "_view_count": null,
       "_view_module": "@jupyter-widgets/base",
       "_view_module_version": "1.2.0",
       "_view_name": "LayoutView",
       "align_content": null,
       "align_items": null,
       "align_self": null,
       "border": null,
       "bottom": null,
       "display": null,
       "flex": null,
       "flex_flow": null,
       "grid_area": null,
       "grid_auto_columns": null,
       "grid_auto_flow": null,
       "grid_auto_rows": null,
       "grid_column": null,
       "grid_gap": null,
       "grid_row": null,
       "grid_template_areas": null,
       "grid_template_columns": null,
       "grid_template_rows": null,
       "height": null,
       "justify_content": null,
       "justify_items": null,
       "left": null,
       "margin": null,
       "max_height": null,
       "max_width": null,
       "min_height": null,
       "min_width": null,
       "object_fit": null,
       "object_position": null,
       "order": null,
       "overflow": null,
       "overflow_x": null,
       "overflow_y": null,
       "padding": null,
       "right": null,
       "top": null,
       "visibility": null,
       "width": null
      }
     },
     "56b99df97ac34eae8ba85e2ebfc58fe5": {
      "model_module": "@jupyter-widgets/controls",
      "model_module_version": "1.5.0",
      "model_name": "DescriptionStyleModel",
      "state": {
       "_model_module": "@jupyter-widgets/controls",
       "_model_module_version": "1.5.0",
       "_model_name": "DescriptionStyleModel",
       "_view_count": null,
       "_view_module": "@jupyter-widgets/base",
       "_view_module_version": "1.2.0",
       "_view_name": "StyleView",
       "description_width": ""
      }
     },
     "58f39a7d290147ec894118b1f9397e65": {
      "model_module": "@jupyter-widgets/controls",
      "model_module_version": "1.5.0",
      "model_name": "HBoxModel",
      "state": {
       "_dom_classes": [],
       "_model_module": "@jupyter-widgets/controls",
       "_model_module_version": "1.5.0",
       "_model_name": "HBoxModel",
       "_view_count": null,
       "_view_module": "@jupyter-widgets/controls",
       "_view_module_version": "1.5.0",
       "_view_name": "HBoxView",
       "box_style": "",
       "children": [
        "IPY_MODEL_979b98e2465c4334bb8e0f4382054155",
        "IPY_MODEL_3de690265ad64a7a859bd57531a37130",
        "IPY_MODEL_1e66eccf82f6430abc2d58c5eeddfa20"
       ],
       "layout": "IPY_MODEL_8fae2822d1b44fe9922768b163cb9bf0"
      }
     },
     "5a94e3d285064d17ba9e76b24cd95b7f": {
      "model_module": "@jupyter-widgets/controls",
      "model_module_version": "1.5.0",
      "model_name": "HBoxModel",
      "state": {
       "_dom_classes": [],
       "_model_module": "@jupyter-widgets/controls",
       "_model_module_version": "1.5.0",
       "_model_name": "HBoxModel",
       "_view_count": null,
       "_view_module": "@jupyter-widgets/controls",
       "_view_module_version": "1.5.0",
       "_view_name": "HBoxView",
       "box_style": "",
       "children": [
        "IPY_MODEL_508eab76a146425e9db8ec153eb5c80f",
        "IPY_MODEL_1ba0900843254714ac526e143a5c0ac5",
        "IPY_MODEL_994a459ce24441a3aca753243b66ba53"
       ],
       "layout": "IPY_MODEL_0f24a22404b3478e9572bb87820b81f8"
      }
     },
     "5b06371b4afc48ff98f3eec777c28b61": {
      "model_module": "@jupyter-widgets/base",
      "model_module_version": "1.2.0",
      "model_name": "LayoutModel",
      "state": {
       "_model_module": "@jupyter-widgets/base",
       "_model_module_version": "1.2.0",
       "_model_name": "LayoutModel",
       "_view_count": null,
       "_view_module": "@jupyter-widgets/base",
       "_view_module_version": "1.2.0",
       "_view_name": "LayoutView",
       "align_content": null,
       "align_items": null,
       "align_self": null,
       "border": null,
       "bottom": null,
       "display": null,
       "flex": null,
       "flex_flow": null,
       "grid_area": null,
       "grid_auto_columns": null,
       "grid_auto_flow": null,
       "grid_auto_rows": null,
       "grid_column": null,
       "grid_gap": null,
       "grid_row": null,
       "grid_template_areas": null,
       "grid_template_columns": null,
       "grid_template_rows": null,
       "height": null,
       "justify_content": null,
       "justify_items": null,
       "left": null,
       "margin": null,
       "max_height": null,
       "max_width": null,
       "min_height": null,
       "min_width": null,
       "object_fit": null,
       "object_position": null,
       "order": null,
       "overflow": null,
       "overflow_x": null,
       "overflow_y": null,
       "padding": null,
       "right": null,
       "top": null,
       "visibility": null,
       "width": null
      }
     },
     "603e0f8321ad41549daeee8a3f87fce2": {
      "model_module": "@jupyter-widgets/controls",
      "model_module_version": "1.5.0",
      "model_name": "HTMLModel",
      "state": {
       "_dom_classes": [],
       "_model_module": "@jupyter-widgets/controls",
       "_model_module_version": "1.5.0",
       "_model_name": "HTMLModel",
       "_view_count": null,
       "_view_module": "@jupyter-widgets/controls",
       "_view_module_version": "1.5.0",
       "_view_name": "HTMLView",
       "description": "",
       "description_tooltip": null,
       "layout": "IPY_MODEL_0e639717611449f48af932169266b203",
       "placeholder": "​",
       "style": "IPY_MODEL_bc208c3b8b474a41a42b4fa6a0077356",
       "value": "special_tokens_map.json: 100%"
      }
     },
     "665024f99b8a4ce89b921a6741451d67": {
      "model_module": "@jupyter-widgets/controls",
      "model_module_version": "1.5.0",
      "model_name": "HTMLModel",
      "state": {
       "_dom_classes": [],
       "_model_module": "@jupyter-widgets/controls",
       "_model_module_version": "1.5.0",
       "_model_name": "HTMLModel",
       "_view_count": null,
       "_view_module": "@jupyter-widgets/controls",
       "_view_module_version": "1.5.0",
       "_view_name": "HTMLView",
       "description": "",
       "description_tooltip": null,
       "layout": "IPY_MODEL_b0bd87dea2e1430d98b6bbbbfceabcc6",
       "placeholder": "​",
       "style": "IPY_MODEL_95d40f74033c4e23a2fb3c9f55d87a5f",
       "value": "pytorch_model.bin: 100%"
      }
     },
     "6b8bc1c2ff994d0b92d23a939b848015": {
      "model_module": "@jupyter-widgets/controls",
      "model_module_version": "1.5.0",
      "model_name": "ProgressStyleModel",
      "state": {
       "_model_module": "@jupyter-widgets/controls",
       "_model_module_version": "1.5.0",
       "_model_name": "ProgressStyleModel",
       "_view_count": null,
       "_view_module": "@jupyter-widgets/base",
       "_view_module_version": "1.2.0",
       "_view_name": "StyleView",
       "bar_color": null,
       "description_width": ""
      }
     },
     "8c5f1122a22e4e169b7f267244375fcf": {
      "model_module": "@jupyter-widgets/controls",
      "model_module_version": "1.5.0",
      "model_name": "ProgressStyleModel",
      "state": {
       "_model_module": "@jupyter-widgets/controls",
       "_model_module_version": "1.5.0",
       "_model_name": "ProgressStyleModel",
       "_view_count": null,
       "_view_module": "@jupyter-widgets/base",
       "_view_module_version": "1.2.0",
       "_view_name": "StyleView",
       "bar_color": null,
       "description_width": ""
      }
     },
     "8cb97533ce494f7eba35dd108d4880d5": {
      "model_module": "@jupyter-widgets/controls",
      "model_module_version": "1.5.0",
      "model_name": "DescriptionStyleModel",
      "state": {
       "_model_module": "@jupyter-widgets/controls",
       "_model_module_version": "1.5.0",
       "_model_name": "DescriptionStyleModel",
       "_view_count": null,
       "_view_module": "@jupyter-widgets/base",
       "_view_module_version": "1.2.0",
       "_view_name": "StyleView",
       "description_width": ""
      }
     },
     "8db83584c78b43a5950891458d92b2e2": {
      "model_module": "@jupyter-widgets/controls",
      "model_module_version": "1.5.0",
      "model_name": "HTMLModel",
      "state": {
       "_dom_classes": [],
       "_model_module": "@jupyter-widgets/controls",
       "_model_module_version": "1.5.0",
       "_model_name": "HTMLModel",
       "_view_count": null,
       "_view_module": "@jupyter-widgets/controls",
       "_view_module_version": "1.5.0",
       "_view_name": "HTMLView",
       "description": "",
       "description_tooltip": null,
       "layout": "IPY_MODEL_abd5b478403a4ab3809566343e35f7a2",
       "placeholder": "​",
       "style": "IPY_MODEL_c353579aef11434a9703c74e95a7c3dc",
       "value": " 498M/498M [00:02&lt;00:00, 205MB/s]"
      }
     },
     "8fae2822d1b44fe9922768b163cb9bf0": {
      "model_module": "@jupyter-widgets/base",
      "model_module_version": "1.2.0",
      "model_name": "LayoutModel",
      "state": {
       "_model_module": "@jupyter-widgets/base",
       "_model_module_version": "1.2.0",
       "_model_name": "LayoutModel",
       "_view_count": null,
       "_view_module": "@jupyter-widgets/base",
       "_view_module_version": "1.2.0",
       "_view_name": "LayoutView",
       "align_content": null,
       "align_items": null,
       "align_self": null,
       "border": null,
       "bottom": null,
       "display": null,
       "flex": null,
       "flex_flow": null,
       "grid_area": null,
       "grid_auto_columns": null,
       "grid_auto_flow": null,
       "grid_auto_rows": null,
       "grid_column": null,
       "grid_gap": null,
       "grid_row": null,
       "grid_template_areas": null,
       "grid_template_columns": null,
       "grid_template_rows": null,
       "height": null,
       "justify_content": null,
       "justify_items": null,
       "left": null,
       "margin": null,
       "max_height": null,
       "max_width": null,
       "min_height": null,
       "min_width": null,
       "object_fit": null,
       "object_position": null,
       "order": null,
       "overflow": null,
       "overflow_x": null,
       "overflow_y": null,
       "padding": null,
       "right": null,
       "top": null,
       "visibility": null,
       "width": null
      }
     },
     "92d9649a7e0042db9f12bb7eeb1df1e2": {
      "model_module": "@jupyter-widgets/base",
      "model_module_version": "1.2.0",
      "model_name": "LayoutModel",
      "state": {
       "_model_module": "@jupyter-widgets/base",
       "_model_module_version": "1.2.0",
       "_model_name": "LayoutModel",
       "_view_count": null,
       "_view_module": "@jupyter-widgets/base",
       "_view_module_version": "1.2.0",
       "_view_name": "LayoutView",
       "align_content": null,
       "align_items": null,
       "align_self": null,
       "border": null,
       "bottom": null,
       "display": null,
       "flex": null,
       "flex_flow": null,
       "grid_area": null,
       "grid_auto_columns": null,
       "grid_auto_flow": null,
       "grid_auto_rows": null,
       "grid_column": null,
       "grid_gap": null,
       "grid_row": null,
       "grid_template_areas": null,
       "grid_template_columns": null,
       "grid_template_rows": null,
       "height": null,
       "justify_content": null,
       "justify_items": null,
       "left": null,
       "margin": null,
       "max_height": null,
       "max_width": null,
       "min_height": null,
       "min_width": null,
       "object_fit": null,
       "object_position": null,
       "order": null,
       "overflow": null,
       "overflow_x": null,
       "overflow_y": null,
       "padding": null,
       "right": null,
       "top": null,
       "visibility": null,
       "width": null
      }
     },
     "95d40f74033c4e23a2fb3c9f55d87a5f": {
      "model_module": "@jupyter-widgets/controls",
      "model_module_version": "1.5.0",
      "model_name": "DescriptionStyleModel",
      "state": {
       "_model_module": "@jupyter-widgets/controls",
       "_model_module_version": "1.5.0",
       "_model_name": "DescriptionStyleModel",
       "_view_count": null,
       "_view_module": "@jupyter-widgets/base",
       "_view_module_version": "1.2.0",
       "_view_name": "StyleView",
       "description_width": ""
      }
     },
     "979b98e2465c4334bb8e0f4382054155": {
      "model_module": "@jupyter-widgets/controls",
      "model_module_version": "1.5.0",
      "model_name": "HTMLModel",
      "state": {
       "_dom_classes": [],
       "_model_module": "@jupyter-widgets/controls",
       "_model_module_version": "1.5.0",
       "_model_name": "HTMLModel",
       "_view_count": null,
       "_view_module": "@jupyter-widgets/controls",
       "_view_module_version": "1.5.0",
       "_view_name": "HTMLView",
       "description": "",
       "description_tooltip": null,
       "layout": "IPY_MODEL_d07103e836ca41bb8e71d5e542eeca6b",
       "placeholder": "​",
       "style": "IPY_MODEL_2c429dc9388d4353b456f90ac5db3038",
       "value": "tokenizer_config.json: 100%"
      }
     },
     "994a459ce24441a3aca753243b66ba53": {
      "model_module": "@jupyter-widgets/controls",
      "model_module_version": "1.5.0",
      "model_name": "HTMLModel",
      "state": {
       "_dom_classes": [],
       "_model_module": "@jupyter-widgets/controls",
       "_model_module_version": "1.5.0",
       "_model_name": "HTMLModel",
       "_view_count": null,
       "_view_module": "@jupyter-widgets/controls",
       "_view_module_version": "1.5.0",
       "_view_name": "HTMLView",
       "description": "",
       "description_tooltip": null,
       "layout": "IPY_MODEL_2144cae6a43f4b6a9b2d0e0a873736ff",
       "placeholder": "​",
       "style": "IPY_MODEL_8cb97533ce494f7eba35dd108d4880d5",
       "value": " 1.53k/1.53k [00:00&lt;00:00, 146kB/s]"
      }
     },
     "a9d5e397d1cb4afea3bf22b839045169": {
      "model_module": "@jupyter-widgets/controls",
      "model_module_version": "1.5.0",
      "model_name": "DescriptionStyleModel",
      "state": {
       "_model_module": "@jupyter-widgets/controls",
       "_model_module_version": "1.5.0",
       "_model_name": "DescriptionStyleModel",
       "_view_count": null,
       "_view_module": "@jupyter-widgets/base",
       "_view_module_version": "1.2.0",
       "_view_name": "StyleView",
       "description_width": ""
      }
     },
     "abd5b478403a4ab3809566343e35f7a2": {
      "model_module": "@jupyter-widgets/base",
      "model_module_version": "1.2.0",
      "model_name": "LayoutModel",
      "state": {
       "_model_module": "@jupyter-widgets/base",
       "_model_module_version": "1.2.0",
       "_model_name": "LayoutModel",
       "_view_count": null,
       "_view_module": "@jupyter-widgets/base",
       "_view_module_version": "1.2.0",
       "_view_name": "LayoutView",
       "align_content": null,
       "align_items": null,
       "align_self": null,
       "border": null,
       "bottom": null,
       "display": null,
       "flex": null,
       "flex_flow": null,
       "grid_area": null,
       "grid_auto_columns": null,
       "grid_auto_flow": null,
       "grid_auto_rows": null,
       "grid_column": null,
       "grid_gap": null,
       "grid_row": null,
       "grid_template_areas": null,
       "grid_template_columns": null,
       "grid_template_rows": null,
       "height": null,
       "justify_content": null,
       "justify_items": null,
       "left": null,
       "margin": null,
       "max_height": null,
       "max_width": null,
       "min_height": null,
       "min_width": null,
       "object_fit": null,
       "object_position": null,
       "order": null,
       "overflow": null,
       "overflow_x": null,
       "overflow_y": null,
       "padding": null,
       "right": null,
       "top": null,
       "visibility": null,
       "width": null
      }
     },
     "ac0b40e3abfa4897808dc95d6164f22d": {
      "model_module": "@jupyter-widgets/controls",
      "model_module_version": "1.5.0",
      "model_name": "HTMLModel",
      "state": {
       "_dom_classes": [],
       "_model_module": "@jupyter-widgets/controls",
       "_model_module_version": "1.5.0",
       "_model_name": "HTMLModel",
       "_view_count": null,
       "_view_module": "@jupyter-widgets/controls",
       "_view_module_version": "1.5.0",
       "_view_name": "HTMLView",
       "description": "",
       "description_tooltip": null,
       "layout": "IPY_MODEL_ada7bdd26af24ab8a4d9377e75a7550a",
       "placeholder": "​",
       "style": "IPY_MODEL_e767cc6e333249609139659c720335c0",
       "value": "vocab.txt: 100%"
      }
     },
     "ada7bdd26af24ab8a4d9377e75a7550a": {
      "model_module": "@jupyter-widgets/base",
      "model_module_version": "1.2.0",
      "model_name": "LayoutModel",
      "state": {
       "_model_module": "@jupyter-widgets/base",
       "_model_module_version": "1.2.0",
       "_model_name": "LayoutModel",
       "_view_count": null,
       "_view_module": "@jupyter-widgets/base",
       "_view_module_version": "1.2.0",
       "_view_name": "LayoutView",
       "align_content": null,
       "align_items": null,
       "align_self": null,
       "border": null,
       "bottom": null,
       "display": null,
       "flex": null,
       "flex_flow": null,
       "grid_area": null,
       "grid_auto_columns": null,
       "grid_auto_flow": null,
       "grid_auto_rows": null,
       "grid_column": null,
       "grid_gap": null,
       "grid_row": null,
       "grid_template_areas": null,
       "grid_template_columns": null,
       "grid_template_rows": null,
       "height": null,
       "justify_content": null,
       "justify_items": null,
       "left": null,
       "margin": null,
       "max_height": null,
       "max_width": null,
       "min_height": null,
       "min_width": null,
       "object_fit": null,
       "object_position": null,
       "order": null,
       "overflow": null,
       "overflow_x": null,
       "overflow_y": null,
       "padding": null,
       "right": null,
       "top": null,
       "visibility": null,
       "width": null
      }
     },
     "b0bd87dea2e1430d98b6bbbbfceabcc6": {
      "model_module": "@jupyter-widgets/base",
      "model_module_version": "1.2.0",
      "model_name": "LayoutModel",
      "state": {
       "_model_module": "@jupyter-widgets/base",
       "_model_module_version": "1.2.0",
       "_model_name": "LayoutModel",
       "_view_count": null,
       "_view_module": "@jupyter-widgets/base",
       "_view_module_version": "1.2.0",
       "_view_name": "LayoutView",
       "align_content": null,
       "align_items": null,
       "align_self": null,
       "border": null,
       "bottom": null,
       "display": null,
       "flex": null,
       "flex_flow": null,
       "grid_area": null,
       "grid_auto_columns": null,
       "grid_auto_flow": null,
       "grid_auto_rows": null,
       "grid_column": null,
       "grid_gap": null,
       "grid_row": null,
       "grid_template_areas": null,
       "grid_template_columns": null,
       "grid_template_rows": null,
       "height": null,
       "justify_content": null,
       "justify_items": null,
       "left": null,
       "margin": null,
       "max_height": null,
       "max_width": null,
       "min_height": null,
       "min_width": null,
       "object_fit": null,
       "object_position": null,
       "order": null,
       "overflow": null,
       "overflow_x": null,
       "overflow_y": null,
       "padding": null,
       "right": null,
       "top": null,
       "visibility": null,
       "width": null
      }
     },
     "b5d883b6a94c42fcbc86cba474d3e11c": {
      "model_module": "@jupyter-widgets/controls",
      "model_module_version": "1.5.0",
      "model_name": "ProgressStyleModel",
      "state": {
       "_model_module": "@jupyter-widgets/controls",
       "_model_module_version": "1.5.0",
       "_model_name": "ProgressStyleModel",
       "_view_count": null,
       "_view_module": "@jupyter-widgets/base",
       "_view_module_version": "1.2.0",
       "_view_name": "StyleView",
       "bar_color": null,
       "description_width": ""
      }
     },
     "bb8f10d25fd04445a141c91fbd5d418d": {
      "model_module": "@jupyter-widgets/base",
      "model_module_version": "1.2.0",
      "model_name": "LayoutModel",
      "state": {
       "_model_module": "@jupyter-widgets/base",
       "_model_module_version": "1.2.0",
       "_model_name": "LayoutModel",
       "_view_count": null,
       "_view_module": "@jupyter-widgets/base",
       "_view_module_version": "1.2.0",
       "_view_name": "LayoutView",
       "align_content": null,
       "align_items": null,
       "align_self": null,
       "border": null,
       "bottom": null,
       "display": null,
       "flex": null,
       "flex_flow": null,
       "grid_area": null,
       "grid_auto_columns": null,
       "grid_auto_flow": null,
       "grid_auto_rows": null,
       "grid_column": null,
       "grid_gap": null,
       "grid_row": null,
       "grid_template_areas": null,
       "grid_template_columns": null,
       "grid_template_rows": null,
       "height": null,
       "justify_content": null,
       "justify_items": null,
       "left": null,
       "margin": null,
       "max_height": null,
       "max_width": null,
       "min_height": null,
       "min_width": null,
       "object_fit": null,
       "object_position": null,
       "order": null,
       "overflow": null,
       "overflow_x": null,
       "overflow_y": null,
       "padding": null,
       "right": null,
       "top": null,
       "visibility": null,
       "width": null
      }
     },
     "bc208c3b8b474a41a42b4fa6a0077356": {
      "model_module": "@jupyter-widgets/controls",
      "model_module_version": "1.5.0",
      "model_name": "DescriptionStyleModel",
      "state": {
       "_model_module": "@jupyter-widgets/controls",
       "_model_module_version": "1.5.0",
       "_model_name": "DescriptionStyleModel",
       "_view_count": null,
       "_view_module": "@jupyter-widgets/base",
       "_view_module_version": "1.2.0",
       "_view_name": "StyleView",
       "description_width": ""
      }
     },
     "c0601943fa19439e8ad11fee8f3fad4d": {
      "model_module": "@jupyter-widgets/controls",
      "model_module_version": "1.5.0",
      "model_name": "HBoxModel",
      "state": {
       "_dom_classes": [],
       "_model_module": "@jupyter-widgets/controls",
       "_model_module_version": "1.5.0",
       "_model_name": "HBoxModel",
       "_view_count": null,
       "_view_module": "@jupyter-widgets/controls",
       "_view_module_version": "1.5.0",
       "_view_name": "HBoxView",
       "box_style": "",
       "children": [
        "IPY_MODEL_603e0f8321ad41549daeee8a3f87fce2",
        "IPY_MODEL_18f87ff4361243359ddd89ffd7e0817b",
        "IPY_MODEL_275316f2fe6a4003a90cea20fb696b79"
       ],
       "layout": "IPY_MODEL_53775e8a7a39455e811697df420e01d8"
      }
     },
     "c353579aef11434a9703c74e95a7c3dc": {
      "model_module": "@jupyter-widgets/controls",
      "model_module_version": "1.5.0",
      "model_name": "DescriptionStyleModel",
      "state": {
       "_model_module": "@jupyter-widgets/controls",
       "_model_module_version": "1.5.0",
       "_model_name": "DescriptionStyleModel",
       "_view_count": null,
       "_view_module": "@jupyter-widgets/base",
       "_view_module_version": "1.2.0",
       "_view_name": "StyleView",
       "description_width": ""
      }
     },
     "c96c5e963d264875ab4a9a308361e49e": {
      "model_module": "@jupyter-widgets/base",
      "model_module_version": "1.2.0",
      "model_name": "LayoutModel",
      "state": {
       "_model_module": "@jupyter-widgets/base",
       "_model_module_version": "1.2.0",
       "_model_name": "LayoutModel",
       "_view_count": null,
       "_view_module": "@jupyter-widgets/base",
       "_view_module_version": "1.2.0",
       "_view_name": "LayoutView",
       "align_content": null,
       "align_items": null,
       "align_self": null,
       "border": null,
       "bottom": null,
       "display": null,
       "flex": null,
       "flex_flow": null,
       "grid_area": null,
       "grid_auto_columns": null,
       "grid_auto_flow": null,
       "grid_auto_rows": null,
       "grid_column": null,
       "grid_gap": null,
       "grid_row": null,
       "grid_template_areas": null,
       "grid_template_columns": null,
       "grid_template_rows": null,
       "height": null,
       "justify_content": null,
       "justify_items": null,
       "left": null,
       "margin": null,
       "max_height": null,
       "max_width": null,
       "min_height": null,
       "min_width": null,
       "object_fit": null,
       "object_position": null,
       "order": null,
       "overflow": null,
       "overflow_x": null,
       "overflow_y": null,
       "padding": null,
       "right": null,
       "top": null,
       "visibility": null,
       "width": null
      }
     },
     "d07103e836ca41bb8e71d5e542eeca6b": {
      "model_module": "@jupyter-widgets/base",
      "model_module_version": "1.2.0",
      "model_name": "LayoutModel",
      "state": {
       "_model_module": "@jupyter-widgets/base",
       "_model_module_version": "1.2.0",
       "_model_name": "LayoutModel",
       "_view_count": null,
       "_view_module": "@jupyter-widgets/base",
       "_view_module_version": "1.2.0",
       "_view_name": "LayoutView",
       "align_content": null,
       "align_items": null,
       "align_self": null,
       "border": null,
       "bottom": null,
       "display": null,
       "flex": null,
       "flex_flow": null,
       "grid_area": null,
       "grid_auto_columns": null,
       "grid_auto_flow": null,
       "grid_auto_rows": null,
       "grid_column": null,
       "grid_gap": null,
       "grid_row": null,
       "grid_template_areas": null,
       "grid_template_columns": null,
       "grid_template_rows": null,
       "height": null,
       "justify_content": null,
       "justify_items": null,
       "left": null,
       "margin": null,
       "max_height": null,
       "max_width": null,
       "min_height": null,
       "min_width": null,
       "object_fit": null,
       "object_position": null,
       "order": null,
       "overflow": null,
       "overflow_x": null,
       "overflow_y": null,
       "padding": null,
       "right": null,
       "top": null,
       "visibility": null,
       "width": null
      }
     },
     "e56d6d20a38046d49dfbbfa0dc810efc": {
      "model_module": "@jupyter-widgets/controls",
      "model_module_version": "1.5.0",
      "model_name": "HBoxModel",
      "state": {
       "_dom_classes": [],
       "_model_module": "@jupyter-widgets/controls",
       "_model_module_version": "1.5.0",
       "_model_name": "HBoxModel",
       "_view_count": null,
       "_view_module": "@jupyter-widgets/controls",
       "_view_module_version": "1.5.0",
       "_view_name": "HBoxView",
       "box_style": "",
       "children": [
        "IPY_MODEL_665024f99b8a4ce89b921a6741451d67",
        "IPY_MODEL_410a38f2cd264f218ebd1110b676c511",
        "IPY_MODEL_8db83584c78b43a5950891458d92b2e2"
       ],
       "layout": "IPY_MODEL_e8f5cc827f4b42ceb3ec5fabdde3ad13"
      }
     },
     "e767cc6e333249609139659c720335c0": {
      "model_module": "@jupyter-widgets/controls",
      "model_module_version": "1.5.0",
      "model_name": "DescriptionStyleModel",
      "state": {
       "_model_module": "@jupyter-widgets/controls",
       "_model_module_version": "1.5.0",
       "_model_name": "DescriptionStyleModel",
       "_view_count": null,
       "_view_module": "@jupyter-widgets/base",
       "_view_module_version": "1.2.0",
       "_view_name": "StyleView",
       "description_width": ""
      }
     },
     "e8f5cc827f4b42ceb3ec5fabdde3ad13": {
      "model_module": "@jupyter-widgets/base",
      "model_module_version": "1.2.0",
      "model_name": "LayoutModel",
      "state": {
       "_model_module": "@jupyter-widgets/base",
       "_model_module_version": "1.2.0",
       "_model_name": "LayoutModel",
       "_view_count": null,
       "_view_module": "@jupyter-widgets/base",
       "_view_module_version": "1.2.0",
       "_view_name": "LayoutView",
       "align_content": null,
       "align_items": null,
       "align_self": null,
       "border": null,
       "bottom": null,
       "display": null,
       "flex": null,
       "flex_flow": null,
       "grid_area": null,
       "grid_auto_columns": null,
       "grid_auto_flow": null,
       "grid_auto_rows": null,
       "grid_column": null,
       "grid_gap": null,
       "grid_row": null,
       "grid_template_areas": null,
       "grid_template_columns": null,
       "grid_template_rows": null,
       "height": null,
       "justify_content": null,
       "justify_items": null,
       "left": null,
       "margin": null,
       "max_height": null,
       "max_width": null,
       "min_height": null,
       "min_width": null,
       "object_fit": null,
       "object_position": null,
       "order": null,
       "overflow": null,
       "overflow_x": null,
       "overflow_y": null,
       "padding": null,
       "right": null,
       "top": null,
       "visibility": null,
       "width": null
      }
     },
     "eae36f97b6ae44c1822c05bd548e0b2f": {
      "model_module": "@jupyter-widgets/base",
      "model_module_version": "1.2.0",
      "model_name": "LayoutModel",
      "state": {
       "_model_module": "@jupyter-widgets/base",
       "_model_module_version": "1.2.0",
       "_model_name": "LayoutModel",
       "_view_count": null,
       "_view_module": "@jupyter-widgets/base",
       "_view_module_version": "1.2.0",
       "_view_name": "LayoutView",
       "align_content": null,
       "align_items": null,
       "align_self": null,
       "border": null,
       "bottom": null,
       "display": null,
       "flex": null,
       "flex_flow": null,
       "grid_area": null,
       "grid_auto_columns": null,
       "grid_auto_flow": null,
       "grid_auto_rows": null,
       "grid_column": null,
       "grid_gap": null,
       "grid_row": null,
       "grid_template_areas": null,
       "grid_template_columns": null,
       "grid_template_rows": null,
       "height": null,
       "justify_content": null,
       "justify_items": null,
       "left": null,
       "margin": null,
       "max_height": null,
       "max_width": null,
       "min_height": null,
       "min_width": null,
       "object_fit": null,
       "object_position": null,
       "order": null,
       "overflow": null,
       "overflow_x": null,
       "overflow_y": null,
       "padding": null,
       "right": null,
       "top": null,
       "visibility": null,
       "width": null
      }
     },
     "ecbef80cc7034e7ca8a6cd9b6bf581a1": {
      "model_module": "@jupyter-widgets/controls",
      "model_module_version": "1.5.0",
      "model_name": "DescriptionStyleModel",
      "state": {
       "_model_module": "@jupyter-widgets/controls",
       "_model_module_version": "1.5.0",
       "_model_name": "DescriptionStyleModel",
       "_view_count": null,
       "_view_module": "@jupyter-widgets/base",
       "_view_module_version": "1.2.0",
       "_view_name": "StyleView",
       "description_width": ""
      }
     },
     "f0ee6a8e70ea4e3c889367a6ea1b9e62": {
      "model_module": "@jupyter-widgets/controls",
      "model_module_version": "1.5.0",
      "model_name": "HBoxModel",
      "state": {
       "_dom_classes": [],
       "_model_module": "@jupyter-widgets/controls",
       "_model_module_version": "1.5.0",
       "_model_name": "HBoxModel",
       "_view_count": null,
       "_view_module": "@jupyter-widgets/controls",
       "_view_module_version": "1.5.0",
       "_view_name": "HBoxView",
       "box_style": "",
       "children": [
        "IPY_MODEL_ac0b40e3abfa4897808dc95d6164f22d",
        "IPY_MODEL_1143cbf1e5f644f0a3e3184d26ec616a",
        "IPY_MODEL_18ab77378ed64769a42b88710d3dd5fe"
       ],
       "layout": "IPY_MODEL_5b06371b4afc48ff98f3eec777c28b61"
      }
     }
    },
    "version_major": 2,
    "version_minor": 0
   }
  }
 },
 "nbformat": 4,
 "nbformat_minor": 5
}
