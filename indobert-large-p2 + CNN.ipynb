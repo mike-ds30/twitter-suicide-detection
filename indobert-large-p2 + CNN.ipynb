{
 "cells": [
  {
   "cell_type": "code",
   "execution_count": 1,
   "id": "1050ddce",
   "metadata": {
    "_cell_guid": "b1076dfc-b9ad-4769-8c92-a6c4dae69d19",
    "_uuid": "8f2839f25d086af736a60e9eeb907d3b93b6e0e5",
    "execution": {
     "iopub.execute_input": "2024-04-11T17:09:43.067321Z",
     "iopub.status.busy": "2024-04-11T17:09:43.066323Z",
     "iopub.status.idle": "2024-04-11T17:09:44.021596Z",
     "shell.execute_reply": "2024-04-11T17:09:44.020583Z"
    },
    "papermill": {
     "duration": 0.968564,
     "end_time": "2024-04-11T17:09:44.024097",
     "exception": false,
     "start_time": "2024-04-11T17:09:43.055533",
     "status": "completed"
    },
    "tags": []
   },
   "outputs": [
    {
     "name": "stdout",
     "output_type": "stream",
     "text": [
      "Suicidal dataframe:          label                                        twitterText\n",
      "0     SUICIDAL  \"pengen bunuh diri aja\"\\nyang paling sering te...\n",
      "1     SUICIDAL  Secara tidak langsung punya Fikiran pengen bun...\n",
      "2     SUICIDAL          sejam lalu haha hihi sekarang pengen mati\n",
      "3     SUICIDAL  Baru kelar 1 masalah datang lagi malah lainnya...\n",
      "4     SUICIDAL       fuck bundir aku lagi pgn mabok smpk ga sadar\n",
      "...        ...                                                ...\n",
      "8727  SUICIDAL  jujur cape hidup kaya gini terus, aku nganggur...\n",
      "8728  SUICIDAL  Siapa yang dari sd udah kepikiran mau mati ? A...\n",
      "8729  SUICIDAL   Apa aku doang kalo stres suka pengen bunuh diri?\n",
      "8730  SUICIDAL  Mood ga karuan. Ovt ga karuan. Selalu kek miki...\n",
      "8731  SUICIDAL   pengen bundir tapi takut gabisa dengerin mineral\n",
      "\n",
      "[8732 rows x 2 columns]\n"
     ]
    }
   ],
   "source": [
    "import pandas as pd\n",
    "import re\n",
    "import os\n",
    "\n",
    "df_suicidal = pd.read_csv(\"/kaggle/input/manual-annotation-indo-twitter-suicide/final-annotated-suicide-dataset.csv\", usecols=['label', 'twitterText'])\n",
    "df_suicidal.dropna(inplace=True)\n",
    "df_suicidal['label'] = \"SUICIDAL\"\n",
    "df_suicidal = df_suicidal.sample(frac=1, random_state=42).reset_index(drop=True)\n",
    "print(\"Suicidal dataframe:\", df_suicidal)"
   ]
  },
  {
   "cell_type": "code",
   "execution_count": 2,
   "id": "7ae81fe8",
   "metadata": {
    "execution": {
     "iopub.execute_input": "2024-04-11T17:09:44.043972Z",
     "iopub.status.busy": "2024-04-11T17:09:44.043655Z",
     "iopub.status.idle": "2024-04-11T17:09:44.551988Z",
     "shell.execute_reply": "2024-04-11T17:09:44.551010Z"
    },
    "papermill": {
     "duration": 0.520181,
     "end_time": "2024-04-11T17:09:44.554295",
     "exception": false,
     "start_time": "2024-04-11T17:09:44.034114",
     "status": "completed"
    },
    "tags": []
   },
   "outputs": [
    {
     "name": "stdout",
     "output_type": "stream",
     "text": [
      "Non-suicidal dataframe:               label                                        twitterText\n",
      "0      NOT_SUICIDAL  yall the feminists i know on twitter are happi...\n",
      "1      NOT_SUICIDAL  Imagine bini sedap masak and his brain thinks ...\n",
      "2      NOT_SUICIDAL  Kita masak macam katering dah raya ni dia kalu...\n",
      "3      NOT_SUICIDAL  Masak ni survival skills, bukan gender roles. ...\n",
      "4      NOT_SUICIDAL  Istg if I were a man, I'd surely date her. \\n\\...\n",
      "...             ...                                                ...\n",
      "35307  NOT_SUICIDAL  @leo_edw W slalu punya feel kalo dia cuma ghos...\n",
      "35308  NOT_SUICIDAL  Jog! Lagi ngrasake bersyukur tapi yo kesel ki,...\n",
      "35309  NOT_SUICIDAL  @mks_fess itulah pentingnya tidak berharap ket...\n",
      "35310  NOT_SUICIDAL  Moots pdkt yuk tapi enih harus delapan kata ad...\n",
      "35311  NOT_SUICIDAL  Pengertian Ghosting dan Cara Menghindarinya: H...\n",
      "\n",
      "[35312 rows x 2 columns]\n",
      "Non-suicidal dataframe:               label                                        twitterText\n",
      "0      NOT_SUICIDAL  [cm] sekarang aku paham kenapa anak semester a...\n",
      "1      NOT_SUICIDAL  Semoga kita kuat kuat aja ya ngejalanin hidup ...\n",
      "2      NOT_SUICIDAL                              pengen bundir lmaoooo\n",
      "3      NOT_SUICIDAL  sumpah pengen gua katain anjing tolol bego ban...\n",
      "4      NOT_SUICIDAL                   pengen beli immortal trus bundir\n",
      "...             ...                                                ...\n",
      "35392  NOT_SUICIDAL         @kadyasandya coba bundir di jembatan suhat\n",
      "35393  NOT_SUICIDAL  @BluueBleGum tapi gua jadi mikir nih, kan pres...\n",
      "35394  NOT_SUICIDAL  @amordevaleri @WeningAA @CNNIndonesia iya aku ...\n",
      "35395  NOT_SUICIDAL  Gua pas itu gini\\n\\n\"Capek bgt pikiran bundir ...\n",
      "35396  NOT_SUICIDAL  Dulu pernah ampe udh cari cara di google tapi ...\n",
      "\n",
      "[35397 rows x 2 columns]\n"
     ]
    }
   ],
   "source": [
    "df_not_suicidal_a = pd.read_csv(\"/kaggle/input/manual-annotation-indo-twitter-suicide/final-non-suicide-dataset.csv\", usecols=['label', 'twitterText'])\n",
    "df_not_suicidal_a.dropna(inplace=True)\n",
    "df_not_suicidal_a['label'] = \"NOT_SUICIDAL\"\n",
    "print(\"Non-suicidal dataframe:\", df_not_suicidal_a)\n",
    "\n",
    "df_not_suicidal_b = pd.read_csv(\"/kaggle/input/manual-annotation-indo-twitter-suicide/final-annotated-non-suicide-dataset.csv\", usecols=['label', 'twitterText'])\n",
    "df_not_suicidal_b.dropna(inplace=True)\n",
    "df_not_suicidal_b['label'] = \"NOT_SUICIDAL\"\n",
    "print(\"Non-suicidal dataframe:\", df_not_suicidal_b)"
   ]
  },
  {
   "cell_type": "code",
   "execution_count": 3,
   "id": "fdcb40c5",
   "metadata": {
    "execution": {
     "iopub.execute_input": "2024-04-11T17:09:44.574786Z",
     "iopub.status.busy": "2024-04-11T17:09:44.574488Z",
     "iopub.status.idle": "2024-04-11T17:09:44.590845Z",
     "shell.execute_reply": "2024-04-11T17:09:44.589688Z"
    },
    "papermill": {
     "duration": 0.02851,
     "end_time": "2024-04-11T17:09:44.593055",
     "exception": false,
     "start_time": "2024-04-11T17:09:44.564545",
     "status": "completed"
    },
    "tags": []
   },
   "outputs": [
    {
     "name": "stdout",
     "output_type": "stream",
     "text": [
      "Non-suicidal dataframe:              label                                        twitterText\n",
      "0     NOT_SUICIDAL  Gak mudah mengakhiri hubungan di umur 26thn di...\n",
      "1     NOT_SUICIDAL                   Canda. Sesempetnya aja ya bous 😎\n",
      "2     NOT_SUICIDAL  @thekuxell Cara Israel mengurangi populasi ten...\n",
      "3     NOT_SUICIDAL  Aku hanya lelah hidup seperti ini, tak tau har...\n",
      "4     NOT_SUICIDAL  Ada orang yg pintar karena tekun belajar dan a...\n",
      "...            ...                                                ...\n",
      "8727  NOT_SUICIDAL  @kkmanti @kangadang1 @Yanuardychandra @floriel...\n",
      "8728  NOT_SUICIDAL  @Don_gindo Kok dek akibat singo di ajar makan ...\n",
      "8729  NOT_SUICIDAL  Mande :\"Jadi mo cium gak\"\\nSurya :\"ntar aja ka...\n",
      "8730  NOT_SUICIDAL  Tuhan...knp z harus kenal,cyg,n nikah dg org y...\n",
      "8731  NOT_SUICIDAL  Demi tuhan, ini narasi paling berkesan. Gemes,...\n",
      "\n",
      "[8732 rows x 2 columns]\n"
     ]
    }
   ],
   "source": [
    "#Combine non-suicidal datasets from non-suicide keyword query (a) and suicide keyword but annotated non-suicide (b)\n",
    "#Randomly sample 8732 data to match number of suicidal data\n",
    "df_not_suicidal = pd.concat([df_not_suicidal_a, df_not_suicidal_b])\n",
    "df_not_suicidal = df_not_suicidal.sample(n=8732, random_state=42).reset_index(drop=True)\n",
    "print(\"Non-suicidal dataframe:\", df_not_suicidal)"
   ]
  },
  {
   "cell_type": "code",
   "execution_count": 4,
   "id": "60088fa2",
   "metadata": {
    "execution": {
     "iopub.execute_input": "2024-04-11T17:09:44.613129Z",
     "iopub.status.busy": "2024-04-11T17:09:44.612335Z",
     "iopub.status.idle": "2024-04-11T17:09:44.621334Z",
     "shell.execute_reply": "2024-04-11T17:09:44.620183Z"
    },
    "papermill": {
     "duration": 0.021483,
     "end_time": "2024-04-11T17:09:44.623855",
     "exception": false,
     "start_time": "2024-04-11T17:09:44.602372",
     "status": "completed"
    },
    "tags": []
   },
   "outputs": [
    {
     "name": "stdout",
     "output_type": "stream",
     "text": [
      "              label                                        twitterText\n",
      "0          SUICIDAL  \"pengen bunuh diri aja\"\\nyang paling sering te...\n",
      "1          SUICIDAL  Secara tidak langsung punya Fikiran pengen bun...\n",
      "2          SUICIDAL          sejam lalu haha hihi sekarang pengen mati\n",
      "3          SUICIDAL  Baru kelar 1 masalah datang lagi malah lainnya...\n",
      "4          SUICIDAL       fuck bundir aku lagi pgn mabok smpk ga sadar\n",
      "...             ...                                                ...\n",
      "17459  NOT_SUICIDAL  @kkmanti @kangadang1 @Yanuardychandra @floriel...\n",
      "17460  NOT_SUICIDAL  @Don_gindo Kok dek akibat singo di ajar makan ...\n",
      "17461  NOT_SUICIDAL  Mande :\"Jadi mo cium gak\"\\nSurya :\"ntar aja ka...\n",
      "17462  NOT_SUICIDAL  Tuhan...knp z harus kenal,cyg,n nikah dg org y...\n",
      "17463  NOT_SUICIDAL  Demi tuhan, ini narasi paling berkesan. Gemes,...\n",
      "\n",
      "[17464 rows x 2 columns]\n"
     ]
    }
   ],
   "source": [
    "df = pd.concat([df_suicidal, df_not_suicidal])\n",
    "df = df.reset_index(drop=True)\n",
    "print(df)"
   ]
  },
  {
   "cell_type": "code",
   "execution_count": 5,
   "id": "ef77cc60",
   "metadata": {
    "execution": {
     "iopub.execute_input": "2024-04-11T17:09:44.647488Z",
     "iopub.status.busy": "2024-04-11T17:09:44.647177Z",
     "iopub.status.idle": "2024-04-11T17:09:44.673513Z",
     "shell.execute_reply": "2024-04-11T17:09:44.672504Z"
    },
    "papermill": {
     "duration": 0.042865,
     "end_time": "2024-04-11T17:09:44.677859",
     "exception": false,
     "start_time": "2024-04-11T17:09:44.634994",
     "status": "completed"
    },
    "tags": []
   },
   "outputs": [
    {
     "name": "stdout",
     "output_type": "stream",
     "text": [
      "       label                                        twitterText\n",
      "0          1  \"pengen bunuh diri aja\"\\nyang paling sering te...\n",
      "1          1  Secara tidak langsung punya Fikiran pengen bun...\n",
      "2          1          sejam lalu haha hihi sekarang pengen mati\n",
      "3          1  Baru kelar 1 masalah datang lagi malah lainnya...\n",
      "4          1       fuck bundir aku lagi pgn mabok smpk ga sadar\n",
      "...      ...                                                ...\n",
      "17459      0  @kkmanti @kangadang1 @Yanuardychandra @floriel...\n",
      "17460      0  @Don_gindo Kok dek akibat singo di ajar makan ...\n",
      "17461      0  Mande :\"Jadi mo cium gak\"\\nSurya :\"ntar aja ka...\n",
      "17462      0  Tuhan...knp z harus kenal,cyg,n nikah dg org y...\n",
      "17463      0  Demi tuhan, ini narasi paling berkesan. Gemes,...\n",
      "\n",
      "[17464 rows x 2 columns]\n"
     ]
    },
    {
     "name": "stderr",
     "output_type": "stream",
     "text": [
      "/tmp/ipykernel_24/3044191695.py:1: FutureWarning: Downcasting behavior in `replace` is deprecated and will be removed in a future version. To retain the old behavior, explicitly call `result.infer_objects(copy=False)`. To opt-in to the future behavior, set `pd.set_option('future.no_silent_downcasting', True)`\n",
      "  df['label'] = df['label'].replace({'SUICIDAL': 1, 'NOT_SUICIDAL': 0})\n"
     ]
    }
   ],
   "source": [
    "df['label'] = df['label'].replace({'SUICIDAL': 1, 'NOT_SUICIDAL': 0})\n",
    "print(df)"
   ]
  },
  {
   "cell_type": "markdown",
   "id": "c750cc44",
   "metadata": {
    "papermill": {
     "duration": 0.009466,
     "end_time": "2024-04-11T17:09:44.698603",
     "exception": false,
     "start_time": "2024-04-11T17:09:44.689137",
     "status": "completed"
    },
    "tags": []
   },
   "source": [
    "# Libraries"
   ]
  },
  {
   "cell_type": "code",
   "execution_count": 6,
   "id": "e727bb22",
   "metadata": {
    "execution": {
     "iopub.execute_input": "2024-04-11T17:09:44.719158Z",
     "iopub.status.busy": "2024-04-11T17:09:44.718872Z",
     "iopub.status.idle": "2024-04-11T17:10:13.684771Z",
     "shell.execute_reply": "2024-04-11T17:10:13.683705Z"
    },
    "papermill": {
     "duration": 28.978944,
     "end_time": "2024-04-11T17:10:13.687265",
     "exception": false,
     "start_time": "2024-04-11T17:09:44.708321",
     "status": "completed"
    },
    "tags": []
   },
   "outputs": [
    {
     "name": "stdout",
     "output_type": "stream",
     "text": [
      "Collecting indonlp\r\n",
      "  Downloading indoNLP-0.3.4-py3-none-any.whl.metadata (3.4 kB)\r\n",
      "Downloading indoNLP-0.3.4-py3-none-any.whl (121 kB)\r\n",
      "\u001b[2K   \u001b[90m━━━━━━━━━━━━━━━━━━━━━━━━━━━━━━━━━━━━━━━━\u001b[0m \u001b[32m121.9/121.9 kB\u001b[0m \u001b[31m1.1 MB/s\u001b[0m eta \u001b[36m0:00:00\u001b[0m\r\n",
      "\u001b[?25hInstalling collected packages: indonlp\r\n",
      "Successfully installed indonlp-0.3.4\r\n",
      "Collecting unidecode\r\n",
      "  Downloading Unidecode-1.3.8-py3-none-any.whl.metadata (13 kB)\r\n",
      "Downloading Unidecode-1.3.8-py3-none-any.whl (235 kB)\r\n",
      "\u001b[2K   \u001b[90m━━━━━━━━━━━━━━━━━━━━━━━━━━━━━━━━━━━━━━━━\u001b[0m \u001b[32m235.5/235.5 kB\u001b[0m \u001b[31m1.8 MB/s\u001b[0m eta \u001b[36m0:00:00\u001b[0m\r\n",
      "\u001b[?25hInstalling collected packages: unidecode\r\n",
      "Successfully installed unidecode-1.3.8\r\n"
     ]
    }
   ],
   "source": [
    "!pip install indonlp\n",
    "!pip install unidecode"
   ]
  },
  {
   "cell_type": "markdown",
   "id": "e419c4ed",
   "metadata": {
    "papermill": {
     "duration": 0.01074,
     "end_time": "2024-04-11T17:10:13.709573",
     "exception": false,
     "start_time": "2024-04-11T17:10:13.698833",
     "status": "completed"
    },
    "tags": []
   },
   "source": [
    "# Data Pre Processing"
   ]
  },
  {
   "cell_type": "markdown",
   "id": "8d355a10",
   "metadata": {
    "papermill": {
     "duration": 0.010634,
     "end_time": "2024-04-11T17:10:13.730948",
     "exception": false,
     "start_time": "2024-04-11T17:10:13.720314",
     "status": "completed"
    },
    "tags": []
   },
   "source": [
    "1. Transliteration (there's cases makası, whose letter 'i' is a Turkish lowercase, making it seem like a 'new' word. We try to make it uniform to English letters, thus becoming 'makasi')\n",
    "2. Remove newlines"
   ]
  },
  {
   "cell_type": "code",
   "execution_count": 7,
   "id": "b579a12c",
   "metadata": {
    "execution": {
     "iopub.execute_input": "2024-04-11T17:10:13.754352Z",
     "iopub.status.busy": "2024-04-11T17:10:13.754023Z",
     "iopub.status.idle": "2024-04-11T17:10:14.225664Z",
     "shell.execute_reply": "2024-04-11T17:10:14.224857Z"
    },
    "papermill": {
     "duration": 0.486451,
     "end_time": "2024-04-11T17:10:14.228319",
     "exception": false,
     "start_time": "2024-04-11T17:10:13.741868",
     "status": "completed"
    },
    "tags": []
   },
   "outputs": [],
   "source": [
    "from unidecode import unidecode\n",
    "df['twitterText'] = df['twitterText'].apply(unidecode)\n",
    "df['twitterText'] = df['twitterText'].str.replace(\"\\n\", \"\")"
   ]
  },
  {
   "cell_type": "markdown",
   "id": "e4698d1c",
   "metadata": {
    "papermill": {
     "duration": 0.010868,
     "end_time": "2024-04-11T17:10:14.250933",
     "exception": false,
     "start_time": "2024-04-11T17:10:14.240065",
     "status": "completed"
    },
    "tags": []
   },
   "source": [
    "3. Remove Elongation\n",
    "4. Convert Emoji To Indonesian Words"
   ]
  },
  {
   "cell_type": "code",
   "execution_count": 8,
   "id": "51c0273c",
   "metadata": {
    "execution": {
     "iopub.execute_input": "2024-04-11T17:10:14.274381Z",
     "iopub.status.busy": "2024-04-11T17:10:14.274051Z",
     "iopub.status.idle": "2024-04-11T17:10:29.731520Z",
     "shell.execute_reply": "2024-04-11T17:10:29.730072Z"
    },
    "papermill": {
     "duration": 15.471649,
     "end_time": "2024-04-11T17:10:29.733820",
     "exception": false,
     "start_time": "2024-04-11T17:10:14.262171",
     "status": "completed"
    },
    "tags": []
   },
   "outputs": [
    {
     "name": "stdout",
     "output_type": "stream",
     "text": [
      "       label                                        twitterText\n",
      "0          1  \"pengen bunuh diri aja\"yang paling sering teru...\n",
      "1          1  Secara tidak langsung punya Fikiran pengen bun...\n",
      "2          1          sejam lalu haha hihi sekarang pengen mati\n",
      "3          1  Baru kelar 1 masalah datang lagi malah lainnya...\n",
      "4          1       fuck bundir aku lagi pgn mabok smpk ga sadar\n",
      "...      ...                                                ...\n",
      "17459      0  @kkmanti @kangadang1 @Yanuardychandra @floriel...\n",
      "17460      0  @Don_gindo Kok dek akibat singo di ajar makan ...\n",
      "17461      0  Mande :\"Jadi mo cium gak\"Surya :\"ntar aja kalo...\n",
      "17462      0  Tuhan...knp z harus kenal,cyg,n nikah dg org y...\n",
      "17463      0  Demi tuhan, ini narasi paling berkesan. Gemes,...\n",
      "\n",
      "[17464 rows x 2 columns]\n"
     ]
    }
   ],
   "source": [
    "from indoNLP.preprocessing import emoji_to_words, replace_word_elongation, remove_url, pipeline\n",
    "\n",
    "def preprocessing(twitterText):\n",
    "    pipe = pipeline([emoji_to_words, replace_word_elongation, remove_url])\n",
    "    return pipe(twitterText)\n",
    "df['twitterText'] = df['twitterText'].apply(preprocessing)\n",
    "print(df)"
   ]
  },
  {
   "cell_type": "markdown",
   "id": "4d922a46",
   "metadata": {
    "papermill": {
     "duration": 0.011477,
     "end_time": "2024-04-11T17:10:29.757972",
     "exception": false,
     "start_time": "2024-04-11T17:10:29.746495",
     "status": "completed"
    },
    "tags": []
   },
   "source": [
    "5. Formalize Slang Words (Lemmatization)"
   ]
  },
  {
   "cell_type": "code",
   "execution_count": 9,
   "id": "05816939",
   "metadata": {
    "execution": {
     "iopub.execute_input": "2024-04-11T17:10:29.781834Z",
     "iopub.status.busy": "2024-04-11T17:10:29.780953Z",
     "iopub.status.idle": "2024-04-11T17:10:29.876564Z",
     "shell.execute_reply": "2024-04-11T17:10:29.875298Z"
    },
    "papermill": {
     "duration": 0.10994,
     "end_time": "2024-04-11T17:10:29.878898",
     "exception": false,
     "start_time": "2024-04-11T17:10:29.768958",
     "status": "completed"
    },
    "tags": []
   },
   "outputs": [
    {
     "name": "stdout",
     "output_type": "stream",
     "text": [
      "          slang         formal\n",
      "0          woww            wow\n",
      "1         aminn           amin\n",
      "2           met        selamat\n",
      "3        netaas        menetas\n",
      "4       keberpa       keberapa\n",
      "...         ...            ...\n",
      "15001  gataunya  enggak taunya\n",
      "15002      gtau     enggak tau\n",
      "15003     gatau     enggak tau\n",
      "15004     fans2        fan-fan\n",
      "15005   gaharus   enggak harus\n",
      "\n",
      "[15006 rows x 2 columns]\n"
     ]
    }
   ],
   "source": [
    "# Step 1: Read dataset of slang vs formal words\n",
    "# Taken from Colloquial Indonesian Lexicon by Salsabila, Winatmoko, Septriandi, and Jamal\n",
    "# https://ieeexplore.ieee.org/abstract/document/8629151\n",
    "slang_df = pd.read_csv('/kaggle/input/manual-annotation-indo-twitter-suicide/colloquial-indonesian-lexicon.csv', usecols=['slang', 'formal'])\n",
    "print(slang_df)"
   ]
  },
  {
   "cell_type": "code",
   "execution_count": 10,
   "id": "0dffc3d6",
   "metadata": {
    "execution": {
     "iopub.execute_input": "2024-04-11T17:10:29.902747Z",
     "iopub.status.busy": "2024-04-11T17:10:29.902039Z",
     "iopub.status.idle": "2024-04-11T17:10:29.911856Z",
     "shell.execute_reply": "2024-04-11T17:10:29.910927Z"
    },
    "papermill": {
     "duration": 0.023826,
     "end_time": "2024-04-11T17:10:29.913944",
     "exception": false,
     "start_time": "2024-04-11T17:10:29.890118",
     "status": "completed"
    },
    "tags": []
   },
   "outputs": [],
   "source": [
    "# Step 2: Create a dictionary mapping slang words to their normalized versions\n",
    "# Note: Is equivalent to IndoNLP's replace_slang(), but we also added specific suicidal slangs here, which don't exist in the dataset\n",
    "slang_mapping = dict(zip(slang_df['slang'], slang_df['formal']))\n",
    "slang_mapping.update({\n",
    "    'm*ti': 'mati',\n",
    "    'm4ti': 'mati',\n",
    "    'bundir': 'bunuh diri',\n",
    "    'bund1r': 'bunuh diri'\n",
    "})"
   ]
  },
  {
   "cell_type": "code",
   "execution_count": 11,
   "id": "699b0724",
   "metadata": {
    "execution": {
     "iopub.execute_input": "2024-04-11T17:10:29.937562Z",
     "iopub.status.busy": "2024-04-11T17:10:29.937260Z",
     "iopub.status.idle": "2024-04-11T17:10:30.171092Z",
     "shell.execute_reply": "2024-04-11T17:10:30.170338Z"
    },
    "papermill": {
     "duration": 0.248382,
     "end_time": "2024-04-11T17:10:30.173547",
     "exception": false,
     "start_time": "2024-04-11T17:10:29.925165",
     "status": "completed"
    },
    "tags": []
   },
   "outputs": [],
   "source": [
    "import re\n",
    "# Step 3: Compile regular expressions for each slang word\n",
    "slang_patterns = {re.compile(r'\\b' + re.escape(slang) + r'\\b'): normalized for slang, normalized in slang_mapping.items()}"
   ]
  },
  {
   "cell_type": "code",
   "execution_count": 12,
   "id": "01357827",
   "metadata": {
    "execution": {
     "iopub.execute_input": "2024-04-11T17:10:30.197182Z",
     "iopub.status.busy": "2024-04-11T17:10:30.196892Z",
     "iopub.status.idle": "2024-04-11T17:16:23.322472Z",
     "shell.execute_reply": "2024-04-11T17:16:23.321298Z"
    },
    "papermill": {
     "duration": 353.153215,
     "end_time": "2024-04-11T17:16:23.338226",
     "exception": false,
     "start_time": "2024-04-11T17:10:30.185011",
     "status": "completed"
    },
    "tags": []
   },
   "outputs": [
    {
     "name": "stdout",
     "output_type": "stream",
     "text": [
      "<bound method NDFrame.head of        index  label                                        twitterText\n",
      "0          0      1  \"pengin bunuh diri saja\"yang paling sering ter...\n",
      "1          1      1  Secara tidak langsung punya Fikiran pengin bun...\n",
      "2          2      1          sejam lalu haha hihi sekarang pengin mati\n",
      "3          3      1  Baru kelar 1 masalah datang lagi malah lainnya...\n",
      "4          4      1  fuck bunuh diri aku lagi pengin mabok smpk eng...\n",
      "...      ...    ...                                                ...\n",
      "17459  17459      0  @kkmanti @kangadang1 @Yanuardychandra @floriel...\n",
      "17460  17460      0  @Don_gindo Kok dek akibat singo di ajar makan ...\n",
      "17461  17461      0  Mande :\"Jadi mau cium enggak\"Surya :\"entar saj...\n",
      "17462  17462      0  Tuhan...kenapa saja harus kenal,cyg,n nikah de...\n",
      "17463  17463      0  Demi tuhan, ini narasi paling berkesan. Gemes,...\n",
      "\n",
      "[17464 rows x 3 columns]>\n"
     ]
    }
   ],
   "source": [
    "# Step 4: Iterate through the Twitter dataset and replace slang words with normalized versions\n",
    "def replace_slang(text):\n",
    "    for pattern, normalized in slang_patterns.items():\n",
    "        text = pattern.sub(normalized, text)\n",
    "    return text\n",
    "\n",
    "df['twitterText'] = df['twitterText'].apply(replace_slang)\n",
    "df = df.reset_index()\n",
    "print(df.head)"
   ]
  },
  {
   "cell_type": "markdown",
   "id": "e7ab9882",
   "metadata": {
    "papermill": {
     "duration": 0.011061,
     "end_time": "2024-04-11T17:16:23.361101",
     "exception": false,
     "start_time": "2024-04-11T17:16:23.350040",
     "status": "completed"
    },
    "tags": []
   },
   "source": [
    "6. Remove twitter tags (@user)"
   ]
  },
  {
   "cell_type": "code",
   "execution_count": 13,
   "id": "72b66876",
   "metadata": {
    "execution": {
     "iopub.execute_input": "2024-04-11T17:16:23.385232Z",
     "iopub.status.busy": "2024-04-11T17:16:23.384914Z",
     "iopub.status.idle": "2024-04-11T17:16:23.428383Z",
     "shell.execute_reply": "2024-04-11T17:16:23.427468Z"
    },
    "papermill": {
     "duration": 0.058638,
     "end_time": "2024-04-11T17:16:23.430976",
     "exception": false,
     "start_time": "2024-04-11T17:16:23.372338",
     "status": "completed"
    },
    "tags": []
   },
   "outputs": [
    {
     "name": "stdout",
     "output_type": "stream",
     "text": [
      "<bound method NDFrame.head of        index  label                                        twitterText\n",
      "0          0      1  \"pengin bunuh diri saja\"yang paling sering ter...\n",
      "1          1      1  Secara tidak langsung punya Fikiran pengin bun...\n",
      "2          2      1          sejam lalu haha hihi sekarang pengin mati\n",
      "3          3      1  Baru kelar 1 masalah datang lagi malah lainnya...\n",
      "4          4      1  fuck bunuh diri aku lagi pengin mabok smpk eng...\n",
      "...      ...    ...                                                ...\n",
      "17459  17459      0      Habis TL adanya Ribut Terus.Gak ada yang B...\n",
      "17460  17460      0   Kok dek akibat singo di ajar makan 2 buah pis...\n",
      "17461  17461      0  Mande :\"Jadi mau cium enggak\"Surya :\"entar saj...\n",
      "17462  17462      0  Tuhan...kenapa saja harus kenal,cyg,n nikah de...\n",
      "17463  17463      0  Demi tuhan, ini narasi paling berkesan. Gemes,...\n",
      "\n",
      "[17464 rows x 3 columns]>\n"
     ]
    }
   ],
   "source": [
    "def remove_twitter_tag(text):\n",
    "    return re.sub(r'@\\w+', '', text)\n",
    "\n",
    "df['twitterText'] = df['twitterText'].apply(remove_twitter_tag)\n",
    "print(df.head)"
   ]
  },
  {
   "cell_type": "code",
   "execution_count": 14,
   "id": "a6c5873c",
   "metadata": {
    "execution": {
     "iopub.execute_input": "2024-04-11T17:16:23.457582Z",
     "iopub.status.busy": "2024-04-11T17:16:23.457241Z",
     "iopub.status.idle": "2024-04-11T17:16:23.466214Z",
     "shell.execute_reply": "2024-04-11T17:16:23.465332Z"
    },
    "papermill": {
     "duration": 0.024792,
     "end_time": "2024-04-11T17:16:23.468766",
     "exception": false,
     "start_time": "2024-04-11T17:16:23.443974",
     "status": "completed"
    },
    "tags": []
   },
   "outputs": [
    {
     "name": "stdout",
     "output_type": "stream",
     "text": [
      "[1 0]\n"
     ]
    }
   ],
   "source": [
    "print(df['label'].unique())"
   ]
  },
  {
   "cell_type": "markdown",
   "id": "c695e0b5",
   "metadata": {
    "papermill": {
     "duration": 0.011517,
     "end_time": "2024-04-11T17:16:23.492800",
     "exception": false,
     "start_time": "2024-04-11T17:16:23.481283",
     "status": "completed"
    },
    "tags": []
   },
   "source": [
    "# Classify Data"
   ]
  },
  {
   "cell_type": "code",
   "execution_count": 15,
   "id": "3550fbeb",
   "metadata": {
    "execution": {
     "iopub.execute_input": "2024-04-11T17:16:23.517129Z",
     "iopub.status.busy": "2024-04-11T17:16:23.516862Z",
     "iopub.status.idle": "2024-04-11T17:17:23.140323Z",
     "shell.execute_reply": "2024-04-11T17:17:23.139265Z"
    },
    "papermill": {
     "duration": 59.638224,
     "end_time": "2024-04-11T17:17:23.142790",
     "exception": false,
     "start_time": "2024-04-11T17:16:23.504566",
     "status": "completed"
    },
    "tags": []
   },
   "outputs": [
    {
     "data": {
      "application/vnd.jupyter.widget-view+json": {
       "model_id": "9d5fe5869cd4424a92d78ec8fdf3bb33",
       "version_major": 2,
       "version_minor": 0
      },
      "text/plain": [
       "tokenizer_config.json:   0%|          | 0.00/2.00 [00:00<?, ?B/s]"
      ]
     },
     "metadata": {},
     "output_type": "display_data"
    },
    {
     "data": {
      "application/vnd.jupyter.widget-view+json": {
       "model_id": "c9652ea60876400d98f61fb64fee95a0",
       "version_major": 2,
       "version_minor": 0
      },
      "text/plain": [
       "vocab.txt:   0%|          | 0.00/229k [00:00<?, ?B/s]"
      ]
     },
     "metadata": {},
     "output_type": "display_data"
    },
    {
     "data": {
      "application/vnd.jupyter.widget-view+json": {
       "model_id": "211972f0dd744616b98e8b1c785c7572",
       "version_major": 2,
       "version_minor": 0
      },
      "text/plain": [
       "special_tokens_map.json:   0%|          | 0.00/112 [00:00<?, ?B/s]"
      ]
     },
     "metadata": {},
     "output_type": "display_data"
    },
    {
     "data": {
      "application/vnd.jupyter.widget-view+json": {
       "model_id": "c0f8d025c9534124be226a601b0b7e05",
       "version_major": 2,
       "version_minor": 0
      },
      "text/plain": [
       "config.json:   0%|          | 0.00/1.53k [00:00<?, ?B/s]"
      ]
     },
     "metadata": {},
     "output_type": "display_data"
    },
    {
     "data": {
      "application/vnd.jupyter.widget-view+json": {
       "model_id": "d6f217cf4b9a420298003ba0d633d659",
       "version_major": 2,
       "version_minor": 0
      },
      "text/plain": [
       "pytorch_model.bin:   0%|          | 0.00/1.34G [00:00<?, ?B/s]"
      ]
     },
     "metadata": {},
     "output_type": "display_data"
    },
    {
     "name": "stderr",
     "output_type": "stream",
     "text": [
      "/opt/conda/lib/python3.10/site-packages/torch/_utils.py:831: UserWarning: TypedStorage is deprecated. It will be removed in the future and UntypedStorage will be the only storage class. This should only matter to you if you are using storages directly.  To access UntypedStorage directly, use tensor.untyped_storage() instead of tensor.storage()\n",
      "  return self.fget.__get__(instance, owner)()\n"
     ]
    }
   ],
   "source": [
    "# Load the IndobertModel and tokenizer\n",
    "from transformers import BertTokenizer, BertModel\n",
    "model_name = 'indobenchmark/indobert-large-p2'\n",
    "tokenizer = BertTokenizer.from_pretrained(model_name)\n",
    "bert_model = BertModel.from_pretrained(model_name)"
   ]
  },
  {
   "cell_type": "code",
   "execution_count": 16,
   "id": "80a2ec90",
   "metadata": {
    "execution": {
     "iopub.execute_input": "2024-04-11T17:17:23.171341Z",
     "iopub.status.busy": "2024-04-11T17:17:23.170879Z",
     "iopub.status.idle": "2024-04-11T17:17:23.176854Z",
     "shell.execute_reply": "2024-04-11T17:17:23.175926Z"
    },
    "papermill": {
     "duration": 0.021119,
     "end_time": "2024-04-11T17:17:23.178701",
     "exception": false,
     "start_time": "2024-04-11T17:17:23.157582",
     "status": "completed"
    },
    "tags": []
   },
   "outputs": [],
   "source": [
    "# Prepare the data\n",
    "texts = df['twitterText'].tolist()\n",
    "labels = df['label'].tolist()"
   ]
  },
  {
   "cell_type": "code",
   "execution_count": 17,
   "id": "2742c1b5",
   "metadata": {
    "execution": {
     "iopub.execute_input": "2024-04-11T17:17:23.205805Z",
     "iopub.status.busy": "2024-04-11T17:17:23.205518Z",
     "iopub.status.idle": "2024-04-11T17:17:24.554813Z",
     "shell.execute_reply": "2024-04-11T17:17:24.553997Z"
    },
    "papermill": {
     "duration": 1.36551,
     "end_time": "2024-04-11T17:17:24.557549",
     "exception": false,
     "start_time": "2024-04-11T17:17:23.192039",
     "status": "completed"
    },
    "tags": []
   },
   "outputs": [],
   "source": [
    "from sklearn.model_selection import train_test_split\n",
    "# Split the data into train and test sets 8:2\n",
    "train_texts, test_texts, train_labels, test_labels = train_test_split(texts, labels, test_size=0.2, random_state=42)"
   ]
  },
  {
   "cell_type": "code",
   "execution_count": 18,
   "id": "ab46e967",
   "metadata": {
    "execution": {
     "iopub.execute_input": "2024-04-11T17:17:24.586214Z",
     "iopub.status.busy": "2024-04-11T17:17:24.585681Z",
     "iopub.status.idle": "2024-04-11T17:17:24.677215Z",
     "shell.execute_reply": "2024-04-11T17:17:24.676414Z"
    },
    "papermill": {
     "duration": 0.107595,
     "end_time": "2024-04-11T17:17:24.679207",
     "exception": false,
     "start_time": "2024-04-11T17:17:24.571612",
     "status": "completed"
    },
    "tags": []
   },
   "outputs": [],
   "source": [
    "import torch\n",
    "\n",
    "if torch.cuda.is_available():\n",
    "    device = torch.device(\"cuda\")\n",
    "else:\n",
    "    print('No GPU available, using the CPU instead.')\n",
    "    device = torch.device(\"cpu\")\n",
    "\n",
    "def tokenize_and_create_input_tensors(texts):\n",
    "    input_ids = []\n",
    "    attention_masks = []\n",
    "\n",
    "    for text in texts:\n",
    "        encoded_dict = tokenizer.encode_plus(\n",
    "            text,\n",
    "            add_special_tokens=True,\n",
    "            max_length=128,  # You can adjust the max_length as per your needs\n",
    "            padding='max_length',\n",
    "            truncation=True,\n",
    "            return_attention_mask=True,\n",
    "            return_tensors='pt'\n",
    "        )\n",
    "\n",
    "        input_ids.append(encoded_dict['input_ids'])\n",
    "        attention_masks.append(encoded_dict['attention_mask'])\n",
    "\n",
    "    # Convert the lists to tensors\n",
    "    input_ids = torch.cat(input_ids, dim=0)\n",
    "    attention_masks = torch.cat(attention_masks, dim=0)\n",
    "\n",
    "    return input_ids, attention_masks"
   ]
  },
  {
   "cell_type": "code",
   "execution_count": 19,
   "id": "557c1c53",
   "metadata": {
    "execution": {
     "iopub.execute_input": "2024-04-11T17:17:24.706792Z",
     "iopub.status.busy": "2024-04-11T17:17:24.706495Z",
     "iopub.status.idle": "2024-04-11T17:17:42.637142Z",
     "shell.execute_reply": "2024-04-11T17:17:42.635856Z"
    },
    "papermill": {
     "duration": 17.947547,
     "end_time": "2024-04-11T17:17:42.639904",
     "exception": false,
     "start_time": "2024-04-11T17:17:24.692357",
     "status": "completed"
    },
    "tags": []
   },
   "outputs": [
    {
     "name": "stdout",
     "output_type": "stream",
     "text": [
      "Before:\n",
      "torch.Size([13971, 128])\n",
      "torch.Size([13971, 128])\n",
      "torch.Size([13971])\n",
      "After:\n",
      "torch.Size([13971, 128])\n",
      "torch.Size([13971, 128])\n",
      "torch.Size([13971])\n"
     ]
    }
   ],
   "source": [
    "train_input_ids, train_attention_masks = tokenize_and_create_input_tensors(train_texts)\n",
    "train_labels = torch.tensor(train_labels).to(device)\n",
    "\n",
    "print(\"Before:\")\n",
    "print(train_input_ids.shape)\n",
    "print(train_attention_masks.shape)\n",
    "print(train_labels.shape)\n",
    "\n",
    "train_input_ids = train_input_ids.squeeze(dim=1).to(device)\n",
    "train_attention_masks = train_attention_masks.squeeze(dim=1).to(device)\n",
    "\n",
    "print(\"After:\")\n",
    "print(train_input_ids.shape)\n",
    "print(train_attention_masks.shape)\n",
    "print(train_labels.shape)"
   ]
  },
  {
   "cell_type": "code",
   "execution_count": 20,
   "id": "8940ea15",
   "metadata": {
    "execution": {
     "iopub.execute_input": "2024-04-11T17:17:42.668872Z",
     "iopub.status.busy": "2024-04-11T17:17:42.668532Z",
     "iopub.status.idle": "2024-04-11T17:17:47.141580Z",
     "shell.execute_reply": "2024-04-11T17:17:47.140624Z"
    },
    "papermill": {
     "duration": 4.48982,
     "end_time": "2024-04-11T17:17:47.144045",
     "exception": false,
     "start_time": "2024-04-11T17:17:42.654225",
     "status": "completed"
    },
    "tags": []
   },
   "outputs": [
    {
     "name": "stdout",
     "output_type": "stream",
     "text": [
      "After:\n",
      "torch.Size([3493, 128])\n",
      "torch.Size([3493, 128])\n",
      "torch.Size([3493])\n"
     ]
    }
   ],
   "source": [
    "test_input_ids, test_attention_masks = tokenize_and_create_input_tensors(test_texts)\n",
    "test_labels = torch.tensor(test_labels).to(device)\n",
    "\n",
    "test_input_ids = test_input_ids.squeeze(dim=1).to(device)\n",
    "test_attention_masks = test_attention_masks.squeeze(dim=1).to(device)\n",
    "\n",
    "print(\"After:\")\n",
    "print(test_input_ids.shape)\n",
    "print(test_attention_masks.shape)\n",
    "print(test_labels.shape)"
   ]
  },
  {
   "cell_type": "code",
   "execution_count": 21,
   "id": "bb0dfb47",
   "metadata": {
    "execution": {
     "iopub.execute_input": "2024-04-11T17:17:47.172109Z",
     "iopub.status.busy": "2024-04-11T17:17:47.171802Z",
     "iopub.status.idle": "2024-04-11T17:17:47.230665Z",
     "shell.execute_reply": "2024-04-11T17:17:47.229635Z"
    },
    "papermill": {
     "duration": 0.075213,
     "end_time": "2024-04-11T17:17:47.233326",
     "exception": false,
     "start_time": "2024-04-11T17:17:47.158113",
     "status": "completed"
    },
    "tags": []
   },
   "outputs": [],
   "source": [
    "torch.save(train_input_ids, '/kaggle/working/train_input_ids.pt')\n",
    "torch.save(train_attention_masks, '/kaggle/working/train_attention_masks.pt')\n",
    "torch.save(train_labels, '/kaggle/working/train_labels.pt')\n",
    "\n",
    "torch.save(test_input_ids, '/kaggle/working/test_input_ids.pt')\n",
    "torch.save(test_attention_masks, '/kaggle/working/test_attention_masks.pt')\n",
    "torch.save(test_labels, '/kaggle/working/test_labels.pt')"
   ]
  },
  {
   "cell_type": "code",
   "execution_count": 22,
   "id": "88a85a5e",
   "metadata": {
    "execution": {
     "iopub.execute_input": "2024-04-11T17:17:47.261780Z",
     "iopub.status.busy": "2024-04-11T17:17:47.261367Z",
     "iopub.status.idle": "2024-04-11T17:17:47.271576Z",
     "shell.execute_reply": "2024-04-11T17:17:47.270711Z"
    },
    "papermill": {
     "duration": 0.02614,
     "end_time": "2024-04-11T17:17:47.273740",
     "exception": false,
     "start_time": "2024-04-11T17:17:47.247600",
     "status": "completed"
    },
    "tags": []
   },
   "outputs": [],
   "source": [
    "import torch.nn as nn\n",
    "import torch.nn.functional as F\n",
    "\n",
    "class BertCNNClassifier(nn.Module):\n",
    "    def __init__(self, bert_model, num_filters, kernel_sizes, num_classes):\n",
    "        super(BertCNNClassifier, self).__init__()\n",
    "        self.bert = bert_model\n",
    "        self.conv1d = nn.ModuleList([nn.Conv1d(bert_model.config.hidden_size, num_filters, kernel_size, bias=True) for kernel_size in kernel_sizes])\n",
    "        self.dropout = nn.Dropout(0.45)\n",
    "        self.fc = nn.Linear(len(kernel_sizes) * num_filters, num_classes, bias=True)\n",
    "\n",
    "    def forward(self, input_ids, attention_mask):\n",
    "        token_type_ids = torch.zeros_like(input_ids)  # Create token_type_ids tensor\n",
    "        outputs = self.bert(input_ids=input_ids, attention_mask=attention_mask, token_type_ids=token_type_ids)\n",
    "        last_hidden_state = outputs[0].permute(0, 2, 1)  # (batch_size, hidden_size, seq_len)\n",
    "\n",
    "        conved = [torch.relu(conv(last_hidden_state)) for conv in self.conv1d]  # Apply convolution to each kernel\n",
    "        pooled = [F.max_pool1d(conv, conv.shape[2]).squeeze(2) for conv in conved]  # Max-over-time pooling\n",
    "        cat = self.dropout(torch.cat(pooled, dim=1))  # Concatenate pooled outputs and apply dropout\n",
    "\n",
    "        logits = self.fc(cat)  # Apply linear layer for classification\n",
    "        return logits"
   ]
  },
  {
   "cell_type": "code",
   "execution_count": 23,
   "id": "0b4de0ee",
   "metadata": {
    "execution": {
     "iopub.execute_input": "2024-04-11T17:17:47.303693Z",
     "iopub.status.busy": "2024-04-11T17:17:47.303050Z",
     "iopub.status.idle": "2024-04-11T17:17:47.763081Z",
     "shell.execute_reply": "2024-04-11T17:17:47.762225Z"
    },
    "papermill": {
     "duration": 0.477323,
     "end_time": "2024-04-11T17:17:47.765355",
     "exception": false,
     "start_time": "2024-04-11T17:17:47.288032",
     "status": "completed"
    },
    "tags": []
   },
   "outputs": [],
   "source": [
    "num_filters = 700  # Number of filters for each kernel size\n",
    "kernel_sizes = [2, 3, 4]  # List of kernel sizes\n",
    "num_classes = 2\n",
    "\n",
    "# Initialize the CNN model\n",
    "model = BertCNNClassifier(bert_model, num_filters, kernel_sizes, num_classes).to(device)"
   ]
  },
  {
   "cell_type": "code",
   "execution_count": 24,
   "id": "4b2e2172",
   "metadata": {
    "execution": {
     "iopub.execute_input": "2024-04-11T17:17:47.794820Z",
     "iopub.status.busy": "2024-04-11T17:17:47.794252Z",
     "iopub.status.idle": "2024-04-11T17:17:47.801602Z",
     "shell.execute_reply": "2024-04-11T17:17:47.800739Z"
    },
    "papermill": {
     "duration": 0.023838,
     "end_time": "2024-04-11T17:17:47.803522",
     "exception": false,
     "start_time": "2024-04-11T17:17:47.779684",
     "status": "completed"
    },
    "tags": []
   },
   "outputs": [],
   "source": [
    "# Define the loss function and optimizer\n",
    "criterion = nn.CrossEntropyLoss()\n",
    "optimizer = torch.optim.Adam(model.parameters(), lr=2.45e-5)"
   ]
  },
  {
   "cell_type": "code",
   "execution_count": 25,
   "id": "8cef7dee",
   "metadata": {
    "execution": {
     "iopub.execute_input": "2024-04-11T17:17:47.832351Z",
     "iopub.status.busy": "2024-04-11T17:17:47.831617Z",
     "iopub.status.idle": "2024-04-11T17:17:47.837232Z",
     "shell.execute_reply": "2024-04-11T17:17:47.836307Z"
    },
    "papermill": {
     "duration": 0.022365,
     "end_time": "2024-04-11T17:17:47.839182",
     "exception": false,
     "start_time": "2024-04-11T17:17:47.816817",
     "status": "completed"
    },
    "tags": []
   },
   "outputs": [],
   "source": [
    "from torch.utils.data import TensorDataset, DataLoader, RandomSampler, SequentialSampler\n",
    "\n",
    "# Create TensorDatasets and DataLoaders\n",
    "batch_size = 32\n",
    "\n",
    "train_data = TensorDataset(train_input_ids, train_attention_masks, train_labels)\n",
    "train_sampler = RandomSampler(train_data)\n",
    "train_dataloader = DataLoader(train_data, sampler=train_sampler, batch_size=batch_size)"
   ]
  },
  {
   "cell_type": "code",
   "execution_count": 26,
   "id": "6f5bc672",
   "metadata": {
    "execution": {
     "iopub.execute_input": "2024-04-11T17:17:47.868116Z",
     "iopub.status.busy": "2024-04-11T17:17:47.867827Z",
     "iopub.status.idle": "2024-04-11T17:17:47.872481Z",
     "shell.execute_reply": "2024-04-11T17:17:47.871573Z"
    },
    "papermill": {
     "duration": 0.021575,
     "end_time": "2024-04-11T17:17:47.874808",
     "exception": false,
     "start_time": "2024-04-11T17:17:47.853233",
     "status": "completed"
    },
    "tags": []
   },
   "outputs": [
    {
     "name": "stdout",
     "output_type": "stream",
     "text": [
      "437\n"
     ]
    }
   ],
   "source": [
    "print(len(train_dataloader)) # number of batches"
   ]
  },
  {
   "cell_type": "markdown",
   "id": "8c85158c",
   "metadata": {
    "papermill": {
     "duration": 0.013767,
     "end_time": "2024-04-11T17:17:47.902429",
     "exception": false,
     "start_time": "2024-04-11T17:17:47.888662",
     "status": "completed"
    },
    "tags": []
   },
   "source": [
    "Training for 4 epochs"
   ]
  },
  {
   "cell_type": "code",
   "execution_count": 27,
   "id": "f60fe417",
   "metadata": {
    "execution": {
     "iopub.execute_input": "2024-04-11T17:17:47.931833Z",
     "iopub.status.busy": "2024-04-11T17:17:47.931488Z",
     "iopub.status.idle": "2024-04-11T18:25:56.369635Z",
     "shell.execute_reply": "2024-04-11T18:25:56.368431Z"
    },
    "papermill": {
     "duration": 4088.455844,
     "end_time": "2024-04-11T18:25:56.372153",
     "exception": false,
     "start_time": "2024-04-11T17:17:47.916309",
     "status": "completed"
    },
    "tags": []
   },
   "outputs": [
    {
     "name": "stdout",
     "output_type": "stream",
     "text": [
      "epoch  0  batch  0   2024-04-11 17:17:48.149234\n",
      "epoch  0  batch  100   2024-04-11 17:21:39.650346\n",
      "epoch  0  batch  200   2024-04-11 17:25:33.813225\n",
      "epoch  0  batch  300   2024-04-11 17:29:27.962844\n",
      "epoch  0  batch  400   2024-04-11 17:33:21.925188\n",
      "epoch  1  batch  0   2024-04-11 17:34:47.464140\n",
      "epoch  1  batch  100   2024-04-11 17:38:40.750523\n",
      "epoch  1  batch  200   2024-04-11 17:42:34.718066\n",
      "epoch  1  batch  300   2024-04-11 17:46:28.734637\n",
      "epoch  1  batch  400   2024-04-11 17:50:22.288538\n",
      "epoch  2  batch  0   2024-04-11 17:51:47.894972\n",
      "epoch  2  batch  100   2024-04-11 17:55:41.627518\n",
      "epoch  2  batch  200   2024-04-11 17:59:35.499760\n",
      "epoch  2  batch  300   2024-04-11 18:03:29.372878\n",
      "epoch  2  batch  400   2024-04-11 18:07:23.358484\n",
      "epoch  3  batch  0   2024-04-11 18:08:49.147774\n",
      "epoch  3  batch  100   2024-04-11 18:12:43.551056\n",
      "epoch  3  batch  200   2024-04-11 18:16:37.505906\n",
      "epoch  3  batch  300   2024-04-11 18:20:31.192493\n",
      "epoch  3  batch  400   2024-04-11 18:24:24.805516\n"
     ]
    }
   ],
   "source": [
    "import datetime\n",
    "import gc\n",
    "# Train the model\n",
    "\n",
    "def save_ckp(state):\n",
    "    f_path = '/kaggle/working/' + 'checkpoint_epoch' + str(state['epoch']) + '.pt'\n",
    "    torch.save(state, f_path)\n",
    "\n",
    "num_epoch = 4\n",
    "gc.collect()\n",
    "torch.cuda.empty_cache()\n",
    "\n",
    "for i in range(num_epoch):\n",
    "  num_batch = 0\n",
    "  for batch in train_dataloader:\n",
    "    if (num_batch % 100 == 0):\n",
    "      print('epoch ', i, ' batch ', num_batch, ' ', datetime.datetime.now())\n",
    "    input_ids, attention_masks, labels = batch\n",
    "    outputs = model(input_ids, attention_masks)\n",
    "    loss = criterion(outputs, labels)\n",
    "\n",
    "    optimizer.zero_grad()\n",
    "    loss.backward()\n",
    "    optimizer.step()\n",
    "    num_batch+=1\n",
    "    del input_ids\n",
    "    del attention_masks\n",
    "    del labels\n",
    "    del outputs\n",
    "    gc.collect()\n",
    "    torch.cuda.empty_cache()\n",
    "\n",
    "checkpoint = {\n",
    "    'epoch': num_epoch - 1,\n",
    "    'state_dict': model.state_dict(),\n",
    "    'optimizer': optimizer.state_dict()\n",
    "}\n",
    "save_ckp(checkpoint)\n",
    "\n",
    "del train_data\n",
    "del train_sampler\n",
    "del train_dataloader\n",
    "gc.collect()\n",
    "torch.cuda.empty_cache()"
   ]
  },
  {
   "cell_type": "code",
   "execution_count": 28,
   "id": "02c0b8db",
   "metadata": {
    "execution": {
     "iopub.execute_input": "2024-04-11T18:25:58.725703Z",
     "iopub.status.busy": "2024-04-11T18:25:58.724332Z",
     "iopub.status.idle": "2024-04-11T18:27:17.627871Z",
     "shell.execute_reply": "2024-04-11T18:27:17.626897Z"
    },
    "papermill": {
     "duration": 78.972065,
     "end_time": "2024-04-11T18:27:17.646525",
     "exception": false,
     "start_time": "2024-04-11T18:25:58.674460",
     "status": "completed"
    },
    "tags": []
   },
   "outputs": [
    {
     "name": "stdout",
     "output_type": "stream",
     "text": [
      "Accuracy: 0.8992\n",
      "Recall: 0.8737\n",
      "Precision: 0.9228\n",
      "F1-Score: 0.8976\n"
     ]
    },
    {
     "data": {
      "text/plain": [
       "0"
      ]
     },
     "execution_count": 28,
     "metadata": {},
     "output_type": "execute_result"
    }
   ],
   "source": [
    "from sklearn.metrics import accuracy_score, recall_score, precision_score, f1_score\n",
    "import torch.nn.functional as F\n",
    "\n",
    "# Evaluate the model on the test set\n",
    "model.eval()\n",
    "test_preds = []\n",
    "test_proba = []\n",
    "test_labels_list = []\n",
    "\n",
    "test_data = TensorDataset(test_input_ids, test_attention_masks, test_labels)\n",
    "test_sampler = SequentialSampler(test_data)\n",
    "test_dataloader = DataLoader(test_data, sampler=test_sampler, batch_size=batch_size)\n",
    "\n",
    "with torch.no_grad():\n",
    "    for batch in test_dataloader:\n",
    "        input_ids, attention_masks, labels = batch\n",
    "        outputs = model(input_ids, attention_masks)\n",
    "        preds = torch.argmax(outputs, dim=1)\n",
    "        test_preds.extend(preds.tolist())\n",
    "        test_proba.extend(F.softmax(outputs, dim=1)[:, 1])\n",
    "        test_labels_list.extend(labels.tolist())\n",
    "\n",
    "accuracy = accuracy_score(test_labels_list, test_preds)\n",
    "recall = recall_score(test_labels_list, test_preds)\n",
    "precision = precision_score(test_labels_list, test_preds)\n",
    "f1 = f1_score(test_labels_list, test_preds)\n",
    "test_proba = [i.cpu().tolist() for i in test_proba]\n",
    "\n",
    "print(f\"Accuracy: {accuracy:.4f}\")\n",
    "print(f\"Recall: {recall:.4f}\")\n",
    "print(f\"Precision: {precision:.4f}\")\n",
    "print(f\"F1-Score: {f1:.4f}\")\n",
    "\n",
    "del test_data\n",
    "del test_sampler\n",
    "del test_dataloader\n",
    "gc.collect()\n",
    "torch.cuda.empty_cache()\n",
    "gc.collect()"
   ]
  },
  {
   "cell_type": "code",
   "execution_count": 29,
   "id": "e5f96e56",
   "metadata": {
    "execution": {
     "iopub.execute_input": "2024-04-11T18:27:17.679814Z",
     "iopub.status.busy": "2024-04-11T18:27:17.679173Z",
     "iopub.status.idle": "2024-04-11T18:27:18.272334Z",
     "shell.execute_reply": "2024-04-11T18:27:18.271309Z"
    },
    "papermill": {
     "duration": 0.612179,
     "end_time": "2024-04-11T18:27:18.274754",
     "exception": false,
     "start_time": "2024-04-11T18:27:17.662575",
     "status": "completed"
    },
    "tags": []
   },
   "outputs": [
    {
     "data": {
      "image/png": "[encoded data removed]",
      "text/plain": [
       "<Figure size 640x480 with 2 Axes>"
      ]
     },
     "metadata": {},
     "output_type": "display_data"
    }
   ],
   "source": [
    "from sklearn.metrics import confusion_matrix\n",
    "import seaborn as sns\n",
    "import matplotlib.pyplot as plt\n",
    "\n",
    "cf_matrix = confusion_matrix(test_labels_list, test_preds)\n",
    "\n",
    "cf = sns.heatmap(cf_matrix, annot=True, fmt='d')\n",
    "cf.xaxis.set_ticklabels(['Negative', 'Positive'])\n",
    "cf.set_xlabel('Predicted Label')\n",
    "cf.yaxis.set_ticklabels(['Negative', 'Positive'])\n",
    "cf.set_ylabel('True Label')\n",
    "cf.set_title(\"Confusion Matrix for Indonesian Language Suicidal Posts Classification\", pad=20)\n",
    "\n",
    "plt.show()"
   ]
  },
  {
   "cell_type": "code",
   "execution_count": 30,
   "id": "b6ab377f",
   "metadata": {
    "execution": {
     "iopub.execute_input": "2024-04-11T18:27:18.311840Z",
     "iopub.status.busy": "2024-04-11T18:27:18.310854Z",
     "iopub.status.idle": "2024-04-11T18:27:18.682717Z",
     "shell.execute_reply": "2024-04-11T18:27:18.681763Z"
    },
    "papermill": {
     "duration": 0.392737,
     "end_time": "2024-04-11T18:27:18.685103",
     "exception": false,
     "start_time": "2024-04-11T18:27:18.292366",
     "status": "completed"
    },
    "tags": []
   },
   "outputs": [
    {
     "name": "stdout",
     "output_type": "stream",
     "text": [
      "ROC AUC Score:\n",
      "0.9665101797381016\n"
     ]
    },
    {
     "data": {
      "image/png": "[encoded data removed]",
      "text/plain": [
       "<Figure size 500x500 with 1 Axes>"
      ]
     },
     "metadata": {},
     "output_type": "display_data"
    }
   ],
   "source": [
    "from sklearn.metrics import roc_auc_score, roc_curve, RocCurveDisplay\n",
    "\n",
    "def plot_sklearn_roc_curve(y_real, y_pred, roc_score):\n",
    "    fpr, tpr, _ = roc_curve(y_real, y_pred)\n",
    "    df_fpr = pd.DataFrame(fpr)\n",
    "    df_fpr.to_csv(\"/kaggle/working/fpr.csv\")\n",
    "    df_tpr = pd.DataFrame(tpr)\n",
    "    df_tpr.to_csv(\"/kaggle/working/tpr.csv\")\n",
    "    print(\"ROC AUC Score:\")\n",
    "    print(roc_score)\n",
    "    roc_display = RocCurveDisplay(fpr=fpr, tpr=tpr, roc_auc=roc_score, estimator_name='ROC Curve').plot()\n",
    "    roc_display.figure_.set_size_inches(5,5)\n",
    "    plt.plot([0, 1], [0, 1], color='green', linestyle='dashed')\n",
    "    plt.title(\"ROC Curve for Indonesian Language Suicidal Posts Classification\")\n",
    "\n",
    "roc_score = roc_auc_score(test_labels_list, test_proba)\n",
    "plot_sklearn_roc_curve(test_labels_list, test_proba, roc_score)"
   ]
  }
 ],
 "metadata": {
  "kaggle": {
   "accelerator": "nvidiaTeslaT4",
   "dataSources": [
    {
     "datasetId": 4750496,
     "sourceId": 8083396,
     "sourceType": "datasetVersion"
    }
   ],
   "isGpuEnabled": true,
   "isInternetEnabled": true,
   "language": "python",
   "sourceType": "notebook"
  },
  "kernelspec": {
   "display_name": "Python 3",
   "language": "python",
   "name": "python3"
  },
  "language_info": {
   "codemirror_mode": {
    "name": "ipython",
    "version": 3
   },
   "file_extension": ".py",
   "mimetype": "text/x-python",
   "name": "python",
   "nbconvert_exporter": "python",
   "pygments_lexer": "ipython3",
   "version": "3.10.13"
  },
  "papermill": {
   "default_parameters": {},
   "duration": 4661.60398,
   "end_time": "2024-04-11T18:27:21.494348",
   "environment_variables": {},
   "exception": null,
   "input_path": "__notebook__.ipynb",
   "output_path": "__notebook__.ipynb",
   "parameters": {},
   "start_time": "2024-04-11T17:09:39.890368",
   "version": "2.5.0"
  },
  "widgets": {
   "application/vnd.jupyter.widget-state+json": {
    "state": {
     "094456b05d2f48c58d02072336657b6b": {
      "model_module": "@jupyter-widgets/controls",
      "model_module_version": "1.5.0",
      "model_name": "ProgressStyleModel",
      "state": {
       "_model_module": "@jupyter-widgets/controls",
       "_model_module_version": "1.5.0",
       "_model_name": "ProgressStyleModel",
       "_view_count": null,
       "_view_module": "@jupyter-widgets/base",
       "_view_module_version": "1.2.0",
       "_view_name": "StyleView",
       "bar_color": null,
       "description_width": ""
      }
     },
     "0a8108cbc90e4e1982fdbac6b2537b43": {
      "model_module": "@jupyter-widgets/controls",
      "model_module_version": "1.5.0",
      "model_name": "DescriptionStyleModel",
      "state": {
       "_model_module": "@jupyter-widgets/controls",
       "_model_module_version": "1.5.0",
       "_model_name": "DescriptionStyleModel",
       "_view_count": null,
       "_view_module": "@jupyter-widgets/base",
       "_view_module_version": "1.2.0",
       "_view_name": "StyleView",
       "description_width": ""
      }
     },
     "0cd667685dd049148362af48f9840a3f": {
      "model_module": "@jupyter-widgets/controls",
      "model_module_version": "1.5.0",
      "model_name": "HTMLModel",
      "state": {
       "_dom_classes": [],
       "_model_module": "@jupyter-widgets/controls",
       "_model_module_version": "1.5.0",
       "_model_name": "HTMLModel",
       "_view_count": null,
       "_view_module": "@jupyter-widgets/controls",
       "_view_module_version": "1.5.0",
       "_view_name": "HTMLView",
       "description": "",
       "description_tooltip": null,
       "layout": "IPY_MODEL_9c473176697b4df0a629f8f9572c8d0f",
       "placeholder": "​",
       "style": "IPY_MODEL_0a8108cbc90e4e1982fdbac6b2537b43",
       "value": " 1.34G/1.34G [00:48&lt;00:00, 25.3MB/s]"
      }
     },
     "1910e144d0424410b8883ee50a2bd489": {
      "model_module": "@jupyter-widgets/controls",
      "model_module_version": "1.5.0",
      "model_name": "DescriptionStyleModel",
      "state": {
       "_model_module": "@jupyter-widgets/controls",
       "_model_module_version": "1.5.0",
       "_model_name": "DescriptionStyleModel",
       "_view_count": null,
       "_view_module": "@jupyter-widgets/base",
       "_view_module_version": "1.2.0",
       "_view_name": "StyleView",
       "description_width": ""
      }
     },
     "1aa3e616cc4a4fb387517b92d8b4ea4c": {
      "model_module": "@jupyter-widgets/controls",
      "model_module_version": "1.5.0",
      "model_name": "DescriptionStyleModel",
      "state": {
       "_model_module": "@jupyter-widgets/controls",
       "_model_module_version": "1.5.0",
       "_model_name": "DescriptionStyleModel",
       "_view_count": null,
       "_view_module": "@jupyter-widgets/base",
       "_view_module_version": "1.2.0",
       "_view_name": "StyleView",
       "description_width": ""
      }
     },
     "1b90e15df8004140a843e7a4a8cb16e9": {
      "model_module": "@jupyter-widgets/base",
      "model_module_version": "1.2.0",
      "model_name": "LayoutModel",
      "state": {
       "_model_module": "@jupyter-widgets/base",
       "_model_module_version": "1.2.0",
       "_model_name": "LayoutModel",
       "_view_count": null,
       "_view_module": "@jupyter-widgets/base",
       "_view_module_version": "1.2.0",
       "_view_name": "LayoutView",
       "align_content": null,
       "align_items": null,
       "align_self": null,
       "border": null,
       "bottom": null,
       "display": null,
       "flex": null,
       "flex_flow": null,
       "grid_area": null,
       "grid_auto_columns": null,
       "grid_auto_flow": null,
       "grid_auto_rows": null,
       "grid_column": null,
       "grid_gap": null,
       "grid_row": null,
       "grid_template_areas": null,
       "grid_template_columns": null,
       "grid_template_rows": null,
       "height": null,
       "justify_content": null,
       "justify_items": null,
       "left": null,
       "margin": null,
       "max_height": null,
       "max_width": null,
       "min_height": null,
       "min_width": null,
       "object_fit": null,
       "object_position": null,
       "order": null,
       "overflow": null,
       "overflow_x": null,
       "overflow_y": null,
       "padding": null,
       "right": null,
       "top": null,
       "visibility": null,
       "width": null
      }
     },
     "1d98b31a027d40e09c8744485026f50d": {
      "model_module": "@jupyter-widgets/controls",
      "model_module_version": "1.5.0",
      "model_name": "DescriptionStyleModel",
      "state": {
       "_model_module": "@jupyter-widgets/controls",
       "_model_module_version": "1.5.0",
       "_model_name": "DescriptionStyleModel",
       "_view_count": null,
       "_view_module": "@jupyter-widgets/base",
       "_view_module_version": "1.2.0",
       "_view_name": "StyleView",
       "description_width": ""
      }
     },
     "1f038051ecbf4703b959a487aa474fb8": {
      "model_module": "@jupyter-widgets/controls",
      "model_module_version": "1.5.0",
      "model_name": "HTMLModel",
      "state": {
       "_dom_classes": [],
       "_model_module": "@jupyter-widgets/controls",
       "_model_module_version": "1.5.0",
       "_model_name": "HTMLModel",
       "_view_count": null,
       "_view_module": "@jupyter-widgets/controls",
       "_view_module_version": "1.5.0",
       "_view_name": "HTMLView",
       "description": "",
       "description_tooltip": null,
       "layout": "IPY_MODEL_790b581bcf3346f7807ac63647b114cb",
       "placeholder": "​",
       "style": "IPY_MODEL_6dd14e6cbcb74c9f8f1ab63375cce95d",
       "value": "config.json: 100%"
      }
     },
     "211972f0dd744616b98e8b1c785c7572": {
      "model_module": "@jupyter-widgets/controls",
      "model_module_version": "1.5.0",
      "model_name": "HBoxModel",
      "state": {
       "_dom_classes": [],
       "_model_module": "@jupyter-widgets/controls",
       "_model_module_version": "1.5.0",
       "_model_name": "HBoxModel",
       "_view_count": null,
       "_view_module": "@jupyter-widgets/controls",
       "_view_module_version": "1.5.0",
       "_view_name": "HBoxView",
       "box_style": "",
       "children": [
        "IPY_MODEL_67ae1f58536640caa5bd81ae7e7ad765",
        "IPY_MODEL_fb5f38f3fbaf4c8ea3b9fb362aea71d0",
        "IPY_MODEL_4286a4a615874c16aa98165c3d3840fd"
       ],
       "layout": "IPY_MODEL_dd8d6d677a314dc9afcb8270ab66b924"
      }
     },
     "2ccb220683a84abda68bbe6173b74bac": {
      "model_module": "@jupyter-widgets/base",
      "model_module_version": "1.2.0",
      "model_name": "LayoutModel",
      "state": {
       "_model_module": "@jupyter-widgets/base",
       "_model_module_version": "1.2.0",
       "_model_name": "LayoutModel",
       "_view_count": null,
       "_view_module": "@jupyter-widgets/base",
       "_view_module_version": "1.2.0",
       "_view_name": "LayoutView",
       "align_content": null,
       "align_items": null,
       "align_self": null,
       "border": null,
       "bottom": null,
       "display": null,
       "flex": null,
       "flex_flow": null,
       "grid_area": null,
       "grid_auto_columns": null,
       "grid_auto_flow": null,
       "grid_auto_rows": null,
       "grid_column": null,
       "grid_gap": null,
       "grid_row": null,
       "grid_template_areas": null,
       "grid_template_columns": null,
       "grid_template_rows": null,
       "height": null,
       "justify_content": null,
       "justify_items": null,
       "left": null,
       "margin": null,
       "max_height": null,
       "max_width": null,
       "min_height": null,
       "min_width": null,
       "object_fit": null,
       "object_position": null,
       "order": null,
       "overflow": null,
       "overflow_x": null,
       "overflow_y": null,
       "padding": null,
       "right": null,
       "top": null,
       "visibility": null,
       "width": null
      }
     },
     "2db8bbd1fb034781a5165ef49b20fff4": {
      "model_module": "@jupyter-widgets/controls",
      "model_module_version": "1.5.0",
      "model_name": "FloatProgressModel",
      "state": {
       "_dom_classes": [],
       "_model_module": "@jupyter-widgets/controls",
       "_model_module_version": "1.5.0",
       "_model_name": "FloatProgressModel",
       "_view_count": null,
       "_view_module": "@jupyter-widgets/controls",
       "_view_module_version": "1.5.0",
       "_view_name": "ProgressView",
       "bar_style": "success",
       "description": "",
       "description_tooltip": null,
       "layout": "IPY_MODEL_650372f4c12f49e1afe9bf00b90d4e0a",
       "max": 1535.0,
       "min": 0.0,
       "orientation": "horizontal",
       "style": "IPY_MODEL_f9519007179c4fbb92d2d457ecda587e",
       "value": 1535.0
      }
     },
     "3caa980b3fa1416da8cb7e28de496d6c": {
      "model_module": "@jupyter-widgets/controls",
      "model_module_version": "1.5.0",
      "model_name": "DescriptionStyleModel",
      "state": {
       "_model_module": "@jupyter-widgets/controls",
       "_model_module_version": "1.5.0",
       "_model_name": "DescriptionStyleModel",
       "_view_count": null,
       "_view_module": "@jupyter-widgets/base",
       "_view_module_version": "1.2.0",
       "_view_name": "StyleView",
       "description_width": ""
      }
     },
     "3f721556645743ddbdec78859220aa2a": {
      "model_module": "@jupyter-widgets/base",
      "model_module_version": "1.2.0",
      "model_name": "LayoutModel",
      "state": {
       "_model_module": "@jupyter-widgets/base",
       "_model_module_version": "1.2.0",
       "_model_name": "LayoutModel",
       "_view_count": null,
       "_view_module": "@jupyter-widgets/base",
       "_view_module_version": "1.2.0",
       "_view_name": "LayoutView",
       "align_content": null,
       "align_items": null,
       "align_self": null,
       "border": null,
       "bottom": null,
       "display": null,
       "flex": null,
       "flex_flow": null,
       "grid_area": null,
       "grid_auto_columns": null,
       "grid_auto_flow": null,
       "grid_auto_rows": null,
       "grid_column": null,
       "grid_gap": null,
       "grid_row": null,
       "grid_template_areas": null,
       "grid_template_columns": null,
       "grid_template_rows": null,
       "height": null,
       "justify_content": null,
       "justify_items": null,
       "left": null,
       "margin": null,
       "max_height": null,
       "max_width": null,
       "min_height": null,
       "min_width": null,
       "object_fit": null,
       "object_position": null,
       "order": null,
       "overflow": null,
       "overflow_x": null,
       "overflow_y": null,
       "padding": null,
       "right": null,
       "top": null,
       "visibility": null,
       "width": null
      }
     },
     "4286a4a615874c16aa98165c3d3840fd": {
      "model_module": "@jupyter-widgets/controls",
      "model_module_version": "1.5.0",
      "model_name": "HTMLModel",
      "state": {
       "_dom_classes": [],
       "_model_module": "@jupyter-widgets/controls",
       "_model_module_version": "1.5.0",
       "_model_name": "HTMLModel",
       "_view_count": null,
       "_view_module": "@jupyter-widgets/controls",
       "_view_module_version": "1.5.0",
       "_view_name": "HTMLView",
       "description": "",
       "description_tooltip": null,
       "layout": "IPY_MODEL_c2098a0f75c04b70969d83b2b7f2a000",
       "placeholder": "​",
       "style": "IPY_MODEL_8f3eb28f631f4d19ba2a66eff2acfdec",
       "value": " 112/112 [00:00&lt;00:00, 9.45kB/s]"
      }
     },
     "51fc6151834c4e95be12537249569c8d": {
      "model_module": "@jupyter-widgets/base",
      "model_module_version": "1.2.0",
      "model_name": "LayoutModel",
      "state": {
       "_model_module": "@jupyter-widgets/base",
       "_model_module_version": "1.2.0",
       "_model_name": "LayoutModel",
       "_view_count": null,
       "_view_module": "@jupyter-widgets/base",
       "_view_module_version": "1.2.0",
       "_view_name": "LayoutView",
       "align_content": null,
       "align_items": null,
       "align_self": null,
       "border": null,
       "bottom": null,
       "display": null,
       "flex": null,
       "flex_flow": null,
       "grid_area": null,
       "grid_auto_columns": null,
       "grid_auto_flow": null,
       "grid_auto_rows": null,
       "grid_column": null,
       "grid_gap": null,
       "grid_row": null,
       "grid_template_areas": null,
       "grid_template_columns": null,
       "grid_template_rows": null,
       "height": null,
       "justify_content": null,
       "justify_items": null,
       "left": null,
       "margin": null,
       "max_height": null,
       "max_width": null,
       "min_height": null,
       "min_width": null,
       "object_fit": null,
       "object_position": null,
       "order": null,
       "overflow": null,
       "overflow_x": null,
       "overflow_y": null,
       "padding": null,
       "right": null,
       "top": null,
       "visibility": null,
       "width": null
      }
     },
     "58ee4c27862d497b99af7a93398d2c65": {
      "model_module": "@jupyter-widgets/base",
      "model_module_version": "1.2.0",
      "model_name": "LayoutModel",
      "state": {
       "_model_module": "@jupyter-widgets/base",
       "_model_module_version": "1.2.0",
       "_model_name": "LayoutModel",
       "_view_count": null,
       "_view_module": "@jupyter-widgets/base",
       "_view_module_version": "1.2.0",
       "_view_name": "LayoutView",
       "align_content": null,
       "align_items": null,
       "align_self": null,
       "border": null,
       "bottom": null,
       "display": null,
       "flex": null,
       "flex_flow": null,
       "grid_area": null,
       "grid_auto_columns": null,
       "grid_auto_flow": null,
       "grid_auto_rows": null,
       "grid_column": null,
       "grid_gap": null,
       "grid_row": null,
       "grid_template_areas": null,
       "grid_template_columns": null,
       "grid_template_rows": null,
       "height": null,
       "justify_content": null,
       "justify_items": null,
       "left": null,
       "margin": null,
       "max_height": null,
       "max_width": null,
       "min_height": null,
       "min_width": null,
       "object_fit": null,
       "object_position": null,
       "order": null,
       "overflow": null,
       "overflow_x": null,
       "overflow_y": null,
       "padding": null,
       "right": null,
       "top": null,
       "visibility": null,
       "width": null
      }
     },
     "6032a408719a49e8b0fd398412aed513": {
      "model_module": "@jupyter-widgets/controls",
      "model_module_version": "1.5.0",
      "model_name": "ProgressStyleModel",
      "state": {
       "_model_module": "@jupyter-widgets/controls",
       "_model_module_version": "1.5.0",
       "_model_name": "ProgressStyleModel",
       "_view_count": null,
       "_view_module": "@jupyter-widgets/base",
       "_view_module_version": "1.2.0",
       "_view_name": "StyleView",
       "bar_color": null,
       "description_width": ""
      }
     },
     "650372f4c12f49e1afe9bf00b90d4e0a": {
      "model_module": "@jupyter-widgets/base",
      "model_module_version": "1.2.0",
      "model_name": "LayoutModel",
      "state": {
       "_model_module": "@jupyter-widgets/base",
       "_model_module_version": "1.2.0",
       "_model_name": "LayoutModel",
       "_view_count": null,
       "_view_module": "@jupyter-widgets/base",
       "_view_module_version": "1.2.0",
       "_view_name": "LayoutView",
       "align_content": null,
       "align_items": null,
       "align_self": null,
       "border": null,
       "bottom": null,
       "display": null,
       "flex": null,
       "flex_flow": null,
       "grid_area": null,
       "grid_auto_columns": null,
       "grid_auto_flow": null,
       "grid_auto_rows": null,
       "grid_column": null,
       "grid_gap": null,
       "grid_row": null,
       "grid_template_areas": null,
       "grid_template_columns": null,
       "grid_template_rows": null,
       "height": null,
       "justify_content": null,
       "justify_items": null,
       "left": null,
       "margin": null,
       "max_height": null,
       "max_width": null,
       "min_height": null,
       "min_width": null,
       "object_fit": null,
       "object_position": null,
       "order": null,
       "overflow": null,
       "overflow_x": null,
       "overflow_y": null,
       "padding": null,
       "right": null,
       "top": null,
       "visibility": null,
       "width": null
      }
     },
     "67ae1f58536640caa5bd81ae7e7ad765": {
      "model_module": "@jupyter-widgets/controls",
      "model_module_version": "1.5.0",
      "model_name": "HTMLModel",
      "state": {
       "_dom_classes": [],
       "_model_module": "@jupyter-widgets/controls",
       "_model_module_version": "1.5.0",
       "_model_name": "HTMLModel",
       "_view_count": null,
       "_view_module": "@jupyter-widgets/controls",
       "_view_module_version": "1.5.0",
       "_view_name": "HTMLView",
       "description": "",
       "description_tooltip": null,
       "layout": "IPY_MODEL_e76f94370ae14f2a85941140bec9a947",
       "placeholder": "​",
       "style": "IPY_MODEL_1910e144d0424410b8883ee50a2bd489",
       "value": "special_tokens_map.json: 100%"
      }
     },
     "697525a855f845a68e7a7e16546891bf": {
      "model_module": "@jupyter-widgets/controls",
      "model_module_version": "1.5.0",
      "model_name": "FloatProgressModel",
      "state": {
       "_dom_classes": [],
       "_model_module": "@jupyter-widgets/controls",
       "_model_module_version": "1.5.0",
       "_model_name": "FloatProgressModel",
       "_view_count": null,
       "_view_module": "@jupyter-widgets/controls",
       "_view_module_version": "1.5.0",
       "_view_name": "ProgressView",
       "bar_style": "success",
       "description": "",
       "description_tooltip": null,
       "layout": "IPY_MODEL_be9df87ccdc64fc5b7dcc8709b953d55",
       "max": 229167.0,
       "min": 0.0,
       "orientation": "horizontal",
       "style": "IPY_MODEL_094456b05d2f48c58d02072336657b6b",
       "value": 229167.0
      }
     },
     "6dd14e6cbcb74c9f8f1ab63375cce95d": {
      "model_module": "@jupyter-widgets/controls",
      "model_module_version": "1.5.0",
      "model_name": "DescriptionStyleModel",
      "state": {
       "_model_module": "@jupyter-widgets/controls",
       "_model_module_version": "1.5.0",
       "_model_name": "DescriptionStyleModel",
       "_view_count": null,
       "_view_module": "@jupyter-widgets/base",
       "_view_module_version": "1.2.0",
       "_view_name": "StyleView",
       "description_width": ""
      }
     },
     "75baa0811fec4ff4a517a94e51e10da9": {
      "model_module": "@jupyter-widgets/controls",
      "model_module_version": "1.5.0",
      "model_name": "FloatProgressModel",
      "state": {
       "_dom_classes": [],
       "_model_module": "@jupyter-widgets/controls",
       "_model_module_version": "1.5.0",
       "_model_name": "FloatProgressModel",
       "_view_count": null,
       "_view_module": "@jupyter-widgets/controls",
       "_view_module_version": "1.5.0",
       "_view_name": "ProgressView",
       "bar_style": "success",
       "description": "",
       "description_tooltip": null,
       "layout": "IPY_MODEL_51fc6151834c4e95be12537249569c8d",
       "max": 1340657204.0,
       "min": 0.0,
       "orientation": "horizontal",
       "style": "IPY_MODEL_6032a408719a49e8b0fd398412aed513",
       "value": 1340657204.0
      }
     },
     "781e737ed00240e58ed1665b9353cfb0": {
      "model_module": "@jupyter-widgets/controls",
      "model_module_version": "1.5.0",
      "model_name": "HTMLModel",
      "state": {
       "_dom_classes": [],
       "_model_module": "@jupyter-widgets/controls",
       "_model_module_version": "1.5.0",
       "_model_name": "HTMLModel",
       "_view_count": null,
       "_view_module": "@jupyter-widgets/controls",
       "_view_module_version": "1.5.0",
       "_view_name": "HTMLView",
       "description": "",
       "description_tooltip": null,
       "layout": "IPY_MODEL_e6c30487ef8049c3bf2cf1880a942b5d",
       "placeholder": "​",
       "style": "IPY_MODEL_1aa3e616cc4a4fb387517b92d8b4ea4c",
       "value": "vocab.txt: 100%"
      }
     },
     "790b581bcf3346f7807ac63647b114cb": {
      "model_module": "@jupyter-widgets/base",
      "model_module_version": "1.2.0",
      "model_name": "LayoutModel",
      "state": {
       "_model_module": "@jupyter-widgets/base",
       "_model_module_version": "1.2.0",
       "_model_name": "LayoutModel",
       "_view_count": null,
       "_view_module": "@jupyter-widgets/base",
       "_view_module_version": "1.2.0",
       "_view_name": "LayoutView",
       "align_content": null,
       "align_items": null,
       "align_self": null,
       "border": null,
       "bottom": null,
       "display": null,
       "flex": null,
       "flex_flow": null,
       "grid_area": null,
       "grid_auto_columns": null,
       "grid_auto_flow": null,
       "grid_auto_rows": null,
       "grid_column": null,
       "grid_gap": null,
       "grid_row": null,
       "grid_template_areas": null,
       "grid_template_columns": null,
       "grid_template_rows": null,
       "height": null,
       "justify_content": null,
       "justify_items": null,
       "left": null,
       "margin": null,
       "max_height": null,
       "max_width": null,
       "min_height": null,
       "min_width": null,
       "object_fit": null,
       "object_position": null,
       "order": null,
       "overflow": null,
       "overflow_x": null,
       "overflow_y": null,
       "padding": null,
       "right": null,
       "top": null,
       "visibility": null,
       "width": null
      }
     },
     "8337ff611322425abf5a2240c7242fff": {
      "model_module": "@jupyter-widgets/base",
      "model_module_version": "1.2.0",
      "model_name": "LayoutModel",
      "state": {
       "_model_module": "@jupyter-widgets/base",
       "_model_module_version": "1.2.0",
       "_model_name": "LayoutModel",
       "_view_count": null,
       "_view_module": "@jupyter-widgets/base",
       "_view_module_version": "1.2.0",
       "_view_name": "LayoutView",
       "align_content": null,
       "align_items": null,
       "align_self": null,
       "border": null,
       "bottom": null,
       "display": null,
       "flex": null,
       "flex_flow": null,
       "grid_area": null,
       "grid_auto_columns": null,
       "grid_auto_flow": null,
       "grid_auto_rows": null,
       "grid_column": null,
       "grid_gap": null,
       "grid_row": null,
       "grid_template_areas": null,
       "grid_template_columns": null,
       "grid_template_rows": null,
       "height": null,
       "justify_content": null,
       "justify_items": null,
       "left": null,
       "margin": null,
       "max_height": null,
       "max_width": null,
       "min_height": null,
       "min_width": null,
       "object_fit": null,
       "object_position": null,
       "order": null,
       "overflow": null,
       "overflow_x": null,
       "overflow_y": null,
       "padding": null,
       "right": null,
       "top": null,
       "visibility": null,
       "width": null
      }
     },
     "876dd5d2f1904df3ac3cc6367b878154": {
      "model_module": "@jupyter-widgets/controls",
      "model_module_version": "1.5.0",
      "model_name": "HTMLModel",
      "state": {
       "_dom_classes": [],
       "_model_module": "@jupyter-widgets/controls",
       "_model_module_version": "1.5.0",
       "_model_name": "HTMLModel",
       "_view_count": null,
       "_view_module": "@jupyter-widgets/controls",
       "_view_module_version": "1.5.0",
       "_view_name": "HTMLView",
       "description": "",
       "description_tooltip": null,
       "layout": "IPY_MODEL_a72a666681914fd290aeaa83847cbcd3",
       "placeholder": "​",
       "style": "IPY_MODEL_3caa980b3fa1416da8cb7e28de496d6c",
       "value": " 1.53k/1.53k [00:00&lt;00:00, 119kB/s]"
      }
     },
     "8f3eb28f631f4d19ba2a66eff2acfdec": {
      "model_module": "@jupyter-widgets/controls",
      "model_module_version": "1.5.0",
      "model_name": "DescriptionStyleModel",
      "state": {
       "_model_module": "@jupyter-widgets/controls",
       "_model_module_version": "1.5.0",
       "_model_name": "DescriptionStyleModel",
       "_view_count": null,
       "_view_module": "@jupyter-widgets/base",
       "_view_module_version": "1.2.0",
       "_view_name": "StyleView",
       "description_width": ""
      }
     },
     "94f423d7e0734182ad808f99741b4f00": {
      "model_module": "@jupyter-widgets/controls",
      "model_module_version": "1.5.0",
      "model_name": "HTMLModel",
      "state": {
       "_dom_classes": [],
       "_model_module": "@jupyter-widgets/controls",
       "_model_module_version": "1.5.0",
       "_model_name": "HTMLModel",
       "_view_count": null,
       "_view_module": "@jupyter-widgets/controls",
       "_view_module_version": "1.5.0",
       "_view_name": "HTMLView",
       "description": "",
       "description_tooltip": null,
       "layout": "IPY_MODEL_e71c6ec464924179bb9db9373d5c7760",
       "placeholder": "​",
       "style": "IPY_MODEL_1d98b31a027d40e09c8744485026f50d",
       "value": " 229k/229k [00:00&lt;00:00, 4.12MB/s]"
      }
     },
     "9c473176697b4df0a629f8f9572c8d0f": {
      "model_module": "@jupyter-widgets/base",
      "model_module_version": "1.2.0",
      "model_name": "LayoutModel",
      "state": {
       "_model_module": "@jupyter-widgets/base",
       "_model_module_version": "1.2.0",
       "_model_name": "LayoutModel",
       "_view_count": null,
       "_view_module": "@jupyter-widgets/base",
       "_view_module_version": "1.2.0",
       "_view_name": "LayoutView",
       "align_content": null,
       "align_items": null,
       "align_self": null,
       "border": null,
       "bottom": null,
       "display": null,
       "flex": null,
       "flex_flow": null,
       "grid_area": null,
       "grid_auto_columns": null,
       "grid_auto_flow": null,
       "grid_auto_rows": null,
       "grid_column": null,
       "grid_gap": null,
       "grid_row": null,
       "grid_template_areas": null,
       "grid_template_columns": null,
       "grid_template_rows": null,
       "height": null,
       "justify_content": null,
       "justify_items": null,
       "left": null,
       "margin": null,
       "max_height": null,
       "max_width": null,
       "min_height": null,
       "min_width": null,
       "object_fit": null,
       "object_position": null,
       "order": null,
       "overflow": null,
       "overflow_x": null,
       "overflow_y": null,
       "padding": null,
       "right": null,
       "top": null,
       "visibility": null,
       "width": null
      }
     },
     "9d5fe5869cd4424a92d78ec8fdf3bb33": {
      "model_module": "@jupyter-widgets/controls",
      "model_module_version": "1.5.0",
      "model_name": "HBoxModel",
      "state": {
       "_dom_classes": [],
       "_model_module": "@jupyter-widgets/controls",
       "_model_module_version": "1.5.0",
       "_model_name": "HBoxModel",
       "_view_count": null,
       "_view_module": "@jupyter-widgets/controls",
       "_view_module_version": "1.5.0",
       "_view_name": "HBoxView",
       "box_style": "",
       "children": [
        "IPY_MODEL_e20de0a694ad4bdca1be1326ca776707",
        "IPY_MODEL_c41d775674ba4bfa83e74e3755fc0878",
        "IPY_MODEL_abe44462dcd4485f9700ca40a28b31f4"
       ],
       "layout": "IPY_MODEL_ad33ebcf9c6c4cf787cf056524c2654d"
      }
     },
     "a6c45e1f1ead4b0f93c3bc13d158a602": {
      "model_module": "@jupyter-widgets/controls",
      "model_module_version": "1.5.0",
      "model_name": "HTMLModel",
      "state": {
       "_dom_classes": [],
       "_model_module": "@jupyter-widgets/controls",
       "_model_module_version": "1.5.0",
       "_model_name": "HTMLModel",
       "_view_count": null,
       "_view_module": "@jupyter-widgets/controls",
       "_view_module_version": "1.5.0",
       "_view_name": "HTMLView",
       "description": "",
       "description_tooltip": null,
       "layout": "IPY_MODEL_e2820d078f1c4a20a73ddb3ff29ab2c2",
       "placeholder": "​",
       "style": "IPY_MODEL_a936b0a20c79464ca47074c20b88cca3",
       "value": "pytorch_model.bin: 100%"
      }
     },
     "a72a666681914fd290aeaa83847cbcd3": {
      "model_module": "@jupyter-widgets/base",
      "model_module_version": "1.2.0",
      "model_name": "LayoutModel",
      "state": {
       "_model_module": "@jupyter-widgets/base",
       "_model_module_version": "1.2.0",
       "_model_name": "LayoutModel",
       "_view_count": null,
       "_view_module": "@jupyter-widgets/base",
       "_view_module_version": "1.2.0",
       "_view_name": "LayoutView",
       "align_content": null,
       "align_items": null,
       "align_self": null,
       "border": null,
       "bottom": null,
       "display": null,
       "flex": null,
       "flex_flow": null,
       "grid_area": null,
       "grid_auto_columns": null,
       "grid_auto_flow": null,
       "grid_auto_rows": null,
       "grid_column": null,
       "grid_gap": null,
       "grid_row": null,
       "grid_template_areas": null,
       "grid_template_columns": null,
       "grid_template_rows": null,
       "height": null,
       "justify_content": null,
       "justify_items": null,
       "left": null,
       "margin": null,
       "max_height": null,
       "max_width": null,
       "min_height": null,
       "min_width": null,
       "object_fit": null,
       "object_position": null,
       "order": null,
       "overflow": null,
       "overflow_x": null,
       "overflow_y": null,
       "padding": null,
       "right": null,
       "top": null,
       "visibility": null,
       "width": null
      }
     },
     "a936b0a20c79464ca47074c20b88cca3": {
      "model_module": "@jupyter-widgets/controls",
      "model_module_version": "1.5.0",
      "model_name": "DescriptionStyleModel",
      "state": {
       "_model_module": "@jupyter-widgets/controls",
       "_model_module_version": "1.5.0",
       "_model_name": "DescriptionStyleModel",
       "_view_count": null,
       "_view_module": "@jupyter-widgets/base",
       "_view_module_version": "1.2.0",
       "_view_name": "StyleView",
       "description_width": ""
      }
     },
     "ab768bba4b0d47c080fa651568c5738f": {
      "model_module": "@jupyter-widgets/base",
      "model_module_version": "1.2.0",
      "model_name": "LayoutModel",
      "state": {
       "_model_module": "@jupyter-widgets/base",
       "_model_module_version": "1.2.0",
       "_model_name": "LayoutModel",
       "_view_count": null,
       "_view_module": "@jupyter-widgets/base",
       "_view_module_version": "1.2.0",
       "_view_name": "LayoutView",
       "align_content": null,
       "align_items": null,
       "align_self": null,
       "border": null,
       "bottom": null,
       "display": null,
       "flex": null,
       "flex_flow": null,
       "grid_area": null,
       "grid_auto_columns": null,
       "grid_auto_flow": null,
       "grid_auto_rows": null,
       "grid_column": null,
       "grid_gap": null,
       "grid_row": null,
       "grid_template_areas": null,
       "grid_template_columns": null,
       "grid_template_rows": null,
       "height": null,
       "justify_content": null,
       "justify_items": null,
       "left": null,
       "margin": null,
       "max_height": null,
       "max_width": null,
       "min_height": null,
       "min_width": null,
       "object_fit": null,
       "object_position": null,
       "order": null,
       "overflow": null,
       "overflow_x": null,
       "overflow_y": null,
       "padding": null,
       "right": null,
       "top": null,
       "visibility": null,
       "width": null
      }
     },
     "aba4e2d266844fa8b2b8a8d21e764ae3": {
      "model_module": "@jupyter-widgets/controls",
      "model_module_version": "1.5.0",
      "model_name": "ProgressStyleModel",
      "state": {
       "_model_module": "@jupyter-widgets/controls",
       "_model_module_version": "1.5.0",
       "_model_name": "ProgressStyleModel",
       "_view_count": null,
       "_view_module": "@jupyter-widgets/base",
       "_view_module_version": "1.2.0",
       "_view_name": "StyleView",
       "bar_color": null,
       "description_width": ""
      }
     },
     "abe44462dcd4485f9700ca40a28b31f4": {
      "model_module": "@jupyter-widgets/controls",
      "model_module_version": "1.5.0",
      "model_name": "HTMLModel",
      "state": {
       "_dom_classes": [],
       "_model_module": "@jupyter-widgets/controls",
       "_model_module_version": "1.5.0",
       "_model_name": "HTMLModel",
       "_view_count": null,
       "_view_module": "@jupyter-widgets/controls",
       "_view_module_version": "1.5.0",
       "_view_name": "HTMLView",
       "description": "",
       "description_tooltip": null,
       "layout": "IPY_MODEL_58ee4c27862d497b99af7a93398d2c65",
       "placeholder": "​",
       "style": "IPY_MODEL_dbbcd39463df48d2adc1011a6f4fc998",
       "value": " 2.00/2.00 [00:00&lt;00:00, 160B/s]"
      }
     },
     "ad33ebcf9c6c4cf787cf056524c2654d": {
      "model_module": "@jupyter-widgets/base",
      "model_module_version": "1.2.0",
      "model_name": "LayoutModel",
      "state": {
       "_model_module": "@jupyter-widgets/base",
       "_model_module_version": "1.2.0",
       "_model_name": "LayoutModel",
       "_view_count": null,
       "_view_module": "@jupyter-widgets/base",
       "_view_module_version": "1.2.0",
       "_view_name": "LayoutView",
       "align_content": null,
       "align_items": null,
       "align_self": null,
       "border": null,
       "bottom": null,
       "display": null,
       "flex": null,
       "flex_flow": null,
       "grid_area": null,
       "grid_auto_columns": null,
       "grid_auto_flow": null,
       "grid_auto_rows": null,
       "grid_column": null,
       "grid_gap": null,
       "grid_row": null,
       "grid_template_areas": null,
       "grid_template_columns": null,
       "grid_template_rows": null,
       "height": null,
       "justify_content": null,
       "justify_items": null,
       "left": null,
       "margin": null,
       "max_height": null,
       "max_width": null,
       "min_height": null,
       "min_width": null,
       "object_fit": null,
       "object_position": null,
       "order": null,
       "overflow": null,
       "overflow_x": null,
       "overflow_y": null,
       "padding": null,
       "right": null,
       "top": null,
       "visibility": null,
       "width": null
      }
     },
     "b123cf28032247a4b192a7a6b6866e4c": {
      "model_module": "@jupyter-widgets/base",
      "model_module_version": "1.2.0",
      "model_name": "LayoutModel",
      "state": {
       "_model_module": "@jupyter-widgets/base",
       "_model_module_version": "1.2.0",
       "_model_name": "LayoutModel",
       "_view_count": null,
       "_view_module": "@jupyter-widgets/base",
       "_view_module_version": "1.2.0",
       "_view_name": "LayoutView",
       "align_content": null,
       "align_items": null,
       "align_self": null,
       "border": null,
       "bottom": null,
       "display": null,
       "flex": null,
       "flex_flow": null,
       "grid_area": null,
       "grid_auto_columns": null,
       "grid_auto_flow": null,
       "grid_auto_rows": null,
       "grid_column": null,
       "grid_gap": null,
       "grid_row": null,
       "grid_template_areas": null,
       "grid_template_columns": null,
       "grid_template_rows": null,
       "height": null,
       "justify_content": null,
       "justify_items": null,
       "left": null,
       "margin": null,
       "max_height": null,
       "max_width": null,
       "min_height": null,
       "min_width": null,
       "object_fit": null,
       "object_position": null,
       "order": null,
       "overflow": null,
       "overflow_x": null,
       "overflow_y": null,
       "padding": null,
       "right": null,
       "top": null,
       "visibility": null,
       "width": null
      }
     },
     "be9df87ccdc64fc5b7dcc8709b953d55": {
      "model_module": "@jupyter-widgets/base",
      "model_module_version": "1.2.0",
      "model_name": "LayoutModel",
      "state": {
       "_model_module": "@jupyter-widgets/base",
       "_model_module_version": "1.2.0",
       "_model_name": "LayoutModel",
       "_view_count": null,
       "_view_module": "@jupyter-widgets/base",
       "_view_module_version": "1.2.0",
       "_view_name": "LayoutView",
       "align_content": null,
       "align_items": null,
       "align_self": null,
       "border": null,
       "bottom": null,
       "display": null,
       "flex": null,
       "flex_flow": null,
       "grid_area": null,
       "grid_auto_columns": null,
       "grid_auto_flow": null,
       "grid_auto_rows": null,
       "grid_column": null,
       "grid_gap": null,
       "grid_row": null,
       "grid_template_areas": null,
       "grid_template_columns": null,
       "grid_template_rows": null,
       "height": null,
       "justify_content": null,
       "justify_items": null,
       "left": null,
       "margin": null,
       "max_height": null,
       "max_width": null,
       "min_height": null,
       "min_width": null,
       "object_fit": null,
       "object_position": null,
       "order": null,
       "overflow": null,
       "overflow_x": null,
       "overflow_y": null,
       "padding": null,
       "right": null,
       "top": null,
       "visibility": null,
       "width": null
      }
     },
     "c0f8d025c9534124be226a601b0b7e05": {
      "model_module": "@jupyter-widgets/controls",
      "model_module_version": "1.5.0",
      "model_name": "HBoxModel",
      "state": {
       "_dom_classes": [],
       "_model_module": "@jupyter-widgets/controls",
       "_model_module_version": "1.5.0",
       "_model_name": "HBoxModel",
       "_view_count": null,
       "_view_module": "@jupyter-widgets/controls",
       "_view_module_version": "1.5.0",
       "_view_name": "HBoxView",
       "box_style": "",
       "children": [
        "IPY_MODEL_1f038051ecbf4703b959a487aa474fb8",
        "IPY_MODEL_2db8bbd1fb034781a5165ef49b20fff4",
        "IPY_MODEL_876dd5d2f1904df3ac3cc6367b878154"
       ],
       "layout": "IPY_MODEL_8337ff611322425abf5a2240c7242fff"
      }
     },
     "c2098a0f75c04b70969d83b2b7f2a000": {
      "model_module": "@jupyter-widgets/base",
      "model_module_version": "1.2.0",
      "model_name": "LayoutModel",
      "state": {
       "_model_module": "@jupyter-widgets/base",
       "_model_module_version": "1.2.0",
       "_model_name": "LayoutModel",
       "_view_count": null,
       "_view_module": "@jupyter-widgets/base",
       "_view_module_version": "1.2.0",
       "_view_name": "LayoutView",
       "align_content": null,
       "align_items": null,
       "align_self": null,
       "border": null,
       "bottom": null,
       "display": null,
       "flex": null,
       "flex_flow": null,
       "grid_area": null,
       "grid_auto_columns": null,
       "grid_auto_flow": null,
       "grid_auto_rows": null,
       "grid_column": null,
       "grid_gap": null,
       "grid_row": null,
       "grid_template_areas": null,
       "grid_template_columns": null,
       "grid_template_rows": null,
       "height": null,
       "justify_content": null,
       "justify_items": null,
       "left": null,
       "margin": null,
       "max_height": null,
       "max_width": null,
       "min_height": null,
       "min_width": null,
       "object_fit": null,
       "object_position": null,
       "order": null,
       "overflow": null,
       "overflow_x": null,
       "overflow_y": null,
       "padding": null,
       "right": null,
       "top": null,
       "visibility": null,
       "width": null
      }
     },
     "c41d775674ba4bfa83e74e3755fc0878": {
      "model_module": "@jupyter-widgets/controls",
      "model_module_version": "1.5.0",
      "model_name": "FloatProgressModel",
      "state": {
       "_dom_classes": [],
       "_model_module": "@jupyter-widgets/controls",
       "_model_module_version": "1.5.0",
       "_model_name": "FloatProgressModel",
       "_view_count": null,
       "_view_module": "@jupyter-widgets/controls",
       "_view_module_version": "1.5.0",
       "_view_name": "ProgressView",
       "bar_style": "success",
       "description": "",
       "description_tooltip": null,
       "layout": "IPY_MODEL_3f721556645743ddbdec78859220aa2a",
       "max": 2.0,
       "min": 0.0,
       "orientation": "horizontal",
       "style": "IPY_MODEL_c8d19d60c4da4aa9a216abcc1a70811e",
       "value": 2.0
      }
     },
     "c8d19d60c4da4aa9a216abcc1a70811e": {
      "model_module": "@jupyter-widgets/controls",
      "model_module_version": "1.5.0",
      "model_name": "ProgressStyleModel",
      "state": {
       "_model_module": "@jupyter-widgets/controls",
       "_model_module_version": "1.5.0",
       "_model_name": "ProgressStyleModel",
       "_view_count": null,
       "_view_module": "@jupyter-widgets/base",
       "_view_module_version": "1.2.0",
       "_view_name": "StyleView",
       "bar_color": null,
       "description_width": ""
      }
     },
     "c9652ea60876400d98f61fb64fee95a0": {
      "model_module": "@jupyter-widgets/controls",
      "model_module_version": "1.5.0",
      "model_name": "HBoxModel",
      "state": {
       "_dom_classes": [],
       "_model_module": "@jupyter-widgets/controls",
       "_model_module_version": "1.5.0",
       "_model_name": "HBoxModel",
       "_view_count": null,
       "_view_module": "@jupyter-widgets/controls",
       "_view_module_version": "1.5.0",
       "_view_name": "HBoxView",
       "box_style": "",
       "children": [
        "IPY_MODEL_781e737ed00240e58ed1665b9353cfb0",
        "IPY_MODEL_697525a855f845a68e7a7e16546891bf",
        "IPY_MODEL_94f423d7e0734182ad808f99741b4f00"
       ],
       "layout": "IPY_MODEL_1b90e15df8004140a843e7a4a8cb16e9"
      }
     },
     "d6232945c3b94ca28f98669de3b0ed1c": {
      "model_module": "@jupyter-widgets/controls",
      "model_module_version": "1.5.0",
      "model_name": "DescriptionStyleModel",
      "state": {
       "_model_module": "@jupyter-widgets/controls",
       "_model_module_version": "1.5.0",
       "_model_name": "DescriptionStyleModel",
       "_view_count": null,
       "_view_module": "@jupyter-widgets/base",
       "_view_module_version": "1.2.0",
       "_view_name": "StyleView",
       "description_width": ""
      }
     },
     "d6f217cf4b9a420298003ba0d633d659": {
      "model_module": "@jupyter-widgets/controls",
      "model_module_version": "1.5.0",
      "model_name": "HBoxModel",
      "state": {
       "_dom_classes": [],
       "_model_module": "@jupyter-widgets/controls",
       "_model_module_version": "1.5.0",
       "_model_name": "HBoxModel",
       "_view_count": null,
       "_view_module": "@jupyter-widgets/controls",
       "_view_module_version": "1.5.0",
       "_view_name": "HBoxView",
       "box_style": "",
       "children": [
        "IPY_MODEL_a6c45e1f1ead4b0f93c3bc13d158a602",
        "IPY_MODEL_75baa0811fec4ff4a517a94e51e10da9",
        "IPY_MODEL_0cd667685dd049148362af48f9840a3f"
       ],
       "layout": "IPY_MODEL_ab768bba4b0d47c080fa651568c5738f"
      }
     },
     "dbbcd39463df48d2adc1011a6f4fc998": {
      "model_module": "@jupyter-widgets/controls",
      "model_module_version": "1.5.0",
      "model_name": "DescriptionStyleModel",
      "state": {
       "_model_module": "@jupyter-widgets/controls",
       "_model_module_version": "1.5.0",
       "_model_name": "DescriptionStyleModel",
       "_view_count": null,
       "_view_module": "@jupyter-widgets/base",
       "_view_module_version": "1.2.0",
       "_view_name": "StyleView",
       "description_width": ""
      }
     },
     "dd8d6d677a314dc9afcb8270ab66b924": {
      "model_module": "@jupyter-widgets/base",
      "model_module_version": "1.2.0",
      "model_name": "LayoutModel",
      "state": {
       "_model_module": "@jupyter-widgets/base",
       "_model_module_version": "1.2.0",
       "_model_name": "LayoutModel",
       "_view_count": null,
       "_view_module": "@jupyter-widgets/base",
       "_view_module_version": "1.2.0",
       "_view_name": "LayoutView",
       "align_content": null,
       "align_items": null,
       "align_self": null,
       "border": null,
       "bottom": null,
       "display": null,
       "flex": null,
       "flex_flow": null,
       "grid_area": null,
       "grid_auto_columns": null,
       "grid_auto_flow": null,
       "grid_auto_rows": null,
       "grid_column": null,
       "grid_gap": null,
       "grid_row": null,
       "grid_template_areas": null,
       "grid_template_columns": null,
       "grid_template_rows": null,
       "height": null,
       "justify_content": null,
       "justify_items": null,
       "left": null,
       "margin": null,
       "max_height": null,
       "max_width": null,
       "min_height": null,
       "min_width": null,
       "object_fit": null,
       "object_position": null,
       "order": null,
       "overflow": null,
       "overflow_x": null,
       "overflow_y": null,
       "padding": null,
       "right": null,
       "top": null,
       "visibility": null,
       "width": null
      }
     },
     "e20de0a694ad4bdca1be1326ca776707": {
      "model_module": "@jupyter-widgets/controls",
      "model_module_version": "1.5.0",
      "model_name": "HTMLModel",
      "state": {
       "_dom_classes": [],
       "_model_module": "@jupyter-widgets/controls",
       "_model_module_version": "1.5.0",
       "_model_name": "HTMLModel",
       "_view_count": null,
       "_view_module": "@jupyter-widgets/controls",
       "_view_module_version": "1.5.0",
       "_view_name": "HTMLView",
       "description": "",
       "description_tooltip": null,
       "layout": "IPY_MODEL_2ccb220683a84abda68bbe6173b74bac",
       "placeholder": "​",
       "style": "IPY_MODEL_d6232945c3b94ca28f98669de3b0ed1c",
       "value": "tokenizer_config.json: 100%"
      }
     },
     "e2820d078f1c4a20a73ddb3ff29ab2c2": {
      "model_module": "@jupyter-widgets/base",
      "model_module_version": "1.2.0",
      "model_name": "LayoutModel",
      "state": {
       "_model_module": "@jupyter-widgets/base",
       "_model_module_version": "1.2.0",
       "_model_name": "LayoutModel",
       "_view_count": null,
       "_view_module": "@jupyter-widgets/base",
       "_view_module_version": "1.2.0",
       "_view_name": "LayoutView",
       "align_content": null,
       "align_items": null,
       "align_self": null,
       "border": null,
       "bottom": null,
       "display": null,
       "flex": null,
       "flex_flow": null,
       "grid_area": null,
       "grid_auto_columns": null,
       "grid_auto_flow": null,
       "grid_auto_rows": null,
       "grid_column": null,
       "grid_gap": null,
       "grid_row": null,
       "grid_template_areas": null,
       "grid_template_columns": null,
       "grid_template_rows": null,
       "height": null,
       "justify_content": null,
       "justify_items": null,
       "left": null,
       "margin": null,
       "max_height": null,
       "max_width": null,
       "min_height": null,
       "min_width": null,
       "object_fit": null,
       "object_position": null,
       "order": null,
       "overflow": null,
       "overflow_x": null,
       "overflow_y": null,
       "padding": null,
       "right": null,
       "top": null,
       "visibility": null,
       "width": null
      }
     },
     "e6c30487ef8049c3bf2cf1880a942b5d": {
      "model_module": "@jupyter-widgets/base",
      "model_module_version": "1.2.0",
      "model_name": "LayoutModel",
      "state": {
       "_model_module": "@jupyter-widgets/base",
       "_model_module_version": "1.2.0",
       "_model_name": "LayoutModel",
       "_view_count": null,
       "_view_module": "@jupyter-widgets/base",
       "_view_module_version": "1.2.0",
       "_view_name": "LayoutView",
       "align_content": null,
       "align_items": null,
       "align_self": null,
       "border": null,
       "bottom": null,
       "display": null,
       "flex": null,
       "flex_flow": null,
       "grid_area": null,
       "grid_auto_columns": null,
       "grid_auto_flow": null,
       "grid_auto_rows": null,
       "grid_column": null,
       "grid_gap": null,
       "grid_row": null,
       "grid_template_areas": null,
       "grid_template_columns": null,
       "grid_template_rows": null,
       "height": null,
       "justify_content": null,
       "justify_items": null,
       "left": null,
       "margin": null,
       "max_height": null,
       "max_width": null,
       "min_height": null,
       "min_width": null,
       "object_fit": null,
       "object_position": null,
       "order": null,
       "overflow": null,
       "overflow_x": null,
       "overflow_y": null,
       "padding": null,
       "right": null,
       "top": null,
       "visibility": null,
       "width": null
      }
     },
     "e71c6ec464924179bb9db9373d5c7760": {
      "model_module": "@jupyter-widgets/base",
      "model_module_version": "1.2.0",
      "model_name": "LayoutModel",
      "state": {
       "_model_module": "@jupyter-widgets/base",
       "_model_module_version": "1.2.0",
       "_model_name": "LayoutModel",
       "_view_count": null,
       "_view_module": "@jupyter-widgets/base",
       "_view_module_version": "1.2.0",
       "_view_name": "LayoutView",
       "align_content": null,
       "align_items": null,
       "align_self": null,
       "border": null,
       "bottom": null,
       "display": null,
       "flex": null,
       "flex_flow": null,
       "grid_area": null,
       "grid_auto_columns": null,
       "grid_auto_flow": null,
       "grid_auto_rows": null,
       "grid_column": null,
       "grid_gap": null,
       "grid_row": null,
       "grid_template_areas": null,
       "grid_template_columns": null,
       "grid_template_rows": null,
       "height": null,
       "justify_content": null,
       "justify_items": null,
       "left": null,
       "margin": null,
       "max_height": null,
       "max_width": null,
       "min_height": null,
       "min_width": null,
       "object_fit": null,
       "object_position": null,
       "order": null,
       "overflow": null,
       "overflow_x": null,
       "overflow_y": null,
       "padding": null,
       "right": null,
       "top": null,
       "visibility": null,
       "width": null
      }
     },
     "e76f94370ae14f2a85941140bec9a947": {
      "model_module": "@jupyter-widgets/base",
      "model_module_version": "1.2.0",
      "model_name": "LayoutModel",
      "state": {
       "_model_module": "@jupyter-widgets/base",
       "_model_module_version": "1.2.0",
       "_model_name": "LayoutModel",
       "_view_count": null,
       "_view_module": "@jupyter-widgets/base",
       "_view_module_version": "1.2.0",
       "_view_name": "LayoutView",
       "align_content": null,
       "align_items": null,
       "align_self": null,
       "border": null,
       "bottom": null,
       "display": null,
       "flex": null,
       "flex_flow": null,
       "grid_area": null,
       "grid_auto_columns": null,
       "grid_auto_flow": null,
       "grid_auto_rows": null,
       "grid_column": null,
       "grid_gap": null,
       "grid_row": null,
       "grid_template_areas": null,
       "grid_template_columns": null,
       "grid_template_rows": null,
       "height": null,
       "justify_content": null,
       "justify_items": null,
       "left": null,
       "margin": null,
       "max_height": null,
       "max_width": null,
       "min_height": null,
       "min_width": null,
       "object_fit": null,
       "object_position": null,
       "order": null,
       "overflow": null,
       "overflow_x": null,
       "overflow_y": null,
       "padding": null,
       "right": null,
       "top": null,
       "visibility": null,
       "width": null
      }
     },
     "f9519007179c4fbb92d2d457ecda587e": {
      "model_module": "@jupyter-widgets/controls",
      "model_module_version": "1.5.0",
      "model_name": "ProgressStyleModel",
      "state": {
       "_model_module": "@jupyter-widgets/controls",
       "_model_module_version": "1.5.0",
       "_model_name": "ProgressStyleModel",
       "_view_count": null,
       "_view_module": "@jupyter-widgets/base",
       "_view_module_version": "1.2.0",
       "_view_name": "StyleView",
       "bar_color": null,
       "description_width": ""
      }
     },
     "fb5f38f3fbaf4c8ea3b9fb362aea71d0": {
      "model_module": "@jupyter-widgets/controls",
      "model_module_version": "1.5.0",
      "model_name": "FloatProgressModel",
      "state": {
       "_dom_classes": [],
       "_model_module": "@jupyter-widgets/controls",
       "_model_module_version": "1.5.0",
       "_model_name": "FloatProgressModel",
       "_view_count": null,
       "_view_module": "@jupyter-widgets/controls",
       "_view_module_version": "1.5.0",
       "_view_name": "ProgressView",
       "bar_style": "success",
       "description": "",
       "description_tooltip": null,
       "layout": "IPY_MODEL_b123cf28032247a4b192a7a6b6866e4c",
       "max": 112.0,
       "min": 0.0,
       "orientation": "horizontal",
       "style": "IPY_MODEL_aba4e2d266844fa8b2b8a8d21e764ae3",
       "value": 112.0
      }
     }
    },
    "version_major": 2,
    "version_minor": 0
   }
  }
 },
 "nbformat": 4,
 "nbformat_minor": 5
}
