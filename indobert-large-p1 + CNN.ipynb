{
 "cells": [
  {
   "cell_type": "code",
   "execution_count": 1,
   "id": "351ad27c",
   "metadata": {
    "_cell_guid": "b1076dfc-b9ad-4769-8c92-a6c4dae69d19",
    "_uuid": "8f2839f25d086af736a60e9eeb907d3b93b6e0e5",
    "execution": {
     "iopub.execute_input": "2024-04-11T17:09:25.805522Z",
     "iopub.status.busy": "2024-04-11T17:09:25.805141Z",
     "iopub.status.idle": "2024-04-11T17:09:26.716254Z",
     "shell.execute_reply": "2024-04-11T17:09:26.715343Z"
    },
    "papermill": {
     "duration": 0.923259,
     "end_time": "2024-04-11T17:09:26.718740",
     "exception": false,
     "start_time": "2024-04-11T17:09:25.795481",
     "status": "completed"
    },
    "tags": []
   },
   "outputs": [
    {
     "name": "stdout",
     "output_type": "stream",
     "text": [
      "Suicidal dataframe:          label                                        twitterText\n",
      "0     SUICIDAL  \"pengen bunuh diri aja\"\\nyang paling sering te...\n",
      "1     SUICIDAL  Secara tidak langsung punya Fikiran pengen bun...\n",
      "2     SUICIDAL          sejam lalu haha hihi sekarang pengen mati\n",
      "3     SUICIDAL  Baru kelar 1 masalah datang lagi malah lainnya...\n",
      "4     SUICIDAL       fuck bundir aku lagi pgn mabok smpk ga sadar\n",
      "...        ...                                                ...\n",
      "8727  SUICIDAL  jujur cape hidup kaya gini terus, aku nganggur...\n",
      "8728  SUICIDAL  Siapa yang dari sd udah kepikiran mau mati ? A...\n",
      "8729  SUICIDAL   Apa aku doang kalo stres suka pengen bunuh diri?\n",
      "8730  SUICIDAL  Mood ga karuan. Ovt ga karuan. Selalu kek miki...\n",
      "8731  SUICIDAL   pengen bundir tapi takut gabisa dengerin mineral\n",
      "\n",
      "[8732 rows x 2 columns]\n"
     ]
    }
   ],
   "source": [
    "import pandas as pd\n",
    "import re\n",
    "import os\n",
    "\n",
    "df_suicidal = pd.read_csv(\"/kaggle/input/manual-annotation-indo-twitter-suicide/final-annotated-suicide-dataset.csv\", usecols=['label', 'twitterText'])\n",
    "df_suicidal.dropna(inplace=True)\n",
    "df_suicidal['label'] = \"SUICIDAL\"\n",
    "df_suicidal = df_suicidal.sample(frac=1, random_state=42).reset_index(drop=True)\n",
    "print(\"Suicidal dataframe:\", df_suicidal)"
   ]
  },
  {
   "cell_type": "code",
   "execution_count": 2,
   "id": "00bd0d2d",
   "metadata": {
    "execution": {
     "iopub.execute_input": "2024-04-11T17:09:26.737476Z",
     "iopub.status.busy": "2024-04-11T17:09:26.737157Z",
     "iopub.status.idle": "2024-04-11T17:09:27.186294Z",
     "shell.execute_reply": "2024-04-11T17:09:27.185014Z"
    },
    "papermill": {
     "duration": 0.460519,
     "end_time": "2024-04-11T17:09:27.188349",
     "exception": false,
     "start_time": "2024-04-11T17:09:26.727830",
     "status": "completed"
    },
    "tags": []
   },
   "outputs": [
    {
     "name": "stdout",
     "output_type": "stream",
     "text": [
      "Non-suicidal dataframe:               label                                        twitterText\n",
      "0      NOT_SUICIDAL  yall the feminists i know on twitter are happi...\n",
      "1      NOT_SUICIDAL  Imagine bini sedap masak and his brain thinks ...\n",
      "2      NOT_SUICIDAL  Kita masak macam katering dah raya ni dia kalu...\n",
      "3      NOT_SUICIDAL  Masak ni survival skills, bukan gender roles. ...\n",
      "4      NOT_SUICIDAL  Istg if I were a man, I'd surely date her. \\n\\...\n",
      "...             ...                                                ...\n",
      "35307  NOT_SUICIDAL  @leo_edw W slalu punya feel kalo dia cuma ghos...\n",
      "35308  NOT_SUICIDAL  Jog! Lagi ngrasake bersyukur tapi yo kesel ki,...\n",
      "35309  NOT_SUICIDAL  @mks_fess itulah pentingnya tidak berharap ket...\n",
      "35310  NOT_SUICIDAL  Moots pdkt yuk tapi enih harus delapan kata ad...\n",
      "35311  NOT_SUICIDAL  Pengertian Ghosting dan Cara Menghindarinya: H...\n",
      "\n",
      "[35312 rows x 2 columns]\n",
      "Non-suicidal dataframe:               label                                        twitterText\n",
      "0      NOT_SUICIDAL  [cm] sekarang aku paham kenapa anak semester a...\n",
      "1      NOT_SUICIDAL  Semoga kita kuat kuat aja ya ngejalanin hidup ...\n",
      "2      NOT_SUICIDAL                              pengen bundir lmaoooo\n",
      "3      NOT_SUICIDAL  sumpah pengen gua katain anjing tolol bego ban...\n",
      "4      NOT_SUICIDAL                   pengen beli immortal trus bundir\n",
      "...             ...                                                ...\n",
      "35392  NOT_SUICIDAL         @kadyasandya coba bundir di jembatan suhat\n",
      "35393  NOT_SUICIDAL  @BluueBleGum tapi gua jadi mikir nih, kan pres...\n",
      "35394  NOT_SUICIDAL  @amordevaleri @WeningAA @CNNIndonesia iya aku ...\n",
      "35395  NOT_SUICIDAL  Gua pas itu gini\\n\\n\"Capek bgt pikiran bundir ...\n",
      "35396  NOT_SUICIDAL  Dulu pernah ampe udh cari cara di google tapi ...\n",
      "\n",
      "[35397 rows x 2 columns]\n"
     ]
    }
   ],
   "source": [
    "df_not_suicidal_a = pd.read_csv(\"/kaggle/input/manual-annotation-indo-twitter-suicide/final-non-suicide-dataset.csv\", usecols=['label', 'twitterText'])\n",
    "df_not_suicidal_a.dropna(inplace=True)\n",
    "df_not_suicidal_a['label'] = \"NOT_SUICIDAL\"\n",
    "print(\"Non-suicidal dataframe:\", df_not_suicidal_a)\n",
    "\n",
    "df_not_suicidal_b = pd.read_csv(\"/kaggle/input/manual-annotation-indo-twitter-suicide/final-annotated-non-suicide-dataset.csv\", usecols=['label', 'twitterText'])\n",
    "df_not_suicidal_b.dropna(inplace=True)\n",
    "df_not_suicidal_b['label'] = \"NOT_SUICIDAL\"\n",
    "print(\"Non-suicidal dataframe:\", df_not_suicidal_b)"
   ]
  },
  {
   "cell_type": "code",
   "execution_count": 3,
   "id": "3d808fb2",
   "metadata": {
    "execution": {
     "iopub.execute_input": "2024-04-11T17:09:27.206653Z",
     "iopub.status.busy": "2024-04-11T17:09:27.206393Z",
     "iopub.status.idle": "2024-04-11T17:09:27.221019Z",
     "shell.execute_reply": "2024-04-11T17:09:27.220335Z"
    },
    "papermill": {
     "duration": 0.025799,
     "end_time": "2024-04-11T17:09:27.223094",
     "exception": false,
     "start_time": "2024-04-11T17:09:27.197295",
     "status": "completed"
    },
    "tags": []
   },
   "outputs": [
    {
     "name": "stdout",
     "output_type": "stream",
     "text": [
      "Non-suicidal dataframe:              label                                        twitterText\n",
      "0     NOT_SUICIDAL  Gak mudah mengakhiri hubungan di umur 26thn di...\n",
      "1     NOT_SUICIDAL                   Canda. Sesempetnya aja ya bous 😎\n",
      "2     NOT_SUICIDAL  @thekuxell Cara Israel mengurangi populasi ten...\n",
      "3     NOT_SUICIDAL  Aku hanya lelah hidup seperti ini, tak tau har...\n",
      "4     NOT_SUICIDAL  Ada orang yg pintar karena tekun belajar dan a...\n",
      "...            ...                                                ...\n",
      "8727  NOT_SUICIDAL  @kkmanti @kangadang1 @Yanuardychandra @floriel...\n",
      "8728  NOT_SUICIDAL  @Don_gindo Kok dek akibat singo di ajar makan ...\n",
      "8729  NOT_SUICIDAL  Mande :\"Jadi mo cium gak\"\\nSurya :\"ntar aja ka...\n",
      "8730  NOT_SUICIDAL  Tuhan...knp z harus kenal,cyg,n nikah dg org y...\n",
      "8731  NOT_SUICIDAL  Demi tuhan, ini narasi paling berkesan. Gemes,...\n",
      "\n",
      "[8732 rows x 2 columns]\n"
     ]
    }
   ],
   "source": [
    "#Combine non-suicidal datasets from non-suicide keyword query (a) and suicide keyword but annotated non-suicide (b)\n",
    "#Randomly sample 8732 data to match number of suicidal data\n",
    "df_not_suicidal = pd.concat([df_not_suicidal_a, df_not_suicidal_b])\n",
    "df_not_suicidal = df_not_suicidal.sample(n=8732, random_state=42).reset_index(drop=True)\n",
    "print(\"Non-suicidal dataframe:\", df_not_suicidal)"
   ]
  },
  {
   "cell_type": "code",
   "execution_count": 4,
   "id": "177400f4",
   "metadata": {
    "execution": {
     "iopub.execute_input": "2024-04-11T17:09:27.240836Z",
     "iopub.status.busy": "2024-04-11T17:09:27.240586Z",
     "iopub.status.idle": "2024-04-11T17:09:27.249320Z",
     "shell.execute_reply": "2024-04-11T17:09:27.248296Z"
    },
    "papermill": {
     "duration": 0.01974,
     "end_time": "2024-04-11T17:09:27.251256",
     "exception": false,
     "start_time": "2024-04-11T17:09:27.231516",
     "status": "completed"
    },
    "tags": []
   },
   "outputs": [
    {
     "name": "stdout",
     "output_type": "stream",
     "text": [
      "              label                                        twitterText\n",
      "0          SUICIDAL  \"pengen bunuh diri aja\"\\nyang paling sering te...\n",
      "1          SUICIDAL  Secara tidak langsung punya Fikiran pengen bun...\n",
      "2          SUICIDAL          sejam lalu haha hihi sekarang pengen mati\n",
      "3          SUICIDAL  Baru kelar 1 masalah datang lagi malah lainnya...\n",
      "4          SUICIDAL       fuck bundir aku lagi pgn mabok smpk ga sadar\n",
      "...             ...                                                ...\n",
      "17459  NOT_SUICIDAL  @kkmanti @kangadang1 @Yanuardychandra @floriel...\n",
      "17460  NOT_SUICIDAL  @Don_gindo Kok dek akibat singo di ajar makan ...\n",
      "17461  NOT_SUICIDAL  Mande :\"Jadi mo cium gak\"\\nSurya :\"ntar aja ka...\n",
      "17462  NOT_SUICIDAL  Tuhan...knp z harus kenal,cyg,n nikah dg org y...\n",
      "17463  NOT_SUICIDAL  Demi tuhan, ini narasi paling berkesan. Gemes,...\n",
      "\n",
      "[17464 rows x 2 columns]\n"
     ]
    }
   ],
   "source": [
    "df = pd.concat([df_suicidal, df_not_suicidal])\n",
    "df = df.reset_index(drop=True)\n",
    "print(df)"
   ]
  },
  {
   "cell_type": "code",
   "execution_count": 5,
   "id": "c6f97162",
   "metadata": {
    "execution": {
     "iopub.execute_input": "2024-04-11T17:09:27.269616Z",
     "iopub.status.busy": "2024-04-11T17:09:27.268987Z",
     "iopub.status.idle": "2024-04-11T17:09:27.293430Z",
     "shell.execute_reply": "2024-04-11T17:09:27.292486Z"
    },
    "papermill": {
     "duration": 0.035899,
     "end_time": "2024-04-11T17:09:27.295643",
     "exception": false,
     "start_time": "2024-04-11T17:09:27.259744",
     "status": "completed"
    },
    "tags": []
   },
   "outputs": [
    {
     "name": "stdout",
     "output_type": "stream",
     "text": [
      "       label                                        twitterText\n",
      "0          1  \"pengen bunuh diri aja\"\\nyang paling sering te...\n",
      "1          1  Secara tidak langsung punya Fikiran pengen bun...\n",
      "2          1          sejam lalu haha hihi sekarang pengen mati\n",
      "3          1  Baru kelar 1 masalah datang lagi malah lainnya...\n",
      "4          1       fuck bundir aku lagi pgn mabok smpk ga sadar\n",
      "...      ...                                                ...\n",
      "17459      0  @kkmanti @kangadang1 @Yanuardychandra @floriel...\n",
      "17460      0  @Don_gindo Kok dek akibat singo di ajar makan ...\n",
      "17461      0  Mande :\"Jadi mo cium gak\"\\nSurya :\"ntar aja ka...\n",
      "17462      0  Tuhan...knp z harus kenal,cyg,n nikah dg org y...\n",
      "17463      0  Demi tuhan, ini narasi paling berkesan. Gemes,...\n",
      "\n",
      "[17464 rows x 2 columns]\n"
     ]
    },
    {
     "name": "stderr",
     "output_type": "stream",
     "text": [
      "/tmp/ipykernel_24/3044191695.py:1: FutureWarning: Downcasting behavior in `replace` is deprecated and will be removed in a future version. To retain the old behavior, explicitly call `result.infer_objects(copy=False)`. To opt-in to the future behavior, set `pd.set_option('future.no_silent_downcasting', True)`\n",
      "  df['label'] = df['label'].replace({'SUICIDAL': 1, 'NOT_SUICIDAL': 0})\n"
     ]
    }
   ],
   "source": [
    "df['label'] = df['label'].replace({'SUICIDAL': 1, 'NOT_SUICIDAL': 0})\n",
    "print(df)"
   ]
  },
  {
   "cell_type": "markdown",
   "id": "3c65fe3f",
   "metadata": {
    "papermill": {
     "duration": 0.008659,
     "end_time": "2024-04-11T17:09:27.314256",
     "exception": false,
     "start_time": "2024-04-11T17:09:27.305597",
     "status": "completed"
    },
    "tags": []
   },
   "source": [
    "# Libraries"
   ]
  },
  {
   "cell_type": "code",
   "execution_count": 6,
   "id": "e284faba",
   "metadata": {
    "execution": {
     "iopub.execute_input": "2024-04-11T17:09:27.333014Z",
     "iopub.status.busy": "2024-04-11T17:09:27.332771Z",
     "iopub.status.idle": "2024-04-11T17:09:53.945314Z",
     "shell.execute_reply": "2024-04-11T17:09:53.944414Z"
    },
    "papermill": {
     "duration": 26.624617,
     "end_time": "2024-04-11T17:09:53.947726",
     "exception": false,
     "start_time": "2024-04-11T17:09:27.323109",
     "status": "completed"
    },
    "tags": []
   },
   "outputs": [
    {
     "name": "stdout",
     "output_type": "stream",
     "text": [
      "Collecting indonlp\r\n",
      "  Downloading indoNLP-0.3.4-py3-none-any.whl.metadata (3.4 kB)\r\n",
      "Downloading indoNLP-0.3.4-py3-none-any.whl (121 kB)\r\n",
      "\u001b[2K   \u001b[90m━━━━━━━━━━━━━━━━━━━━━━━━━━━━━━━━━━━━━━━━\u001b[0m \u001b[32m121.9/121.9 kB\u001b[0m \u001b[31m1.2 MB/s\u001b[0m eta \u001b[36m0:00:00\u001b[0m\r\n",
      "\u001b[?25hInstalling collected packages: indonlp\r\n",
      "Successfully installed indonlp-0.3.4\r\n",
      "Collecting unidecode\r\n",
      "  Downloading Unidecode-1.3.8-py3-none-any.whl.metadata (13 kB)\r\n",
      "Downloading Unidecode-1.3.8-py3-none-any.whl (235 kB)\r\n",
      "\u001b[2K   \u001b[90m━━━━━━━━━━━━━━━━━━━━━━━━━━━━━━━━━━━━━━━━\u001b[0m \u001b[32m235.5/235.5 kB\u001b[0m \u001b[31m2.2 MB/s\u001b[0m eta \u001b[36m0:00:00\u001b[0m\r\n",
      "\u001b[?25hInstalling collected packages: unidecode\r\n",
      "Successfully installed unidecode-1.3.8\r\n"
     ]
    }
   ],
   "source": [
    "!pip install indonlp\n",
    "!pip install unidecode"
   ]
  },
  {
   "cell_type": "markdown",
   "id": "71e8f990",
   "metadata": {
    "papermill": {
     "duration": 0.009751,
     "end_time": "2024-04-11T17:09:53.967970",
     "exception": false,
     "start_time": "2024-04-11T17:09:53.958219",
     "status": "completed"
    },
    "tags": []
   },
   "source": [
    "# Data Pre Processing"
   ]
  },
  {
   "cell_type": "markdown",
   "id": "293247cf",
   "metadata": {
    "papermill": {
     "duration": 0.009597,
     "end_time": "2024-04-11T17:09:53.987346",
     "exception": false,
     "start_time": "2024-04-11T17:09:53.977749",
     "status": "completed"
    },
    "tags": []
   },
   "source": [
    "1. Transliteration (there's cases makası, whose letter 'i' is a Turkish lowercase, making it seem like a 'new' word. We try to make it uniform to English letters, thus becoming 'makasi')\n",
    "2. Remove newlines"
   ]
  },
  {
   "cell_type": "code",
   "execution_count": 7,
   "id": "5aa86928",
   "metadata": {
    "execution": {
     "iopub.execute_input": "2024-04-11T17:09:54.008843Z",
     "iopub.status.busy": "2024-04-11T17:09:54.008544Z",
     "iopub.status.idle": "2024-04-11T17:09:54.447011Z",
     "shell.execute_reply": "2024-04-11T17:09:54.446214Z"
    },
    "papermill": {
     "duration": 0.452181,
     "end_time": "2024-04-11T17:09:54.449423",
     "exception": false,
     "start_time": "2024-04-11T17:09:53.997242",
     "status": "completed"
    },
    "tags": []
   },
   "outputs": [],
   "source": [
    "from unidecode import unidecode\n",
    "df['twitterText'] = df['twitterText'].apply(unidecode)\n",
    "df['twitterText'] = df['twitterText'].str.replace(\"\\n\", \"\")"
   ]
  },
  {
   "cell_type": "markdown",
   "id": "200a97f6",
   "metadata": {
    "papermill": {
     "duration": 0.009899,
     "end_time": "2024-04-11T17:09:54.469879",
     "exception": false,
     "start_time": "2024-04-11T17:09:54.459980",
     "status": "completed"
    },
    "tags": []
   },
   "source": [
    "3. Remove Elongation\n",
    "4. Convert Emoji To Indonesian Words"
   ]
  },
  {
   "cell_type": "code",
   "execution_count": 8,
   "id": "cecb86cb",
   "metadata": {
    "execution": {
     "iopub.execute_input": "2024-04-11T17:09:54.491709Z",
     "iopub.status.busy": "2024-04-11T17:09:54.491129Z",
     "iopub.status.idle": "2024-04-11T17:10:08.824721Z",
     "shell.execute_reply": "2024-04-11T17:10:08.823714Z"
    },
    "papermill": {
     "duration": 14.347179,
     "end_time": "2024-04-11T17:10:08.827105",
     "exception": false,
     "start_time": "2024-04-11T17:09:54.479926",
     "status": "completed"
    },
    "tags": []
   },
   "outputs": [
    {
     "name": "stdout",
     "output_type": "stream",
     "text": [
      "       label                                        twitterText\n",
      "0          1  \"pengen bunuh diri aja\"yang paling sering teru...\n",
      "1          1  Secara tidak langsung punya Fikiran pengen bun...\n",
      "2          1          sejam lalu haha hihi sekarang pengen mati\n",
      "3          1  Baru kelar 1 masalah datang lagi malah lainnya...\n",
      "4          1       fuck bundir aku lagi pgn mabok smpk ga sadar\n",
      "...      ...                                                ...\n",
      "17459      0  @kkmanti @kangadang1 @Yanuardychandra @floriel...\n",
      "17460      0  @Don_gindo Kok dek akibat singo di ajar makan ...\n",
      "17461      0  Mande :\"Jadi mo cium gak\"Surya :\"ntar aja kalo...\n",
      "17462      0  Tuhan...knp z harus kenal,cyg,n nikah dg org y...\n",
      "17463      0  Demi tuhan, ini narasi paling berkesan. Gemes,...\n",
      "\n",
      "[17464 rows x 2 columns]\n"
     ]
    }
   ],
   "source": [
    "from indoNLP.preprocessing import emoji_to_words, replace_word_elongation, remove_url, pipeline\n",
    "\n",
    "def preprocessing(twitterText):\n",
    "    pipe = pipeline([emoji_to_words, replace_word_elongation, remove_url])\n",
    "    return pipe(twitterText)\n",
    "df['twitterText'] = df['twitterText'].apply(preprocessing)\n",
    "print(df)"
   ]
  },
  {
   "cell_type": "markdown",
   "id": "f0ca9fbf",
   "metadata": {
    "papermill": {
     "duration": 0.010956,
     "end_time": "2024-04-11T17:10:08.850067",
     "exception": false,
     "start_time": "2024-04-11T17:10:08.839111",
     "status": "completed"
    },
    "tags": []
   },
   "source": [
    "5. Formalize Slang Words (Lemmatization)"
   ]
  },
  {
   "cell_type": "code",
   "execution_count": 9,
   "id": "f742fd91",
   "metadata": {
    "execution": {
     "iopub.execute_input": "2024-04-11T17:10:08.871781Z",
     "iopub.status.busy": "2024-04-11T17:10:08.871477Z",
     "iopub.status.idle": "2024-04-11T17:10:08.951011Z",
     "shell.execute_reply": "2024-04-11T17:10:08.950022Z"
    },
    "papermill": {
     "duration": 0.092827,
     "end_time": "2024-04-11T17:10:08.953135",
     "exception": false,
     "start_time": "2024-04-11T17:10:08.860308",
     "status": "completed"
    },
    "tags": []
   },
   "outputs": [
    {
     "name": "stdout",
     "output_type": "stream",
     "text": [
      "          slang         formal\n",
      "0          woww            wow\n",
      "1         aminn           amin\n",
      "2           met        selamat\n",
      "3        netaas        menetas\n",
      "4       keberpa       keberapa\n",
      "...         ...            ...\n",
      "15001  gataunya  enggak taunya\n",
      "15002      gtau     enggak tau\n",
      "15003     gatau     enggak tau\n",
      "15004     fans2        fan-fan\n",
      "15005   gaharus   enggak harus\n",
      "\n",
      "[15006 rows x 2 columns]\n"
     ]
    }
   ],
   "source": [
    "# Step 1: Read dataset of slang vs formal words\n",
    "# Taken from Colloquial Indonesian Lexicon by Salsabila, Winatmoko, Septriandi, and Jamal\n",
    "# https://ieeexplore.ieee.org/abstract/document/8629151\n",
    "slang_df = pd.read_csv('/kaggle/input/manual-annotation-indo-twitter-suicide/colloquial-indonesian-lexicon.csv', usecols=['slang', 'formal'])\n",
    "print(slang_df)"
   ]
  },
  {
   "cell_type": "code",
   "execution_count": 10,
   "id": "5b9f1035",
   "metadata": {
    "execution": {
     "iopub.execute_input": "2024-04-11T17:10:08.976930Z",
     "iopub.status.busy": "2024-04-11T17:10:08.976662Z",
     "iopub.status.idle": "2024-04-11T17:10:08.985542Z",
     "shell.execute_reply": "2024-04-11T17:10:08.984743Z"
    },
    "papermill": {
     "duration": 0.021692,
     "end_time": "2024-04-11T17:10:08.987242",
     "exception": false,
     "start_time": "2024-04-11T17:10:08.965550",
     "status": "completed"
    },
    "tags": []
   },
   "outputs": [],
   "source": [
    "# Step 2: Create a dictionary mapping slang words to their normalized versions\n",
    "# Note: Is equivalent to IndoNLP's replace_slang(), but we also added specific suicidal slangs here, which don't exist in the dataset\n",
    "slang_mapping = dict(zip(slang_df['slang'], slang_df['formal']))\n",
    "slang_mapping.update({\n",
    "    'm*ti': 'mati',\n",
    "    'm4ti': 'mati',\n",
    "    'bundir': 'bunuh diri',\n",
    "    'bund1r': 'bunuh diri'\n",
    "})"
   ]
  },
  {
   "cell_type": "code",
   "execution_count": 11,
   "id": "51809b2e",
   "metadata": {
    "execution": {
     "iopub.execute_input": "2024-04-11T17:10:09.008628Z",
     "iopub.status.busy": "2024-04-11T17:10:09.008385Z",
     "iopub.status.idle": "2024-04-11T17:10:09.223669Z",
     "shell.execute_reply": "2024-04-11T17:10:09.222978Z"
    },
    "papermill": {
     "duration": 0.228054,
     "end_time": "2024-04-11T17:10:09.225595",
     "exception": false,
     "start_time": "2024-04-11T17:10:08.997541",
     "status": "completed"
    },
    "tags": []
   },
   "outputs": [],
   "source": [
    "import re\n",
    "# Step 3: Compile regular expressions for each slang word\n",
    "slang_patterns = {re.compile(r'\\b' + re.escape(slang) + r'\\b'): normalized for slang, normalized in slang_mapping.items()}"
   ]
  },
  {
   "cell_type": "code",
   "execution_count": 12,
   "id": "dbac9aea",
   "metadata": {
    "execution": {
     "iopub.execute_input": "2024-04-11T17:10:09.247491Z",
     "iopub.status.busy": "2024-04-11T17:10:09.247194Z",
     "iopub.status.idle": "2024-04-11T17:15:33.613924Z",
     "shell.execute_reply": "2024-04-11T17:15:33.613040Z"
    },
    "papermill": {
     "duration": 324.391158,
     "end_time": "2024-04-11T17:15:33.627237",
     "exception": false,
     "start_time": "2024-04-11T17:10:09.236079",
     "status": "completed"
    },
    "tags": []
   },
   "outputs": [
    {
     "name": "stdout",
     "output_type": "stream",
     "text": [
      "<bound method NDFrame.head of        index  label                                        twitterText\n",
      "0          0      1  \"pengin bunuh diri saja\"yang paling sering ter...\n",
      "1          1      1  Secara tidak langsung punya Fikiran pengin bun...\n",
      "2          2      1          sejam lalu haha hihi sekarang pengin mati\n",
      "3          3      1  Baru kelar 1 masalah datang lagi malah lainnya...\n",
      "4          4      1  fuck bunuh diri aku lagi pengin mabok smpk eng...\n",
      "...      ...    ...                                                ...\n",
      "17459  17459      0  @kkmanti @kangadang1 @Yanuardychandra @floriel...\n",
      "17460  17460      0  @Don_gindo Kok dek akibat singo di ajar makan ...\n",
      "17461  17461      0  Mande :\"Jadi mau cium enggak\"Surya :\"entar saj...\n",
      "17462  17462      0  Tuhan...kenapa saja harus kenal,cyg,n nikah de...\n",
      "17463  17463      0  Demi tuhan, ini narasi paling berkesan. Gemes,...\n",
      "\n",
      "[17464 rows x 3 columns]>\n"
     ]
    }
   ],
   "source": [
    "# Step 4: Iterate through the Twitter dataset and replace slang words with normalized versions\n",
    "def replace_slang(text):\n",
    "    for pattern, normalized in slang_patterns.items():\n",
    "        text = pattern.sub(normalized, text)\n",
    "    return text\n",
    "\n",
    "df['twitterText'] = df['twitterText'].apply(replace_slang)\n",
    "df = df.reset_index()\n",
    "print(df.head)"
   ]
  },
  {
   "cell_type": "markdown",
   "id": "160f2e0d",
   "metadata": {
    "papermill": {
     "duration": 0.010667,
     "end_time": "2024-04-11T17:15:33.648591",
     "exception": false,
     "start_time": "2024-04-11T17:15:33.637924",
     "status": "completed"
    },
    "tags": []
   },
   "source": [
    "6. Remove twitter tags (@user)"
   ]
  },
  {
   "cell_type": "code",
   "execution_count": 13,
   "id": "6494bd82",
   "metadata": {
    "execution": {
     "iopub.execute_input": "2024-04-11T17:15:33.671046Z",
     "iopub.status.busy": "2024-04-11T17:15:33.670732Z",
     "iopub.status.idle": "2024-04-11T17:15:33.710196Z",
     "shell.execute_reply": "2024-04-11T17:15:33.709194Z"
    },
    "papermill": {
     "duration": 0.053178,
     "end_time": "2024-04-11T17:15:33.712093",
     "exception": false,
     "start_time": "2024-04-11T17:15:33.658915",
     "status": "completed"
    },
    "tags": []
   },
   "outputs": [
    {
     "name": "stdout",
     "output_type": "stream",
     "text": [
      "<bound method NDFrame.head of        index  label                                        twitterText\n",
      "0          0      1  \"pengin bunuh diri saja\"yang paling sering ter...\n",
      "1          1      1  Secara tidak langsung punya Fikiran pengin bun...\n",
      "2          2      1          sejam lalu haha hihi sekarang pengin mati\n",
      "3          3      1  Baru kelar 1 masalah datang lagi malah lainnya...\n",
      "4          4      1  fuck bunuh diri aku lagi pengin mabok smpk eng...\n",
      "...      ...    ...                                                ...\n",
      "17459  17459      0      Habis TL adanya Ribut Terus.Gak ada yang B...\n",
      "17460  17460      0   Kok dek akibat singo di ajar makan 2 buah pis...\n",
      "17461  17461      0  Mande :\"Jadi mau cium enggak\"Surya :\"entar saj...\n",
      "17462  17462      0  Tuhan...kenapa saja harus kenal,cyg,n nikah de...\n",
      "17463  17463      0  Demi tuhan, ini narasi paling berkesan. Gemes,...\n",
      "\n",
      "[17464 rows x 3 columns]>\n"
     ]
    }
   ],
   "source": [
    "def remove_twitter_tag(text):\n",
    "    return re.sub(r'@\\w+', '', text)\n",
    "\n",
    "df['twitterText'] = df['twitterText'].apply(remove_twitter_tag)\n",
    "print(df.head)"
   ]
  },
  {
   "cell_type": "code",
   "execution_count": 14,
   "id": "70826cc5",
   "metadata": {
    "execution": {
     "iopub.execute_input": "2024-04-11T17:15:33.734775Z",
     "iopub.status.busy": "2024-04-11T17:15:33.734520Z",
     "iopub.status.idle": "2024-04-11T17:15:33.745468Z",
     "shell.execute_reply": "2024-04-11T17:15:33.744329Z"
    },
    "papermill": {
     "duration": 0.024382,
     "end_time": "2024-04-11T17:15:33.747444",
     "exception": false,
     "start_time": "2024-04-11T17:15:33.723062",
     "status": "completed"
    },
    "tags": []
   },
   "outputs": [
    {
     "name": "stdout",
     "output_type": "stream",
     "text": [
      "[1 0]\n"
     ]
    }
   ],
   "source": [
    "print(df['label'].unique())"
   ]
  },
  {
   "cell_type": "markdown",
   "id": "0a379459",
   "metadata": {
    "papermill": {
     "duration": 0.010905,
     "end_time": "2024-04-11T17:15:33.769064",
     "exception": false,
     "start_time": "2024-04-11T17:15:33.758159",
     "status": "completed"
    },
    "tags": []
   },
   "source": [
    "# Classify Data"
   ]
  },
  {
   "cell_type": "code",
   "execution_count": 15,
   "id": "47c1ca1e",
   "metadata": {
    "execution": {
     "iopub.execute_input": "2024-04-11T17:15:33.791887Z",
     "iopub.status.busy": "2024-04-11T17:15:33.791629Z",
     "iopub.status.idle": "2024-04-11T17:16:32.409708Z",
     "shell.execute_reply": "2024-04-11T17:16:32.408679Z"
    },
    "papermill": {
     "duration": 58.632186,
     "end_time": "2024-04-11T17:16:32.411999",
     "exception": false,
     "start_time": "2024-04-11T17:15:33.779813",
     "status": "completed"
    },
    "tags": []
   },
   "outputs": [
    {
     "data": {
      "application/vnd.jupyter.widget-view+json": {
       "model_id": "6307d75b0704430d9d47399ddabecc67",
       "version_major": 2,
       "version_minor": 0
      },
      "text/plain": [
       "tokenizer_config.json:   0%|          | 0.00/2.00 [00:00<?, ?B/s]"
      ]
     },
     "metadata": {},
     "output_type": "display_data"
    },
    {
     "data": {
      "application/vnd.jupyter.widget-view+json": {
       "model_id": "222a3cbb9a954b9683c76dd7ed0630e1",
       "version_major": 2,
       "version_minor": 0
      },
      "text/plain": [
       "vocab.txt:   0%|          | 0.00/229k [00:00<?, ?B/s]"
      ]
     },
     "metadata": {},
     "output_type": "display_data"
    },
    {
     "data": {
      "application/vnd.jupyter.widget-view+json": {
       "model_id": "a7138ffc64894f03b5bdaf7e2d096dea",
       "version_major": 2,
       "version_minor": 0
      },
      "text/plain": [
       "special_tokens_map.json:   0%|          | 0.00/112 [00:00<?, ?B/s]"
      ]
     },
     "metadata": {},
     "output_type": "display_data"
    },
    {
     "data": {
      "application/vnd.jupyter.widget-view+json": {
       "model_id": "64b9af66d54b400bb62727647077d7ca",
       "version_major": 2,
       "version_minor": 0
      },
      "text/plain": [
       "config.json:   0%|          | 0.00/1.53k [00:00<?, ?B/s]"
      ]
     },
     "metadata": {},
     "output_type": "display_data"
    },
    {
     "data": {
      "application/vnd.jupyter.widget-view+json": {
       "model_id": "22da459c521045539fab0d5483186d5f",
       "version_major": 2,
       "version_minor": 0
      },
      "text/plain": [
       "pytorch_model.bin:   0%|          | 0.00/1.34G [00:00<?, ?B/s]"
      ]
     },
     "metadata": {},
     "output_type": "display_data"
    },
    {
     "name": "stderr",
     "output_type": "stream",
     "text": [
      "/opt/conda/lib/python3.10/site-packages/torch/_utils.py:831: UserWarning: TypedStorage is deprecated. It will be removed in the future and UntypedStorage will be the only storage class. This should only matter to you if you are using storages directly.  To access UntypedStorage directly, use tensor.untyped_storage() instead of tensor.storage()\n",
      "  return self.fget.__get__(instance, owner)()\n"
     ]
    }
   ],
   "source": [
    "# Load the IndobertModel and tokenizer\n",
    "from transformers import BertTokenizer, BertModel\n",
    "model_name = 'indobenchmark/indobert-large-p1'\n",
    "tokenizer = BertTokenizer.from_pretrained(model_name)\n",
    "bert_model = BertModel.from_pretrained(model_name)"
   ]
  },
  {
   "cell_type": "code",
   "execution_count": 16,
   "id": "1f632704",
   "metadata": {
    "execution": {
     "iopub.execute_input": "2024-04-11T17:16:32.439245Z",
     "iopub.status.busy": "2024-04-11T17:16:32.438468Z",
     "iopub.status.idle": "2024-04-11T17:16:32.444318Z",
     "shell.execute_reply": "2024-04-11T17:16:32.443554Z"
    },
    "papermill": {
     "duration": 0.020463,
     "end_time": "2024-04-11T17:16:32.446146",
     "exception": false,
     "start_time": "2024-04-11T17:16:32.425683",
     "status": "completed"
    },
    "tags": []
   },
   "outputs": [],
   "source": [
    "# Prepare the data\n",
    "texts = df['twitterText'].tolist()\n",
    "labels = df['label'].tolist()"
   ]
  },
  {
   "cell_type": "code",
   "execution_count": 17,
   "id": "d214e5e0",
   "metadata": {
    "execution": {
     "iopub.execute_input": "2024-04-11T17:16:32.471920Z",
     "iopub.status.busy": "2024-04-11T17:16:32.471674Z",
     "iopub.status.idle": "2024-04-11T17:16:34.191734Z",
     "shell.execute_reply": "2024-04-11T17:16:34.190943Z"
    },
    "papermill": {
     "duration": 1.735157,
     "end_time": "2024-04-11T17:16:34.194141",
     "exception": false,
     "start_time": "2024-04-11T17:16:32.458984",
     "status": "completed"
    },
    "tags": []
   },
   "outputs": [],
   "source": [
    "from sklearn.model_selection import train_test_split\n",
    "# Split the data into train and test sets 8:2\n",
    "train_texts, test_texts, train_labels, test_labels = train_test_split(texts, labels, test_size=0.2, random_state=42)"
   ]
  },
  {
   "cell_type": "code",
   "execution_count": 18,
   "id": "fda3f076",
   "metadata": {
    "execution": {
     "iopub.execute_input": "2024-04-11T17:16:34.221943Z",
     "iopub.status.busy": "2024-04-11T17:16:34.221465Z",
     "iopub.status.idle": "2024-04-11T17:16:34.376306Z",
     "shell.execute_reply": "2024-04-11T17:16:34.375340Z"
    },
    "papermill": {
     "duration": 0.171407,
     "end_time": "2024-04-11T17:16:34.378389",
     "exception": false,
     "start_time": "2024-04-11T17:16:34.206982",
     "status": "completed"
    },
    "tags": []
   },
   "outputs": [],
   "source": [
    "import torch\n",
    "\n",
    "if torch.cuda.is_available():\n",
    "    device = torch.device(\"cuda\")\n",
    "else:\n",
    "    print('No GPU available, using the CPU instead.')\n",
    "    device = torch.device(\"cpu\")\n",
    "\n",
    "def tokenize_and_create_input_tensors(texts):\n",
    "    input_ids = []\n",
    "    attention_masks = []\n",
    "\n",
    "    for text in texts:\n",
    "        encoded_dict = tokenizer.encode_plus(\n",
    "            text,\n",
    "            add_special_tokens=True,\n",
    "            max_length=128,  # You can adjust the max_length as per your needs\n",
    "            padding='max_length',\n",
    "            truncation=True,\n",
    "            return_attention_mask=True,\n",
    "            return_tensors='pt'\n",
    "        )\n",
    "\n",
    "        input_ids.append(encoded_dict['input_ids'])\n",
    "        attention_masks.append(encoded_dict['attention_mask'])\n",
    "\n",
    "    # Convert the lists to tensors\n",
    "    input_ids = torch.cat(input_ids, dim=0)\n",
    "    attention_masks = torch.cat(attention_masks, dim=0)\n",
    "\n",
    "    return input_ids, attention_masks"
   ]
  },
  {
   "cell_type": "code",
   "execution_count": 19,
   "id": "60762367",
   "metadata": {
    "execution": {
     "iopub.execute_input": "2024-04-11T17:16:34.404948Z",
     "iopub.status.busy": "2024-04-11T17:16:34.404648Z",
     "iopub.status.idle": "2024-04-11T17:16:51.046396Z",
     "shell.execute_reply": "2024-04-11T17:16:51.045401Z"
    },
    "papermill": {
     "duration": 16.656673,
     "end_time": "2024-04-11T17:16:51.048442",
     "exception": false,
     "start_time": "2024-04-11T17:16:34.391769",
     "status": "completed"
    },
    "tags": []
   },
   "outputs": [
    {
     "name": "stdout",
     "output_type": "stream",
     "text": [
      "Before:\n",
      "torch.Size([13971, 128])\n",
      "torch.Size([13971, 128])\n",
      "torch.Size([13971])\n",
      "After:\n",
      "torch.Size([13971, 128])\n",
      "torch.Size([13971, 128])\n",
      "torch.Size([13971])\n"
     ]
    }
   ],
   "source": [
    "train_input_ids, train_attention_masks = tokenize_and_create_input_tensors(train_texts)\n",
    "train_labels = torch.tensor(train_labels).to(device)\n",
    "\n",
    "print(\"Before:\")\n",
    "print(train_input_ids.shape)\n",
    "print(train_attention_masks.shape)\n",
    "print(train_labels.shape)\n",
    "\n",
    "train_input_ids = train_input_ids.squeeze(dim=1).to(device)\n",
    "train_attention_masks = train_attention_masks.squeeze(dim=1).to(device)\n",
    "\n",
    "print(\"After:\")\n",
    "print(train_input_ids.shape)\n",
    "print(train_attention_masks.shape)\n",
    "print(train_labels.shape)"
   ]
  },
  {
   "cell_type": "code",
   "execution_count": 20,
   "id": "00e10226",
   "metadata": {
    "execution": {
     "iopub.execute_input": "2024-04-11T17:16:51.074001Z",
     "iopub.status.busy": "2024-04-11T17:16:51.073701Z",
     "iopub.status.idle": "2024-04-11T17:16:55.110117Z",
     "shell.execute_reply": "2024-04-11T17:16:55.109101Z"
    },
    "papermill": {
     "duration": 4.051576,
     "end_time": "2024-04-11T17:16:55.112423",
     "exception": false,
     "start_time": "2024-04-11T17:16:51.060847",
     "status": "completed"
    },
    "tags": []
   },
   "outputs": [
    {
     "name": "stdout",
     "output_type": "stream",
     "text": [
      "After:\n",
      "torch.Size([3493, 128])\n",
      "torch.Size([3493, 128])\n",
      "torch.Size([3493])\n"
     ]
    }
   ],
   "source": [
    "test_input_ids, test_attention_masks = tokenize_and_create_input_tensors(test_texts)\n",
    "test_labels = torch.tensor(test_labels).to(device)\n",
    "\n",
    "test_input_ids = test_input_ids.squeeze(dim=1).to(device)\n",
    "test_attention_masks = test_attention_masks.squeeze(dim=1).to(device)\n",
    "\n",
    "print(\"After:\")\n",
    "print(test_input_ids.shape)\n",
    "print(test_attention_masks.shape)\n",
    "print(test_labels.shape)"
   ]
  },
  {
   "cell_type": "code",
   "execution_count": 21,
   "id": "963ebb24",
   "metadata": {
    "execution": {
     "iopub.execute_input": "2024-04-11T17:16:55.139239Z",
     "iopub.status.busy": "2024-04-11T17:16:55.138450Z",
     "iopub.status.idle": "2024-04-11T17:16:55.197434Z",
     "shell.execute_reply": "2024-04-11T17:16:55.196693Z"
    },
    "papermill": {
     "duration": 0.07461,
     "end_time": "2024-04-11T17:16:55.199710",
     "exception": false,
     "start_time": "2024-04-11T17:16:55.125100",
     "status": "completed"
    },
    "tags": []
   },
   "outputs": [],
   "source": [
    "torch.save(train_input_ids, '/kaggle/working/train_input_ids.pt')\n",
    "torch.save(train_attention_masks, '/kaggle/working/train_attention_masks.pt')\n",
    "torch.save(train_labels, '/kaggle/working/train_labels.pt')\n",
    "\n",
    "torch.save(test_input_ids, '/kaggle/working/test_input_ids.pt')\n",
    "torch.save(test_attention_masks, '/kaggle/working/test_attention_masks.pt')\n",
    "torch.save(test_labels, '/kaggle/working/test_labels.pt')"
   ]
  },
  {
   "cell_type": "code",
   "execution_count": 22,
   "id": "680ecd09",
   "metadata": {
    "execution": {
     "iopub.execute_input": "2024-04-11T17:16:55.226010Z",
     "iopub.status.busy": "2024-04-11T17:16:55.225739Z",
     "iopub.status.idle": "2024-04-11T17:16:55.234881Z",
     "shell.execute_reply": "2024-04-11T17:16:55.234137Z"
    },
    "papermill": {
     "duration": 0.023999,
     "end_time": "2024-04-11T17:16:55.236599",
     "exception": false,
     "start_time": "2024-04-11T17:16:55.212600",
     "status": "completed"
    },
    "tags": []
   },
   "outputs": [],
   "source": [
    "import torch.nn as nn\n",
    "import torch.nn.functional as F\n",
    "\n",
    "class BertCNNClassifier(nn.Module):\n",
    "    def __init__(self, bert_model, num_filters, kernel_sizes, num_classes):\n",
    "        super(BertCNNClassifier, self).__init__()\n",
    "        self.bert = bert_model\n",
    "        self.conv1d = nn.ModuleList([nn.Conv1d(bert_model.config.hidden_size, num_filters, kernel_size, bias=True) for kernel_size in kernel_sizes])\n",
    "        self.dropout = nn.Dropout(0.45)\n",
    "        self.fc = nn.Linear(len(kernel_sizes) * num_filters, num_classes, bias=True)\n",
    "\n",
    "    def forward(self, input_ids, attention_mask):\n",
    "        token_type_ids = torch.zeros_like(input_ids)  # Create token_type_ids tensor\n",
    "        outputs = self.bert(input_ids=input_ids, attention_mask=attention_mask, token_type_ids=token_type_ids)\n",
    "        last_hidden_state = outputs[0].permute(0, 2, 1)  # (batch_size, hidden_size, seq_len)\n",
    "\n",
    "        conved = [torch.relu(conv(last_hidden_state)) for conv in self.conv1d]  # Apply convolution to each kernel\n",
    "        pooled = [F.max_pool1d(conv, conv.shape[2]).squeeze(2) for conv in conved]  # Max-over-time pooling\n",
    "        cat = self.dropout(torch.cat(pooled, dim=1))  # Concatenate pooled outputs and apply dropout\n",
    "\n",
    "        logits = self.fc(cat)  # Apply linear layer for classification\n",
    "        return logits"
   ]
  },
  {
   "cell_type": "code",
   "execution_count": 23,
   "id": "a80ad996",
   "metadata": {
    "execution": {
     "iopub.execute_input": "2024-04-11T17:16:55.262512Z",
     "iopub.status.busy": "2024-04-11T17:16:55.262200Z",
     "iopub.status.idle": "2024-04-11T17:16:55.709022Z",
     "shell.execute_reply": "2024-04-11T17:16:55.708056Z"
    },
    "papermill": {
     "duration": 0.461993,
     "end_time": "2024-04-11T17:16:55.711288",
     "exception": false,
     "start_time": "2024-04-11T17:16:55.249295",
     "status": "completed"
    },
    "tags": []
   },
   "outputs": [],
   "source": [
    "num_filters = 700  # Number of filters for each kernel size\n",
    "kernel_sizes = [2, 3, 4]  # List of kernel sizes\n",
    "num_classes = 2\n",
    "\n",
    "# Initialize the CNN model\n",
    "model = BertCNNClassifier(bert_model, num_filters, kernel_sizes, num_classes).to(device)"
   ]
  },
  {
   "cell_type": "code",
   "execution_count": 24,
   "id": "f277d075",
   "metadata": {
    "execution": {
     "iopub.execute_input": "2024-04-11T17:16:55.740148Z",
     "iopub.status.busy": "2024-04-11T17:16:55.739855Z",
     "iopub.status.idle": "2024-04-11T17:16:55.747147Z",
     "shell.execute_reply": "2024-04-11T17:16:55.746239Z"
    },
    "papermill": {
     "duration": 0.023766,
     "end_time": "2024-04-11T17:16:55.749096",
     "exception": false,
     "start_time": "2024-04-11T17:16:55.725330",
     "status": "completed"
    },
    "tags": []
   },
   "outputs": [],
   "source": [
    "# Define the loss function and optimizer\n",
    "criterion = nn.CrossEntropyLoss()\n",
    "optimizer = torch.optim.Adam(model.parameters(), lr=2.45e-5)"
   ]
  },
  {
   "cell_type": "code",
   "execution_count": 25,
   "id": "e571700e",
   "metadata": {
    "execution": {
     "iopub.execute_input": "2024-04-11T17:16:55.776423Z",
     "iopub.status.busy": "2024-04-11T17:16:55.775909Z",
     "iopub.status.idle": "2024-04-11T17:16:55.781462Z",
     "shell.execute_reply": "2024-04-11T17:16:55.780578Z"
    },
    "papermill": {
     "duration": 0.021144,
     "end_time": "2024-04-11T17:16:55.783178",
     "exception": false,
     "start_time": "2024-04-11T17:16:55.762034",
     "status": "completed"
    },
    "tags": []
   },
   "outputs": [],
   "source": [
    "from torch.utils.data import TensorDataset, DataLoader, RandomSampler, SequentialSampler\n",
    "\n",
    "# Create TensorDatasets and DataLoaders\n",
    "batch_size = 32\n",
    "\n",
    "train_data = TensorDataset(train_input_ids, train_attention_masks, train_labels)\n",
    "train_sampler = RandomSampler(train_data)\n",
    "train_dataloader = DataLoader(train_data, sampler=train_sampler, batch_size=batch_size)"
   ]
  },
  {
   "cell_type": "code",
   "execution_count": 26,
   "id": "ff1f8466",
   "metadata": {
    "execution": {
     "iopub.execute_input": "2024-04-11T17:16:55.809708Z",
     "iopub.status.busy": "2024-04-11T17:16:55.808982Z",
     "iopub.status.idle": "2024-04-11T17:16:55.813643Z",
     "shell.execute_reply": "2024-04-11T17:16:55.812776Z"
    },
    "papermill": {
     "duration": 0.019767,
     "end_time": "2024-04-11T17:16:55.815553",
     "exception": false,
     "start_time": "2024-04-11T17:16:55.795786",
     "status": "completed"
    },
    "tags": []
   },
   "outputs": [
    {
     "name": "stdout",
     "output_type": "stream",
     "text": [
      "437\n"
     ]
    }
   ],
   "source": [
    "print(len(train_dataloader)) # number of batches"
   ]
  },
  {
   "cell_type": "markdown",
   "id": "e4450e37",
   "metadata": {
    "papermill": {
     "duration": 0.012382,
     "end_time": "2024-04-11T17:16:55.840448",
     "exception": false,
     "start_time": "2024-04-11T17:16:55.828066",
     "status": "completed"
    },
    "tags": []
   },
   "source": [
    "Training for 4 epochs"
   ]
  },
  {
   "cell_type": "code",
   "execution_count": 27,
   "id": "810fb0ac",
   "metadata": {
    "execution": {
     "iopub.execute_input": "2024-04-11T17:16:55.867855Z",
     "iopub.status.busy": "2024-04-11T17:16:55.867050Z",
     "iopub.status.idle": "2024-04-11T18:22:52.478128Z",
     "shell.execute_reply": "2024-04-11T18:22:52.477377Z"
    },
    "papermill": {
     "duration": 3956.627357,
     "end_time": "2024-04-11T18:22:52.480564",
     "exception": false,
     "start_time": "2024-04-11T17:16:55.853207",
     "status": "completed"
    },
    "tags": []
   },
   "outputs": [
    {
     "name": "stdout",
     "output_type": "stream",
     "text": [
      "epoch  0  batch  0   2024-04-11 17:16:56.074022\n",
      "epoch  0  batch  100   2024-04-11 17:20:38.508751\n",
      "epoch  0  batch  200   2024-04-11 17:24:24.889390\n",
      "epoch  0  batch  300   2024-04-11 17:28:11.303922\n",
      "epoch  0  batch  400   2024-04-11 17:31:57.684879\n",
      "epoch  1  batch  0   2024-04-11 17:33:20.671131\n",
      "epoch  1  batch  100   2024-04-11 17:37:06.917701\n",
      "epoch  1  batch  200   2024-04-11 17:40:53.545118\n",
      "epoch  1  batch  300   2024-04-11 17:44:39.882826\n",
      "epoch  1  batch  400   2024-04-11 17:48:26.369094\n",
      "epoch  2  batch  0   2024-04-11 17:49:49.400635\n",
      "epoch  2  batch  100   2024-04-11 17:53:35.742332\n",
      "epoch  2  batch  200   2024-04-11 17:57:22.104398\n",
      "epoch  2  batch  300   2024-04-11 18:01:07.969647\n",
      "epoch  2  batch  400   2024-04-11 18:04:54.562447\n",
      "epoch  3  batch  0   2024-04-11 18:06:17.656988\n",
      "epoch  3  batch  100   2024-04-11 18:10:04.181919\n",
      "epoch  3  batch  200   2024-04-11 18:13:50.641016\n",
      "epoch  3  batch  300   2024-04-11 18:17:37.167376\n",
      "epoch  3  batch  400   2024-04-11 18:21:23.718253\n"
     ]
    }
   ],
   "source": [
    "import datetime\n",
    "import gc\n",
    "# Train the model\n",
    "\n",
    "def save_ckp(state):\n",
    "    f_path = '/kaggle/working/' + 'checkpoint_epoch' + str(state['epoch']) + '.pt'\n",
    "    torch.save(state, f_path)\n",
    "\n",
    "num_epoch = 4\n",
    "gc.collect()\n",
    "torch.cuda.empty_cache()\n",
    "\n",
    "for i in range(num_epoch):\n",
    "  num_batch = 0\n",
    "  for batch in train_dataloader:\n",
    "    if (num_batch % 100 == 0):\n",
    "      print('epoch ', i, ' batch ', num_batch, ' ', datetime.datetime.now())\n",
    "    input_ids, attention_masks, labels = batch\n",
    "    outputs = model(input_ids, attention_masks)\n",
    "    loss = criterion(outputs, labels)\n",
    "\n",
    "    optimizer.zero_grad()\n",
    "    loss.backward()\n",
    "    optimizer.step()\n",
    "    num_batch+=1\n",
    "    del input_ids\n",
    "    del attention_masks\n",
    "    del labels\n",
    "    del outputs\n",
    "    gc.collect()\n",
    "    torch.cuda.empty_cache()\n",
    "\n",
    "checkpoint = {\n",
    "    'epoch': num_epoch - 1,\n",
    "    'state_dict': model.state_dict(),\n",
    "    'optimizer': optimizer.state_dict()\n",
    "}\n",
    "save_ckp(checkpoint)\n",
    "\n",
    "del train_data\n",
    "del train_sampler\n",
    "del train_dataloader\n",
    "gc.collect()\n",
    "torch.cuda.empty_cache()"
   ]
  },
  {
   "cell_type": "code",
   "execution_count": 28,
   "id": "a35466ad",
   "metadata": {
    "execution": {
     "iopub.execute_input": "2024-04-11T18:22:56.630222Z",
     "iopub.status.busy": "2024-04-11T18:22:56.628953Z",
     "iopub.status.idle": "2024-04-11T18:24:13.079947Z",
     "shell.execute_reply": "2024-04-11T18:24:13.078905Z"
    },
    "papermill": {
     "duration": 76.517452,
     "end_time": "2024-04-11T18:24:13.099042",
     "exception": false,
     "start_time": "2024-04-11T18:22:56.581590",
     "status": "completed"
    },
    "tags": []
   },
   "outputs": [
    {
     "name": "stdout",
     "output_type": "stream",
     "text": [
      "Accuracy: 0.9107\n",
      "Recall: 0.9349\n",
      "Precision: 0.8934\n",
      "F1-Score: 0.9137\n"
     ]
    },
    {
     "data": {
      "text/plain": [
       "0"
      ]
     },
     "execution_count": 28,
     "metadata": {},
     "output_type": "execute_result"
    }
   ],
   "source": [
    "from sklearn.metrics import accuracy_score, recall_score, precision_score, f1_score\n",
    "import torch.nn.functional as F\n",
    "\n",
    "# Evaluate the model on the test set\n",
    "model.eval()\n",
    "test_preds = []\n",
    "test_proba = []\n",
    "test_labels_list = []\n",
    "\n",
    "test_data = TensorDataset(test_input_ids, test_attention_masks, test_labels)\n",
    "test_sampler = SequentialSampler(test_data)\n",
    "test_dataloader = DataLoader(test_data, sampler=test_sampler, batch_size=batch_size)\n",
    "\n",
    "with torch.no_grad():\n",
    "    for batch in test_dataloader:\n",
    "        input_ids, attention_masks, labels = batch\n",
    "        outputs = model(input_ids, attention_masks)\n",
    "        preds = torch.argmax(outputs, dim=1)\n",
    "        test_preds.extend(preds.tolist())\n",
    "        test_proba.extend(F.softmax(outputs, dim=1)[:, 1])\n",
    "        test_labels_list.extend(labels.tolist())\n",
    "\n",
    "accuracy = accuracy_score(test_labels_list, test_preds)\n",
    "recall = recall_score(test_labels_list, test_preds)\n",
    "precision = precision_score(test_labels_list, test_preds)\n",
    "f1 = f1_score(test_labels_list, test_preds)\n",
    "test_proba = [i.cpu().tolist() for i in test_proba]\n",
    "\n",
    "print(f\"Accuracy: {accuracy:.4f}\")\n",
    "print(f\"Recall: {recall:.4f}\")\n",
    "print(f\"Precision: {precision:.4f}\")\n",
    "print(f\"F1-Score: {f1:.4f}\")\n",
    "\n",
    "del test_data\n",
    "del test_sampler\n",
    "del test_dataloader\n",
    "gc.collect()\n",
    "torch.cuda.empty_cache()\n",
    "gc.collect()"
   ]
  },
  {
   "cell_type": "code",
   "execution_count": 29,
   "id": "98c3479e",
   "metadata": {
    "execution": {
     "iopub.execute_input": "2024-04-11T18:24:13.134067Z",
     "iopub.status.busy": "2024-04-11T18:24:13.133732Z",
     "iopub.status.idle": "2024-04-11T18:24:13.728647Z",
     "shell.execute_reply": "2024-04-11T18:24:13.727652Z"
    },
    "papermill": {
     "duration": 0.614504,
     "end_time": "2024-04-11T18:24:13.730698",
     "exception": false,
     "start_time": "2024-04-11T18:24:13.116194",
     "status": "completed"
    },
    "tags": []
   },
   "outputs": [
    {
     "data": {
      "image/png": "[encoded data removed]",
      "text/plain": [
       "<Figure size 640x480 with 2 Axes>"
      ]
     },
     "metadata": {},
     "output_type": "display_data"
    }
   ],
   "source": [
    "from sklearn.metrics import confusion_matrix\n",
    "import seaborn as sns\n",
    "import matplotlib.pyplot as plt\n",
    "\n",
    "cf_matrix = confusion_matrix(test_labels_list, test_preds)\n",
    "\n",
    "cf = sns.heatmap(cf_matrix, annot=True, fmt='d')\n",
    "cf.xaxis.set_ticklabels(['Negative', 'Positive'])\n",
    "cf.set_xlabel('Predicted Label')\n",
    "cf.yaxis.set_ticklabels(['Negative', 'Positive'])\n",
    "cf.set_ylabel('True Label')\n",
    "cf.set_title(\"Confusion Matrix for Indonesian Language Suicidal Posts Classification\", pad=20)\n",
    "\n",
    "plt.show()"
   ]
  },
  {
   "cell_type": "code",
   "execution_count": 30,
   "id": "bc880e37",
   "metadata": {
    "execution": {
     "iopub.execute_input": "2024-04-11T18:24:13.764493Z",
     "iopub.status.busy": "2024-04-11T18:24:13.763978Z",
     "iopub.status.idle": "2024-04-11T18:24:14.103318Z",
     "shell.execute_reply": "2024-04-11T18:24:14.102405Z"
    },
    "papermill": {
     "duration": 0.358527,
     "end_time": "2024-04-11T18:24:14.105341",
     "exception": false,
     "start_time": "2024-04-11T18:24:13.746814",
     "status": "completed"
    },
    "tags": []
   },
   "outputs": [
    {
     "name": "stdout",
     "output_type": "stream",
     "text": [
      "ROC AUC Score:\n",
      "0.9633421883207285\n"
     ]
    },
    {
     "data": {
      "image/png": "[encoded data removed]",
      "text/plain": [
       "<Figure size 500x500 with 1 Axes>"
      ]
     },
     "metadata": {},
     "output_type": "display_data"
    }
   ],
   "source": [
    "from sklearn.metrics import roc_auc_score, roc_curve, RocCurveDisplay\n",
    "\n",
    "def plot_sklearn_roc_curve(y_real, y_pred, roc_score):\n",
    "    fpr, tpr, _ = roc_curve(y_real, y_pred)\n",
    "    df_fpr = pd.DataFrame(fpr)\n",
    "    df_fpr.to_csv(\"/kaggle/working/fpr.csv\")\n",
    "    df_tpr = pd.DataFrame(tpr)\n",
    "    df_tpr.to_csv(\"/kaggle/working/tpr.csv\")\n",
    "    print(\"ROC AUC Score:\")\n",
    "    print(roc_score)\n",
    "    roc_display = RocCurveDisplay(fpr=fpr, tpr=tpr, roc_auc=roc_score, estimator_name='ROC Curve').plot()\n",
    "    roc_display.figure_.set_size_inches(5,5)\n",
    "    plt.plot([0, 1], [0, 1], color='green', linestyle='dashed')\n",
    "    plt.title(\"ROC Curve for Indonesian Language Suicidal Posts Classification\")\n",
    "\n",
    "roc_score = roc_auc_score(test_labels_list, test_proba)\n",
    "plot_sklearn_roc_curve(test_labels_list, test_proba, roc_score)"
   ]
  }
 ],
 "metadata": {
  "kaggle": {
   "accelerator": "nvidiaTeslaT4",
   "dataSources": [
    {
     "datasetId": 4750496,
     "sourceId": 8083396,
     "sourceType": "datasetVersion"
    }
   ],
   "isGpuEnabled": true,
   "isInternetEnabled": true,
   "language": "python",
   "sourceType": "notebook"
  },
  "kernelspec": {
   "display_name": "Python 3",
   "language": "python",
   "name": "python3"
  },
  "language_info": {
   "codemirror_mode": {
    "name": "ipython",
    "version": 3
   },
   "file_extension": ".py",
   "mimetype": "text/x-python",
   "name": "python",
   "nbconvert_exporter": "python",
   "pygments_lexer": "ipython3",
   "version": "3.10.13"
  },
  "papermill": {
   "default_parameters": {},
   "duration": 4493.41198,
   "end_time": "2024-04-11T18:24:16.255749",
   "environment_variables": {},
   "exception": null,
   "input_path": "__notebook__.ipynb",
   "output_path": "__notebook__.ipynb",
   "parameters": {},
   "start_time": "2024-04-11T17:09:22.843769",
   "version": "2.5.0"
  },
  "widgets": {
   "application/vnd.jupyter.widget-state+json": {
    "state": {
     "009afb300a0247b497874ed2439e9c89": {
      "model_module": "@jupyter-widgets/controls",
      "model_module_version": "1.5.0",
      "model_name": "HTMLModel",
      "state": {
       "_dom_classes": [],
       "_model_module": "@jupyter-widgets/controls",
       "_model_module_version": "1.5.0",
       "_model_name": "HTMLModel",
       "_view_count": null,
       "_view_module": "@jupyter-widgets/controls",
       "_view_module_version": "1.5.0",
       "_view_name": "HTMLView",
       "description": "",
       "description_tooltip": null,
       "layout": "IPY_MODEL_cfa94f1ef8814f4b8659739f7102d2e1",
       "placeholder": "​",
       "style": "IPY_MODEL_c635ab672b3b42d2a56e6fee82163c62",
       "value": "special_tokens_map.json: 100%"
      }
     },
     "0b73866e982545dd961bc9ecb6d2c42c": {
      "model_module": "@jupyter-widgets/base",
      "model_module_version": "1.2.0",
      "model_name": "LayoutModel",
      "state": {
       "_model_module": "@jupyter-widgets/base",
       "_model_module_version": "1.2.0",
       "_model_name": "LayoutModel",
       "_view_count": null,
       "_view_module": "@jupyter-widgets/base",
       "_view_module_version": "1.2.0",
       "_view_name": "LayoutView",
       "align_content": null,
       "align_items": null,
       "align_self": null,
       "border": null,
       "bottom": null,
       "display": null,
       "flex": null,
       "flex_flow": null,
       "grid_area": null,
       "grid_auto_columns": null,
       "grid_auto_flow": null,
       "grid_auto_rows": null,
       "grid_column": null,
       "grid_gap": null,
       "grid_row": null,
       "grid_template_areas": null,
       "grid_template_columns": null,
       "grid_template_rows": null,
       "height": null,
       "justify_content": null,
       "justify_items": null,
       "left": null,
       "margin": null,
       "max_height": null,
       "max_width": null,
       "min_height": null,
       "min_width": null,
       "object_fit": null,
       "object_position": null,
       "order": null,
       "overflow": null,
       "overflow_x": null,
       "overflow_y": null,
       "padding": null,
       "right": null,
       "top": null,
       "visibility": null,
       "width": null
      }
     },
     "0bab75b657bc41c385360bd310f23b9a": {
      "model_module": "@jupyter-widgets/base",
      "model_module_version": "1.2.0",
      "model_name": "LayoutModel",
      "state": {
       "_model_module": "@jupyter-widgets/base",
       "_model_module_version": "1.2.0",
       "_model_name": "LayoutModel",
       "_view_count": null,
       "_view_module": "@jupyter-widgets/base",
       "_view_module_version": "1.2.0",
       "_view_name": "LayoutView",
       "align_content": null,
       "align_items": null,
       "align_self": null,
       "border": null,
       "bottom": null,
       "display": null,
       "flex": null,
       "flex_flow": null,
       "grid_area": null,
       "grid_auto_columns": null,
       "grid_auto_flow": null,
       "grid_auto_rows": null,
       "grid_column": null,
       "grid_gap": null,
       "grid_row": null,
       "grid_template_areas": null,
       "grid_template_columns": null,
       "grid_template_rows": null,
       "height": null,
       "justify_content": null,
       "justify_items": null,
       "left": null,
       "margin": null,
       "max_height": null,
       "max_width": null,
       "min_height": null,
       "min_width": null,
       "object_fit": null,
       "object_position": null,
       "order": null,
       "overflow": null,
       "overflow_x": null,
       "overflow_y": null,
       "padding": null,
       "right": null,
       "top": null,
       "visibility": null,
       "width": null
      }
     },
     "0be2bef83453458ca466909ddd94f7a4": {
      "model_module": "@jupyter-widgets/controls",
      "model_module_version": "1.5.0",
      "model_name": "HTMLModel",
      "state": {
       "_dom_classes": [],
       "_model_module": "@jupyter-widgets/controls",
       "_model_module_version": "1.5.0",
       "_model_name": "HTMLModel",
       "_view_count": null,
       "_view_module": "@jupyter-widgets/controls",
       "_view_module_version": "1.5.0",
       "_view_name": "HTMLView",
       "description": "",
       "description_tooltip": null,
       "layout": "IPY_MODEL_5cb2035b89fa4733920278830602000c",
       "placeholder": "​",
       "style": "IPY_MODEL_966631709b5f450fa1c780d471c4ee5e",
       "value": "vocab.txt: 100%"
      }
     },
     "0d1ad5abeeee438fa560363512b939c6": {
      "model_module": "@jupyter-widgets/base",
      "model_module_version": "1.2.0",
      "model_name": "LayoutModel",
      "state": {
       "_model_module": "@jupyter-widgets/base",
       "_model_module_version": "1.2.0",
       "_model_name": "LayoutModel",
       "_view_count": null,
       "_view_module": "@jupyter-widgets/base",
       "_view_module_version": "1.2.0",
       "_view_name": "LayoutView",
       "align_content": null,
       "align_items": null,
       "align_self": null,
       "border": null,
       "bottom": null,
       "display": null,
       "flex": null,
       "flex_flow": null,
       "grid_area": null,
       "grid_auto_columns": null,
       "grid_auto_flow": null,
       "grid_auto_rows": null,
       "grid_column": null,
       "grid_gap": null,
       "grid_row": null,
       "grid_template_areas": null,
       "grid_template_columns": null,
       "grid_template_rows": null,
       "height": null,
       "justify_content": null,
       "justify_items": null,
       "left": null,
       "margin": null,
       "max_height": null,
       "max_width": null,
       "min_height": null,
       "min_width": null,
       "object_fit": null,
       "object_position": null,
       "order": null,
       "overflow": null,
       "overflow_x": null,
       "overflow_y": null,
       "padding": null,
       "right": null,
       "top": null,
       "visibility": null,
       "width": null
      }
     },
     "19375d16905e4a4cab001d20752b5869": {
      "model_module": "@jupyter-widgets/controls",
      "model_module_version": "1.5.0",
      "model_name": "ProgressStyleModel",
      "state": {
       "_model_module": "@jupyter-widgets/controls",
       "_model_module_version": "1.5.0",
       "_model_name": "ProgressStyleModel",
       "_view_count": null,
       "_view_module": "@jupyter-widgets/base",
       "_view_module_version": "1.2.0",
       "_view_name": "StyleView",
       "bar_color": null,
       "description_width": ""
      }
     },
     "1999773e354f40c5a7a40ab5af52cda2": {
      "model_module": "@jupyter-widgets/controls",
      "model_module_version": "1.5.0",
      "model_name": "HTMLModel",
      "state": {
       "_dom_classes": [],
       "_model_module": "@jupyter-widgets/controls",
       "_model_module_version": "1.5.0",
       "_model_name": "HTMLModel",
       "_view_count": null,
       "_view_module": "@jupyter-widgets/controls",
       "_view_module_version": "1.5.0",
       "_view_name": "HTMLView",
       "description": "",
       "description_tooltip": null,
       "layout": "IPY_MODEL_b3654128e908454fa35c5559a7bb11da",
       "placeholder": "​",
       "style": "IPY_MODEL_e94b5aaa7ff14a27a8d4930596f4ba0a",
       "value": "tokenizer_config.json: 100%"
      }
     },
     "1a32f9a855ec432f86770bf0922016df": {
      "model_module": "@jupyter-widgets/controls",
      "model_module_version": "1.5.0",
      "model_name": "FloatProgressModel",
      "state": {
       "_dom_classes": [],
       "_model_module": "@jupyter-widgets/controls",
       "_model_module_version": "1.5.0",
       "_model_name": "FloatProgressModel",
       "_view_count": null,
       "_view_module": "@jupyter-widgets/controls",
       "_view_module_version": "1.5.0",
       "_view_name": "ProgressView",
       "bar_style": "success",
       "description": "",
       "description_tooltip": null,
       "layout": "IPY_MODEL_4dc1e4797e894194842e6554f48f651f",
       "max": 112.0,
       "min": 0.0,
       "orientation": "horizontal",
       "style": "IPY_MODEL_d58189f54b964543bf3f27bc0c8e0516",
       "value": 112.0
      }
     },
     "1bcb4071b6b14b19b28ac058779418af": {
      "model_module": "@jupyter-widgets/controls",
      "model_module_version": "1.5.0",
      "model_name": "FloatProgressModel",
      "state": {
       "_dom_classes": [],
       "_model_module": "@jupyter-widgets/controls",
       "_model_module_version": "1.5.0",
       "_model_name": "FloatProgressModel",
       "_view_count": null,
       "_view_module": "@jupyter-widgets/controls",
       "_view_module_version": "1.5.0",
       "_view_name": "ProgressView",
       "bar_style": "success",
       "description": "",
       "description_tooltip": null,
       "layout": "IPY_MODEL_ded867d45fe141aca62a6383e4c4c9cd",
       "max": 2.0,
       "min": 0.0,
       "orientation": "horizontal",
       "style": "IPY_MODEL_f496506177da47038492b6601be6bc1d",
       "value": 2.0
      }
     },
     "1bdb1d314c2c48a9b270590990bb4348": {
      "model_module": "@jupyter-widgets/controls",
      "model_module_version": "1.5.0",
      "model_name": "DescriptionStyleModel",
      "state": {
       "_model_module": "@jupyter-widgets/controls",
       "_model_module_version": "1.5.0",
       "_model_name": "DescriptionStyleModel",
       "_view_count": null,
       "_view_module": "@jupyter-widgets/base",
       "_view_module_version": "1.2.0",
       "_view_name": "StyleView",
       "description_width": ""
      }
     },
     "212d424172174d58af9476fbf81e9630": {
      "model_module": "@jupyter-widgets/base",
      "model_module_version": "1.2.0",
      "model_name": "LayoutModel",
      "state": {
       "_model_module": "@jupyter-widgets/base",
       "_model_module_version": "1.2.0",
       "_model_name": "LayoutModel",
       "_view_count": null,
       "_view_module": "@jupyter-widgets/base",
       "_view_module_version": "1.2.0",
       "_view_name": "LayoutView",
       "align_content": null,
       "align_items": null,
       "align_self": null,
       "border": null,
       "bottom": null,
       "display": null,
       "flex": null,
       "flex_flow": null,
       "grid_area": null,
       "grid_auto_columns": null,
       "grid_auto_flow": null,
       "grid_auto_rows": null,
       "grid_column": null,
       "grid_gap": null,
       "grid_row": null,
       "grid_template_areas": null,
       "grid_template_columns": null,
       "grid_template_rows": null,
       "height": null,
       "justify_content": null,
       "justify_items": null,
       "left": null,
       "margin": null,
       "max_height": null,
       "max_width": null,
       "min_height": null,
       "min_width": null,
       "object_fit": null,
       "object_position": null,
       "order": null,
       "overflow": null,
       "overflow_x": null,
       "overflow_y": null,
       "padding": null,
       "right": null,
       "top": null,
       "visibility": null,
       "width": null
      }
     },
     "222a3cbb9a954b9683c76dd7ed0630e1": {
      "model_module": "@jupyter-widgets/controls",
      "model_module_version": "1.5.0",
      "model_name": "HBoxModel",
      "state": {
       "_dom_classes": [],
       "_model_module": "@jupyter-widgets/controls",
       "_model_module_version": "1.5.0",
       "_model_name": "HBoxModel",
       "_view_count": null,
       "_view_module": "@jupyter-widgets/controls",
       "_view_module_version": "1.5.0",
       "_view_name": "HBoxView",
       "box_style": "",
       "children": [
        "IPY_MODEL_0be2bef83453458ca466909ddd94f7a4",
        "IPY_MODEL_821ac45ab2f3443abe63ffea083a7602",
        "IPY_MODEL_c385b36e2f4f4345b4c44986e49f6aa7"
       ],
       "layout": "IPY_MODEL_be8af13661fc47adaf19378f01130d2a"
      }
     },
     "22da459c521045539fab0d5483186d5f": {
      "model_module": "@jupyter-widgets/controls",
      "model_module_version": "1.5.0",
      "model_name": "HBoxModel",
      "state": {
       "_dom_classes": [],
       "_model_module": "@jupyter-widgets/controls",
       "_model_module_version": "1.5.0",
       "_model_name": "HBoxModel",
       "_view_count": null,
       "_view_module": "@jupyter-widgets/controls",
       "_view_module_version": "1.5.0",
       "_view_name": "HBoxView",
       "box_style": "",
       "children": [
        "IPY_MODEL_874a740d989847f88234cbb5ca2b8369",
        "IPY_MODEL_530b66f95a3141389adb8f90e7fba1b2",
        "IPY_MODEL_7e569e4150cc4b57b7ac2fb0fa6c7c01"
       ],
       "layout": "IPY_MODEL_212d424172174d58af9476fbf81e9630"
      }
     },
     "2dfeac5cfe3f482cac9be06e54f60a02": {
      "model_module": "@jupyter-widgets/base",
      "model_module_version": "1.2.0",
      "model_name": "LayoutModel",
      "state": {
       "_model_module": "@jupyter-widgets/base",
       "_model_module_version": "1.2.0",
       "_model_name": "LayoutModel",
       "_view_count": null,
       "_view_module": "@jupyter-widgets/base",
       "_view_module_version": "1.2.0",
       "_view_name": "LayoutView",
       "align_content": null,
       "align_items": null,
       "align_self": null,
       "border": null,
       "bottom": null,
       "display": null,
       "flex": null,
       "flex_flow": null,
       "grid_area": null,
       "grid_auto_columns": null,
       "grid_auto_flow": null,
       "grid_auto_rows": null,
       "grid_column": null,
       "grid_gap": null,
       "grid_row": null,
       "grid_template_areas": null,
       "grid_template_columns": null,
       "grid_template_rows": null,
       "height": null,
       "justify_content": null,
       "justify_items": null,
       "left": null,
       "margin": null,
       "max_height": null,
       "max_width": null,
       "min_height": null,
       "min_width": null,
       "object_fit": null,
       "object_position": null,
       "order": null,
       "overflow": null,
       "overflow_x": null,
       "overflow_y": null,
       "padding": null,
       "right": null,
       "top": null,
       "visibility": null,
       "width": null
      }
     },
     "3529dff98da64c168a34ebac301cb5ba": {
      "model_module": "@jupyter-widgets/base",
      "model_module_version": "1.2.0",
      "model_name": "LayoutModel",
      "state": {
       "_model_module": "@jupyter-widgets/base",
       "_model_module_version": "1.2.0",
       "_model_name": "LayoutModel",
       "_view_count": null,
       "_view_module": "@jupyter-widgets/base",
       "_view_module_version": "1.2.0",
       "_view_name": "LayoutView",
       "align_content": null,
       "align_items": null,
       "align_self": null,
       "border": null,
       "bottom": null,
       "display": null,
       "flex": null,
       "flex_flow": null,
       "grid_area": null,
       "grid_auto_columns": null,
       "grid_auto_flow": null,
       "grid_auto_rows": null,
       "grid_column": null,
       "grid_gap": null,
       "grid_row": null,
       "grid_template_areas": null,
       "grid_template_columns": null,
       "grid_template_rows": null,
       "height": null,
       "justify_content": null,
       "justify_items": null,
       "left": null,
       "margin": null,
       "max_height": null,
       "max_width": null,
       "min_height": null,
       "min_width": null,
       "object_fit": null,
       "object_position": null,
       "order": null,
       "overflow": null,
       "overflow_x": null,
       "overflow_y": null,
       "padding": null,
       "right": null,
       "top": null,
       "visibility": null,
       "width": null
      }
     },
     "417a8f42e43142338434a8bc1a5b49fa": {
      "model_module": "@jupyter-widgets/controls",
      "model_module_version": "1.5.0",
      "model_name": "DescriptionStyleModel",
      "state": {
       "_model_module": "@jupyter-widgets/controls",
       "_model_module_version": "1.5.0",
       "_model_name": "DescriptionStyleModel",
       "_view_count": null,
       "_view_module": "@jupyter-widgets/base",
       "_view_module_version": "1.2.0",
       "_view_name": "StyleView",
       "description_width": ""
      }
     },
     "48b80663b75e48d58516a8e548576b8e": {
      "model_module": "@jupyter-widgets/base",
      "model_module_version": "1.2.0",
      "model_name": "LayoutModel",
      "state": {
       "_model_module": "@jupyter-widgets/base",
       "_model_module_version": "1.2.0",
       "_model_name": "LayoutModel",
       "_view_count": null,
       "_view_module": "@jupyter-widgets/base",
       "_view_module_version": "1.2.0",
       "_view_name": "LayoutView",
       "align_content": null,
       "align_items": null,
       "align_self": null,
       "border": null,
       "bottom": null,
       "display": null,
       "flex": null,
       "flex_flow": null,
       "grid_area": null,
       "grid_auto_columns": null,
       "grid_auto_flow": null,
       "grid_auto_rows": null,
       "grid_column": null,
       "grid_gap": null,
       "grid_row": null,
       "grid_template_areas": null,
       "grid_template_columns": null,
       "grid_template_rows": null,
       "height": null,
       "justify_content": null,
       "justify_items": null,
       "left": null,
       "margin": null,
       "max_height": null,
       "max_width": null,
       "min_height": null,
       "min_width": null,
       "object_fit": null,
       "object_position": null,
       "order": null,
       "overflow": null,
       "overflow_x": null,
       "overflow_y": null,
       "padding": null,
       "right": null,
       "top": null,
       "visibility": null,
       "width": null
      }
     },
     "4dc1e4797e894194842e6554f48f651f": {
      "model_module": "@jupyter-widgets/base",
      "model_module_version": "1.2.0",
      "model_name": "LayoutModel",
      "state": {
       "_model_module": "@jupyter-widgets/base",
       "_model_module_version": "1.2.0",
       "_model_name": "LayoutModel",
       "_view_count": null,
       "_view_module": "@jupyter-widgets/base",
       "_view_module_version": "1.2.0",
       "_view_name": "LayoutView",
       "align_content": null,
       "align_items": null,
       "align_self": null,
       "border": null,
       "bottom": null,
       "display": null,
       "flex": null,
       "flex_flow": null,
       "grid_area": null,
       "grid_auto_columns": null,
       "grid_auto_flow": null,
       "grid_auto_rows": null,
       "grid_column": null,
       "grid_gap": null,
       "grid_row": null,
       "grid_template_areas": null,
       "grid_template_columns": null,
       "grid_template_rows": null,
       "height": null,
       "justify_content": null,
       "justify_items": null,
       "left": null,
       "margin": null,
       "max_height": null,
       "max_width": null,
       "min_height": null,
       "min_width": null,
       "object_fit": null,
       "object_position": null,
       "order": null,
       "overflow": null,
       "overflow_x": null,
       "overflow_y": null,
       "padding": null,
       "right": null,
       "top": null,
       "visibility": null,
       "width": null
      }
     },
     "530b66f95a3141389adb8f90e7fba1b2": {
      "model_module": "@jupyter-widgets/controls",
      "model_module_version": "1.5.0",
      "model_name": "FloatProgressModel",
      "state": {
       "_dom_classes": [],
       "_model_module": "@jupyter-widgets/controls",
       "_model_module_version": "1.5.0",
       "_model_name": "FloatProgressModel",
       "_view_count": null,
       "_view_module": "@jupyter-widgets/controls",
       "_view_module_version": "1.5.0",
       "_view_name": "ProgressView",
       "bar_style": "success",
       "description": "",
       "description_tooltip": null,
       "layout": "IPY_MODEL_48b80663b75e48d58516a8e548576b8e",
       "max": 1340657204.0,
       "min": 0.0,
       "orientation": "horizontal",
       "style": "IPY_MODEL_c76c4763ad424a59a8615b8a9d6e2b19",
       "value": 1340657204.0
      }
     },
     "5cb2035b89fa4733920278830602000c": {
      "model_module": "@jupyter-widgets/base",
      "model_module_version": "1.2.0",
      "model_name": "LayoutModel",
      "state": {
       "_model_module": "@jupyter-widgets/base",
       "_model_module_version": "1.2.0",
       "_model_name": "LayoutModel",
       "_view_count": null,
       "_view_module": "@jupyter-widgets/base",
       "_view_module_version": "1.2.0",
       "_view_name": "LayoutView",
       "align_content": null,
       "align_items": null,
       "align_self": null,
       "border": null,
       "bottom": null,
       "display": null,
       "flex": null,
       "flex_flow": null,
       "grid_area": null,
       "grid_auto_columns": null,
       "grid_auto_flow": null,
       "grid_auto_rows": null,
       "grid_column": null,
       "grid_gap": null,
       "grid_row": null,
       "grid_template_areas": null,
       "grid_template_columns": null,
       "grid_template_rows": null,
       "height": null,
       "justify_content": null,
       "justify_items": null,
       "left": null,
       "margin": null,
       "max_height": null,
       "max_width": null,
       "min_height": null,
       "min_width": null,
       "object_fit": null,
       "object_position": null,
       "order": null,
       "overflow": null,
       "overflow_x": null,
       "overflow_y": null,
       "padding": null,
       "right": null,
       "top": null,
       "visibility": null,
       "width": null
      }
     },
     "5f2d4f0a34e64fd193073d5e5095870a": {
      "model_module": "@jupyter-widgets/controls",
      "model_module_version": "1.5.0",
      "model_name": "HTMLModel",
      "state": {
       "_dom_classes": [],
       "_model_module": "@jupyter-widgets/controls",
       "_model_module_version": "1.5.0",
       "_model_name": "HTMLModel",
       "_view_count": null,
       "_view_module": "@jupyter-widgets/controls",
       "_view_module_version": "1.5.0",
       "_view_name": "HTMLView",
       "description": "",
       "description_tooltip": null,
       "layout": "IPY_MODEL_b2c7a3c42ac845f9b335aaab372d4727",
       "placeholder": "​",
       "style": "IPY_MODEL_1bdb1d314c2c48a9b270590990bb4348",
       "value": " 1.53k/1.53k [00:00&lt;00:00, 140kB/s]"
      }
     },
     "6307d75b0704430d9d47399ddabecc67": {
      "model_module": "@jupyter-widgets/controls",
      "model_module_version": "1.5.0",
      "model_name": "HBoxModel",
      "state": {
       "_dom_classes": [],
       "_model_module": "@jupyter-widgets/controls",
       "_model_module_version": "1.5.0",
       "_model_name": "HBoxModel",
       "_view_count": null,
       "_view_module": "@jupyter-widgets/controls",
       "_view_module_version": "1.5.0",
       "_view_name": "HBoxView",
       "box_style": "",
       "children": [
        "IPY_MODEL_1999773e354f40c5a7a40ab5af52cda2",
        "IPY_MODEL_1bcb4071b6b14b19b28ac058779418af",
        "IPY_MODEL_9cfa470786474e6ea7ea2da7a9181c0a"
       ],
       "layout": "IPY_MODEL_0bab75b657bc41c385360bd310f23b9a"
      }
     },
     "64af69877b9744508f245d04e77330fd": {
      "model_module": "@jupyter-widgets/base",
      "model_module_version": "1.2.0",
      "model_name": "LayoutModel",
      "state": {
       "_model_module": "@jupyter-widgets/base",
       "_model_module_version": "1.2.0",
       "_model_name": "LayoutModel",
       "_view_count": null,
       "_view_module": "@jupyter-widgets/base",
       "_view_module_version": "1.2.0",
       "_view_name": "LayoutView",
       "align_content": null,
       "align_items": null,
       "align_self": null,
       "border": null,
       "bottom": null,
       "display": null,
       "flex": null,
       "flex_flow": null,
       "grid_area": null,
       "grid_auto_columns": null,
       "grid_auto_flow": null,
       "grid_auto_rows": null,
       "grid_column": null,
       "grid_gap": null,
       "grid_row": null,
       "grid_template_areas": null,
       "grid_template_columns": null,
       "grid_template_rows": null,
       "height": null,
       "justify_content": null,
       "justify_items": null,
       "left": null,
       "margin": null,
       "max_height": null,
       "max_width": null,
       "min_height": null,
       "min_width": null,
       "object_fit": null,
       "object_position": null,
       "order": null,
       "overflow": null,
       "overflow_x": null,
       "overflow_y": null,
       "padding": null,
       "right": null,
       "top": null,
       "visibility": null,
       "width": null
      }
     },
     "64b9af66d54b400bb62727647077d7ca": {
      "model_module": "@jupyter-widgets/controls",
      "model_module_version": "1.5.0",
      "model_name": "HBoxModel",
      "state": {
       "_dom_classes": [],
       "_model_module": "@jupyter-widgets/controls",
       "_model_module_version": "1.5.0",
       "_model_name": "HBoxModel",
       "_view_count": null,
       "_view_module": "@jupyter-widgets/controls",
       "_view_module_version": "1.5.0",
       "_view_name": "HBoxView",
       "box_style": "",
       "children": [
        "IPY_MODEL_bf9eccec37254c6691b00874d4cc0f1b",
        "IPY_MODEL_c3e613834e774f4b88a0ccf492aa0663",
        "IPY_MODEL_5f2d4f0a34e64fd193073d5e5095870a"
       ],
       "layout": "IPY_MODEL_f2b0efa8eac049128f9240886f3a83be"
      }
     },
     "668750b890ac4c77a090b640f38c2a93": {
      "model_module": "@jupyter-widgets/controls",
      "model_module_version": "1.5.0",
      "model_name": "DescriptionStyleModel",
      "state": {
       "_model_module": "@jupyter-widgets/controls",
       "_model_module_version": "1.5.0",
       "_model_name": "DescriptionStyleModel",
       "_view_count": null,
       "_view_module": "@jupyter-widgets/base",
       "_view_module_version": "1.2.0",
       "_view_name": "StyleView",
       "description_width": ""
      }
     },
     "6acb4733d20647fc97b8225cc01a0f73": {
      "model_module": "@jupyter-widgets/controls",
      "model_module_version": "1.5.0",
      "model_name": "DescriptionStyleModel",
      "state": {
       "_model_module": "@jupyter-widgets/controls",
       "_model_module_version": "1.5.0",
       "_model_name": "DescriptionStyleModel",
       "_view_count": null,
       "_view_module": "@jupyter-widgets/base",
       "_view_module_version": "1.2.0",
       "_view_name": "StyleView",
       "description_width": ""
      }
     },
     "6e907bf0c6024c96a79aa902d84ad946": {
      "model_module": "@jupyter-widgets/base",
      "model_module_version": "1.2.0",
      "model_name": "LayoutModel",
      "state": {
       "_model_module": "@jupyter-widgets/base",
       "_model_module_version": "1.2.0",
       "_model_name": "LayoutModel",
       "_view_count": null,
       "_view_module": "@jupyter-widgets/base",
       "_view_module_version": "1.2.0",
       "_view_name": "LayoutView",
       "align_content": null,
       "align_items": null,
       "align_self": null,
       "border": null,
       "bottom": null,
       "display": null,
       "flex": null,
       "flex_flow": null,
       "grid_area": null,
       "grid_auto_columns": null,
       "grid_auto_flow": null,
       "grid_auto_rows": null,
       "grid_column": null,
       "grid_gap": null,
       "grid_row": null,
       "grid_template_areas": null,
       "grid_template_columns": null,
       "grid_template_rows": null,
       "height": null,
       "justify_content": null,
       "justify_items": null,
       "left": null,
       "margin": null,
       "max_height": null,
       "max_width": null,
       "min_height": null,
       "min_width": null,
       "object_fit": null,
       "object_position": null,
       "order": null,
       "overflow": null,
       "overflow_x": null,
       "overflow_y": null,
       "padding": null,
       "right": null,
       "top": null,
       "visibility": null,
       "width": null
      }
     },
     "78fb150651644908b60c6fadebce4bee": {
      "model_module": "@jupyter-widgets/base",
      "model_module_version": "1.2.0",
      "model_name": "LayoutModel",
      "state": {
       "_model_module": "@jupyter-widgets/base",
       "_model_module_version": "1.2.0",
       "_model_name": "LayoutModel",
       "_view_count": null,
       "_view_module": "@jupyter-widgets/base",
       "_view_module_version": "1.2.0",
       "_view_name": "LayoutView",
       "align_content": null,
       "align_items": null,
       "align_self": null,
       "border": null,
       "bottom": null,
       "display": null,
       "flex": null,
       "flex_flow": null,
       "grid_area": null,
       "grid_auto_columns": null,
       "grid_auto_flow": null,
       "grid_auto_rows": null,
       "grid_column": null,
       "grid_gap": null,
       "grid_row": null,
       "grid_template_areas": null,
       "grid_template_columns": null,
       "grid_template_rows": null,
       "height": null,
       "justify_content": null,
       "justify_items": null,
       "left": null,
       "margin": null,
       "max_height": null,
       "max_width": null,
       "min_height": null,
       "min_width": null,
       "object_fit": null,
       "object_position": null,
       "order": null,
       "overflow": null,
       "overflow_x": null,
       "overflow_y": null,
       "padding": null,
       "right": null,
       "top": null,
       "visibility": null,
       "width": null
      }
     },
     "7d241eaf7f1c4e108d8aef18d9734932": {
      "model_module": "@jupyter-widgets/controls",
      "model_module_version": "1.5.0",
      "model_name": "DescriptionStyleModel",
      "state": {
       "_model_module": "@jupyter-widgets/controls",
       "_model_module_version": "1.5.0",
       "_model_name": "DescriptionStyleModel",
       "_view_count": null,
       "_view_module": "@jupyter-widgets/base",
       "_view_module_version": "1.2.0",
       "_view_name": "StyleView",
       "description_width": ""
      }
     },
     "7e569e4150cc4b57b7ac2fb0fa6c7c01": {
      "model_module": "@jupyter-widgets/controls",
      "model_module_version": "1.5.0",
      "model_name": "HTMLModel",
      "state": {
       "_dom_classes": [],
       "_model_module": "@jupyter-widgets/controls",
       "_model_module_version": "1.5.0",
       "_model_name": "HTMLModel",
       "_view_count": null,
       "_view_module": "@jupyter-widgets/controls",
       "_view_module_version": "1.5.0",
       "_view_name": "HTMLView",
       "description": "",
       "description_tooltip": null,
       "layout": "IPY_MODEL_6e907bf0c6024c96a79aa902d84ad946",
       "placeholder": "​",
       "style": "IPY_MODEL_6acb4733d20647fc97b8225cc01a0f73",
       "value": " 1.34G/1.34G [00:46&lt;00:00, 29.7MB/s]"
      }
     },
     "821ac45ab2f3443abe63ffea083a7602": {
      "model_module": "@jupyter-widgets/controls",
      "model_module_version": "1.5.0",
      "model_name": "FloatProgressModel",
      "state": {
       "_dom_classes": [],
       "_model_module": "@jupyter-widgets/controls",
       "_model_module_version": "1.5.0",
       "_model_name": "FloatProgressModel",
       "_view_count": null,
       "_view_module": "@jupyter-widgets/controls",
       "_view_module_version": "1.5.0",
       "_view_name": "ProgressView",
       "bar_style": "success",
       "description": "",
       "description_tooltip": null,
       "layout": "IPY_MODEL_78fb150651644908b60c6fadebce4bee",
       "max": 229167.0,
       "min": 0.0,
       "orientation": "horizontal",
       "style": "IPY_MODEL_be53c9aaf21841d794b0e6f51e1f0be6",
       "value": 229167.0
      }
     },
     "85b21e643c624841b839683e1acd6e7d": {
      "model_module": "@jupyter-widgets/controls",
      "model_module_version": "1.5.0",
      "model_name": "HTMLModel",
      "state": {
       "_dom_classes": [],
       "_model_module": "@jupyter-widgets/controls",
       "_model_module_version": "1.5.0",
       "_model_name": "HTMLModel",
       "_view_count": null,
       "_view_module": "@jupyter-widgets/controls",
       "_view_module_version": "1.5.0",
       "_view_name": "HTMLView",
       "description": "",
       "description_tooltip": null,
       "layout": "IPY_MODEL_0d1ad5abeeee438fa560363512b939c6",
       "placeholder": "​",
       "style": "IPY_MODEL_417a8f42e43142338434a8bc1a5b49fa",
       "value": " 112/112 [00:00&lt;00:00, 9.75kB/s]"
      }
     },
     "874a740d989847f88234cbb5ca2b8369": {
      "model_module": "@jupyter-widgets/controls",
      "model_module_version": "1.5.0",
      "model_name": "HTMLModel",
      "state": {
       "_dom_classes": [],
       "_model_module": "@jupyter-widgets/controls",
       "_model_module_version": "1.5.0",
       "_model_name": "HTMLModel",
       "_view_count": null,
       "_view_module": "@jupyter-widgets/controls",
       "_view_module_version": "1.5.0",
       "_view_name": "HTMLView",
       "description": "",
       "description_tooltip": null,
       "layout": "IPY_MODEL_64af69877b9744508f245d04e77330fd",
       "placeholder": "​",
       "style": "IPY_MODEL_87bbb796b93c49f3b7c4089e315fc296",
       "value": "pytorch_model.bin: 100%"
      }
     },
     "87bbb796b93c49f3b7c4089e315fc296": {
      "model_module": "@jupyter-widgets/controls",
      "model_module_version": "1.5.0",
      "model_name": "DescriptionStyleModel",
      "state": {
       "_model_module": "@jupyter-widgets/controls",
       "_model_module_version": "1.5.0",
       "_model_name": "DescriptionStyleModel",
       "_view_count": null,
       "_view_module": "@jupyter-widgets/base",
       "_view_module_version": "1.2.0",
       "_view_name": "StyleView",
       "description_width": ""
      }
     },
     "8ed96eb820f7493796e13883cf733563": {
      "model_module": "@jupyter-widgets/controls",
      "model_module_version": "1.5.0",
      "model_name": "DescriptionStyleModel",
      "state": {
       "_model_module": "@jupyter-widgets/controls",
       "_model_module_version": "1.5.0",
       "_model_name": "DescriptionStyleModel",
       "_view_count": null,
       "_view_module": "@jupyter-widgets/base",
       "_view_module_version": "1.2.0",
       "_view_name": "StyleView",
       "description_width": ""
      }
     },
     "966631709b5f450fa1c780d471c4ee5e": {
      "model_module": "@jupyter-widgets/controls",
      "model_module_version": "1.5.0",
      "model_name": "DescriptionStyleModel",
      "state": {
       "_model_module": "@jupyter-widgets/controls",
       "_model_module_version": "1.5.0",
       "_model_name": "DescriptionStyleModel",
       "_view_count": null,
       "_view_module": "@jupyter-widgets/base",
       "_view_module_version": "1.2.0",
       "_view_name": "StyleView",
       "description_width": ""
      }
     },
     "9cfa470786474e6ea7ea2da7a9181c0a": {
      "model_module": "@jupyter-widgets/controls",
      "model_module_version": "1.5.0",
      "model_name": "HTMLModel",
      "state": {
       "_dom_classes": [],
       "_model_module": "@jupyter-widgets/controls",
       "_model_module_version": "1.5.0",
       "_model_name": "HTMLModel",
       "_view_count": null,
       "_view_module": "@jupyter-widgets/controls",
       "_view_module_version": "1.5.0",
       "_view_name": "HTMLView",
       "description": "",
       "description_tooltip": null,
       "layout": "IPY_MODEL_2dfeac5cfe3f482cac9be06e54f60a02",
       "placeholder": "​",
       "style": "IPY_MODEL_7d241eaf7f1c4e108d8aef18d9734932",
       "value": " 2.00/2.00 [00:00&lt;00:00, 157B/s]"
      }
     },
     "a7138ffc64894f03b5bdaf7e2d096dea": {
      "model_module": "@jupyter-widgets/controls",
      "model_module_version": "1.5.0",
      "model_name": "HBoxModel",
      "state": {
       "_dom_classes": [],
       "_model_module": "@jupyter-widgets/controls",
       "_model_module_version": "1.5.0",
       "_model_name": "HBoxModel",
       "_view_count": null,
       "_view_module": "@jupyter-widgets/controls",
       "_view_module_version": "1.5.0",
       "_view_name": "HBoxView",
       "box_style": "",
       "children": [
        "IPY_MODEL_009afb300a0247b497874ed2439e9c89",
        "IPY_MODEL_1a32f9a855ec432f86770bf0922016df",
        "IPY_MODEL_85b21e643c624841b839683e1acd6e7d"
       ],
       "layout": "IPY_MODEL_0b73866e982545dd961bc9ecb6d2c42c"
      }
     },
     "b2c7a3c42ac845f9b335aaab372d4727": {
      "model_module": "@jupyter-widgets/base",
      "model_module_version": "1.2.0",
      "model_name": "LayoutModel",
      "state": {
       "_model_module": "@jupyter-widgets/base",
       "_model_module_version": "1.2.0",
       "_model_name": "LayoutModel",
       "_view_count": null,
       "_view_module": "@jupyter-widgets/base",
       "_view_module_version": "1.2.0",
       "_view_name": "LayoutView",
       "align_content": null,
       "align_items": null,
       "align_self": null,
       "border": null,
       "bottom": null,
       "display": null,
       "flex": null,
       "flex_flow": null,
       "grid_area": null,
       "grid_auto_columns": null,
       "grid_auto_flow": null,
       "grid_auto_rows": null,
       "grid_column": null,
       "grid_gap": null,
       "grid_row": null,
       "grid_template_areas": null,
       "grid_template_columns": null,
       "grid_template_rows": null,
       "height": null,
       "justify_content": null,
       "justify_items": null,
       "left": null,
       "margin": null,
       "max_height": null,
       "max_width": null,
       "min_height": null,
       "min_width": null,
       "object_fit": null,
       "object_position": null,
       "order": null,
       "overflow": null,
       "overflow_x": null,
       "overflow_y": null,
       "padding": null,
       "right": null,
       "top": null,
       "visibility": null,
       "width": null
      }
     },
     "b3654128e908454fa35c5559a7bb11da": {
      "model_module": "@jupyter-widgets/base",
      "model_module_version": "1.2.0",
      "model_name": "LayoutModel",
      "state": {
       "_model_module": "@jupyter-widgets/base",
       "_model_module_version": "1.2.0",
       "_model_name": "LayoutModel",
       "_view_count": null,
       "_view_module": "@jupyter-widgets/base",
       "_view_module_version": "1.2.0",
       "_view_name": "LayoutView",
       "align_content": null,
       "align_items": null,
       "align_self": null,
       "border": null,
       "bottom": null,
       "display": null,
       "flex": null,
       "flex_flow": null,
       "grid_area": null,
       "grid_auto_columns": null,
       "grid_auto_flow": null,
       "grid_auto_rows": null,
       "grid_column": null,
       "grid_gap": null,
       "grid_row": null,
       "grid_template_areas": null,
       "grid_template_columns": null,
       "grid_template_rows": null,
       "height": null,
       "justify_content": null,
       "justify_items": null,
       "left": null,
       "margin": null,
       "max_height": null,
       "max_width": null,
       "min_height": null,
       "min_width": null,
       "object_fit": null,
       "object_position": null,
       "order": null,
       "overflow": null,
       "overflow_x": null,
       "overflow_y": null,
       "padding": null,
       "right": null,
       "top": null,
       "visibility": null,
       "width": null
      }
     },
     "be53c9aaf21841d794b0e6f51e1f0be6": {
      "model_module": "@jupyter-widgets/controls",
      "model_module_version": "1.5.0",
      "model_name": "ProgressStyleModel",
      "state": {
       "_model_module": "@jupyter-widgets/controls",
       "_model_module_version": "1.5.0",
       "_model_name": "ProgressStyleModel",
       "_view_count": null,
       "_view_module": "@jupyter-widgets/base",
       "_view_module_version": "1.2.0",
       "_view_name": "StyleView",
       "bar_color": null,
       "description_width": ""
      }
     },
     "be8af13661fc47adaf19378f01130d2a": {
      "model_module": "@jupyter-widgets/base",
      "model_module_version": "1.2.0",
      "model_name": "LayoutModel",
      "state": {
       "_model_module": "@jupyter-widgets/base",
       "_model_module_version": "1.2.0",
       "_model_name": "LayoutModel",
       "_view_count": null,
       "_view_module": "@jupyter-widgets/base",
       "_view_module_version": "1.2.0",
       "_view_name": "LayoutView",
       "align_content": null,
       "align_items": null,
       "align_self": null,
       "border": null,
       "bottom": null,
       "display": null,
       "flex": null,
       "flex_flow": null,
       "grid_area": null,
       "grid_auto_columns": null,
       "grid_auto_flow": null,
       "grid_auto_rows": null,
       "grid_column": null,
       "grid_gap": null,
       "grid_row": null,
       "grid_template_areas": null,
       "grid_template_columns": null,
       "grid_template_rows": null,
       "height": null,
       "justify_content": null,
       "justify_items": null,
       "left": null,
       "margin": null,
       "max_height": null,
       "max_width": null,
       "min_height": null,
       "min_width": null,
       "object_fit": null,
       "object_position": null,
       "order": null,
       "overflow": null,
       "overflow_x": null,
       "overflow_y": null,
       "padding": null,
       "right": null,
       "top": null,
       "visibility": null,
       "width": null
      }
     },
     "bee51f36dfee4d5995f45d1e42693895": {
      "model_module": "@jupyter-widgets/base",
      "model_module_version": "1.2.0",
      "model_name": "LayoutModel",
      "state": {
       "_model_module": "@jupyter-widgets/base",
       "_model_module_version": "1.2.0",
       "_model_name": "LayoutModel",
       "_view_count": null,
       "_view_module": "@jupyter-widgets/base",
       "_view_module_version": "1.2.0",
       "_view_name": "LayoutView",
       "align_content": null,
       "align_items": null,
       "align_self": null,
       "border": null,
       "bottom": null,
       "display": null,
       "flex": null,
       "flex_flow": null,
       "grid_area": null,
       "grid_auto_columns": null,
       "grid_auto_flow": null,
       "grid_auto_rows": null,
       "grid_column": null,
       "grid_gap": null,
       "grid_row": null,
       "grid_template_areas": null,
       "grid_template_columns": null,
       "grid_template_rows": null,
       "height": null,
       "justify_content": null,
       "justify_items": null,
       "left": null,
       "margin": null,
       "max_height": null,
       "max_width": null,
       "min_height": null,
       "min_width": null,
       "object_fit": null,
       "object_position": null,
       "order": null,
       "overflow": null,
       "overflow_x": null,
       "overflow_y": null,
       "padding": null,
       "right": null,
       "top": null,
       "visibility": null,
       "width": null
      }
     },
     "bf9eccec37254c6691b00874d4cc0f1b": {
      "model_module": "@jupyter-widgets/controls",
      "model_module_version": "1.5.0",
      "model_name": "HTMLModel",
      "state": {
       "_dom_classes": [],
       "_model_module": "@jupyter-widgets/controls",
       "_model_module_version": "1.5.0",
       "_model_name": "HTMLModel",
       "_view_count": null,
       "_view_module": "@jupyter-widgets/controls",
       "_view_module_version": "1.5.0",
       "_view_name": "HTMLView",
       "description": "",
       "description_tooltip": null,
       "layout": "IPY_MODEL_3529dff98da64c168a34ebac301cb5ba",
       "placeholder": "​",
       "style": "IPY_MODEL_668750b890ac4c77a090b640f38c2a93",
       "value": "config.json: 100%"
      }
     },
     "c2aa0af0632c43cc929508cedf110268": {
      "model_module": "@jupyter-widgets/base",
      "model_module_version": "1.2.0",
      "model_name": "LayoutModel",
      "state": {
       "_model_module": "@jupyter-widgets/base",
       "_model_module_version": "1.2.0",
       "_model_name": "LayoutModel",
       "_view_count": null,
       "_view_module": "@jupyter-widgets/base",
       "_view_module_version": "1.2.0",
       "_view_name": "LayoutView",
       "align_content": null,
       "align_items": null,
       "align_self": null,
       "border": null,
       "bottom": null,
       "display": null,
       "flex": null,
       "flex_flow": null,
       "grid_area": null,
       "grid_auto_columns": null,
       "grid_auto_flow": null,
       "grid_auto_rows": null,
       "grid_column": null,
       "grid_gap": null,
       "grid_row": null,
       "grid_template_areas": null,
       "grid_template_columns": null,
       "grid_template_rows": null,
       "height": null,
       "justify_content": null,
       "justify_items": null,
       "left": null,
       "margin": null,
       "max_height": null,
       "max_width": null,
       "min_height": null,
       "min_width": null,
       "object_fit": null,
       "object_position": null,
       "order": null,
       "overflow": null,
       "overflow_x": null,
       "overflow_y": null,
       "padding": null,
       "right": null,
       "top": null,
       "visibility": null,
       "width": null
      }
     },
     "c385b36e2f4f4345b4c44986e49f6aa7": {
      "model_module": "@jupyter-widgets/controls",
      "model_module_version": "1.5.0",
      "model_name": "HTMLModel",
      "state": {
       "_dom_classes": [],
       "_model_module": "@jupyter-widgets/controls",
       "_model_module_version": "1.5.0",
       "_model_name": "HTMLModel",
       "_view_count": null,
       "_view_module": "@jupyter-widgets/controls",
       "_view_module_version": "1.5.0",
       "_view_name": "HTMLView",
       "description": "",
       "description_tooltip": null,
       "layout": "IPY_MODEL_c2aa0af0632c43cc929508cedf110268",
       "placeholder": "​",
       "style": "IPY_MODEL_8ed96eb820f7493796e13883cf733563",
       "value": " 229k/229k [00:00&lt;00:00, 5.08MB/s]"
      }
     },
     "c3e613834e774f4b88a0ccf492aa0663": {
      "model_module": "@jupyter-widgets/controls",
      "model_module_version": "1.5.0",
      "model_name": "FloatProgressModel",
      "state": {
       "_dom_classes": [],
       "_model_module": "@jupyter-widgets/controls",
       "_model_module_version": "1.5.0",
       "_model_name": "FloatProgressModel",
       "_view_count": null,
       "_view_module": "@jupyter-widgets/controls",
       "_view_module_version": "1.5.0",
       "_view_name": "ProgressView",
       "bar_style": "success",
       "description": "",
       "description_tooltip": null,
       "layout": "IPY_MODEL_bee51f36dfee4d5995f45d1e42693895",
       "max": 1535.0,
       "min": 0.0,
       "orientation": "horizontal",
       "style": "IPY_MODEL_19375d16905e4a4cab001d20752b5869",
       "value": 1535.0
      }
     },
     "c635ab672b3b42d2a56e6fee82163c62": {
      "model_module": "@jupyter-widgets/controls",
      "model_module_version": "1.5.0",
      "model_name": "DescriptionStyleModel",
      "state": {
       "_model_module": "@jupyter-widgets/controls",
       "_model_module_version": "1.5.0",
       "_model_name": "DescriptionStyleModel",
       "_view_count": null,
       "_view_module": "@jupyter-widgets/base",
       "_view_module_version": "1.2.0",
       "_view_name": "StyleView",
       "description_width": ""
      }
     },
     "c76c4763ad424a59a8615b8a9d6e2b19": {
      "model_module": "@jupyter-widgets/controls",
      "model_module_version": "1.5.0",
      "model_name": "ProgressStyleModel",
      "state": {
       "_model_module": "@jupyter-widgets/controls",
       "_model_module_version": "1.5.0",
       "_model_name": "ProgressStyleModel",
       "_view_count": null,
       "_view_module": "@jupyter-widgets/base",
       "_view_module_version": "1.2.0",
       "_view_name": "StyleView",
       "bar_color": null,
       "description_width": ""
      }
     },
     "cfa94f1ef8814f4b8659739f7102d2e1": {
      "model_module": "@jupyter-widgets/base",
      "model_module_version": "1.2.0",
      "model_name": "LayoutModel",
      "state": {
       "_model_module": "@jupyter-widgets/base",
       "_model_module_version": "1.2.0",
       "_model_name": "LayoutModel",
       "_view_count": null,
       "_view_module": "@jupyter-widgets/base",
       "_view_module_version": "1.2.0",
       "_view_name": "LayoutView",
       "align_content": null,
       "align_items": null,
       "align_self": null,
       "border": null,
       "bottom": null,
       "display": null,
       "flex": null,
       "flex_flow": null,
       "grid_area": null,
       "grid_auto_columns": null,
       "grid_auto_flow": null,
       "grid_auto_rows": null,
       "grid_column": null,
       "grid_gap": null,
       "grid_row": null,
       "grid_template_areas": null,
       "grid_template_columns": null,
       "grid_template_rows": null,
       "height": null,
       "justify_content": null,
       "justify_items": null,
       "left": null,
       "margin": null,
       "max_height": null,
       "max_width": null,
       "min_height": null,
       "min_width": null,
       "object_fit": null,
       "object_position": null,
       "order": null,
       "overflow": null,
       "overflow_x": null,
       "overflow_y": null,
       "padding": null,
       "right": null,
       "top": null,
       "visibility": null,
       "width": null
      }
     },
     "d58189f54b964543bf3f27bc0c8e0516": {
      "model_module": "@jupyter-widgets/controls",
      "model_module_version": "1.5.0",
      "model_name": "ProgressStyleModel",
      "state": {
       "_model_module": "@jupyter-widgets/controls",
       "_model_module_version": "1.5.0",
       "_model_name": "ProgressStyleModel",
       "_view_count": null,
       "_view_module": "@jupyter-widgets/base",
       "_view_module_version": "1.2.0",
       "_view_name": "StyleView",
       "bar_color": null,
       "description_width": ""
      }
     },
     "ded867d45fe141aca62a6383e4c4c9cd": {
      "model_module": "@jupyter-widgets/base",
      "model_module_version": "1.2.0",
      "model_name": "LayoutModel",
      "state": {
       "_model_module": "@jupyter-widgets/base",
       "_model_module_version": "1.2.0",
       "_model_name": "LayoutModel",
       "_view_count": null,
       "_view_module": "@jupyter-widgets/base",
       "_view_module_version": "1.2.0",
       "_view_name": "LayoutView",
       "align_content": null,
       "align_items": null,
       "align_self": null,
       "border": null,
       "bottom": null,
       "display": null,
       "flex": null,
       "flex_flow": null,
       "grid_area": null,
       "grid_auto_columns": null,
       "grid_auto_flow": null,
       "grid_auto_rows": null,
       "grid_column": null,
       "grid_gap": null,
       "grid_row": null,
       "grid_template_areas": null,
       "grid_template_columns": null,
       "grid_template_rows": null,
       "height": null,
       "justify_content": null,
       "justify_items": null,
       "left": null,
       "margin": null,
       "max_height": null,
       "max_width": null,
       "min_height": null,
       "min_width": null,
       "object_fit": null,
       "object_position": null,
       "order": null,
       "overflow": null,
       "overflow_x": null,
       "overflow_y": null,
       "padding": null,
       "right": null,
       "top": null,
       "visibility": null,
       "width": null
      }
     },
     "e94b5aaa7ff14a27a8d4930596f4ba0a": {
      "model_module": "@jupyter-widgets/controls",
      "model_module_version": "1.5.0",
      "model_name": "DescriptionStyleModel",
      "state": {
       "_model_module": "@jupyter-widgets/controls",
       "_model_module_version": "1.5.0",
       "_model_name": "DescriptionStyleModel",
       "_view_count": null,
       "_view_module": "@jupyter-widgets/base",
       "_view_module_version": "1.2.0",
       "_view_name": "StyleView",
       "description_width": ""
      }
     },
     "f2b0efa8eac049128f9240886f3a83be": {
      "model_module": "@jupyter-widgets/base",
      "model_module_version": "1.2.0",
      "model_name": "LayoutModel",
      "state": {
       "_model_module": "@jupyter-widgets/base",
       "_model_module_version": "1.2.0",
       "_model_name": "LayoutModel",
       "_view_count": null,
       "_view_module": "@jupyter-widgets/base",
       "_view_module_version": "1.2.0",
       "_view_name": "LayoutView",
       "align_content": null,
       "align_items": null,
       "align_self": null,
       "border": null,
       "bottom": null,
       "display": null,
       "flex": null,
       "flex_flow": null,
       "grid_area": null,
       "grid_auto_columns": null,
       "grid_auto_flow": null,
       "grid_auto_rows": null,
       "grid_column": null,
       "grid_gap": null,
       "grid_row": null,
       "grid_template_areas": null,
       "grid_template_columns": null,
       "grid_template_rows": null,
       "height": null,
       "justify_content": null,
       "justify_items": null,
       "left": null,
       "margin": null,
       "max_height": null,
       "max_width": null,
       "min_height": null,
       "min_width": null,
       "object_fit": null,
       "object_position": null,
       "order": null,
       "overflow": null,
       "overflow_x": null,
       "overflow_y": null,
       "padding": null,
       "right": null,
       "top": null,
       "visibility": null,
       "width": null
      }
     },
     "f496506177da47038492b6601be6bc1d": {
      "model_module": "@jupyter-widgets/controls",
      "model_module_version": "1.5.0",
      "model_name": "ProgressStyleModel",
      "state": {
       "_model_module": "@jupyter-widgets/controls",
       "_model_module_version": "1.5.0",
       "_model_name": "ProgressStyleModel",
       "_view_count": null,
       "_view_module": "@jupyter-widgets/base",
       "_view_module_version": "1.2.0",
       "_view_name": "StyleView",
       "bar_color": null,
       "description_width": ""
      }
     }
    },
    "version_major": 2,
    "version_minor": 0
   }
  }
 },
 "nbformat": 4,
 "nbformat_minor": 5
}
