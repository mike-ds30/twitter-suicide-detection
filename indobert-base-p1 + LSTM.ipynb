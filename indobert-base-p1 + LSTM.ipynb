{
 "cells": [
  {
   "cell_type": "code",
   "execution_count": 1,
   "id": "579b1d97",
   "metadata": {
    "execution": {
     "iopub.execute_input": "2024-04-11T04:59:16.303286Z",
     "iopub.status.busy": "2024-04-11T04:59:16.302982Z",
     "iopub.status.idle": "2024-04-11T04:59:16.994786Z",
     "shell.execute_reply": "2024-04-11T04:59:16.993715Z"
    },
    "id": "fOsXyzoFu4R1",
    "outputId": "a971c595-d74f-46d9-aa41-7a1eb5209273",
    "papermill": {
     "duration": 0.715915,
     "end_time": "2024-04-11T04:59:16.997083",
     "exception": false,
     "start_time": "2024-04-11T04:59:16.281168",
     "status": "completed"
    },
    "tags": []
   },
   "outputs": [
    {
     "name": "stdout",
     "output_type": "stream",
     "text": [
      "Suicidal dataframe:          label                                        twitterText\n",
      "0     SUICIDAL  \"pengen bunuh diri aja\"\\nyang paling sering te...\n",
      "1     SUICIDAL  Secara tidak langsung punya Fikiran pengen bun...\n",
      "2     SUICIDAL          sejam lalu haha hihi sekarang pengen mati\n",
      "3     SUICIDAL  Baru kelar 1 masalah datang lagi malah lainnya...\n",
      "4     SUICIDAL       fuck bundir aku lagi pgn mabok smpk ga sadar\n",
      "...        ...                                                ...\n",
      "8727  SUICIDAL  jujur cape hidup kaya gini terus, aku nganggur...\n",
      "8728  SUICIDAL  Siapa yang dari sd udah kepikiran mau mati ? A...\n",
      "8729  SUICIDAL   Apa aku doang kalo stres suka pengen bunuh diri?\n",
      "8730  SUICIDAL  Mood ga karuan. Ovt ga karuan. Selalu kek miki...\n",
      "8731  SUICIDAL   pengen bundir tapi takut gabisa dengerin mineral\n",
      "\n",
      "[8732 rows x 2 columns]\n"
     ]
    }
   ],
   "source": [
    "import pandas as pd\n",
    "import re\n",
    "import os\n",
    "\n",
    "df_suicidal = pd.read_csv(\"/kaggle/input/manual-annotation-indo-twitter-suicide/final-annotated-suicide-dataset.csv\", usecols=['label', 'twitterText'])\n",
    "df_suicidal.dropna(inplace=True)\n",
    "df_suicidal['label'] = \"SUICIDAL\"\n",
    "df_suicidal = df_suicidal.sample(frac=1, random_state=42).reset_index(drop=True)\n",
    "print(\"Suicidal dataframe:\", df_suicidal)"
   ]
  },
  {
   "cell_type": "code",
   "execution_count": 2,
   "id": "768b123f",
   "metadata": {
    "execution": {
     "iopub.execute_input": "2024-04-11T04:59:17.039542Z",
     "iopub.status.busy": "2024-04-11T04:59:17.039240Z",
     "iopub.status.idle": "2024-04-11T04:59:17.454104Z",
     "shell.execute_reply": "2024-04-11T04:59:17.452903Z"
    },
    "id": "V5fp9OF8zMDq",
    "outputId": "39f83fdd-4857-41e2-d135-3852e2e4131e",
    "papermill": {
     "duration": 0.438108,
     "end_time": "2024-04-11T04:59:17.456247",
     "exception": false,
     "start_time": "2024-04-11T04:59:17.018139",
     "status": "completed"
    },
    "tags": []
   },
   "outputs": [
    {
     "name": "stdout",
     "output_type": "stream",
     "text": [
      "Non-suicidal dataframe:               label                                        twitterText\n",
      "0      NOT_SUICIDAL  yall the feminists i know on twitter are happi...\n",
      "1      NOT_SUICIDAL  Imagine bini sedap masak and his brain thinks ...\n",
      "2      NOT_SUICIDAL  Kita masak macam katering dah raya ni dia kalu...\n",
      "3      NOT_SUICIDAL  Masak ni survival skills, bukan gender roles. ...\n",
      "4      NOT_SUICIDAL  Istg if I were a man, I'd surely date her. \\n\\...\n",
      "...             ...                                                ...\n",
      "35307  NOT_SUICIDAL  @leo_edw W slalu punya feel kalo dia cuma ghos...\n",
      "35308  NOT_SUICIDAL  Jog! Lagi ngrasake bersyukur tapi yo kesel ki,...\n",
      "35309  NOT_SUICIDAL  @mks_fess itulah pentingnya tidak berharap ket...\n",
      "35310  NOT_SUICIDAL  Moots pdkt yuk tapi enih harus delapan kata ad...\n",
      "35311  NOT_SUICIDAL  Pengertian Ghosting dan Cara Menghindarinya: H...\n",
      "\n",
      "[35312 rows x 2 columns]\n",
      "Non-suicidal dataframe:               label                                        twitterText\n",
      "0      NOT_SUICIDAL  [cm] sekarang aku paham kenapa anak semester a...\n",
      "1      NOT_SUICIDAL  Semoga kita kuat kuat aja ya ngejalanin hidup ...\n",
      "2      NOT_SUICIDAL                              pengen bundir lmaoooo\n",
      "3      NOT_SUICIDAL  sumpah pengen gua katain anjing tolol bego ban...\n",
      "4      NOT_SUICIDAL                   pengen beli immortal trus bundir\n",
      "...             ...                                                ...\n",
      "35392  NOT_SUICIDAL         @kadyasandya coba bundir di jembatan suhat\n",
      "35393  NOT_SUICIDAL  @BluueBleGum tapi gua jadi mikir nih, kan pres...\n",
      "35394  NOT_SUICIDAL  @amordevaleri @WeningAA @CNNIndonesia iya aku ...\n",
      "35395  NOT_SUICIDAL  Gua pas itu gini\\n\\n\"Capek bgt pikiran bundir ...\n",
      "35396  NOT_SUICIDAL  Dulu pernah ampe udh cari cara di google tapi ...\n",
      "\n",
      "[35397 rows x 2 columns]\n"
     ]
    }
   ],
   "source": [
    "df_not_suicidal_a = pd.read_csv(\"/kaggle/input/manual-annotation-indo-twitter-suicide/final-non-suicide-dataset.csv\", usecols=['label', 'twitterText'])\n",
    "df_not_suicidal_a.dropna(inplace=True)\n",
    "df_not_suicidal_a['label'] = \"NOT_SUICIDAL\"\n",
    "print(\"Non-suicidal dataframe:\", df_not_suicidal_a)\n",
    "\n",
    "df_not_suicidal_b = pd.read_csv(\"/kaggle/input/manual-annotation-indo-twitter-suicide/final-annotated-non-suicide-dataset.csv\", usecols=['label', 'twitterText'])\n",
    "df_not_suicidal_b.dropna(inplace=True)\n",
    "df_not_suicidal_b['label'] = \"NOT_SUICIDAL\"\n",
    "print(\"Non-suicidal dataframe:\", df_not_suicidal_b)"
   ]
  },
  {
   "cell_type": "code",
   "execution_count": 3,
   "id": "b9a4ef02",
   "metadata": {
    "execution": {
     "iopub.execute_input": "2024-04-11T04:59:17.500795Z",
     "iopub.status.busy": "2024-04-11T04:59:17.500396Z",
     "iopub.status.idle": "2024-04-11T04:59:17.517539Z",
     "shell.execute_reply": "2024-04-11T04:59:17.516515Z"
    },
    "id": "4aSnZHbsz4Zf",
    "outputId": "91960bb7-e93c-4095-d3b2-0905cb15fec6",
    "papermill": {
     "duration": 0.041216,
     "end_time": "2024-04-11T04:59:17.519765",
     "exception": false,
     "start_time": "2024-04-11T04:59:17.478549",
     "status": "completed"
    },
    "tags": []
   },
   "outputs": [
    {
     "name": "stdout",
     "output_type": "stream",
     "text": [
      "Non-suicidal dataframe:              label                                        twitterText\n",
      "0     NOT_SUICIDAL  Gak mudah mengakhiri hubungan di umur 26thn di...\n",
      "1     NOT_SUICIDAL                   Canda. Sesempetnya aja ya bous 😎\n",
      "2     NOT_SUICIDAL  @thekuxell Cara Israel mengurangi populasi ten...\n",
      "3     NOT_SUICIDAL  Aku hanya lelah hidup seperti ini, tak tau har...\n",
      "4     NOT_SUICIDAL  Ada orang yg pintar karena tekun belajar dan a...\n",
      "...            ...                                                ...\n",
      "8727  NOT_SUICIDAL  @kkmanti @kangadang1 @Yanuardychandra @floriel...\n",
      "8728  NOT_SUICIDAL  @Don_gindo Kok dek akibat singo di ajar makan ...\n",
      "8729  NOT_SUICIDAL  Mande :\"Jadi mo cium gak\"\\nSurya :\"ntar aja ka...\n",
      "8730  NOT_SUICIDAL  Tuhan...knp z harus kenal,cyg,n nikah dg org y...\n",
      "8731  NOT_SUICIDAL  Demi tuhan, ini narasi paling berkesan. Gemes,...\n",
      "\n",
      "[8732 rows x 2 columns]\n"
     ]
    }
   ],
   "source": [
    "#Combine non-suicidal datasets from non-suicide keyword query (a) and suicide keyword but annotated non-suicide (b)\n",
    "#Randomly sample 8732 data to match number of suicidal data\n",
    "df_not_suicidal = pd.concat([df_not_suicidal_a, df_not_suicidal_b])\n",
    "df_not_suicidal = df_not_suicidal.sample(n=8732, random_state=42).reset_index(drop=True)\n",
    "print(\"Non-suicidal dataframe:\", df_not_suicidal)"
   ]
  },
  {
   "cell_type": "code",
   "execution_count": 4,
   "id": "11bfbcf0",
   "metadata": {
    "execution": {
     "iopub.execute_input": "2024-04-11T04:59:17.564572Z",
     "iopub.status.busy": "2024-04-11T04:59:17.564214Z",
     "iopub.status.idle": "2024-04-11T04:59:17.573520Z",
     "shell.execute_reply": "2024-04-11T04:59:17.572591Z"
    },
    "id": "4Mo0ayPQ39-o",
    "outputId": "ac4a71cc-8fd7-41ab-937f-ba94d31f14f5",
    "papermill": {
     "duration": 0.033537,
     "end_time": "2024-04-11T04:59:17.575590",
     "exception": false,
     "start_time": "2024-04-11T04:59:17.542053",
     "status": "completed"
    },
    "tags": []
   },
   "outputs": [
    {
     "name": "stdout",
     "output_type": "stream",
     "text": [
      "              label                                        twitterText\n",
      "0          SUICIDAL  \"pengen bunuh diri aja\"\\nyang paling sering te...\n",
      "1          SUICIDAL  Secara tidak langsung punya Fikiran pengen bun...\n",
      "2          SUICIDAL          sejam lalu haha hihi sekarang pengen mati\n",
      "3          SUICIDAL  Baru kelar 1 masalah datang lagi malah lainnya...\n",
      "4          SUICIDAL       fuck bundir aku lagi pgn mabok smpk ga sadar\n",
      "...             ...                                                ...\n",
      "17459  NOT_SUICIDAL  @kkmanti @kangadang1 @Yanuardychandra @floriel...\n",
      "17460  NOT_SUICIDAL  @Don_gindo Kok dek akibat singo di ajar makan ...\n",
      "17461  NOT_SUICIDAL  Mande :\"Jadi mo cium gak\"\\nSurya :\"ntar aja ka...\n",
      "17462  NOT_SUICIDAL  Tuhan...knp z harus kenal,cyg,n nikah dg org y...\n",
      "17463  NOT_SUICIDAL  Demi tuhan, ini narasi paling berkesan. Gemes,...\n",
      "\n",
      "[17464 rows x 2 columns]\n"
     ]
    }
   ],
   "source": [
    "df = pd.concat([df_suicidal, df_not_suicidal])\n",
    "df = df.reset_index(drop=True)\n",
    "print(df)"
   ]
  },
  {
   "cell_type": "code",
   "execution_count": 5,
   "id": "90efd485",
   "metadata": {
    "execution": {
     "iopub.execute_input": "2024-04-11T04:59:17.619225Z",
     "iopub.status.busy": "2024-04-11T04:59:17.618960Z",
     "iopub.status.idle": "2024-04-11T04:59:17.642144Z",
     "shell.execute_reply": "2024-04-11T04:59:17.641292Z"
    },
    "id": "HGj2BTkeYb5k",
    "outputId": "6c400aa8-228c-477a-efe6-052e7a007d40",
    "papermill": {
     "duration": 0.047916,
     "end_time": "2024-04-11T04:59:17.645119",
     "exception": false,
     "start_time": "2024-04-11T04:59:17.597203",
     "status": "completed"
    },
    "tags": []
   },
   "outputs": [
    {
     "name": "stdout",
     "output_type": "stream",
     "text": [
      "       label                                        twitterText\n",
      "0          1  \"pengen bunuh diri aja\"\\nyang paling sering te...\n",
      "1          1  Secara tidak langsung punya Fikiran pengen bun...\n",
      "2          1          sejam lalu haha hihi sekarang pengen mati\n",
      "3          1  Baru kelar 1 masalah datang lagi malah lainnya...\n",
      "4          1       fuck bundir aku lagi pgn mabok smpk ga sadar\n",
      "...      ...                                                ...\n",
      "17459      0  @kkmanti @kangadang1 @Yanuardychandra @floriel...\n",
      "17460      0  @Don_gindo Kok dek akibat singo di ajar makan ...\n",
      "17461      0  Mande :\"Jadi mo cium gak\"\\nSurya :\"ntar aja ka...\n",
      "17462      0  Tuhan...knp z harus kenal,cyg,n nikah dg org y...\n",
      "17463      0  Demi tuhan, ini narasi paling berkesan. Gemes,...\n",
      "\n",
      "[17464 rows x 2 columns]\n"
     ]
    },
    {
     "name": "stderr",
     "output_type": "stream",
     "text": [
      "/tmp/ipykernel_25/3044191695.py:1: FutureWarning: Downcasting behavior in `replace` is deprecated and will be removed in a future version. To retain the old behavior, explicitly call `result.infer_objects(copy=False)`. To opt-in to the future behavior, set `pd.set_option('future.no_silent_downcasting', True)`\n",
      "  df['label'] = df['label'].replace({'SUICIDAL': 1, 'NOT_SUICIDAL': 0})\n"
     ]
    }
   ],
   "source": [
    "df['label'] = df['label'].replace({'SUICIDAL': 1, 'NOT_SUICIDAL': 0})\n",
    "print(df)"
   ]
  },
  {
   "cell_type": "markdown",
   "id": "d5df73cb",
   "metadata": {
    "id": "ZhZrd-SIdKpZ",
    "papermill": {
     "duration": 0.021458,
     "end_time": "2024-04-11T04:59:17.688207",
     "exception": false,
     "start_time": "2024-04-11T04:59:17.666749",
     "status": "completed"
    },
    "tags": []
   },
   "source": [
    "# Libraries"
   ]
  },
  {
   "cell_type": "code",
   "execution_count": 6,
   "id": "fc4a8b88",
   "metadata": {
    "execution": {
     "iopub.execute_input": "2024-04-11T04:59:17.732180Z",
     "iopub.status.busy": "2024-04-11T04:59:17.731431Z",
     "iopub.status.idle": "2024-04-11T04:59:43.030479Z",
     "shell.execute_reply": "2024-04-11T04:59:43.029506Z"
    },
    "id": "97qLgzNzzUkW",
    "outputId": "1e084f33-d6c0-4c54-d00a-b65890eb3205",
    "papermill": {
     "duration": 25.323211,
     "end_time": "2024-04-11T04:59:43.032917",
     "exception": false,
     "start_time": "2024-04-11T04:59:17.709706",
     "status": "completed"
    },
    "tags": []
   },
   "outputs": [
    {
     "name": "stdout",
     "output_type": "stream",
     "text": [
      "Collecting indonlp\r\n",
      "  Downloading indoNLP-0.3.4-py3-none-any.whl.metadata (3.4 kB)\r\n",
      "Downloading indoNLP-0.3.4-py3-none-any.whl (121 kB)\r\n",
      "\u001b[2K   \u001b[90m━━━━━━━━━━━━━━━━━━━━━━━━━━━━━━━━━━━━━━━━\u001b[0m \u001b[32m121.9/121.9 kB\u001b[0m \u001b[31m1.4 MB/s\u001b[0m eta \u001b[36m0:00:00\u001b[0m\r\n",
      "\u001b[?25hInstalling collected packages: indonlp\r\n",
      "Successfully installed indonlp-0.3.4\r\n",
      "Requirement already satisfied: unidecode in /opt/conda/lib/python3.10/site-packages (1.3.8)\r\n"
     ]
    }
   ],
   "source": [
    "!pip install indonlp\n",
    "!pip install unidecode"
   ]
  },
  {
   "cell_type": "markdown",
   "id": "822027ef",
   "metadata": {
    "id": "dUpBSkaddXg7",
    "papermill": {
     "duration": 0.021407,
     "end_time": "2024-04-11T04:59:43.076424",
     "exception": false,
     "start_time": "2024-04-11T04:59:43.055017",
     "status": "completed"
    },
    "tags": []
   },
   "source": [
    "# Data Pre Processing"
   ]
  },
  {
   "cell_type": "markdown",
   "id": "06046616",
   "metadata": {
    "id": "ZRzJmISWzUkX",
    "papermill": {
     "duration": 0.021157,
     "end_time": "2024-04-11T04:59:43.119058",
     "exception": false,
     "start_time": "2024-04-11T04:59:43.097901",
     "status": "completed"
    },
    "tags": []
   },
   "source": [
    "1. Transliteration (there's cases makası, whose letter 'i' is a Turkish lowercase, making it seem like a 'new' word. We try to make it uniform to English letters, thus becoming 'makasi')\n",
    "2. Remove newlines"
   ]
  },
  {
   "cell_type": "code",
   "execution_count": 7,
   "id": "3b3fffcc",
   "metadata": {
    "execution": {
     "iopub.execute_input": "2024-04-11T04:59:43.163948Z",
     "iopub.status.busy": "2024-04-11T04:59:43.163126Z",
     "iopub.status.idle": "2024-04-11T04:59:43.639413Z",
     "shell.execute_reply": "2024-04-11T04:59:43.638279Z"
    },
    "id": "dwVuLiurzUkX",
    "papermill": {
     "duration": 0.501356,
     "end_time": "2024-04-11T04:59:43.641901",
     "exception": false,
     "start_time": "2024-04-11T04:59:43.140545",
     "status": "completed"
    },
    "tags": []
   },
   "outputs": [],
   "source": [
    "from unidecode import unidecode\n",
    "df['twitterText'] = df['twitterText'].apply(unidecode)\n",
    "df['twitterText'] = df['twitterText'].str.replace(\"\\n\", \"\")"
   ]
  },
  {
   "cell_type": "markdown",
   "id": "c90b4503",
   "metadata": {
    "id": "5uGd7DqZy7Jh",
    "papermill": {
     "duration": 0.02254,
     "end_time": "2024-04-11T04:59:43.686502",
     "exception": false,
     "start_time": "2024-04-11T04:59:43.663962",
     "status": "completed"
    },
    "tags": []
   },
   "source": [
    "3. Convert emoji To Indonesian words\n",
    "4. Remove elongation\n",
    "5. Remove links"
   ]
  },
  {
   "cell_type": "code",
   "execution_count": 8,
   "id": "6a25ee12",
   "metadata": {
    "execution": {
     "iopub.execute_input": "2024-04-11T04:59:43.731714Z",
     "iopub.status.busy": "2024-04-11T04:59:43.730993Z",
     "iopub.status.idle": "2024-04-11T04:59:57.938069Z",
     "shell.execute_reply": "2024-04-11T04:59:57.937021Z"
    },
    "id": "ZyvkNyRuzUkY",
    "outputId": "61b7d304-ead1-47af-a057-06f6e3f16f06",
    "papermill": {
     "duration": 14.232638,
     "end_time": "2024-04-11T04:59:57.940683",
     "exception": false,
     "start_time": "2024-04-11T04:59:43.708045",
     "status": "completed"
    },
    "tags": []
   },
   "outputs": [
    {
     "name": "stdout",
     "output_type": "stream",
     "text": [
      "       label                                        twitterText\n",
      "0          1  \"pengen bunuh diri aja\"yang paling sering teru...\n",
      "1          1  Secara tidak langsung punya Fikiran pengen bun...\n",
      "2          1          sejam lalu haha hihi sekarang pengen mati\n",
      "3          1  Baru kelar 1 masalah datang lagi malah lainnya...\n",
      "4          1       fuck bundir aku lagi pgn mabok smpk ga sadar\n",
      "...      ...                                                ...\n",
      "17459      0  @kkmanti @kangadang1 @Yanuardychandra @floriel...\n",
      "17460      0  @Don_gindo Kok dek akibat singo di ajar makan ...\n",
      "17461      0  Mande :\"Jadi mo cium gak\"Surya :\"ntar aja kalo...\n",
      "17462      0  Tuhan...knp z harus kenal,cyg,n nikah dg org y...\n",
      "17463      0  Demi tuhan, ini narasi paling berkesan. Gemes,...\n",
      "\n",
      "[17464 rows x 2 columns]\n"
     ]
    }
   ],
   "source": [
    "from indoNLP.preprocessing import emoji_to_words, replace_word_elongation, remove_url, pipeline\n",
    "\n",
    "def preprocessing(twitterText):\n",
    "    pipe = pipeline([emoji_to_words, replace_word_elongation, remove_url])\n",
    "    return pipe(twitterText)\n",
    "df['twitterText'] = df['twitterText'].apply(preprocessing)\n",
    "print(df)"
   ]
  },
  {
   "cell_type": "markdown",
   "id": "94821df9",
   "metadata": {
    "id": "zPVTsQNKzUkY",
    "papermill": {
     "duration": 0.021456,
     "end_time": "2024-04-11T04:59:57.988577",
     "exception": false,
     "start_time": "2024-04-11T04:59:57.967121",
     "status": "completed"
    },
    "tags": []
   },
   "source": [
    "5. Formalize Slang Words (Lemmatization)"
   ]
  },
  {
   "cell_type": "code",
   "execution_count": 9,
   "id": "ade14b92",
   "metadata": {
    "execution": {
     "iopub.execute_input": "2024-04-11T04:59:58.032916Z",
     "iopub.status.busy": "2024-04-11T04:59:58.032603Z",
     "iopub.status.idle": "2024-04-11T04:59:58.146373Z",
     "shell.execute_reply": "2024-04-11T04:59:58.145099Z"
    },
    "id": "cxB9APwmy6m3",
    "outputId": "615ab55a-c056-4b9c-d2ab-7158578e0ce3",
    "papermill": {
     "duration": 0.138562,
     "end_time": "2024-04-11T04:59:58.148573",
     "exception": false,
     "start_time": "2024-04-11T04:59:58.010011",
     "status": "completed"
    },
    "tags": []
   },
   "outputs": [
    {
     "name": "stdout",
     "output_type": "stream",
     "text": [
      "          slang         formal\n",
      "0          woww            wow\n",
      "1         aminn           amin\n",
      "2           met        selamat\n",
      "3        netaas        menetas\n",
      "4       keberpa       keberapa\n",
      "...         ...            ...\n",
      "15001  gataunya  enggak taunya\n",
      "15002      gtau     enggak tau\n",
      "15003     gatau     enggak tau\n",
      "15004     fans2        fan-fan\n",
      "15005   gaharus   enggak harus\n",
      "\n",
      "[15006 rows x 2 columns]\n"
     ]
    }
   ],
   "source": [
    "# Step 1: Read dataset of slang vs formal words\n",
    "# Taken from Colloquial Indonesian Lexicon by Salsabila, Winatmoko, Septriandi, and Jamal\n",
    "# https://ieeexplore.ieee.org/abstract/document/8629151\n",
    "slang_df = pd.read_csv('/kaggle/input/manual-annotation-indo-twitter-suicide/colloquial-indonesian-lexicon.csv', usecols=['slang', 'formal'])\n",
    "print(slang_df)"
   ]
  },
  {
   "cell_type": "code",
   "execution_count": 10,
   "id": "930e72d6",
   "metadata": {
    "execution": {
     "iopub.execute_input": "2024-04-11T04:59:58.196722Z",
     "iopub.status.busy": "2024-04-11T04:59:58.196362Z",
     "iopub.status.idle": "2024-04-11T04:59:58.209135Z",
     "shell.execute_reply": "2024-04-11T04:59:58.208234Z"
    },
    "id": "QyE9u4r6zbwP",
    "papermill": {
     "duration": 0.038383,
     "end_time": "2024-04-11T04:59:58.211078",
     "exception": false,
     "start_time": "2024-04-11T04:59:58.172695",
     "status": "completed"
    },
    "tags": []
   },
   "outputs": [],
   "source": [
    "# Step 2: Create a dictionary mapping slang words to their normalized versions\n",
    "# Note: Is equivalent to IndoNLP's replace_slang(), but we also added specific suicidal slangs here, which don't exist in the dataset\n",
    "slang_mapping = dict(zip(slang_df['slang'], slang_df['formal']))\n",
    "slang_mapping.update({\n",
    "    'm*ti': 'mati',\n",
    "    'm4ti': 'mati',\n",
    "    'bundir': 'bunuh diri',\n",
    "    'bund1r': 'bunuh diri'\n",
    "})"
   ]
  },
  {
   "cell_type": "code",
   "execution_count": 11,
   "id": "8681d513",
   "metadata": {
    "execution": {
     "iopub.execute_input": "2024-04-11T04:59:58.255298Z",
     "iopub.status.busy": "2024-04-11T04:59:58.255012Z",
     "iopub.status.idle": "2024-04-11T04:59:58.470682Z",
     "shell.execute_reply": "2024-04-11T04:59:58.470005Z"
    },
    "id": "PZ8ZI55Xzlf5",
    "papermill": {
     "duration": 0.239953,
     "end_time": "2024-04-11T04:59:58.472561",
     "exception": false,
     "start_time": "2024-04-11T04:59:58.232608",
     "status": "completed"
    },
    "tags": []
   },
   "outputs": [],
   "source": [
    "import re\n",
    "# Step 3: Compile regular expressions for each slang word\n",
    "slang_patterns = {re.compile(r'\\b' + re.escape(slang) + r'\\b'): normalized for slang, normalized in slang_mapping.items()}"
   ]
  },
  {
   "cell_type": "code",
   "execution_count": 12,
   "id": "4326d074",
   "metadata": {
    "execution": {
     "iopub.execute_input": "2024-04-11T04:59:58.516906Z",
     "iopub.status.busy": "2024-04-11T04:59:58.516638Z",
     "iopub.status.idle": "2024-04-11T05:05:22.104685Z",
     "shell.execute_reply": "2024-04-11T05:05:22.103744Z"
    },
    "id": "u2ooJYdSzoY3",
    "outputId": "435f430a-7d14-43d7-906f-6154a7bc8dde",
    "papermill": {
     "duration": 323.635833,
     "end_time": "2024-04-11T05:05:22.130040",
     "exception": false,
     "start_time": "2024-04-11T04:59:58.494207",
     "status": "completed"
    },
    "tags": []
   },
   "outputs": [
    {
     "name": "stdout",
     "output_type": "stream",
     "text": [
      "<bound method NDFrame.head of        index  label                                        twitterText\n",
      "0          0      1  \"pengin bunuh diri saja\"yang paling sering ter...\n",
      "1          1      1  Secara tidak langsung punya Fikiran pengin bun...\n",
      "2          2      1          sejam lalu haha hihi sekarang pengin mati\n",
      "3          3      1  Baru kelar 1 masalah datang lagi malah lainnya...\n",
      "4          4      1  fuck bunuh diri aku lagi pengin mabok smpk eng...\n",
      "...      ...    ...                                                ...\n",
      "17459  17459      0  @kkmanti @kangadang1 @Yanuardychandra @floriel...\n",
      "17460  17460      0  @Don_gindo Kok dek akibat singo di ajar makan ...\n",
      "17461  17461      0  Mande :\"Jadi mau cium enggak\"Surya :\"entar saj...\n",
      "17462  17462      0  Tuhan...kenapa saja harus kenal,cyg,n nikah de...\n",
      "17463  17463      0  Demi tuhan, ini narasi paling berkesan. Gemes,...\n",
      "\n",
      "[17464 rows x 3 columns]>\n"
     ]
    }
   ],
   "source": [
    "# Step 4: Iterate through the Twitter dataset and replace slang words with normalized versions\n",
    "def replace_slang(text):\n",
    "    for pattern, normalized in slang_patterns.items():\n",
    "        text = pattern.sub(normalized, text)\n",
    "    return text\n",
    "\n",
    "df['twitterText'] = df['twitterText'].apply(replace_slang)\n",
    "df = df.reset_index()\n",
    "print(df.head)"
   ]
  },
  {
   "cell_type": "markdown",
   "id": "cc01e6fa",
   "metadata": {
    "id": "YzRYAhDWzUkZ",
    "papermill": {
     "duration": 0.02143,
     "end_time": "2024-04-11T05:05:22.173302",
     "exception": false,
     "start_time": "2024-04-11T05:05:22.151872",
     "status": "completed"
    },
    "tags": []
   },
   "source": [
    "6. Remove twitter tags (@user)"
   ]
  },
  {
   "cell_type": "code",
   "execution_count": 13,
   "id": "4334d59a",
   "metadata": {
    "execution": {
     "iopub.execute_input": "2024-04-11T05:05:22.258902Z",
     "iopub.status.busy": "2024-04-11T05:05:22.258290Z",
     "iopub.status.idle": "2024-04-11T05:05:22.296497Z",
     "shell.execute_reply": "2024-04-11T05:05:22.295719Z"
    },
    "id": "EFjoY0q0zUka",
    "outputId": "610f8013-5f7d-46bc-8b89-c2b4cc381deb",
    "papermill": {
     "duration": 0.103527,
     "end_time": "2024-04-11T05:05:22.298723",
     "exception": false,
     "start_time": "2024-04-11T05:05:22.195196",
     "status": "completed"
    },
    "tags": []
   },
   "outputs": [
    {
     "name": "stdout",
     "output_type": "stream",
     "text": [
      "<bound method NDFrame.head of        index  label                                        twitterText\n",
      "0          0      1  \"pengin bunuh diri saja\"yang paling sering ter...\n",
      "1          1      1  Secara tidak langsung punya Fikiran pengin bun...\n",
      "2          2      1          sejam lalu haha hihi sekarang pengin mati\n",
      "3          3      1  Baru kelar 1 masalah datang lagi malah lainnya...\n",
      "4          4      1  fuck bunuh diri aku lagi pengin mabok smpk eng...\n",
      "...      ...    ...                                                ...\n",
      "17459  17459      0      Habis TL adanya Ribut Terus.Gak ada yang B...\n",
      "17460  17460      0   Kok dek akibat singo di ajar makan 2 buah pis...\n",
      "17461  17461      0  Mande :\"Jadi mau cium enggak\"Surya :\"entar saj...\n",
      "17462  17462      0  Tuhan...kenapa saja harus kenal,cyg,n nikah de...\n",
      "17463  17463      0  Demi tuhan, ini narasi paling berkesan. Gemes,...\n",
      "\n",
      "[17464 rows x 3 columns]>\n"
     ]
    }
   ],
   "source": [
    "def remove_twitter_tag(text):\n",
    "    return re.sub(r'@\\w+', '', text)\n",
    "\n",
    "df['twitterText'] = df['twitterText'].apply(remove_twitter_tag)\n",
    "print(df.head)"
   ]
  },
  {
   "cell_type": "code",
   "execution_count": 14,
   "id": "752981bd",
   "metadata": {
    "execution": {
     "iopub.execute_input": "2024-04-11T05:05:22.344464Z",
     "iopub.status.busy": "2024-04-11T05:05:22.344173Z",
     "iopub.status.idle": "2024-04-11T05:05:22.351685Z",
     "shell.execute_reply": "2024-04-11T05:05:22.350801Z"
    },
    "id": "statdYVZzUka",
    "outputId": "62117544-26a3-46bc-f204-9de49441a3d4",
    "papermill": {
     "duration": 0.032599,
     "end_time": "2024-04-11T05:05:22.353857",
     "exception": false,
     "start_time": "2024-04-11T05:05:22.321258",
     "status": "completed"
    },
    "tags": []
   },
   "outputs": [
    {
     "name": "stdout",
     "output_type": "stream",
     "text": [
      "[1 0]\n"
     ]
    }
   ],
   "source": [
    "print(df['label'].unique())"
   ]
  },
  {
   "cell_type": "markdown",
   "id": "13b04fd5",
   "metadata": {
    "id": "mHv5Sd4hzUka",
    "papermill": {
     "duration": 0.021665,
     "end_time": "2024-04-11T05:05:22.398696",
     "exception": false,
     "start_time": "2024-04-11T05:05:22.377031",
     "status": "completed"
    },
    "tags": []
   },
   "source": [
    "# Classify Data"
   ]
  },
  {
   "cell_type": "code",
   "execution_count": 15,
   "id": "e352dbed",
   "metadata": {
    "execution": {
     "iopub.execute_input": "2024-04-11T05:05:22.443794Z",
     "iopub.status.busy": "2024-04-11T05:05:22.443530Z",
     "iopub.status.idle": "2024-04-11T05:05:33.072795Z",
     "shell.execute_reply": "2024-04-11T05:05:33.071756Z"
    },
    "id": "uZ_chlLSkEzQ",
    "outputId": "99119e08-613b-475a-f893-943e2e0f6d8f",
    "papermill": {
     "duration": 10.654631,
     "end_time": "2024-04-11T05:05:33.075301",
     "exception": false,
     "start_time": "2024-04-11T05:05:22.420670",
     "status": "completed"
    },
    "tags": []
   },
   "outputs": [
    {
     "data": {
      "application/vnd.jupyter.widget-view+json": {
       "model_id": "ef5d5ba07e5948d0bc78498944c5f3ae",
       "version_major": 2,
       "version_minor": 0
      },
      "text/plain": [
       "tokenizer_config.json:   0%|          | 0.00/2.00 [00:00<?, ?B/s]"
      ]
     },
     "metadata": {},
     "output_type": "display_data"
    },
    {
     "data": {
      "application/vnd.jupyter.widget-view+json": {
       "model_id": "2833accd7cbf450da4ab05f60c6392d3",
       "version_major": 2,
       "version_minor": 0
      },
      "text/plain": [
       "vocab.txt:   0%|          | 0.00/229k [00:00<?, ?B/s]"
      ]
     },
     "metadata": {},
     "output_type": "display_data"
    },
    {
     "data": {
      "application/vnd.jupyter.widget-view+json": {
       "model_id": "a27f58f5a1ce4fda8f880aff9ca60a7a",
       "version_major": 2,
       "version_minor": 0
      },
      "text/plain": [
       "special_tokens_map.json:   0%|          | 0.00/112 [00:00<?, ?B/s]"
      ]
     },
     "metadata": {},
     "output_type": "display_data"
    },
    {
     "data": {
      "application/vnd.jupyter.widget-view+json": {
       "model_id": "076986a8e7724015bce903d511bdd62f",
       "version_major": 2,
       "version_minor": 0
      },
      "text/plain": [
       "config.json:   0%|          | 0.00/1.53k [00:00<?, ?B/s]"
      ]
     },
     "metadata": {},
     "output_type": "display_data"
    },
    {
     "data": {
      "application/vnd.jupyter.widget-view+json": {
       "model_id": "0836c0f884384db1b1acf504516af0c4",
       "version_major": 2,
       "version_minor": 0
      },
      "text/plain": [
       "pytorch_model.bin:   0%|          | 0.00/498M [00:00<?, ?B/s]"
      ]
     },
     "metadata": {},
     "output_type": "display_data"
    },
    {
     "name": "stderr",
     "output_type": "stream",
     "text": [
      "/opt/conda/lib/python3.10/site-packages/torch/_utils.py:831: UserWarning: TypedStorage is deprecated. It will be removed in the future and UntypedStorage will be the only storage class. This should only matter to you if you are using storages directly.  To access UntypedStorage directly, use tensor.untyped_storage() instead of tensor.storage()\n",
      "  return self.fget.__get__(instance, owner)()\n"
     ]
    }
   ],
   "source": [
    "# Load the IndobertModel and tokenizer\n",
    "from transformers import BertTokenizer, BertModel\n",
    "model_name = 'indobenchmark/indobert-base-p1'\n",
    "tokenizer = BertTokenizer.from_pretrained(model_name)\n",
    "bert_model = BertModel.from_pretrained(model_name)"
   ]
  },
  {
   "cell_type": "code",
   "execution_count": 16,
   "id": "54bf953c",
   "metadata": {
    "execution": {
     "iopub.execute_input": "2024-04-11T05:05:33.124344Z",
     "iopub.status.busy": "2024-04-11T05:05:33.123861Z",
     "iopub.status.idle": "2024-04-11T05:05:33.129812Z",
     "shell.execute_reply": "2024-04-11T05:05:33.128895Z"
    },
    "id": "ZnPk1zayzUka",
    "papermill": {
     "duration": 0.032742,
     "end_time": "2024-04-11T05:05:33.131758",
     "exception": false,
     "start_time": "2024-04-11T05:05:33.099016",
     "status": "completed"
    },
    "tags": []
   },
   "outputs": [],
   "source": [
    "# Prepare the data\n",
    "texts = df['twitterText'].tolist()\n",
    "labels = df['label'].tolist()"
   ]
  },
  {
   "cell_type": "code",
   "execution_count": 17,
   "id": "6caa4cf5",
   "metadata": {
    "execution": {
     "iopub.execute_input": "2024-04-11T05:05:33.180507Z",
     "iopub.status.busy": "2024-04-11T05:05:33.179690Z",
     "iopub.status.idle": "2024-04-11T05:05:34.170794Z",
     "shell.execute_reply": "2024-04-11T05:05:34.170013Z"
    },
    "id": "1xf1NpL_zUka",
    "papermill": {
     "duration": 1.017569,
     "end_time": "2024-04-11T05:05:34.173035",
     "exception": false,
     "start_time": "2024-04-11T05:05:33.155466",
     "status": "completed"
    },
    "tags": []
   },
   "outputs": [],
   "source": [
    "from sklearn.model_selection import train_test_split\n",
    "# Split the data into train and test sets 8:2\n",
    "train_texts, test_texts, train_labels, test_labels = train_test_split(texts, labels, test_size=0.2, random_state=42)"
   ]
  },
  {
   "cell_type": "code",
   "execution_count": 18,
   "id": "f581d533",
   "metadata": {
    "execution": {
     "iopub.execute_input": "2024-04-11T05:05:34.222391Z",
     "iopub.status.busy": "2024-04-11T05:05:34.221335Z",
     "iopub.status.idle": "2024-04-11T05:05:34.306275Z",
     "shell.execute_reply": "2024-04-11T05:05:34.305308Z"
    },
    "id": "We0EsUKAzUkb",
    "papermill": {
     "duration": 0.111614,
     "end_time": "2024-04-11T05:05:34.308266",
     "exception": false,
     "start_time": "2024-04-11T05:05:34.196652",
     "status": "completed"
    },
    "tags": []
   },
   "outputs": [],
   "source": [
    "import torch\n",
    "\n",
    "if torch.cuda.is_available():\n",
    "    device = torch.device(\"cuda\")\n",
    "else:\n",
    "    print('No GPU available, using the CPU instead.')\n",
    "    device = torch.device(\"cpu\")\n",
    "\n",
    "def tokenize_and_create_input_tensors(texts):\n",
    "    input_ids = []\n",
    "    attention_masks = []\n",
    "    max_length = 128\n",
    "\n",
    "    for text in texts:\n",
    "        encoded_dict = tokenizer.encode_plus(\n",
    "            text,\n",
    "            add_special_tokens=True,\n",
    "            max_length=max_length,\n",
    "            padding='max_length',\n",
    "            truncation=True,\n",
    "            return_attention_mask=True,\n",
    "            return_tensors='pt'\n",
    "        )\n",
    "        input_ids.append(encoded_dict['input_ids'])\n",
    "        attention_masks.append(encoded_dict['attention_mask'])\n",
    "\n",
    "    # Pad the input tensors to the same length\n",
    "    padded_input_ids = torch.nn.utils.rnn.pad_sequence(input_ids, batch_first=True, padding_value=tokenizer.pad_token_id)\n",
    "    padded_attention_masks = torch.nn.utils.rnn.pad_sequence(attention_masks, batch_first=True, padding_value=0)\n",
    "\n",
    "    # Check if all input tensors have the same length\n",
    "    if padded_input_ids.size(1) != max_length or padded_attention_masks.size(1) != max_length:\n",
    "        # Pad again with a new maximum length\n",
    "        max_length = max(padded_input_ids.size(1), padded_attention_masks.size(1))\n",
    "        padded_input_ids = torch.nn.functional.pad(padded_input_ids, (0, max_length - padded_input_ids.size(1)), mode='constant', value=tokenizer.pad_token_id)\n",
    "        padded_attention_masks = torch.nn.functional.pad(padded_attention_masks, (0, max_length - padded_attention_masks.size(1)), mode='constant', value=0)\n",
    "\n",
    "    return padded_input_ids, padded_attention_masks"
   ]
  },
  {
   "cell_type": "code",
   "execution_count": 19,
   "id": "ea40c8ff",
   "metadata": {
    "execution": {
     "iopub.execute_input": "2024-04-11T05:05:34.357675Z",
     "iopub.status.busy": "2024-04-11T05:05:34.357311Z",
     "iopub.status.idle": "2024-04-11T05:05:51.409146Z",
     "shell.execute_reply": "2024-04-11T05:05:51.407827Z"
    },
    "id": "OblOC0EbzUkb",
    "outputId": "0f2659a1-3d3b-437e-ceee-a75cb0e299a9",
    "papermill": {
     "duration": 17.079082,
     "end_time": "2024-04-11T05:05:51.411170",
     "exception": false,
     "start_time": "2024-04-11T05:05:34.332088",
     "status": "completed"
    },
    "tags": []
   },
   "outputs": [
    {
     "name": "stdout",
     "output_type": "stream",
     "text": [
      "Before:\n",
      "torch.Size([13971, 1, 128])\n",
      "torch.Size([13971, 1, 128])\n",
      "torch.Size([13971])\n",
      "After:\n",
      "torch.Size([13971, 128])\n",
      "torch.Size([13971, 128])\n",
      "torch.Size([13971])\n"
     ]
    }
   ],
   "source": [
    "train_input_ids, train_attention_masks = tokenize_and_create_input_tensors(train_texts)\n",
    "train_labels = torch.tensor(train_labels).to(device)\n",
    "\n",
    "print(\"Before:\")\n",
    "print(train_input_ids.shape)\n",
    "print(train_attention_masks.shape)\n",
    "print(train_labels.shape)\n",
    "\n",
    "train_input_ids = train_input_ids.squeeze(dim=1).to(device)\n",
    "train_attention_masks = train_attention_masks.squeeze(dim=1).to(device)\n",
    "\n",
    "print(\"After:\")\n",
    "print(train_input_ids.shape)\n",
    "print(train_attention_masks.shape)\n",
    "print(train_labels.shape)"
   ]
  },
  {
   "cell_type": "code",
   "execution_count": 20,
   "id": "cf193fb1",
   "metadata": {
    "execution": {
     "iopub.execute_input": "2024-04-11T05:05:51.459889Z",
     "iopub.status.busy": "2024-04-11T05:05:51.459096Z",
     "iopub.status.idle": "2024-04-11T05:05:55.495608Z",
     "shell.execute_reply": "2024-04-11T05:05:55.494306Z"
    },
    "id": "FasS8C6PzUkb",
    "outputId": "293d2f9f-42cb-47ce-ca8a-35d86cd2cfd6",
    "papermill": {
     "duration": 4.062759,
     "end_time": "2024-04-11T05:05:55.497740",
     "exception": false,
     "start_time": "2024-04-11T05:05:51.434981",
     "status": "completed"
    },
    "tags": []
   },
   "outputs": [
    {
     "name": "stdout",
     "output_type": "stream",
     "text": [
      "After:\n",
      "torch.Size([3493, 128])\n",
      "torch.Size([3493, 128])\n",
      "torch.Size([3493])\n"
     ]
    }
   ],
   "source": [
    "test_input_ids, test_attention_masks = tokenize_and_create_input_tensors(test_texts)\n",
    "test_labels = torch.tensor(test_labels).to(device)\n",
    "\n",
    "test_input_ids = test_input_ids.squeeze(dim=1).to(device)\n",
    "test_attention_masks = test_attention_masks.squeeze(dim=1).to(device)\n",
    "\n",
    "print(\"After:\")\n",
    "print(test_input_ids.shape)\n",
    "print(test_attention_masks.shape)\n",
    "print(test_labels.shape)"
   ]
  },
  {
   "cell_type": "code",
   "execution_count": 21,
   "id": "820d7162",
   "metadata": {
    "execution": {
     "iopub.execute_input": "2024-04-11T05:05:55.545843Z",
     "iopub.status.busy": "2024-04-11T05:05:55.545533Z",
     "iopub.status.idle": "2024-04-11T05:05:55.600860Z",
     "shell.execute_reply": "2024-04-11T05:05:55.599922Z"
    },
    "id": "bSfSfKSLYaDT",
    "papermill": {
     "duration": 0.081579,
     "end_time": "2024-04-11T05:05:55.602932",
     "exception": false,
     "start_time": "2024-04-11T05:05:55.521353",
     "status": "completed"
    },
    "tags": []
   },
   "outputs": [],
   "source": [
    "torch.save(train_input_ids, '/kaggle/working/train_input_ids.pt')\n",
    "torch.save(train_attention_masks, '/kaggle/working/train_attention_masks.pt')\n",
    "torch.save(train_labels, '/kaggle/working/train_labels.pt')\n",
    "\n",
    "torch.save(test_input_ids, '/kaggle/working/test_input_ids.pt')\n",
    "torch.save(test_attention_masks, '/kaggle/working/test_attention_masks.pt')\n",
    "torch.save(test_labels, '/kaggle/working/test_labels.pt')"
   ]
  },
  {
   "cell_type": "code",
   "execution_count": 22,
   "id": "e8a96013",
   "metadata": {
    "execution": {
     "iopub.execute_input": "2024-04-11T05:05:55.651064Z",
     "iopub.status.busy": "2024-04-11T05:05:55.650418Z",
     "iopub.status.idle": "2024-04-11T05:05:55.658397Z",
     "shell.execute_reply": "2024-04-11T05:05:55.657669Z"
    },
    "id": "N1tZqI7hzUkb",
    "papermill": {
     "duration": 0.033907,
     "end_time": "2024-04-11T05:05:55.660265",
     "exception": false,
     "start_time": "2024-04-11T05:05:55.626358",
     "status": "completed"
    },
    "tags": []
   },
   "outputs": [],
   "source": [
    "import torch.nn as nn\n",
    "# Define the model\n",
    "class BertLSTMClassifier(nn.Module):\n",
    "    def __init__(self, bert_model, hidden_size, num_layers, num_classes):\n",
    "        super(BertLSTMClassifier, self).__init__()\n",
    "        self.bert = bert_model\n",
    "        self.lstm = nn.LSTM(bert_model.config.hidden_size, hidden_size, num_layers, bias=True, batch_first=True, dropout=0.45, bidirectional=True)\n",
    "        self.classifier = nn.Linear(hidden_size * 2, num_classes, bias=True)\n",
    "\n",
    "    def forward(self, input_ids, attention_mask):\n",
    "        token_type_ids = torch.zeros_like(input_ids)  # Create token_type_ids tensor\n",
    "        outputs = self.bert(input_ids=input_ids, attention_mask=attention_mask, token_type_ids=token_type_ids)\n",
    "        last_hidden_state = outputs[0]\n",
    "        _, (hidden, _) = self.lstm(last_hidden_state)\n",
    "        hidden = torch.cat((hidden[-2,:,:], hidden[-1,:,:]), dim=1)\n",
    "        logits = self.classifier(hidden)\n",
    "        return logits"
   ]
  },
  {
   "cell_type": "code",
   "execution_count": 23,
   "id": "e0f3c172",
   "metadata": {
    "execution": {
     "iopub.execute_input": "2024-04-11T05:05:55.709049Z",
     "iopub.status.busy": "2024-04-11T05:05:55.708082Z",
     "iopub.status.idle": "2024-04-11T05:05:56.118652Z",
     "shell.execute_reply": "2024-04-11T05:05:56.117883Z"
    },
    "id": "0bnCuvwSzUkb",
    "papermill": {
     "duration": 0.436881,
     "end_time": "2024-04-11T05:05:56.120886",
     "exception": false,
     "start_time": "2024-04-11T05:05:55.684005",
     "status": "completed"
    },
    "tags": []
   },
   "outputs": [],
   "source": [
    "# Initialize the model\n",
    "hidden_size = 700\n",
    "num_layers = 2\n",
    "num_classes = 2\n",
    "model = BertLSTMClassifier(bert_model, hidden_size, num_layers, num_classes).to(device)"
   ]
  },
  {
   "cell_type": "code",
   "execution_count": 24,
   "id": "02e1d1d1",
   "metadata": {
    "execution": {
     "iopub.execute_input": "2024-04-11T05:05:56.168735Z",
     "iopub.status.busy": "2024-04-11T05:05:56.168416Z",
     "iopub.status.idle": "2024-04-11T05:05:56.174478Z",
     "shell.execute_reply": "2024-04-11T05:05:56.173599Z"
    },
    "id": "R7Dw9l9OzUkb",
    "papermill": {
     "duration": 0.031985,
     "end_time": "2024-04-11T05:05:56.176496",
     "exception": false,
     "start_time": "2024-04-11T05:05:56.144511",
     "status": "completed"
    },
    "tags": []
   },
   "outputs": [],
   "source": [
    "# Define the loss function and optimizer\n",
    "criterion = nn.CrossEntropyLoss()\n",
    "optimizer = torch.optim.Adam(model.parameters(), lr=2.45e-5)"
   ]
  },
  {
   "cell_type": "code",
   "execution_count": 25,
   "id": "02a926d4",
   "metadata": {
    "execution": {
     "iopub.execute_input": "2024-04-11T05:05:56.223999Z",
     "iopub.status.busy": "2024-04-11T05:05:56.223335Z",
     "iopub.status.idle": "2024-04-11T05:05:56.228354Z",
     "shell.execute_reply": "2024-04-11T05:05:56.227573Z"
    },
    "id": "Y2FnDurezUkc",
    "papermill": {
     "duration": 0.030769,
     "end_time": "2024-04-11T05:05:56.230182",
     "exception": false,
     "start_time": "2024-04-11T05:05:56.199413",
     "status": "completed"
    },
    "tags": []
   },
   "outputs": [],
   "source": [
    "from torch.utils.data import TensorDataset, DataLoader, RandomSampler, SequentialSampler\n",
    "\n",
    "# Create TensorDatasets and DataLoaders\n",
    "batch_size = 32\n",
    "\n",
    "train_data = TensorDataset(train_input_ids, train_attention_masks, train_labels)\n",
    "train_sampler = RandomSampler(train_data)\n",
    "train_dataloader = DataLoader(train_data, sampler=train_sampler, batch_size=batch_size)"
   ]
  },
  {
   "cell_type": "code",
   "execution_count": 26,
   "id": "ba13331f",
   "metadata": {
    "execution": {
     "iopub.execute_input": "2024-04-11T05:05:56.276889Z",
     "iopub.status.busy": "2024-04-11T05:05:56.276636Z",
     "iopub.status.idle": "2024-04-11T05:05:56.281080Z",
     "shell.execute_reply": "2024-04-11T05:05:56.280260Z"
    },
    "id": "rjQsnweqFmhe",
    "outputId": "dc3d8876-a0e6-491c-b5f5-4c17971515ee",
    "papermill": {
     "duration": 0.030044,
     "end_time": "2024-04-11T05:05:56.283070",
     "exception": false,
     "start_time": "2024-04-11T05:05:56.253026",
     "status": "completed"
    },
    "tags": []
   },
   "outputs": [
    {
     "name": "stdout",
     "output_type": "stream",
     "text": [
      "437\n"
     ]
    }
   ],
   "source": [
    "print(len(train_dataloader)) # number of batches"
   ]
  },
  {
   "cell_type": "markdown",
   "id": "e505ba12",
   "metadata": {
    "id": "kpMdty1CUH8Z",
    "papermill": {
     "duration": 0.022833,
     "end_time": "2024-04-11T05:05:56.329217",
     "exception": false,
     "start_time": "2024-04-11T05:05:56.306384",
     "status": "completed"
    },
    "tags": []
   },
   "source": [
    "Training for 4 epochs"
   ]
  },
  {
   "cell_type": "code",
   "execution_count": 27,
   "id": "45e7a1df",
   "metadata": {
    "execution": {
     "iopub.execute_input": "2024-04-11T05:05:56.376814Z",
     "iopub.status.busy": "2024-04-11T05:05:56.376556Z",
     "iopub.status.idle": "2024-04-11T05:31:02.703911Z",
     "shell.execute_reply": "2024-04-11T05:31:02.702886Z"
    },
    "id": "adnjv4hBHIQ9",
    "outputId": "b14f4a81-9e96-484c-9d3a-f2f12a6c131f",
    "papermill": {
     "duration": 1506.35419,
     "end_time": "2024-04-11T05:31:02.706649",
     "exception": false,
     "start_time": "2024-04-11T05:05:56.352459",
     "status": "completed"
    },
    "tags": []
   },
   "outputs": [
    {
     "name": "stdout",
     "output_type": "stream",
     "text": [
      "epoch  0  batch  0   2024-04-11 05:05:56.572862\n",
      "epoch  0  batch  100   2024-04-11 05:07:19.618835\n",
      "epoch  0  batch  200   2024-04-11 05:08:45.758164\n",
      "epoch  0  batch  300   2024-04-11 05:10:11.863159\n",
      "epoch  0  batch  400   2024-04-11 05:11:38.005876\n",
      "epoch  1  batch  0   2024-04-11 05:12:09.597576\n",
      "epoch  1  batch  100   2024-04-11 05:13:35.942141\n",
      "epoch  1  batch  200   2024-04-11 05:15:02.354721\n",
      "epoch  1  batch  300   2024-04-11 05:16:28.691179\n",
      "epoch  1  batch  400   2024-04-11 05:17:55.045640\n",
      "epoch  2  batch  0   2024-04-11 05:18:26.716811\n",
      "epoch  2  batch  100   2024-04-11 05:19:53.060505\n",
      "epoch  2  batch  200   2024-04-11 05:21:19.335212\n",
      "epoch  2  batch  300   2024-04-11 05:22:45.714610\n",
      "epoch  2  batch  400   2024-04-11 05:24:12.017051\n",
      "epoch  3  batch  0   2024-04-11 05:24:43.661514\n",
      "epoch  3  batch  100   2024-04-11 05:26:09.880960\n",
      "epoch  3  batch  200   2024-04-11 05:27:36.067874\n",
      "epoch  3  batch  300   2024-04-11 05:29:02.223577\n",
      "epoch  3  batch  400   2024-04-11 05:30:28.436126\n"
     ]
    }
   ],
   "source": [
    "import datetime\n",
    "import gc\n",
    "# Train the model\n",
    "\n",
    "def save_ckp(state):\n",
    "    f_path = '/kaggle/working/' + 'checkpoint_epoch' + str(state['epoch']) + '.pt'\n",
    "    torch.save(state, f_path)\n",
    "\n",
    "num_epoch = 4\n",
    "gc.collect()\n",
    "torch.cuda.empty_cache()\n",
    "\n",
    "for i in range(num_epoch):\n",
    "  num_batch = 0\n",
    "  for batch in train_dataloader:\n",
    "    if (num_batch % 100 == 0):\n",
    "      print('epoch ', i, ' batch ', num_batch, ' ', datetime.datetime.now())\n",
    "    input_ids, attention_masks, labels = batch\n",
    "    outputs = model(input_ids, attention_masks)\n",
    "    loss = criterion(outputs, labels)\n",
    "\n",
    "    optimizer.zero_grad()\n",
    "    loss.backward()\n",
    "    optimizer.step()\n",
    "    num_batch+=1\n",
    "    del input_ids\n",
    "    del attention_masks\n",
    "    del labels\n",
    "    del outputs\n",
    "    gc.collect()\n",
    "    torch.cuda.empty_cache()\n",
    "\n",
    "checkpoint = {\n",
    "    'epoch': num_epoch - 1,\n",
    "    'state_dict': model.state_dict(),\n",
    "    'optimizer': optimizer.state_dict()\n",
    "}\n",
    "save_ckp(checkpoint)\n",
    "\n",
    "del train_data\n",
    "del train_sampler\n",
    "del train_dataloader\n",
    "gc.collect()\n",
    "torch.cuda.empty_cache()"
   ]
  },
  {
   "cell_type": "code",
   "execution_count": 28,
   "id": "54c00f31",
   "metadata": {
    "execution": {
     "iopub.execute_input": "2024-04-11T05:31:02.760471Z",
     "iopub.status.busy": "2024-04-11T05:31:02.759326Z",
     "iopub.status.idle": "2024-04-11T05:31:32.607579Z",
     "shell.execute_reply": "2024-04-11T05:31:32.606672Z"
    },
    "id": "uUc-Si_6zUkc",
    "outputId": "4b9e884f-d4b0-4ada-f8bb-17f55cf5082c",
    "papermill": {
     "duration": 29.877438,
     "end_time": "2024-04-11T05:31:32.609767",
     "exception": false,
     "start_time": "2024-04-11T05:31:02.732329",
     "status": "completed"
    },
    "tags": []
   },
   "outputs": [
    {
     "name": "stdout",
     "output_type": "stream",
     "text": [
      "Accuracy: 0.9027\n",
      "Recall: 0.9371\n",
      "Precision: 0.8785\n",
      "F1-Score: 0.9068\n"
     ]
    },
    {
     "data": {
      "text/plain": [
       "0"
      ]
     },
     "execution_count": 28,
     "metadata": {},
     "output_type": "execute_result"
    }
   ],
   "source": [
    "from sklearn.metrics import accuracy_score, recall_score, precision_score, f1_score\n",
    "import torch.nn.functional as F\n",
    "\n",
    "# Evaluate the model on the test set\n",
    "test_preds = []\n",
    "test_proba = []\n",
    "test_labels_list = []\n",
    "\n",
    "test_data = TensorDataset(test_input_ids, test_attention_masks, test_labels)\n",
    "test_sampler = SequentialSampler(test_data)\n",
    "test_dataloader = DataLoader(test_data, sampler=test_sampler, batch_size=batch_size)\n",
    "\n",
    "with torch.no_grad():\n",
    "    model.eval()\n",
    "    for batch in test_dataloader:\n",
    "        input_ids, attention_masks, labels = batch\n",
    "        outputs = model(input_ids, attention_masks)\n",
    "        preds = torch.argmax(outputs, dim=1)\n",
    "        test_preds.extend(preds.tolist())\n",
    "        test_proba.extend(F.softmax(outputs, dim=1)[:, 1])\n",
    "        test_labels_list.extend(labels.tolist())\n",
    "\n",
    "accuracy = accuracy_score(test_labels_list, test_preds)\n",
    "recall = recall_score(test_labels_list, test_preds)\n",
    "precision = precision_score(test_labels_list, test_preds)\n",
    "f1 = f1_score(test_labels_list, test_preds)\n",
    "test_proba = [i.cpu().tolist() for i in test_proba]\n",
    "\n",
    "print(f\"Accuracy: {accuracy:.4f}\")\n",
    "print(f\"Recall: {recall:.4f}\")\n",
    "print(f\"Precision: {precision:.4f}\")\n",
    "print(f\"F1-Score: {f1:.4f}\")\n",
    "\n",
    "del test_data\n",
    "del test_sampler\n",
    "del test_dataloader\n",
    "gc.collect()\n",
    "torch.cuda.empty_cache()\n",
    "gc.collect()"
   ]
  },
  {
   "cell_type": "code",
   "execution_count": 29,
   "id": "240d023b",
   "metadata": {
    "execution": {
     "iopub.execute_input": "2024-04-11T05:31:32.661102Z",
     "iopub.status.busy": "2024-04-11T05:31:32.660834Z",
     "iopub.status.idle": "2024-04-11T05:31:33.150069Z",
     "shell.execute_reply": "2024-04-11T05:31:33.149174Z"
    },
    "id": "IX2onzamvDQ4",
    "outputId": "32a68059-c4dc-4c4c-dc25-e0ea10fc68bc",
    "papermill": {
     "duration": 0.517033,
     "end_time": "2024-04-11T05:31:33.152074",
     "exception": false,
     "start_time": "2024-04-11T05:31:32.635041",
     "status": "completed"
    },
    "tags": []
   },
   "outputs": [
    {
     "data": {
      "image/png": "[encoded data removed]",
      "text/plain": [
       "<Figure size 640x480 with 2 Axes>"
      ]
     },
     "metadata": {},
     "output_type": "display_data"
    }
   ],
   "source": [
    "from sklearn.metrics import confusion_matrix\n",
    "import seaborn as sns\n",
    "import matplotlib.pyplot as plt\n",
    "\n",
    "cf_matrix = confusion_matrix(test_labels_list, test_preds)\n",
    "\n",
    "cf = sns.heatmap(cf_matrix, annot=True, fmt='d')\n",
    "cf.xaxis.set_ticklabels(['Negative', 'Positive'])\n",
    "cf.set_xlabel('Predicted Label')\n",
    "cf.yaxis.set_ticklabels(['Negative', 'Positive'])\n",
    "cf.set_ylabel('True Label')\n",
    "cf.set_title(\"Confusion Matrix for Indonesian Language Suicidal Posts Classification\", pad=20)\n",
    "\n",
    "plt.show()"
   ]
  },
  {
   "cell_type": "code",
   "execution_count": 30,
   "id": "017be31f",
   "metadata": {
    "execution": {
     "iopub.execute_input": "2024-04-11T05:31:33.205481Z",
     "iopub.status.busy": "2024-04-11T05:31:33.205008Z",
     "iopub.status.idle": "2024-04-11T05:31:33.572480Z",
     "shell.execute_reply": "2024-04-11T05:31:33.571489Z"
    },
    "id": "hZIUtNbZwRZn",
    "outputId": "0508be42-aea5-4de1-b133-fcfe417f1742",
    "papermill": {
     "duration": 0.396382,
     "end_time": "2024-04-11T05:31:33.574815",
     "exception": false,
     "start_time": "2024-04-11T05:31:33.178433",
     "status": "completed"
    },
    "tags": []
   },
   "outputs": [
    {
     "name": "stdout",
     "output_type": "stream",
     "text": [
      "ROC AUC Score:\n",
      "0.9603091201561241\n"
     ]
    },
    {
     "data": {
      "image/png": "[encoded data removed]",
      "text/plain": [
       "<Figure size 500x500 with 1 Axes>"
      ]
     },
     "metadata": {},
     "output_type": "display_data"
    }
   ],
   "source": [
    "from sklearn.metrics import roc_auc_score, roc_curve, RocCurveDisplay\n",
    "\n",
    "def plot_sklearn_roc_curve(y_real, y_pred, roc_score):\n",
    "    fpr, tpr, _ = roc_curve(y_real, y_pred)\n",
    "    df_fpr = pd.DataFrame(fpr)\n",
    "    df_fpr.to_csv(\"/kaggle/working/fpr.csv\")\n",
    "    df_tpr = pd.DataFrame(tpr)\n",
    "    df_tpr.to_csv(\"/kaggle/working/tpr.csv\")\n",
    "    print(\"ROC AUC Score:\")\n",
    "    print(roc_score)\n",
    "    roc_display = RocCurveDisplay(fpr=fpr, tpr=tpr, roc_auc=roc_score, estimator_name='ROC Curve').plot()\n",
    "    roc_display.figure_.set_size_inches(5,5)\n",
    "    plt.plot([0, 1], [0, 1], color='green', linestyle='dashed')\n",
    "    plt.title(\"ROC Curve for Indonesian Language Suicidal Posts Classification\")\n",
    "\n",
    "roc_score = roc_auc_score(test_labels_list, test_proba)\n",
    "plot_sklearn_roc_curve(test_labels_list, test_proba, roc_score)"
   ]
  }
 ],
 "metadata": {
  "accelerator": "GPU",
  "colab": {
   "gpuType": "T4",
   "provenance": []
  },
  "kaggle": {
   "accelerator": "nvidiaTeslaT4",
   "dataSources": [
    {
     "datasetId": 4625759,
     "sourceId": 7881365,
     "sourceType": "datasetVersion"
    },
    {
     "datasetId": 4750496,
     "sourceId": 8083396,
     "sourceType": "datasetVersion"
    }
   ],
   "dockerImageVersionId": 30673,
   "isGpuEnabled": true,
   "isInternetEnabled": true,
   "language": "python",
   "sourceType": "notebook"
  },
  "kernelspec": {
   "display_name": "Python 3",
   "language": "python",
   "name": "python3"
  },
  "language_info": {
   "codemirror_mode": {
    "name": "ipython",
    "version": 3
   },
   "file_extension": ".py",
   "mimetype": "text/x-python",
   "name": "python",
   "nbconvert_exporter": "python",
   "pygments_lexer": "ipython3",
   "version": "3.10.13"
  },
  "papermill": {
   "default_parameters": {},
   "duration": 1941.737722,
   "end_time": "2024-04-11T05:31:35.335556",
   "environment_variables": {},
   "exception": null,
   "input_path": "__notebook__.ipynb",
   "output_path": "__notebook__.ipynb",
   "parameters": {},
   "start_time": "2024-04-11T04:59:13.597834",
   "version": "2.5.0"
  },
  "widgets": {
   "application/vnd.jupyter.widget-state+json": {
    "state": {
     "00ef9c0921244d70ac92b15240d69cae": {
      "model_module": "@jupyter-widgets/controls",
      "model_module_version": "1.5.0",
      "model_name": "HTMLModel",
      "state": {
       "_dom_classes": [],
       "_model_module": "@jupyter-widgets/controls",
       "_model_module_version": "1.5.0",
       "_model_name": "HTMLModel",
       "_view_count": null,
       "_view_module": "@jupyter-widgets/controls",
       "_view_module_version": "1.5.0",
       "_view_name": "HTMLView",
       "description": "",
       "description_tooltip": null,
       "layout": "IPY_MODEL_2c26b3fa0b2d43a2898c85cc3f59e622",
       "placeholder": "​",
       "style": "IPY_MODEL_21d598330f8a4ddfbec428c4cec95449",
       "value": "vocab.txt: 100%"
      }
     },
     "055da5dd169e484a84ba1f074a3a3f25": {
      "model_module": "@jupyter-widgets/base",
      "model_module_version": "1.2.0",
      "model_name": "LayoutModel",
      "state": {
       "_model_module": "@jupyter-widgets/base",
       "_model_module_version": "1.2.0",
       "_model_name": "LayoutModel",
       "_view_count": null,
       "_view_module": "@jupyter-widgets/base",
       "_view_module_version": "1.2.0",
       "_view_name": "LayoutView",
       "align_content": null,
       "align_items": null,
       "align_self": null,
       "border": null,
       "bottom": null,
       "display": null,
       "flex": null,
       "flex_flow": null,
       "grid_area": null,
       "grid_auto_columns": null,
       "grid_auto_flow": null,
       "grid_auto_rows": null,
       "grid_column": null,
       "grid_gap": null,
       "grid_row": null,
       "grid_template_areas": null,
       "grid_template_columns": null,
       "grid_template_rows": null,
       "height": null,
       "justify_content": null,
       "justify_items": null,
       "left": null,
       "margin": null,
       "max_height": null,
       "max_width": null,
       "min_height": null,
       "min_width": null,
       "object_fit": null,
       "object_position": null,
       "order": null,
       "overflow": null,
       "overflow_x": null,
       "overflow_y": null,
       "padding": null,
       "right": null,
       "top": null,
       "visibility": null,
       "width": null
      }
     },
     "068d31e9e3a941c084fb51125b8d37f8": {
      "model_module": "@jupyter-widgets/controls",
      "model_module_version": "1.5.0",
      "model_name": "ProgressStyleModel",
      "state": {
       "_model_module": "@jupyter-widgets/controls",
       "_model_module_version": "1.5.0",
       "_model_name": "ProgressStyleModel",
       "_view_count": null,
       "_view_module": "@jupyter-widgets/base",
       "_view_module_version": "1.2.0",
       "_view_name": "StyleView",
       "bar_color": null,
       "description_width": ""
      }
     },
     "076986a8e7724015bce903d511bdd62f": {
      "model_module": "@jupyter-widgets/controls",
      "model_module_version": "1.5.0",
      "model_name": "HBoxModel",
      "state": {
       "_dom_classes": [],
       "_model_module": "@jupyter-widgets/controls",
       "_model_module_version": "1.5.0",
       "_model_name": "HBoxModel",
       "_view_count": null,
       "_view_module": "@jupyter-widgets/controls",
       "_view_module_version": "1.5.0",
       "_view_name": "HBoxView",
       "box_style": "",
       "children": [
        "IPY_MODEL_2bea8beb8b644048816dd0cd6b0e61a4",
        "IPY_MODEL_f3eecda903904588a2361e16b27f9957",
        "IPY_MODEL_c8a32b790832467e91764504d37fb54d"
       ],
       "layout": "IPY_MODEL_86317d423c2b43a8b1ae104ba72196a7"
      }
     },
     "0836c0f884384db1b1acf504516af0c4": {
      "model_module": "@jupyter-widgets/controls",
      "model_module_version": "1.5.0",
      "model_name": "HBoxModel",
      "state": {
       "_dom_classes": [],
       "_model_module": "@jupyter-widgets/controls",
       "_model_module_version": "1.5.0",
       "_model_name": "HBoxModel",
       "_view_count": null,
       "_view_module": "@jupyter-widgets/controls",
       "_view_module_version": "1.5.0",
       "_view_name": "HBoxView",
       "box_style": "",
       "children": [
        "IPY_MODEL_7c0b1511ab5b4bef838090a91c3950dd",
        "IPY_MODEL_f8e7c60957954c61b87f201a46ba005a",
        "IPY_MODEL_893c02a9af1f4053975bfa3af09c7976"
       ],
       "layout": "IPY_MODEL_89aaec20026e438ea93def6a78b1fbef"
      }
     },
     "095df7a89ece494d964f93f83d0c5736": {
      "model_module": "@jupyter-widgets/controls",
      "model_module_version": "1.5.0",
      "model_name": "DescriptionStyleModel",
      "state": {
       "_model_module": "@jupyter-widgets/controls",
       "_model_module_version": "1.5.0",
       "_model_name": "DescriptionStyleModel",
       "_view_count": null,
       "_view_module": "@jupyter-widgets/base",
       "_view_module_version": "1.2.0",
       "_view_name": "StyleView",
       "description_width": ""
      }
     },
     "0d170decdd4c4b128e1abbe22857af14": {
      "model_module": "@jupyter-widgets/base",
      "model_module_version": "1.2.0",
      "model_name": "LayoutModel",
      "state": {
       "_model_module": "@jupyter-widgets/base",
       "_model_module_version": "1.2.0",
       "_model_name": "LayoutModel",
       "_view_count": null,
       "_view_module": "@jupyter-widgets/base",
       "_view_module_version": "1.2.0",
       "_view_name": "LayoutView",
       "align_content": null,
       "align_items": null,
       "align_self": null,
       "border": null,
       "bottom": null,
       "display": null,
       "flex": null,
       "flex_flow": null,
       "grid_area": null,
       "grid_auto_columns": null,
       "grid_auto_flow": null,
       "grid_auto_rows": null,
       "grid_column": null,
       "grid_gap": null,
       "grid_row": null,
       "grid_template_areas": null,
       "grid_template_columns": null,
       "grid_template_rows": null,
       "height": null,
       "justify_content": null,
       "justify_items": null,
       "left": null,
       "margin": null,
       "max_height": null,
       "max_width": null,
       "min_height": null,
       "min_width": null,
       "object_fit": null,
       "object_position": null,
       "order": null,
       "overflow": null,
       "overflow_x": null,
       "overflow_y": null,
       "padding": null,
       "right": null,
       "top": null,
       "visibility": null,
       "width": null
      }
     },
     "18b63f768a7f4c5d92706ae2096410da": {
      "model_module": "@jupyter-widgets/base",
      "model_module_version": "1.2.0",
      "model_name": "LayoutModel",
      "state": {
       "_model_module": "@jupyter-widgets/base",
       "_model_module_version": "1.2.0",
       "_model_name": "LayoutModel",
       "_view_count": null,
       "_view_module": "@jupyter-widgets/base",
       "_view_module_version": "1.2.0",
       "_view_name": "LayoutView",
       "align_content": null,
       "align_items": null,
       "align_self": null,
       "border": null,
       "bottom": null,
       "display": null,
       "flex": null,
       "flex_flow": null,
       "grid_area": null,
       "grid_auto_columns": null,
       "grid_auto_flow": null,
       "grid_auto_rows": null,
       "grid_column": null,
       "grid_gap": null,
       "grid_row": null,
       "grid_template_areas": null,
       "grid_template_columns": null,
       "grid_template_rows": null,
       "height": null,
       "justify_content": null,
       "justify_items": null,
       "left": null,
       "margin": null,
       "max_height": null,
       "max_width": null,
       "min_height": null,
       "min_width": null,
       "object_fit": null,
       "object_position": null,
       "order": null,
       "overflow": null,
       "overflow_x": null,
       "overflow_y": null,
       "padding": null,
       "right": null,
       "top": null,
       "visibility": null,
       "width": null
      }
     },
     "21d598330f8a4ddfbec428c4cec95449": {
      "model_module": "@jupyter-widgets/controls",
      "model_module_version": "1.5.0",
      "model_name": "DescriptionStyleModel",
      "state": {
       "_model_module": "@jupyter-widgets/controls",
       "_model_module_version": "1.5.0",
       "_model_name": "DescriptionStyleModel",
       "_view_count": null,
       "_view_module": "@jupyter-widgets/base",
       "_view_module_version": "1.2.0",
       "_view_name": "StyleView",
       "description_width": ""
      }
     },
     "22075afab35c47c99ed22301d9a2370d": {
      "model_module": "@jupyter-widgets/base",
      "model_module_version": "1.2.0",
      "model_name": "LayoutModel",
      "state": {
       "_model_module": "@jupyter-widgets/base",
       "_model_module_version": "1.2.0",
       "_model_name": "LayoutModel",
       "_view_count": null,
       "_view_module": "@jupyter-widgets/base",
       "_view_module_version": "1.2.0",
       "_view_name": "LayoutView",
       "align_content": null,
       "align_items": null,
       "align_self": null,
       "border": null,
       "bottom": null,
       "display": null,
       "flex": null,
       "flex_flow": null,
       "grid_area": null,
       "grid_auto_columns": null,
       "grid_auto_flow": null,
       "grid_auto_rows": null,
       "grid_column": null,
       "grid_gap": null,
       "grid_row": null,
       "grid_template_areas": null,
       "grid_template_columns": null,
       "grid_template_rows": null,
       "height": null,
       "justify_content": null,
       "justify_items": null,
       "left": null,
       "margin": null,
       "max_height": null,
       "max_width": null,
       "min_height": null,
       "min_width": null,
       "object_fit": null,
       "object_position": null,
       "order": null,
       "overflow": null,
       "overflow_x": null,
       "overflow_y": null,
       "padding": null,
       "right": null,
       "top": null,
       "visibility": null,
       "width": null
      }
     },
     "2833accd7cbf450da4ab05f60c6392d3": {
      "model_module": "@jupyter-widgets/controls",
      "model_module_version": "1.5.0",
      "model_name": "HBoxModel",
      "state": {
       "_dom_classes": [],
       "_model_module": "@jupyter-widgets/controls",
       "_model_module_version": "1.5.0",
       "_model_name": "HBoxModel",
       "_view_count": null,
       "_view_module": "@jupyter-widgets/controls",
       "_view_module_version": "1.5.0",
       "_view_name": "HBoxView",
       "box_style": "",
       "children": [
        "IPY_MODEL_00ef9c0921244d70ac92b15240d69cae",
        "IPY_MODEL_6b0185f6c99e40b4bd468ddd1dd74c12",
        "IPY_MODEL_b736e4b9829643228f8f66839b8fb2cf"
       ],
       "layout": "IPY_MODEL_0d170decdd4c4b128e1abbe22857af14"
      }
     },
     "2bea8beb8b644048816dd0cd6b0e61a4": {
      "model_module": "@jupyter-widgets/controls",
      "model_module_version": "1.5.0",
      "model_name": "HTMLModel",
      "state": {
       "_dom_classes": [],
       "_model_module": "@jupyter-widgets/controls",
       "_model_module_version": "1.5.0",
       "_model_name": "HTMLModel",
       "_view_count": null,
       "_view_module": "@jupyter-widgets/controls",
       "_view_module_version": "1.5.0",
       "_view_name": "HTMLView",
       "description": "",
       "description_tooltip": null,
       "layout": "IPY_MODEL_524d65da7f8b44fd98bb9ee538e44a3a",
       "placeholder": "​",
       "style": "IPY_MODEL_095df7a89ece494d964f93f83d0c5736",
       "value": "config.json: 100%"
      }
     },
     "2c1d36ef71ff465d8bddc70e845894e7": {
      "model_module": "@jupyter-widgets/base",
      "model_module_version": "1.2.0",
      "model_name": "LayoutModel",
      "state": {
       "_model_module": "@jupyter-widgets/base",
       "_model_module_version": "1.2.0",
       "_model_name": "LayoutModel",
       "_view_count": null,
       "_view_module": "@jupyter-widgets/base",
       "_view_module_version": "1.2.0",
       "_view_name": "LayoutView",
       "align_content": null,
       "align_items": null,
       "align_self": null,
       "border": null,
       "bottom": null,
       "display": null,
       "flex": null,
       "flex_flow": null,
       "grid_area": null,
       "grid_auto_columns": null,
       "grid_auto_flow": null,
       "grid_auto_rows": null,
       "grid_column": null,
       "grid_gap": null,
       "grid_row": null,
       "grid_template_areas": null,
       "grid_template_columns": null,
       "grid_template_rows": null,
       "height": null,
       "justify_content": null,
       "justify_items": null,
       "left": null,
       "margin": null,
       "max_height": null,
       "max_width": null,
       "min_height": null,
       "min_width": null,
       "object_fit": null,
       "object_position": null,
       "order": null,
       "overflow": null,
       "overflow_x": null,
       "overflow_y": null,
       "padding": null,
       "right": null,
       "top": null,
       "visibility": null,
       "width": null
      }
     },
     "2c26b3fa0b2d43a2898c85cc3f59e622": {
      "model_module": "@jupyter-widgets/base",
      "model_module_version": "1.2.0",
      "model_name": "LayoutModel",
      "state": {
       "_model_module": "@jupyter-widgets/base",
       "_model_module_version": "1.2.0",
       "_model_name": "LayoutModel",
       "_view_count": null,
       "_view_module": "@jupyter-widgets/base",
       "_view_module_version": "1.2.0",
       "_view_name": "LayoutView",
       "align_content": null,
       "align_items": null,
       "align_self": null,
       "border": null,
       "bottom": null,
       "display": null,
       "flex": null,
       "flex_flow": null,
       "grid_area": null,
       "grid_auto_columns": null,
       "grid_auto_flow": null,
       "grid_auto_rows": null,
       "grid_column": null,
       "grid_gap": null,
       "grid_row": null,
       "grid_template_areas": null,
       "grid_template_columns": null,
       "grid_template_rows": null,
       "height": null,
       "justify_content": null,
       "justify_items": null,
       "left": null,
       "margin": null,
       "max_height": null,
       "max_width": null,
       "min_height": null,
       "min_width": null,
       "object_fit": null,
       "object_position": null,
       "order": null,
       "overflow": null,
       "overflow_x": null,
       "overflow_y": null,
       "padding": null,
       "right": null,
       "top": null,
       "visibility": null,
       "width": null
      }
     },
     "39994d2e6f5b4681bd68dd5ba256bffa": {
      "model_module": "@jupyter-widgets/base",
      "model_module_version": "1.2.0",
      "model_name": "LayoutModel",
      "state": {
       "_model_module": "@jupyter-widgets/base",
       "_model_module_version": "1.2.0",
       "_model_name": "LayoutModel",
       "_view_count": null,
       "_view_module": "@jupyter-widgets/base",
       "_view_module_version": "1.2.0",
       "_view_name": "LayoutView",
       "align_content": null,
       "align_items": null,
       "align_self": null,
       "border": null,
       "bottom": null,
       "display": null,
       "flex": null,
       "flex_flow": null,
       "grid_area": null,
       "grid_auto_columns": null,
       "grid_auto_flow": null,
       "grid_auto_rows": null,
       "grid_column": null,
       "grid_gap": null,
       "grid_row": null,
       "grid_template_areas": null,
       "grid_template_columns": null,
       "grid_template_rows": null,
       "height": null,
       "justify_content": null,
       "justify_items": null,
       "left": null,
       "margin": null,
       "max_height": null,
       "max_width": null,
       "min_height": null,
       "min_width": null,
       "object_fit": null,
       "object_position": null,
       "order": null,
       "overflow": null,
       "overflow_x": null,
       "overflow_y": null,
       "padding": null,
       "right": null,
       "top": null,
       "visibility": null,
       "width": null
      }
     },
     "42c27b1e800f42919995ff0b738650d1": {
      "model_module": "@jupyter-widgets/controls",
      "model_module_version": "1.5.0",
      "model_name": "FloatProgressModel",
      "state": {
       "_dom_classes": [],
       "_model_module": "@jupyter-widgets/controls",
       "_model_module_version": "1.5.0",
       "_model_name": "FloatProgressModel",
       "_view_count": null,
       "_view_module": "@jupyter-widgets/controls",
       "_view_module_version": "1.5.0",
       "_view_name": "ProgressView",
       "bar_style": "success",
       "description": "",
       "description_tooltip": null,
       "layout": "IPY_MODEL_932772dc31fa4cc29813a0617913b6be",
       "max": 112.0,
       "min": 0.0,
       "orientation": "horizontal",
       "style": "IPY_MODEL_4606c90e55ba49a19732389654529148",
       "value": 112.0
      }
     },
     "4606c90e55ba49a19732389654529148": {
      "model_module": "@jupyter-widgets/controls",
      "model_module_version": "1.5.0",
      "model_name": "ProgressStyleModel",
      "state": {
       "_model_module": "@jupyter-widgets/controls",
       "_model_module_version": "1.5.0",
       "_model_name": "ProgressStyleModel",
       "_view_count": null,
       "_view_module": "@jupyter-widgets/base",
       "_view_module_version": "1.2.0",
       "_view_name": "StyleView",
       "bar_color": null,
       "description_width": ""
      }
     },
     "472773bb3d084bafaaee9c27900b3d3d": {
      "model_module": "@jupyter-widgets/controls",
      "model_module_version": "1.5.0",
      "model_name": "DescriptionStyleModel",
      "state": {
       "_model_module": "@jupyter-widgets/controls",
       "_model_module_version": "1.5.0",
       "_model_name": "DescriptionStyleModel",
       "_view_count": null,
       "_view_module": "@jupyter-widgets/base",
       "_view_module_version": "1.2.0",
       "_view_name": "StyleView",
       "description_width": ""
      }
     },
     "48b4488d42fc4ec0abcfc636100d633d": {
      "model_module": "@jupyter-widgets/base",
      "model_module_version": "1.2.0",
      "model_name": "LayoutModel",
      "state": {
       "_model_module": "@jupyter-widgets/base",
       "_model_module_version": "1.2.0",
       "_model_name": "LayoutModel",
       "_view_count": null,
       "_view_module": "@jupyter-widgets/base",
       "_view_module_version": "1.2.0",
       "_view_name": "LayoutView",
       "align_content": null,
       "align_items": null,
       "align_self": null,
       "border": null,
       "bottom": null,
       "display": null,
       "flex": null,
       "flex_flow": null,
       "grid_area": null,
       "grid_auto_columns": null,
       "grid_auto_flow": null,
       "grid_auto_rows": null,
       "grid_column": null,
       "grid_gap": null,
       "grid_row": null,
       "grid_template_areas": null,
       "grid_template_columns": null,
       "grid_template_rows": null,
       "height": null,
       "justify_content": null,
       "justify_items": null,
       "left": null,
       "margin": null,
       "max_height": null,
       "max_width": null,
       "min_height": null,
       "min_width": null,
       "object_fit": null,
       "object_position": null,
       "order": null,
       "overflow": null,
       "overflow_x": null,
       "overflow_y": null,
       "padding": null,
       "right": null,
       "top": null,
       "visibility": null,
       "width": null
      }
     },
     "4ffae3fd6f33426bb9cdc6059fa35f3a": {
      "model_module": "@jupyter-widgets/controls",
      "model_module_version": "1.5.0",
      "model_name": "HTMLModel",
      "state": {
       "_dom_classes": [],
       "_model_module": "@jupyter-widgets/controls",
       "_model_module_version": "1.5.0",
       "_model_name": "HTMLModel",
       "_view_count": null,
       "_view_module": "@jupyter-widgets/controls",
       "_view_module_version": "1.5.0",
       "_view_name": "HTMLView",
       "description": "",
       "description_tooltip": null,
       "layout": "IPY_MODEL_39994d2e6f5b4681bd68dd5ba256bffa",
       "placeholder": "​",
       "style": "IPY_MODEL_ec1f8e0a7e744203b7a17d815a59328a",
       "value": " 112/112 [00:00&lt;00:00, 10.0kB/s]"
      }
     },
     "524d65da7f8b44fd98bb9ee538e44a3a": {
      "model_module": "@jupyter-widgets/base",
      "model_module_version": "1.2.0",
      "model_name": "LayoutModel",
      "state": {
       "_model_module": "@jupyter-widgets/base",
       "_model_module_version": "1.2.0",
       "_model_name": "LayoutModel",
       "_view_count": null,
       "_view_module": "@jupyter-widgets/base",
       "_view_module_version": "1.2.0",
       "_view_name": "LayoutView",
       "align_content": null,
       "align_items": null,
       "align_self": null,
       "border": null,
       "bottom": null,
       "display": null,
       "flex": null,
       "flex_flow": null,
       "grid_area": null,
       "grid_auto_columns": null,
       "grid_auto_flow": null,
       "grid_auto_rows": null,
       "grid_column": null,
       "grid_gap": null,
       "grid_row": null,
       "grid_template_areas": null,
       "grid_template_columns": null,
       "grid_template_rows": null,
       "height": null,
       "justify_content": null,
       "justify_items": null,
       "left": null,
       "margin": null,
       "max_height": null,
       "max_width": null,
       "min_height": null,
       "min_width": null,
       "object_fit": null,
       "object_position": null,
       "order": null,
       "overflow": null,
       "overflow_x": null,
       "overflow_y": null,
       "padding": null,
       "right": null,
       "top": null,
       "visibility": null,
       "width": null
      }
     },
     "540cdd03c62c4793bb359ca9855523c3": {
      "model_module": "@jupyter-widgets/base",
      "model_module_version": "1.2.0",
      "model_name": "LayoutModel",
      "state": {
       "_model_module": "@jupyter-widgets/base",
       "_model_module_version": "1.2.0",
       "_model_name": "LayoutModel",
       "_view_count": null,
       "_view_module": "@jupyter-widgets/base",
       "_view_module_version": "1.2.0",
       "_view_name": "LayoutView",
       "align_content": null,
       "align_items": null,
       "align_self": null,
       "border": null,
       "bottom": null,
       "display": null,
       "flex": null,
       "flex_flow": null,
       "grid_area": null,
       "grid_auto_columns": null,
       "grid_auto_flow": null,
       "grid_auto_rows": null,
       "grid_column": null,
       "grid_gap": null,
       "grid_row": null,
       "grid_template_areas": null,
       "grid_template_columns": null,
       "grid_template_rows": null,
       "height": null,
       "justify_content": null,
       "justify_items": null,
       "left": null,
       "margin": null,
       "max_height": null,
       "max_width": null,
       "min_height": null,
       "min_width": null,
       "object_fit": null,
       "object_position": null,
       "order": null,
       "overflow": null,
       "overflow_x": null,
       "overflow_y": null,
       "padding": null,
       "right": null,
       "top": null,
       "visibility": null,
       "width": null
      }
     },
     "5f2a806515cb4462969431033db9547b": {
      "model_module": "@jupyter-widgets/controls",
      "model_module_version": "1.5.0",
      "model_name": "FloatProgressModel",
      "state": {
       "_dom_classes": [],
       "_model_module": "@jupyter-widgets/controls",
       "_model_module_version": "1.5.0",
       "_model_name": "FloatProgressModel",
       "_view_count": null,
       "_view_module": "@jupyter-widgets/controls",
       "_view_module_version": "1.5.0",
       "_view_name": "ProgressView",
       "bar_style": "success",
       "description": "",
       "description_tooltip": null,
       "layout": "IPY_MODEL_65935ff385124fa29ff293d8aa1cc7c0",
       "max": 2.0,
       "min": 0.0,
       "orientation": "horizontal",
       "style": "IPY_MODEL_b687d0bfe8754c47a9e758a01e052764",
       "value": 2.0
      }
     },
     "5ff292802e904621a287fb2b563517be": {
      "model_module": "@jupyter-widgets/base",
      "model_module_version": "1.2.0",
      "model_name": "LayoutModel",
      "state": {
       "_model_module": "@jupyter-widgets/base",
       "_model_module_version": "1.2.0",
       "_model_name": "LayoutModel",
       "_view_count": null,
       "_view_module": "@jupyter-widgets/base",
       "_view_module_version": "1.2.0",
       "_view_name": "LayoutView",
       "align_content": null,
       "align_items": null,
       "align_self": null,
       "border": null,
       "bottom": null,
       "display": null,
       "flex": null,
       "flex_flow": null,
       "grid_area": null,
       "grid_auto_columns": null,
       "grid_auto_flow": null,
       "grid_auto_rows": null,
       "grid_column": null,
       "grid_gap": null,
       "grid_row": null,
       "grid_template_areas": null,
       "grid_template_columns": null,
       "grid_template_rows": null,
       "height": null,
       "justify_content": null,
       "justify_items": null,
       "left": null,
       "margin": null,
       "max_height": null,
       "max_width": null,
       "min_height": null,
       "min_width": null,
       "object_fit": null,
       "object_position": null,
       "order": null,
       "overflow": null,
       "overflow_x": null,
       "overflow_y": null,
       "padding": null,
       "right": null,
       "top": null,
       "visibility": null,
       "width": null
      }
     },
     "65935ff385124fa29ff293d8aa1cc7c0": {
      "model_module": "@jupyter-widgets/base",
      "model_module_version": "1.2.0",
      "model_name": "LayoutModel",
      "state": {
       "_model_module": "@jupyter-widgets/base",
       "_model_module_version": "1.2.0",
       "_model_name": "LayoutModel",
       "_view_count": null,
       "_view_module": "@jupyter-widgets/base",
       "_view_module_version": "1.2.0",
       "_view_name": "LayoutView",
       "align_content": null,
       "align_items": null,
       "align_self": null,
       "border": null,
       "bottom": null,
       "display": null,
       "flex": null,
       "flex_flow": null,
       "grid_area": null,
       "grid_auto_columns": null,
       "grid_auto_flow": null,
       "grid_auto_rows": null,
       "grid_column": null,
       "grid_gap": null,
       "grid_row": null,
       "grid_template_areas": null,
       "grid_template_columns": null,
       "grid_template_rows": null,
       "height": null,
       "justify_content": null,
       "justify_items": null,
       "left": null,
       "margin": null,
       "max_height": null,
       "max_width": null,
       "min_height": null,
       "min_width": null,
       "object_fit": null,
       "object_position": null,
       "order": null,
       "overflow": null,
       "overflow_x": null,
       "overflow_y": null,
       "padding": null,
       "right": null,
       "top": null,
       "visibility": null,
       "width": null
      }
     },
     "6b0185f6c99e40b4bd468ddd1dd74c12": {
      "model_module": "@jupyter-widgets/controls",
      "model_module_version": "1.5.0",
      "model_name": "FloatProgressModel",
      "state": {
       "_dom_classes": [],
       "_model_module": "@jupyter-widgets/controls",
       "_model_module_version": "1.5.0",
       "_model_name": "FloatProgressModel",
       "_view_count": null,
       "_view_module": "@jupyter-widgets/controls",
       "_view_module_version": "1.5.0",
       "_view_name": "ProgressView",
       "bar_style": "success",
       "description": "",
       "description_tooltip": null,
       "layout": "IPY_MODEL_48b4488d42fc4ec0abcfc636100d633d",
       "max": 229167.0,
       "min": 0.0,
       "orientation": "horizontal",
       "style": "IPY_MODEL_f17869ec1c5b473ab5eb73e4240008e8",
       "value": 229167.0
      }
     },
     "6e1d90202dfb43b68c45111d1a8e9481": {
      "model_module": "@jupyter-widgets/controls",
      "model_module_version": "1.5.0",
      "model_name": "ProgressStyleModel",
      "state": {
       "_model_module": "@jupyter-widgets/controls",
       "_model_module_version": "1.5.0",
       "_model_name": "ProgressStyleModel",
       "_view_count": null,
       "_view_module": "@jupyter-widgets/base",
       "_view_module_version": "1.2.0",
       "_view_name": "StyleView",
       "bar_color": null,
       "description_width": ""
      }
     },
     "71c11e293905400cb1622c76f855099a": {
      "model_module": "@jupyter-widgets/controls",
      "model_module_version": "1.5.0",
      "model_name": "HTMLModel",
      "state": {
       "_dom_classes": [],
       "_model_module": "@jupyter-widgets/controls",
       "_model_module_version": "1.5.0",
       "_model_name": "HTMLModel",
       "_view_count": null,
       "_view_module": "@jupyter-widgets/controls",
       "_view_module_version": "1.5.0",
       "_view_name": "HTMLView",
       "description": "",
       "description_tooltip": null,
       "layout": "IPY_MODEL_e95515bc6db24d979ab15b6181f7e6b6",
       "placeholder": "​",
       "style": "IPY_MODEL_cd1a0ed740a04f00923a755d6e3f6a7e",
       "value": " 2.00/2.00 [00:00&lt;00:00, 166B/s]"
      }
     },
     "7c0b1511ab5b4bef838090a91c3950dd": {
      "model_module": "@jupyter-widgets/controls",
      "model_module_version": "1.5.0",
      "model_name": "HTMLModel",
      "state": {
       "_dom_classes": [],
       "_model_module": "@jupyter-widgets/controls",
       "_model_module_version": "1.5.0",
       "_model_name": "HTMLModel",
       "_view_count": null,
       "_view_module": "@jupyter-widgets/controls",
       "_view_module_version": "1.5.0",
       "_view_name": "HTMLView",
       "description": "",
       "description_tooltip": null,
       "layout": "IPY_MODEL_22075afab35c47c99ed22301d9a2370d",
       "placeholder": "​",
       "style": "IPY_MODEL_da7ff40accea45e0861125020efe1f7d",
       "value": "pytorch_model.bin: 100%"
      }
     },
     "86317d423c2b43a8b1ae104ba72196a7": {
      "model_module": "@jupyter-widgets/base",
      "model_module_version": "1.2.0",
      "model_name": "LayoutModel",
      "state": {
       "_model_module": "@jupyter-widgets/base",
       "_model_module_version": "1.2.0",
       "_model_name": "LayoutModel",
       "_view_count": null,
       "_view_module": "@jupyter-widgets/base",
       "_view_module_version": "1.2.0",
       "_view_name": "LayoutView",
       "align_content": null,
       "align_items": null,
       "align_self": null,
       "border": null,
       "bottom": null,
       "display": null,
       "flex": null,
       "flex_flow": null,
       "grid_area": null,
       "grid_auto_columns": null,
       "grid_auto_flow": null,
       "grid_auto_rows": null,
       "grid_column": null,
       "grid_gap": null,
       "grid_row": null,
       "grid_template_areas": null,
       "grid_template_columns": null,
       "grid_template_rows": null,
       "height": null,
       "justify_content": null,
       "justify_items": null,
       "left": null,
       "margin": null,
       "max_height": null,
       "max_width": null,
       "min_height": null,
       "min_width": null,
       "object_fit": null,
       "object_position": null,
       "order": null,
       "overflow": null,
       "overflow_x": null,
       "overflow_y": null,
       "padding": null,
       "right": null,
       "top": null,
       "visibility": null,
       "width": null
      }
     },
     "8692f2c906d449b8b355a0537fe64a36": {
      "model_module": "@jupyter-widgets/controls",
      "model_module_version": "1.5.0",
      "model_name": "HTMLModel",
      "state": {
       "_dom_classes": [],
       "_model_module": "@jupyter-widgets/controls",
       "_model_module_version": "1.5.0",
       "_model_name": "HTMLModel",
       "_view_count": null,
       "_view_module": "@jupyter-widgets/controls",
       "_view_module_version": "1.5.0",
       "_view_name": "HTMLView",
       "description": "",
       "description_tooltip": null,
       "layout": "IPY_MODEL_5ff292802e904621a287fb2b563517be",
       "placeholder": "​",
       "style": "IPY_MODEL_bbb749bab6744be2b0a80105c1a0a266",
       "value": "tokenizer_config.json: 100%"
      }
     },
     "893c02a9af1f4053975bfa3af09c7976": {
      "model_module": "@jupyter-widgets/controls",
      "model_module_version": "1.5.0",
      "model_name": "HTMLModel",
      "state": {
       "_dom_classes": [],
       "_model_module": "@jupyter-widgets/controls",
       "_model_module_version": "1.5.0",
       "_model_name": "HTMLModel",
       "_view_count": null,
       "_view_module": "@jupyter-widgets/controls",
       "_view_module_version": "1.5.0",
       "_view_name": "HTMLView",
       "description": "",
       "description_tooltip": null,
       "layout": "IPY_MODEL_cec81c58e9c64b5792a2b19b436410cd",
       "placeholder": "​",
       "style": "IPY_MODEL_c08963ae513a43ecafaf085eb4a4693a",
       "value": " 498M/498M [00:02&lt;00:00, 221MB/s]"
      }
     },
     "89aaec20026e438ea93def6a78b1fbef": {
      "model_module": "@jupyter-widgets/base",
      "model_module_version": "1.2.0",
      "model_name": "LayoutModel",
      "state": {
       "_model_module": "@jupyter-widgets/base",
       "_model_module_version": "1.2.0",
       "_model_name": "LayoutModel",
       "_view_count": null,
       "_view_module": "@jupyter-widgets/base",
       "_view_module_version": "1.2.0",
       "_view_name": "LayoutView",
       "align_content": null,
       "align_items": null,
       "align_self": null,
       "border": null,
       "bottom": null,
       "display": null,
       "flex": null,
       "flex_flow": null,
       "grid_area": null,
       "grid_auto_columns": null,
       "grid_auto_flow": null,
       "grid_auto_rows": null,
       "grid_column": null,
       "grid_gap": null,
       "grid_row": null,
       "grid_template_areas": null,
       "grid_template_columns": null,
       "grid_template_rows": null,
       "height": null,
       "justify_content": null,
       "justify_items": null,
       "left": null,
       "margin": null,
       "max_height": null,
       "max_width": null,
       "min_height": null,
       "min_width": null,
       "object_fit": null,
       "object_position": null,
       "order": null,
       "overflow": null,
       "overflow_x": null,
       "overflow_y": null,
       "padding": null,
       "right": null,
       "top": null,
       "visibility": null,
       "width": null
      }
     },
     "932772dc31fa4cc29813a0617913b6be": {
      "model_module": "@jupyter-widgets/base",
      "model_module_version": "1.2.0",
      "model_name": "LayoutModel",
      "state": {
       "_model_module": "@jupyter-widgets/base",
       "_model_module_version": "1.2.0",
       "_model_name": "LayoutModel",
       "_view_count": null,
       "_view_module": "@jupyter-widgets/base",
       "_view_module_version": "1.2.0",
       "_view_name": "LayoutView",
       "align_content": null,
       "align_items": null,
       "align_self": null,
       "border": null,
       "bottom": null,
       "display": null,
       "flex": null,
       "flex_flow": null,
       "grid_area": null,
       "grid_auto_columns": null,
       "grid_auto_flow": null,
       "grid_auto_rows": null,
       "grid_column": null,
       "grid_gap": null,
       "grid_row": null,
       "grid_template_areas": null,
       "grid_template_columns": null,
       "grid_template_rows": null,
       "height": null,
       "justify_content": null,
       "justify_items": null,
       "left": null,
       "margin": null,
       "max_height": null,
       "max_width": null,
       "min_height": null,
       "min_width": null,
       "object_fit": null,
       "object_position": null,
       "order": null,
       "overflow": null,
       "overflow_x": null,
       "overflow_y": null,
       "padding": null,
       "right": null,
       "top": null,
       "visibility": null,
       "width": null
      }
     },
     "9c6cb06eacae48178e5b83638941de00": {
      "model_module": "@jupyter-widgets/controls",
      "model_module_version": "1.5.0",
      "model_name": "HTMLModel",
      "state": {
       "_dom_classes": [],
       "_model_module": "@jupyter-widgets/controls",
       "_model_module_version": "1.5.0",
       "_model_name": "HTMLModel",
       "_view_count": null,
       "_view_module": "@jupyter-widgets/controls",
       "_view_module_version": "1.5.0",
       "_view_name": "HTMLView",
       "description": "",
       "description_tooltip": null,
       "layout": "IPY_MODEL_18b63f768a7f4c5d92706ae2096410da",
       "placeholder": "​",
       "style": "IPY_MODEL_472773bb3d084bafaaee9c27900b3d3d",
       "value": "special_tokens_map.json: 100%"
      }
     },
     "a27f58f5a1ce4fda8f880aff9ca60a7a": {
      "model_module": "@jupyter-widgets/controls",
      "model_module_version": "1.5.0",
      "model_name": "HBoxModel",
      "state": {
       "_dom_classes": [],
       "_model_module": "@jupyter-widgets/controls",
       "_model_module_version": "1.5.0",
       "_model_name": "HBoxModel",
       "_view_count": null,
       "_view_module": "@jupyter-widgets/controls",
       "_view_module_version": "1.5.0",
       "_view_name": "HBoxView",
       "box_style": "",
       "children": [
        "IPY_MODEL_9c6cb06eacae48178e5b83638941de00",
        "IPY_MODEL_42c27b1e800f42919995ff0b738650d1",
        "IPY_MODEL_4ffae3fd6f33426bb9cdc6059fa35f3a"
       ],
       "layout": "IPY_MODEL_a9f432617daf48cc81040c934b645e8b"
      }
     },
     "a9f432617daf48cc81040c934b645e8b": {
      "model_module": "@jupyter-widgets/base",
      "model_module_version": "1.2.0",
      "model_name": "LayoutModel",
      "state": {
       "_model_module": "@jupyter-widgets/base",
       "_model_module_version": "1.2.0",
       "_model_name": "LayoutModel",
       "_view_count": null,
       "_view_module": "@jupyter-widgets/base",
       "_view_module_version": "1.2.0",
       "_view_name": "LayoutView",
       "align_content": null,
       "align_items": null,
       "align_self": null,
       "border": null,
       "bottom": null,
       "display": null,
       "flex": null,
       "flex_flow": null,
       "grid_area": null,
       "grid_auto_columns": null,
       "grid_auto_flow": null,
       "grid_auto_rows": null,
       "grid_column": null,
       "grid_gap": null,
       "grid_row": null,
       "grid_template_areas": null,
       "grid_template_columns": null,
       "grid_template_rows": null,
       "height": null,
       "justify_content": null,
       "justify_items": null,
       "left": null,
       "margin": null,
       "max_height": null,
       "max_width": null,
       "min_height": null,
       "min_width": null,
       "object_fit": null,
       "object_position": null,
       "order": null,
       "overflow": null,
       "overflow_x": null,
       "overflow_y": null,
       "padding": null,
       "right": null,
       "top": null,
       "visibility": null,
       "width": null
      }
     },
     "b687d0bfe8754c47a9e758a01e052764": {
      "model_module": "@jupyter-widgets/controls",
      "model_module_version": "1.5.0",
      "model_name": "ProgressStyleModel",
      "state": {
       "_model_module": "@jupyter-widgets/controls",
       "_model_module_version": "1.5.0",
       "_model_name": "ProgressStyleModel",
       "_view_count": null,
       "_view_module": "@jupyter-widgets/base",
       "_view_module_version": "1.2.0",
       "_view_name": "StyleView",
       "bar_color": null,
       "description_width": ""
      }
     },
     "b736e4b9829643228f8f66839b8fb2cf": {
      "model_module": "@jupyter-widgets/controls",
      "model_module_version": "1.5.0",
      "model_name": "HTMLModel",
      "state": {
       "_dom_classes": [],
       "_model_module": "@jupyter-widgets/controls",
       "_model_module_version": "1.5.0",
       "_model_name": "HTMLModel",
       "_view_count": null,
       "_view_module": "@jupyter-widgets/controls",
       "_view_module_version": "1.5.0",
       "_view_name": "HTMLView",
       "description": "",
       "description_tooltip": null,
       "layout": "IPY_MODEL_d72833f4f7be4ed9a777960fd73d0545",
       "placeholder": "​",
       "style": "IPY_MODEL_be1af4e2a8154bc6bdad32e0b9105ed4",
       "value": " 229k/229k [00:00&lt;00:00, 4.33MB/s]"
      }
     },
     "bbb749bab6744be2b0a80105c1a0a266": {
      "model_module": "@jupyter-widgets/controls",
      "model_module_version": "1.5.0",
      "model_name": "DescriptionStyleModel",
      "state": {
       "_model_module": "@jupyter-widgets/controls",
       "_model_module_version": "1.5.0",
       "_model_name": "DescriptionStyleModel",
       "_view_count": null,
       "_view_module": "@jupyter-widgets/base",
       "_view_module_version": "1.2.0",
       "_view_name": "StyleView",
       "description_width": ""
      }
     },
     "be1af4e2a8154bc6bdad32e0b9105ed4": {
      "model_module": "@jupyter-widgets/controls",
      "model_module_version": "1.5.0",
      "model_name": "DescriptionStyleModel",
      "state": {
       "_model_module": "@jupyter-widgets/controls",
       "_model_module_version": "1.5.0",
       "_model_name": "DescriptionStyleModel",
       "_view_count": null,
       "_view_module": "@jupyter-widgets/base",
       "_view_module_version": "1.2.0",
       "_view_name": "StyleView",
       "description_width": ""
      }
     },
     "c08963ae513a43ecafaf085eb4a4693a": {
      "model_module": "@jupyter-widgets/controls",
      "model_module_version": "1.5.0",
      "model_name": "DescriptionStyleModel",
      "state": {
       "_model_module": "@jupyter-widgets/controls",
       "_model_module_version": "1.5.0",
       "_model_name": "DescriptionStyleModel",
       "_view_count": null,
       "_view_module": "@jupyter-widgets/base",
       "_view_module_version": "1.2.0",
       "_view_name": "StyleView",
       "description_width": ""
      }
     },
     "c8a32b790832467e91764504d37fb54d": {
      "model_module": "@jupyter-widgets/controls",
      "model_module_version": "1.5.0",
      "model_name": "HTMLModel",
      "state": {
       "_dom_classes": [],
       "_model_module": "@jupyter-widgets/controls",
       "_model_module_version": "1.5.0",
       "_model_name": "HTMLModel",
       "_view_count": null,
       "_view_module": "@jupyter-widgets/controls",
       "_view_module_version": "1.5.0",
       "_view_name": "HTMLView",
       "description": "",
       "description_tooltip": null,
       "layout": "IPY_MODEL_055da5dd169e484a84ba1f074a3a3f25",
       "placeholder": "​",
       "style": "IPY_MODEL_dabbca92a7654d0f85b9e9ff8e55339b",
       "value": " 1.53k/1.53k [00:00&lt;00:00, 139kB/s]"
      }
     },
     "cd1a0ed740a04f00923a755d6e3f6a7e": {
      "model_module": "@jupyter-widgets/controls",
      "model_module_version": "1.5.0",
      "model_name": "DescriptionStyleModel",
      "state": {
       "_model_module": "@jupyter-widgets/controls",
       "_model_module_version": "1.5.0",
       "_model_name": "DescriptionStyleModel",
       "_view_count": null,
       "_view_module": "@jupyter-widgets/base",
       "_view_module_version": "1.2.0",
       "_view_name": "StyleView",
       "description_width": ""
      }
     },
     "cec81c58e9c64b5792a2b19b436410cd": {
      "model_module": "@jupyter-widgets/base",
      "model_module_version": "1.2.0",
      "model_name": "LayoutModel",
      "state": {
       "_model_module": "@jupyter-widgets/base",
       "_model_module_version": "1.2.0",
       "_model_name": "LayoutModel",
       "_view_count": null,
       "_view_module": "@jupyter-widgets/base",
       "_view_module_version": "1.2.0",
       "_view_name": "LayoutView",
       "align_content": null,
       "align_items": null,
       "align_self": null,
       "border": null,
       "bottom": null,
       "display": null,
       "flex": null,
       "flex_flow": null,
       "grid_area": null,
       "grid_auto_columns": null,
       "grid_auto_flow": null,
       "grid_auto_rows": null,
       "grid_column": null,
       "grid_gap": null,
       "grid_row": null,
       "grid_template_areas": null,
       "grid_template_columns": null,
       "grid_template_rows": null,
       "height": null,
       "justify_content": null,
       "justify_items": null,
       "left": null,
       "margin": null,
       "max_height": null,
       "max_width": null,
       "min_height": null,
       "min_width": null,
       "object_fit": null,
       "object_position": null,
       "order": null,
       "overflow": null,
       "overflow_x": null,
       "overflow_y": null,
       "padding": null,
       "right": null,
       "top": null,
       "visibility": null,
       "width": null
      }
     },
     "d72833f4f7be4ed9a777960fd73d0545": {
      "model_module": "@jupyter-widgets/base",
      "model_module_version": "1.2.0",
      "model_name": "LayoutModel",
      "state": {
       "_model_module": "@jupyter-widgets/base",
       "_model_module_version": "1.2.0",
       "_model_name": "LayoutModel",
       "_view_count": null,
       "_view_module": "@jupyter-widgets/base",
       "_view_module_version": "1.2.0",
       "_view_name": "LayoutView",
       "align_content": null,
       "align_items": null,
       "align_self": null,
       "border": null,
       "bottom": null,
       "display": null,
       "flex": null,
       "flex_flow": null,
       "grid_area": null,
       "grid_auto_columns": null,
       "grid_auto_flow": null,
       "grid_auto_rows": null,
       "grid_column": null,
       "grid_gap": null,
       "grid_row": null,
       "grid_template_areas": null,
       "grid_template_columns": null,
       "grid_template_rows": null,
       "height": null,
       "justify_content": null,
       "justify_items": null,
       "left": null,
       "margin": null,
       "max_height": null,
       "max_width": null,
       "min_height": null,
       "min_width": null,
       "object_fit": null,
       "object_position": null,
       "order": null,
       "overflow": null,
       "overflow_x": null,
       "overflow_y": null,
       "padding": null,
       "right": null,
       "top": null,
       "visibility": null,
       "width": null
      }
     },
     "da7ff40accea45e0861125020efe1f7d": {
      "model_module": "@jupyter-widgets/controls",
      "model_module_version": "1.5.0",
      "model_name": "DescriptionStyleModel",
      "state": {
       "_model_module": "@jupyter-widgets/controls",
       "_model_module_version": "1.5.0",
       "_model_name": "DescriptionStyleModel",
       "_view_count": null,
       "_view_module": "@jupyter-widgets/base",
       "_view_module_version": "1.2.0",
       "_view_name": "StyleView",
       "description_width": ""
      }
     },
     "dabbca92a7654d0f85b9e9ff8e55339b": {
      "model_module": "@jupyter-widgets/controls",
      "model_module_version": "1.5.0",
      "model_name": "DescriptionStyleModel",
      "state": {
       "_model_module": "@jupyter-widgets/controls",
       "_model_module_version": "1.5.0",
       "_model_name": "DescriptionStyleModel",
       "_view_count": null,
       "_view_module": "@jupyter-widgets/base",
       "_view_module_version": "1.2.0",
       "_view_name": "StyleView",
       "description_width": ""
      }
     },
     "e95515bc6db24d979ab15b6181f7e6b6": {
      "model_module": "@jupyter-widgets/base",
      "model_module_version": "1.2.0",
      "model_name": "LayoutModel",
      "state": {
       "_model_module": "@jupyter-widgets/base",
       "_model_module_version": "1.2.0",
       "_model_name": "LayoutModel",
       "_view_count": null,
       "_view_module": "@jupyter-widgets/base",
       "_view_module_version": "1.2.0",
       "_view_name": "LayoutView",
       "align_content": null,
       "align_items": null,
       "align_self": null,
       "border": null,
       "bottom": null,
       "display": null,
       "flex": null,
       "flex_flow": null,
       "grid_area": null,
       "grid_auto_columns": null,
       "grid_auto_flow": null,
       "grid_auto_rows": null,
       "grid_column": null,
       "grid_gap": null,
       "grid_row": null,
       "grid_template_areas": null,
       "grid_template_columns": null,
       "grid_template_rows": null,
       "height": null,
       "justify_content": null,
       "justify_items": null,
       "left": null,
       "margin": null,
       "max_height": null,
       "max_width": null,
       "min_height": null,
       "min_width": null,
       "object_fit": null,
       "object_position": null,
       "order": null,
       "overflow": null,
       "overflow_x": null,
       "overflow_y": null,
       "padding": null,
       "right": null,
       "top": null,
       "visibility": null,
       "width": null
      }
     },
     "ec1f8e0a7e744203b7a17d815a59328a": {
      "model_module": "@jupyter-widgets/controls",
      "model_module_version": "1.5.0",
      "model_name": "DescriptionStyleModel",
      "state": {
       "_model_module": "@jupyter-widgets/controls",
       "_model_module_version": "1.5.0",
       "_model_name": "DescriptionStyleModel",
       "_view_count": null,
       "_view_module": "@jupyter-widgets/base",
       "_view_module_version": "1.2.0",
       "_view_name": "StyleView",
       "description_width": ""
      }
     },
     "ef5d5ba07e5948d0bc78498944c5f3ae": {
      "model_module": "@jupyter-widgets/controls",
      "model_module_version": "1.5.0",
      "model_name": "HBoxModel",
      "state": {
       "_dom_classes": [],
       "_model_module": "@jupyter-widgets/controls",
       "_model_module_version": "1.5.0",
       "_model_name": "HBoxModel",
       "_view_count": null,
       "_view_module": "@jupyter-widgets/controls",
       "_view_module_version": "1.5.0",
       "_view_name": "HBoxView",
       "box_style": "",
       "children": [
        "IPY_MODEL_8692f2c906d449b8b355a0537fe64a36",
        "IPY_MODEL_5f2a806515cb4462969431033db9547b",
        "IPY_MODEL_71c11e293905400cb1622c76f855099a"
       ],
       "layout": "IPY_MODEL_540cdd03c62c4793bb359ca9855523c3"
      }
     },
     "f17869ec1c5b473ab5eb73e4240008e8": {
      "model_module": "@jupyter-widgets/controls",
      "model_module_version": "1.5.0",
      "model_name": "ProgressStyleModel",
      "state": {
       "_model_module": "@jupyter-widgets/controls",
       "_model_module_version": "1.5.0",
       "_model_name": "ProgressStyleModel",
       "_view_count": null,
       "_view_module": "@jupyter-widgets/base",
       "_view_module_version": "1.2.0",
       "_view_name": "StyleView",
       "bar_color": null,
       "description_width": ""
      }
     },
     "f3eecda903904588a2361e16b27f9957": {
      "model_module": "@jupyter-widgets/controls",
      "model_module_version": "1.5.0",
      "model_name": "FloatProgressModel",
      "state": {
       "_dom_classes": [],
       "_model_module": "@jupyter-widgets/controls",
       "_model_module_version": "1.5.0",
       "_model_name": "FloatProgressModel",
       "_view_count": null,
       "_view_module": "@jupyter-widgets/controls",
       "_view_module_version": "1.5.0",
       "_view_name": "ProgressView",
       "bar_style": "success",
       "description": "",
       "description_tooltip": null,
       "layout": "IPY_MODEL_2c1d36ef71ff465d8bddc70e845894e7",
       "max": 1534.0,
       "min": 0.0,
       "orientation": "horizontal",
       "style": "IPY_MODEL_068d31e9e3a941c084fb51125b8d37f8",
       "value": 1534.0
      }
     },
     "f8e7c60957954c61b87f201a46ba005a": {
      "model_module": "@jupyter-widgets/controls",
      "model_module_version": "1.5.0",
      "model_name": "FloatProgressModel",
      "state": {
       "_dom_classes": [],
       "_model_module": "@jupyter-widgets/controls",
       "_model_module_version": "1.5.0",
       "_model_name": "FloatProgressModel",
       "_view_count": null,
       "_view_module": "@jupyter-widgets/controls",
       "_view_module_version": "1.5.0",
       "_view_name": "ProgressView",
       "bar_style": "success",
       "description": "",
       "description_tooltip": null,
       "layout": "IPY_MODEL_fc8c6ebf16cb4f9db49942cd742af4a4",
       "max": 497810400.0,
       "min": 0.0,
       "orientation": "horizontal",
       "style": "IPY_MODEL_6e1d90202dfb43b68c45111d1a8e9481",
       "value": 497810400.0
      }
     },
     "fc8c6ebf16cb4f9db49942cd742af4a4": {
      "model_module": "@jupyter-widgets/base",
      "model_module_version": "1.2.0",
      "model_name": "LayoutModel",
      "state": {
       "_model_module": "@jupyter-widgets/base",
       "_model_module_version": "1.2.0",
       "_model_name": "LayoutModel",
       "_view_count": null,
       "_view_module": "@jupyter-widgets/base",
       "_view_module_version": "1.2.0",
       "_view_name": "LayoutView",
       "align_content": null,
       "align_items": null,
       "align_self": null,
       "border": null,
       "bottom": null,
       "display": null,
       "flex": null,
       "flex_flow": null,
       "grid_area": null,
       "grid_auto_columns": null,
       "grid_auto_flow": null,
       "grid_auto_rows": null,
       "grid_column": null,
       "grid_gap": null,
       "grid_row": null,
       "grid_template_areas": null,
       "grid_template_columns": null,
       "grid_template_rows": null,
       "height": null,
       "justify_content": null,
       "justify_items": null,
       "left": null,
       "margin": null,
       "max_height": null,
       "max_width": null,
       "min_height": null,
       "min_width": null,
       "object_fit": null,
       "object_position": null,
       "order": null,
       "overflow": null,
       "overflow_x": null,
       "overflow_y": null,
       "padding": null,
       "right": null,
       "top": null,
       "visibility": null,
       "width": null
      }
     }
    },
    "version_major": 2,
    "version_minor": 0
   }
  }
 },
 "nbformat": 4,
 "nbformat_minor": 5
}
