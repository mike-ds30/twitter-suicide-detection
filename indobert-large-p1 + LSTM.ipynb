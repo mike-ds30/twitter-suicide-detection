{
 "cells": [
  {
   "cell_type": "code",
   "execution_count": 1,
   "id": "63ec6820",
   "metadata": {
    "execution": {
     "iopub.execute_input": "2024-04-11T06:10:31.935683Z",
     "iopub.status.busy": "2024-04-11T06:10:31.935359Z",
     "iopub.status.idle": "2024-04-11T06:10:32.705894Z",
     "shell.execute_reply": "2024-04-11T06:10:32.704840Z"
    },
    "id": "fOsXyzoFu4R1",
    "outputId": "a971c595-d74f-46d9-aa41-7a1eb5209273",
    "papermill": {
     "duration": 0.795419,
     "end_time": "2024-04-11T06:10:32.708165",
     "exception": false,
     "start_time": "2024-04-11T06:10:31.912746",
     "status": "completed"
    },
    "tags": []
   },
   "outputs": [
    {
     "name": "stdout",
     "output_type": "stream",
     "text": [
      "Suicidal dataframe:          label                                        twitterText\n",
      "0     SUICIDAL  \"pengen bunuh diri aja\"\\nyang paling sering te...\n",
      "1     SUICIDAL  Secara tidak langsung punya Fikiran pengen bun...\n",
      "2     SUICIDAL          sejam lalu haha hihi sekarang pengen mati\n",
      "3     SUICIDAL  Baru kelar 1 masalah datang lagi malah lainnya...\n",
      "4     SUICIDAL       fuck bundir aku lagi pgn mabok smpk ga sadar\n",
      "...        ...                                                ...\n",
      "8727  SUICIDAL  jujur cape hidup kaya gini terus, aku nganggur...\n",
      "8728  SUICIDAL  Siapa yang dari sd udah kepikiran mau mati ? A...\n",
      "8729  SUICIDAL   Apa aku doang kalo stres suka pengen bunuh diri?\n",
      "8730  SUICIDAL  Mood ga karuan. Ovt ga karuan. Selalu kek miki...\n",
      "8731  SUICIDAL   pengen bundir tapi takut gabisa dengerin mineral\n",
      "\n",
      "[8732 rows x 2 columns]\n"
     ]
    }
   ],
   "source": [
    "import pandas as pd\n",
    "import re\n",
    "import os\n",
    "\n",
    "df_suicidal = pd.read_csv(\"/kaggle/input/manual-annotation-indo-twitter-suicide/final-annotated-suicide-dataset.csv\", usecols=['label', 'twitterText'])\n",
    "df_suicidal.dropna(inplace=True)\n",
    "df_suicidal['label'] = \"SUICIDAL\"\n",
    "df_suicidal = df_suicidal.sample(frac=1, random_state=42).reset_index(drop=True)\n",
    "print(\"Suicidal dataframe:\", df_suicidal)"
   ]
  },
  {
   "cell_type": "code",
   "execution_count": 2,
   "id": "b3d947a7",
   "metadata": {
    "execution": {
     "iopub.execute_input": "2024-04-11T06:10:32.752695Z",
     "iopub.status.busy": "2024-04-11T06:10:32.752377Z",
     "iopub.status.idle": "2024-04-11T06:10:33.156404Z",
     "shell.execute_reply": "2024-04-11T06:10:33.155148Z"
    },
    "id": "V5fp9OF8zMDq",
    "outputId": "39f83fdd-4857-41e2-d135-3852e2e4131e",
    "papermill": {
     "duration": 0.427671,
     "end_time": "2024-04-11T06:10:33.158403",
     "exception": false,
     "start_time": "2024-04-11T06:10:32.730732",
     "status": "completed"
    },
    "tags": []
   },
   "outputs": [
    {
     "name": "stdout",
     "output_type": "stream",
     "text": [
      "Non-suicidal dataframe:               label                                        twitterText\n",
      "0      NOT_SUICIDAL  yall the feminists i know on twitter are happi...\n",
      "1      NOT_SUICIDAL  Imagine bini sedap masak and his brain thinks ...\n",
      "2      NOT_SUICIDAL  Kita masak macam katering dah raya ni dia kalu...\n",
      "3      NOT_SUICIDAL  Masak ni survival skills, bukan gender roles. ...\n",
      "4      NOT_SUICIDAL  Istg if I were a man, I'd surely date her. \\n\\...\n",
      "...             ...                                                ...\n",
      "35307  NOT_SUICIDAL  @leo_edw W slalu punya feel kalo dia cuma ghos...\n",
      "35308  NOT_SUICIDAL  Jog! Lagi ngrasake bersyukur tapi yo kesel ki,...\n",
      "35309  NOT_SUICIDAL  @mks_fess itulah pentingnya tidak berharap ket...\n",
      "35310  NOT_SUICIDAL  Moots pdkt yuk tapi enih harus delapan kata ad...\n",
      "35311  NOT_SUICIDAL  Pengertian Ghosting dan Cara Menghindarinya: H...\n",
      "\n",
      "[35312 rows x 2 columns]\n",
      "Non-suicidal dataframe:               label                                        twitterText\n",
      "0      NOT_SUICIDAL  [cm] sekarang aku paham kenapa anak semester a...\n",
      "1      NOT_SUICIDAL  Semoga kita kuat kuat aja ya ngejalanin hidup ...\n",
      "2      NOT_SUICIDAL                              pengen bundir lmaoooo\n",
      "3      NOT_SUICIDAL  sumpah pengen gua katain anjing tolol bego ban...\n",
      "4      NOT_SUICIDAL                   pengen beli immortal trus bundir\n",
      "...             ...                                                ...\n",
      "35392  NOT_SUICIDAL         @kadyasandya coba bundir di jembatan suhat\n",
      "35393  NOT_SUICIDAL  @BluueBleGum tapi gua jadi mikir nih, kan pres...\n",
      "35394  NOT_SUICIDAL  @amordevaleri @WeningAA @CNNIndonesia iya aku ...\n",
      "35395  NOT_SUICIDAL  Gua pas itu gini\\n\\n\"Capek bgt pikiran bundir ...\n",
      "35396  NOT_SUICIDAL  Dulu pernah ampe udh cari cara di google tapi ...\n",
      "\n",
      "[35397 rows x 2 columns]\n"
     ]
    }
   ],
   "source": [
    "df_not_suicidal_a = pd.read_csv(\"/kaggle/input/manual-annotation-indo-twitter-suicide/final-non-suicide-dataset.csv\", usecols=['label', 'twitterText'])\n",
    "df_not_suicidal_a.dropna(inplace=True)\n",
    "df_not_suicidal_a['label'] = \"NOT_SUICIDAL\"\n",
    "print(\"Non-suicidal dataframe:\", df_not_suicidal_a)\n",
    "\n",
    "df_not_suicidal_b = pd.read_csv(\"/kaggle/input/manual-annotation-indo-twitter-suicide/final-annotated-non-suicide-dataset.csv\", usecols=['label', 'twitterText'])\n",
    "df_not_suicidal_b.dropna(inplace=True)\n",
    "df_not_suicidal_b['label'] = \"NOT_SUICIDAL\"\n",
    "print(\"Non-suicidal dataframe:\", df_not_suicidal_b)"
   ]
  },
  {
   "cell_type": "code",
   "execution_count": 3,
   "id": "e6f072e3",
   "metadata": {
    "execution": {
     "iopub.execute_input": "2024-04-11T06:10:33.203358Z",
     "iopub.status.busy": "2024-04-11T06:10:33.203081Z",
     "iopub.status.idle": "2024-04-11T06:10:33.218206Z",
     "shell.execute_reply": "2024-04-11T06:10:33.217131Z"
    },
    "id": "4aSnZHbsz4Zf",
    "outputId": "91960bb7-e93c-4095-d3b2-0905cb15fec6",
    "papermill": {
     "duration": 0.039563,
     "end_time": "2024-04-11T06:10:33.220095",
     "exception": false,
     "start_time": "2024-04-11T06:10:33.180532",
     "status": "completed"
    },
    "tags": []
   },
   "outputs": [
    {
     "name": "stdout",
     "output_type": "stream",
     "text": [
      "Non-suicidal dataframe:              label                                        twitterText\n",
      "0     NOT_SUICIDAL  Gak mudah mengakhiri hubungan di umur 26thn di...\n",
      "1     NOT_SUICIDAL                   Canda. Sesempetnya aja ya bous 😎\n",
      "2     NOT_SUICIDAL  @thekuxell Cara Israel mengurangi populasi ten...\n",
      "3     NOT_SUICIDAL  Aku hanya lelah hidup seperti ini, tak tau har...\n",
      "4     NOT_SUICIDAL  Ada orang yg pintar karena tekun belajar dan a...\n",
      "...            ...                                                ...\n",
      "8727  NOT_SUICIDAL  @kkmanti @kangadang1 @Yanuardychandra @floriel...\n",
      "8728  NOT_SUICIDAL  @Don_gindo Kok dek akibat singo di ajar makan ...\n",
      "8729  NOT_SUICIDAL  Mande :\"Jadi mo cium gak\"\\nSurya :\"ntar aja ka...\n",
      "8730  NOT_SUICIDAL  Tuhan...knp z harus kenal,cyg,n nikah dg org y...\n",
      "8731  NOT_SUICIDAL  Demi tuhan, ini narasi paling berkesan. Gemes,...\n",
      "\n",
      "[8732 rows x 2 columns]\n"
     ]
    }
   ],
   "source": [
    "#Combine non-suicidal datasets from non-suicide keyword query (a) and suicide keyword but annotated non-suicide (b)\n",
    "#Randomly sample 8732 data to match number of suicidal data\n",
    "df_not_suicidal = pd.concat([df_not_suicidal_a, df_not_suicidal_b])\n",
    "df_not_suicidal = df_not_suicidal.sample(n=8732, random_state=42).reset_index(drop=True)\n",
    "print(\"Non-suicidal dataframe:\", df_not_suicidal)"
   ]
  },
  {
   "cell_type": "code",
   "execution_count": 4,
   "id": "690d6607",
   "metadata": {
    "execution": {
     "iopub.execute_input": "2024-04-11T06:10:33.264489Z",
     "iopub.status.busy": "2024-04-11T06:10:33.263932Z",
     "iopub.status.idle": "2024-04-11T06:10:33.272534Z",
     "shell.execute_reply": "2024-04-11T06:10:33.271466Z"
    },
    "id": "4Mo0ayPQ39-o",
    "outputId": "ac4a71cc-8fd7-41ab-937f-ba94d31f14f5",
    "papermill": {
     "duration": 0.033065,
     "end_time": "2024-04-11T06:10:33.274837",
     "exception": false,
     "start_time": "2024-04-11T06:10:33.241772",
     "status": "completed"
    },
    "tags": []
   },
   "outputs": [
    {
     "name": "stdout",
     "output_type": "stream",
     "text": [
      "              label                                        twitterText\n",
      "0          SUICIDAL  \"pengen bunuh diri aja\"\\nyang paling sering te...\n",
      "1          SUICIDAL  Secara tidak langsung punya Fikiran pengen bun...\n",
      "2          SUICIDAL          sejam lalu haha hihi sekarang pengen mati\n",
      "3          SUICIDAL  Baru kelar 1 masalah datang lagi malah lainnya...\n",
      "4          SUICIDAL       fuck bundir aku lagi pgn mabok smpk ga sadar\n",
      "...             ...                                                ...\n",
      "17459  NOT_SUICIDAL  @kkmanti @kangadang1 @Yanuardychandra @floriel...\n",
      "17460  NOT_SUICIDAL  @Don_gindo Kok dek akibat singo di ajar makan ...\n",
      "17461  NOT_SUICIDAL  Mande :\"Jadi mo cium gak\"\\nSurya :\"ntar aja ka...\n",
      "17462  NOT_SUICIDAL  Tuhan...knp z harus kenal,cyg,n nikah dg org y...\n",
      "17463  NOT_SUICIDAL  Demi tuhan, ini narasi paling berkesan. Gemes,...\n",
      "\n",
      "[17464 rows x 2 columns]\n"
     ]
    }
   ],
   "source": [
    "df = pd.concat([df_suicidal, df_not_suicidal])\n",
    "df = df.reset_index(drop=True)\n",
    "print(df)"
   ]
  },
  {
   "cell_type": "code",
   "execution_count": 5,
   "id": "7c25041c",
   "metadata": {
    "execution": {
     "iopub.execute_input": "2024-04-11T06:10:33.321132Z",
     "iopub.status.busy": "2024-04-11T06:10:33.320842Z",
     "iopub.status.idle": "2024-04-11T06:10:33.345606Z",
     "shell.execute_reply": "2024-04-11T06:10:33.344466Z"
    },
    "id": "HGj2BTkeYb5k",
    "outputId": "6c400aa8-228c-477a-efe6-052e7a007d40",
    "papermill": {
     "duration": 0.049247,
     "end_time": "2024-04-11T06:10:33.347627",
     "exception": false,
     "start_time": "2024-04-11T06:10:33.298380",
     "status": "completed"
    },
    "tags": []
   },
   "outputs": [
    {
     "name": "stdout",
     "output_type": "stream",
     "text": [
      "       label                                        twitterText\n",
      "0          1  \"pengen bunuh diri aja\"\\nyang paling sering te...\n",
      "1          1  Secara tidak langsung punya Fikiran pengen bun...\n",
      "2          1          sejam lalu haha hihi sekarang pengen mati\n",
      "3          1  Baru kelar 1 masalah datang lagi malah lainnya...\n",
      "4          1       fuck bundir aku lagi pgn mabok smpk ga sadar\n",
      "...      ...                                                ...\n",
      "17459      0  @kkmanti @kangadang1 @Yanuardychandra @floriel...\n",
      "17460      0  @Don_gindo Kok dek akibat singo di ajar makan ...\n",
      "17461      0  Mande :\"Jadi mo cium gak\"\\nSurya :\"ntar aja ka...\n",
      "17462      0  Tuhan...knp z harus kenal,cyg,n nikah dg org y...\n",
      "17463      0  Demi tuhan, ini narasi paling berkesan. Gemes,...\n",
      "\n",
      "[17464 rows x 2 columns]\n"
     ]
    },
    {
     "name": "stderr",
     "output_type": "stream",
     "text": [
      "/tmp/ipykernel_27/3044191695.py:1: FutureWarning: Downcasting behavior in `replace` is deprecated and will be removed in a future version. To retain the old behavior, explicitly call `result.infer_objects(copy=False)`. To opt-in to the future behavior, set `pd.set_option('future.no_silent_downcasting', True)`\n",
      "  df['label'] = df['label'].replace({'SUICIDAL': 1, 'NOT_SUICIDAL': 0})\n"
     ]
    }
   ],
   "source": [
    "df['label'] = df['label'].replace({'SUICIDAL': 1, 'NOT_SUICIDAL': 0})\n",
    "print(df)"
   ]
  },
  {
   "cell_type": "markdown",
   "id": "73dede4a",
   "metadata": {
    "id": "ZhZrd-SIdKpZ",
    "papermill": {
     "duration": 0.022092,
     "end_time": "2024-04-11T06:10:33.392086",
     "exception": false,
     "start_time": "2024-04-11T06:10:33.369994",
     "status": "completed"
    },
    "tags": []
   },
   "source": [
    "# Libraries"
   ]
  },
  {
   "cell_type": "code",
   "execution_count": 6,
   "id": "bcf6f889",
   "metadata": {
    "execution": {
     "iopub.execute_input": "2024-04-11T06:10:33.435677Z",
     "iopub.status.busy": "2024-04-11T06:10:33.435407Z",
     "iopub.status.idle": "2024-04-11T06:10:59.806495Z",
     "shell.execute_reply": "2024-04-11T06:10:59.805517Z"
    },
    "id": "97qLgzNzzUkW",
    "outputId": "1e084f33-d6c0-4c54-d00a-b65890eb3205",
    "papermill": {
     "duration": 26.395552,
     "end_time": "2024-04-11T06:10:59.809010",
     "exception": false,
     "start_time": "2024-04-11T06:10:33.413458",
     "status": "completed"
    },
    "tags": []
   },
   "outputs": [
    {
     "name": "stdout",
     "output_type": "stream",
     "text": [
      "Collecting indonlp\r\n",
      "  Downloading indoNLP-0.3.4-py3-none-any.whl.metadata (3.4 kB)\r\n",
      "Downloading indoNLP-0.3.4-py3-none-any.whl (121 kB)\r\n",
      "\u001b[2K   \u001b[90m━━━━━━━━━━━━━━━━━━━━━━━━━━━━━━━━━━━━━━━━\u001b[0m \u001b[32m121.9/121.9 kB\u001b[0m \u001b[31m5.8 MB/s\u001b[0m eta \u001b[36m0:00:00\u001b[0m\r\n",
      "\u001b[?25hInstalling collected packages: indonlp\r\n",
      "Successfully installed indonlp-0.3.4\r\n",
      "Requirement already satisfied: unidecode in /opt/conda/lib/python3.10/site-packages (1.3.8)\r\n"
     ]
    }
   ],
   "source": [
    "!pip install indonlp\n",
    "!pip install unidecode"
   ]
  },
  {
   "cell_type": "markdown",
   "id": "86520cfc",
   "metadata": {
    "id": "dUpBSkaddXg7",
    "papermill": {
     "duration": 0.023808,
     "end_time": "2024-04-11T06:10:59.857282",
     "exception": false,
     "start_time": "2024-04-11T06:10:59.833474",
     "status": "completed"
    },
    "tags": []
   },
   "source": [
    "# Data Pre Processing"
   ]
  },
  {
   "cell_type": "markdown",
   "id": "beda851f",
   "metadata": {
    "id": "ZRzJmISWzUkX",
    "papermill": {
     "duration": 0.022165,
     "end_time": "2024-04-11T06:10:59.901903",
     "exception": false,
     "start_time": "2024-04-11T06:10:59.879738",
     "status": "completed"
    },
    "tags": []
   },
   "source": [
    "1. Transliteration (there's cases makası, whose letter 'i' is a Turkish lowercase, making it seem like a 'new' word. We try to make it uniform to English letters, thus becoming 'makasi')\n",
    "2. Remove newlines"
   ]
  },
  {
   "cell_type": "code",
   "execution_count": 7,
   "id": "45c718b3",
   "metadata": {
    "execution": {
     "iopub.execute_input": "2024-04-11T06:10:59.948936Z",
     "iopub.status.busy": "2024-04-11T06:10:59.948608Z",
     "iopub.status.idle": "2024-04-11T06:11:00.424740Z",
     "shell.execute_reply": "2024-04-11T06:11:00.423887Z"
    },
    "id": "dwVuLiurzUkX",
    "papermill": {
     "duration": 0.502728,
     "end_time": "2024-04-11T06:11:00.427386",
     "exception": false,
     "start_time": "2024-04-11T06:10:59.924658",
     "status": "completed"
    },
    "tags": []
   },
   "outputs": [],
   "source": [
    "from unidecode import unidecode\n",
    "df['twitterText'] = df['twitterText'].apply(unidecode)\n",
    "df['twitterText'] = df['twitterText'].str.replace(\"\\n\", \"\")"
   ]
  },
  {
   "cell_type": "markdown",
   "id": "6a0eb94a",
   "metadata": {
    "id": "5uGd7DqZy7Jh",
    "papermill": {
     "duration": 0.021993,
     "end_time": "2024-04-11T06:11:00.473737",
     "exception": false,
     "start_time": "2024-04-11T06:11:00.451744",
     "status": "completed"
    },
    "tags": []
   },
   "source": [
    "3. Convert emoji To Indonesian words\n",
    "4. Remove elongation\n",
    "5. Remove links"
   ]
  },
  {
   "cell_type": "code",
   "execution_count": 8,
   "id": "2e57956b",
   "metadata": {
    "execution": {
     "iopub.execute_input": "2024-04-11T06:11:00.519723Z",
     "iopub.status.busy": "2024-04-11T06:11:00.519423Z",
     "iopub.status.idle": "2024-04-11T06:11:15.306084Z",
     "shell.execute_reply": "2024-04-11T06:11:15.305153Z"
    },
    "id": "ZyvkNyRuzUkY",
    "outputId": "61b7d304-ead1-47af-a057-06f6e3f16f06",
    "papermill": {
     "duration": 14.812507,
     "end_time": "2024-04-11T06:11:15.308246",
     "exception": false,
     "start_time": "2024-04-11T06:11:00.495739",
     "status": "completed"
    },
    "tags": []
   },
   "outputs": [
    {
     "name": "stdout",
     "output_type": "stream",
     "text": [
      "       label                                        twitterText\n",
      "0          1  \"pengen bunuh diri aja\"yang paling sering teru...\n",
      "1          1  Secara tidak langsung punya Fikiran pengen bun...\n",
      "2          1          sejam lalu haha hihi sekarang pengen mati\n",
      "3          1  Baru kelar 1 masalah datang lagi malah lainnya...\n",
      "4          1       fuck bundir aku lagi pgn mabok smpk ga sadar\n",
      "...      ...                                                ...\n",
      "17459      0  @kkmanti @kangadang1 @Yanuardychandra @floriel...\n",
      "17460      0  @Don_gindo Kok dek akibat singo di ajar makan ...\n",
      "17461      0  Mande :\"Jadi mo cium gak\"Surya :\"ntar aja kalo...\n",
      "17462      0  Tuhan...knp z harus kenal,cyg,n nikah dg org y...\n",
      "17463      0  Demi tuhan, ini narasi paling berkesan. Gemes,...\n",
      "\n",
      "[17464 rows x 2 columns]\n"
     ]
    }
   ],
   "source": [
    "from indoNLP.preprocessing import emoji_to_words, replace_word_elongation, remove_url, pipeline\n",
    "\n",
    "def preprocessing(twitterText):\n",
    "    pipe = pipeline([emoji_to_words, replace_word_elongation, remove_url])\n",
    "    return pipe(twitterText)\n",
    "df['twitterText'] = df['twitterText'].apply(preprocessing)\n",
    "print(df)"
   ]
  },
  {
   "cell_type": "markdown",
   "id": "b3660c8b",
   "metadata": {
    "id": "zPVTsQNKzUkY",
    "papermill": {
     "duration": 0.022203,
     "end_time": "2024-04-11T06:11:15.353546",
     "exception": false,
     "start_time": "2024-04-11T06:11:15.331343",
     "status": "completed"
    },
    "tags": []
   },
   "source": [
    "5. Formalize Slang Words (Lemmatization)"
   ]
  },
  {
   "cell_type": "code",
   "execution_count": 9,
   "id": "a1a8beab",
   "metadata": {
    "execution": {
     "iopub.execute_input": "2024-04-11T06:11:15.399574Z",
     "iopub.status.busy": "2024-04-11T06:11:15.399251Z",
     "iopub.status.idle": "2024-04-11T06:11:15.478454Z",
     "shell.execute_reply": "2024-04-11T06:11:15.477272Z"
    },
    "id": "cxB9APwmy6m3",
    "outputId": "615ab55a-c056-4b9c-d2ab-7158578e0ce3",
    "papermill": {
     "duration": 0.104858,
     "end_time": "2024-04-11T06:11:15.480572",
     "exception": false,
     "start_time": "2024-04-11T06:11:15.375714",
     "status": "completed"
    },
    "tags": []
   },
   "outputs": [
    {
     "name": "stdout",
     "output_type": "stream",
     "text": [
      "          slang         formal\n",
      "0          woww            wow\n",
      "1         aminn           amin\n",
      "2           met        selamat\n",
      "3        netaas        menetas\n",
      "4       keberpa       keberapa\n",
      "...         ...            ...\n",
      "15001  gataunya  enggak taunya\n",
      "15002      gtau     enggak tau\n",
      "15003     gatau     enggak tau\n",
      "15004     fans2        fan-fan\n",
      "15005   gaharus   enggak harus\n",
      "\n",
      "[15006 rows x 2 columns]\n"
     ]
    }
   ],
   "source": [
    "# Step 1: Read dataset of slang vs formal words\n",
    "# Taken from Colloquial Indonesian Lexicon by Salsabila, Winatmoko, Septriandi, and Jamal\n",
    "# https://ieeexplore.ieee.org/abstract/document/8629151\n",
    "slang_df = pd.read_csv('/kaggle/input/manual-annotation-indo-twitter-suicide/colloquial-indonesian-lexicon.csv', usecols=['slang', 'formal'])\n",
    "print(slang_df)"
   ]
  },
  {
   "cell_type": "code",
   "execution_count": 10,
   "id": "b7a8ce6b",
   "metadata": {
    "execution": {
     "iopub.execute_input": "2024-04-11T06:11:15.531169Z",
     "iopub.status.busy": "2024-04-11T06:11:15.530826Z",
     "iopub.status.idle": "2024-04-11T06:11:15.540036Z",
     "shell.execute_reply": "2024-04-11T06:11:15.539311Z"
    },
    "id": "QyE9u4r6zbwP",
    "papermill": {
     "duration": 0.035687,
     "end_time": "2024-04-11T06:11:15.541931",
     "exception": false,
     "start_time": "2024-04-11T06:11:15.506244",
     "status": "completed"
    },
    "tags": []
   },
   "outputs": [],
   "source": [
    "# Step 2: Create a dictionary mapping slang words to their normalized versions\n",
    "# Note: Is equivalent to IndoNLP's replace_slang(), but we also added specific suicidal slangs here, which don't exist in the dataset\n",
    "slang_mapping = dict(zip(slang_df['slang'], slang_df['formal']))\n",
    "slang_mapping.update({\n",
    "    'm*ti': 'mati',\n",
    "    'm4ti': 'mati',\n",
    "    'bundir': 'bunuh diri',\n",
    "    'bund1r': 'bunuh diri'\n",
    "})"
   ]
  },
  {
   "cell_type": "code",
   "execution_count": 11,
   "id": "1c4392d5",
   "metadata": {
    "execution": {
     "iopub.execute_input": "2024-04-11T06:11:15.588494Z",
     "iopub.status.busy": "2024-04-11T06:11:15.588238Z",
     "iopub.status.idle": "2024-04-11T06:11:15.812861Z",
     "shell.execute_reply": "2024-04-11T06:11:15.812119Z"
    },
    "id": "PZ8ZI55Xzlf5",
    "papermill": {
     "duration": 0.250855,
     "end_time": "2024-04-11T06:11:15.815226",
     "exception": false,
     "start_time": "2024-04-11T06:11:15.564371",
     "status": "completed"
    },
    "tags": []
   },
   "outputs": [],
   "source": [
    "import re\n",
    "# Step 3: Compile regular expressions for each slang word\n",
    "slang_patterns = {re.compile(r'\\b' + re.escape(slang) + r'\\b'): normalized for slang, normalized in slang_mapping.items()}"
   ]
  },
  {
   "cell_type": "code",
   "execution_count": 12,
   "id": "4fb1b19a",
   "metadata": {
    "execution": {
     "iopub.execute_input": "2024-04-11T06:11:15.863660Z",
     "iopub.status.busy": "2024-04-11T06:11:15.863368Z",
     "iopub.status.idle": "2024-04-11T06:16:53.510226Z",
     "shell.execute_reply": "2024-04-11T06:16:53.509032Z"
    },
    "id": "u2ooJYdSzoY3",
    "outputId": "435f430a-7d14-43d7-906f-6154a7bc8dde",
    "papermill": {
     "duration": 337.696901,
     "end_time": "2024-04-11T06:16:53.535811",
     "exception": false,
     "start_time": "2024-04-11T06:11:15.838910",
     "status": "completed"
    },
    "tags": []
   },
   "outputs": [
    {
     "name": "stdout",
     "output_type": "stream",
     "text": [
      "<bound method NDFrame.head of        index  label                                        twitterText\n",
      "0          0      1  \"pengin bunuh diri saja\"yang paling sering ter...\n",
      "1          1      1  Secara tidak langsung punya Fikiran pengin bun...\n",
      "2          2      1          sejam lalu haha hihi sekarang pengin mati\n",
      "3          3      1  Baru kelar 1 masalah datang lagi malah lainnya...\n",
      "4          4      1  fuck bunuh diri aku lagi pengin mabok smpk eng...\n",
      "...      ...    ...                                                ...\n",
      "17459  17459      0  @kkmanti @kangadang1 @Yanuardychandra @floriel...\n",
      "17460  17460      0  @Don_gindo Kok dek akibat singo di ajar makan ...\n",
      "17461  17461      0  Mande :\"Jadi mau cium enggak\"Surya :\"entar saj...\n",
      "17462  17462      0  Tuhan...kenapa saja harus kenal,cyg,n nikah de...\n",
      "17463  17463      0  Demi tuhan, ini narasi paling berkesan. Gemes,...\n",
      "\n",
      "[17464 rows x 3 columns]>\n"
     ]
    }
   ],
   "source": [
    "# Step 4: Iterate through the Twitter dataset and replace slang words with normalized versions\n",
    "def replace_slang(text):\n",
    "    for pattern, normalized in slang_patterns.items():\n",
    "        text = pattern.sub(normalized, text)\n",
    "    return text\n",
    "\n",
    "df['twitterText'] = df['twitterText'].apply(replace_slang)\n",
    "df = df.reset_index()\n",
    "print(df.head)"
   ]
  },
  {
   "cell_type": "markdown",
   "id": "c736e670",
   "metadata": {
    "id": "YzRYAhDWzUkZ",
    "papermill": {
     "duration": 0.021815,
     "end_time": "2024-04-11T06:16:53.580096",
     "exception": false,
     "start_time": "2024-04-11T06:16:53.558281",
     "status": "completed"
    },
    "tags": []
   },
   "source": [
    "6. Remove twitter tags (@user)"
   ]
  },
  {
   "cell_type": "code",
   "execution_count": 13,
   "id": "64cf79eb",
   "metadata": {
    "execution": {
     "iopub.execute_input": "2024-04-11T06:16:53.667789Z",
     "iopub.status.busy": "2024-04-11T06:16:53.667453Z",
     "iopub.status.idle": "2024-04-11T06:16:53.708650Z",
     "shell.execute_reply": "2024-04-11T06:16:53.707563Z"
    },
    "id": "EFjoY0q0zUka",
    "outputId": "610f8013-5f7d-46bc-8b89-c2b4cc381deb",
    "papermill": {
     "duration": 0.108121,
     "end_time": "2024-04-11T06:16:53.710859",
     "exception": false,
     "start_time": "2024-04-11T06:16:53.602738",
     "status": "completed"
    },
    "tags": []
   },
   "outputs": [
    {
     "name": "stdout",
     "output_type": "stream",
     "text": [
      "<bound method NDFrame.head of        index  label                                        twitterText\n",
      "0          0      1  \"pengin bunuh diri saja\"yang paling sering ter...\n",
      "1          1      1  Secara tidak langsung punya Fikiran pengin bun...\n",
      "2          2      1          sejam lalu haha hihi sekarang pengin mati\n",
      "3          3      1  Baru kelar 1 masalah datang lagi malah lainnya...\n",
      "4          4      1  fuck bunuh diri aku lagi pengin mabok smpk eng...\n",
      "...      ...    ...                                                ...\n",
      "17459  17459      0      Habis TL adanya Ribut Terus.Gak ada yang B...\n",
      "17460  17460      0   Kok dek akibat singo di ajar makan 2 buah pis...\n",
      "17461  17461      0  Mande :\"Jadi mau cium enggak\"Surya :\"entar saj...\n",
      "17462  17462      0  Tuhan...kenapa saja harus kenal,cyg,n nikah de...\n",
      "17463  17463      0  Demi tuhan, ini narasi paling berkesan. Gemes,...\n",
      "\n",
      "[17464 rows x 3 columns]>\n"
     ]
    }
   ],
   "source": [
    "def remove_twitter_tag(text):\n",
    "    return re.sub(r'@\\w+', '', text)\n",
    "\n",
    "df['twitterText'] = df['twitterText'].apply(remove_twitter_tag)\n",
    "print(df.head)"
   ]
  },
  {
   "cell_type": "code",
   "execution_count": 14,
   "id": "ca3de811",
   "metadata": {
    "execution": {
     "iopub.execute_input": "2024-04-11T06:16:53.759789Z",
     "iopub.status.busy": "2024-04-11T06:16:53.759468Z",
     "iopub.status.idle": "2024-04-11T06:16:53.767307Z",
     "shell.execute_reply": "2024-04-11T06:16:53.766253Z"
    },
    "id": "statdYVZzUka",
    "outputId": "62117544-26a3-46bc-f204-9de49441a3d4",
    "papermill": {
     "duration": 0.034147,
     "end_time": "2024-04-11T06:16:53.769558",
     "exception": false,
     "start_time": "2024-04-11T06:16:53.735411",
     "status": "completed"
    },
    "tags": []
   },
   "outputs": [
    {
     "name": "stdout",
     "output_type": "stream",
     "text": [
      "[1 0]\n"
     ]
    }
   ],
   "source": [
    "print(df['label'].unique())"
   ]
  },
  {
   "cell_type": "markdown",
   "id": "93642ca9",
   "metadata": {
    "id": "mHv5Sd4hzUka",
    "papermill": {
     "duration": 0.022799,
     "end_time": "2024-04-11T06:16:53.817880",
     "exception": false,
     "start_time": "2024-04-11T06:16:53.795081",
     "status": "completed"
    },
    "tags": []
   },
   "source": [
    "# Classify Data"
   ]
  },
  {
   "cell_type": "code",
   "execution_count": 15,
   "id": "cefd43a8",
   "metadata": {
    "execution": {
     "iopub.execute_input": "2024-04-11T06:16:53.864607Z",
     "iopub.status.busy": "2024-04-11T06:16:53.864313Z",
     "iopub.status.idle": "2024-04-11T06:17:53.110282Z",
     "shell.execute_reply": "2024-04-11T06:17:53.109443Z"
    },
    "id": "uZ_chlLSkEzQ",
    "outputId": "99119e08-613b-475a-f893-943e2e0f6d8f",
    "papermill": {
     "duration": 59.272137,
     "end_time": "2024-04-11T06:17:53.112709",
     "exception": false,
     "start_time": "2024-04-11T06:16:53.840572",
     "status": "completed"
    },
    "tags": []
   },
   "outputs": [
    {
     "data": {
      "application/vnd.jupyter.widget-view+json": {
       "model_id": "7a81fb848ce74c29bd994579e6e8e5a7",
       "version_major": 2,
       "version_minor": 0
      },
      "text/plain": [
       "tokenizer_config.json:   0%|          | 0.00/2.00 [00:00<?, ?B/s]"
      ]
     },
     "metadata": {},
     "output_type": "display_data"
    },
    {
     "data": {
      "application/vnd.jupyter.widget-view+json": {
       "model_id": "19c626f7bf1f4348866934af09a4549d",
       "version_major": 2,
       "version_minor": 0
      },
      "text/plain": [
       "vocab.txt:   0%|          | 0.00/229k [00:00<?, ?B/s]"
      ]
     },
     "metadata": {},
     "output_type": "display_data"
    },
    {
     "data": {
      "application/vnd.jupyter.widget-view+json": {
       "model_id": "527b9579ff814ff4ae75c11825f65c15",
       "version_major": 2,
       "version_minor": 0
      },
      "text/plain": [
       "special_tokens_map.json:   0%|          | 0.00/112 [00:00<?, ?B/s]"
      ]
     },
     "metadata": {},
     "output_type": "display_data"
    },
    {
     "data": {
      "application/vnd.jupyter.widget-view+json": {
       "model_id": "19d476c161284c6ab8a1971f155bbf5b",
       "version_major": 2,
       "version_minor": 0
      },
      "text/plain": [
       "config.json:   0%|          | 0.00/1.53k [00:00<?, ?B/s]"
      ]
     },
     "metadata": {},
     "output_type": "display_data"
    },
    {
     "data": {
      "application/vnd.jupyter.widget-view+json": {
       "model_id": "03d1c399ceb542ffb6fa8d50e4539d64",
       "version_major": 2,
       "version_minor": 0
      },
      "text/plain": [
       "pytorch_model.bin:   0%|          | 0.00/1.34G [00:00<?, ?B/s]"
      ]
     },
     "metadata": {},
     "output_type": "display_data"
    },
    {
     "name": "stderr",
     "output_type": "stream",
     "text": [
      "/opt/conda/lib/python3.10/site-packages/torch/_utils.py:831: UserWarning: TypedStorage is deprecated. It will be removed in the future and UntypedStorage will be the only storage class. This should only matter to you if you are using storages directly.  To access UntypedStorage directly, use tensor.untyped_storage() instead of tensor.storage()\n",
      "  return self.fget.__get__(instance, owner)()\n"
     ]
    }
   ],
   "source": [
    "# Load the IndobertModel and tokenizer\n",
    "from transformers import BertTokenizer, BertModel\n",
    "model_name = 'indobenchmark/indobert-large-p1'\n",
    "tokenizer = BertTokenizer.from_pretrained(model_name)\n",
    "bert_model = BertModel.from_pretrained(model_name)"
   ]
  },
  {
   "cell_type": "code",
   "execution_count": 16,
   "id": "f1feed9e",
   "metadata": {
    "execution": {
     "iopub.execute_input": "2024-04-11T06:17:53.162784Z",
     "iopub.status.busy": "2024-04-11T06:17:53.161688Z",
     "iopub.status.idle": "2024-04-11T06:17:53.168105Z",
     "shell.execute_reply": "2024-04-11T06:17:53.167400Z"
    },
    "id": "ZnPk1zayzUka",
    "papermill": {
     "duration": 0.032618,
     "end_time": "2024-04-11T06:17:53.169922",
     "exception": false,
     "start_time": "2024-04-11T06:17:53.137304",
     "status": "completed"
    },
    "tags": []
   },
   "outputs": [],
   "source": [
    "# Prepare the data\n",
    "texts = df['twitterText'].tolist()\n",
    "labels = df['label'].tolist()"
   ]
  },
  {
   "cell_type": "code",
   "execution_count": 17,
   "id": "d5ead92e",
   "metadata": {
    "execution": {
     "iopub.execute_input": "2024-04-11T06:17:53.218641Z",
     "iopub.status.busy": "2024-04-11T06:17:53.218086Z",
     "iopub.status.idle": "2024-04-11T06:17:54.758257Z",
     "shell.execute_reply": "2024-04-11T06:17:54.757491Z"
    },
    "id": "1xf1NpL_zUka",
    "papermill": {
     "duration": 1.567204,
     "end_time": "2024-04-11T06:17:54.760576",
     "exception": false,
     "start_time": "2024-04-11T06:17:53.193372",
     "status": "completed"
    },
    "tags": []
   },
   "outputs": [],
   "source": [
    "from sklearn.model_selection import train_test_split\n",
    "# Split the data into train and test sets 8:2\n",
    "train_texts, test_texts, train_labels, test_labels = train_test_split(texts, labels, test_size=0.2, random_state=42)"
   ]
  },
  {
   "cell_type": "code",
   "execution_count": 18,
   "id": "bc3526b1",
   "metadata": {
    "execution": {
     "iopub.execute_input": "2024-04-11T06:17:54.809206Z",
     "iopub.status.busy": "2024-04-11T06:17:54.808718Z",
     "iopub.status.idle": "2024-04-11T06:17:54.904818Z",
     "shell.execute_reply": "2024-04-11T06:17:54.903747Z"
    },
    "id": "We0EsUKAzUkb",
    "papermill": {
     "duration": 0.12274,
     "end_time": "2024-04-11T06:17:54.907233",
     "exception": false,
     "start_time": "2024-04-11T06:17:54.784493",
     "status": "completed"
    },
    "tags": []
   },
   "outputs": [],
   "source": [
    "import torch\n",
    "\n",
    "if torch.cuda.is_available():\n",
    "    device = torch.device(\"cuda\")\n",
    "else:\n",
    "    print('No GPU available, using the CPU instead.')\n",
    "    device = torch.device(\"cpu\")\n",
    "\n",
    "def tokenize_and_create_input_tensors(texts):\n",
    "    input_ids = []\n",
    "    attention_masks = []\n",
    "    max_length = 128\n",
    "\n",
    "    for text in texts:\n",
    "        encoded_dict = tokenizer.encode_plus(\n",
    "            text,\n",
    "            add_special_tokens=True,\n",
    "            max_length=max_length,\n",
    "            padding='max_length',\n",
    "            truncation=True,\n",
    "            return_attention_mask=True,\n",
    "            return_tensors='pt'\n",
    "        )\n",
    "        input_ids.append(encoded_dict['input_ids'])\n",
    "        attention_masks.append(encoded_dict['attention_mask'])\n",
    "\n",
    "    # Pad the input tensors to the same length\n",
    "    padded_input_ids = torch.nn.utils.rnn.pad_sequence(input_ids, batch_first=True, padding_value=tokenizer.pad_token_id)\n",
    "    padded_attention_masks = torch.nn.utils.rnn.pad_sequence(attention_masks, batch_first=True, padding_value=0)\n",
    "\n",
    "    # Check if all input tensors have the same length\n",
    "    if padded_input_ids.size(1) != max_length or padded_attention_masks.size(1) != max_length:\n",
    "        # Pad again with a new maximum length\n",
    "        max_length = max(padded_input_ids.size(1), padded_attention_masks.size(1))\n",
    "        padded_input_ids = torch.nn.functional.pad(padded_input_ids, (0, max_length - padded_input_ids.size(1)), mode='constant', value=tokenizer.pad_token_id)\n",
    "        padded_attention_masks = torch.nn.functional.pad(padded_attention_masks, (0, max_length - padded_attention_masks.size(1)), mode='constant', value=0)\n",
    "\n",
    "    return padded_input_ids, padded_attention_masks"
   ]
  },
  {
   "cell_type": "code",
   "execution_count": 19,
   "id": "cc80ddbe",
   "metadata": {
    "execution": {
     "iopub.execute_input": "2024-04-11T06:17:54.957919Z",
     "iopub.status.busy": "2024-04-11T06:17:54.957604Z",
     "iopub.status.idle": "2024-04-11T06:18:11.960664Z",
     "shell.execute_reply": "2024-04-11T06:18:11.959554Z"
    },
    "id": "OblOC0EbzUkb",
    "outputId": "0f2659a1-3d3b-437e-ceee-a75cb0e299a9",
    "papermill": {
     "duration": 17.0296,
     "end_time": "2024-04-11T06:18:11.962707",
     "exception": false,
     "start_time": "2024-04-11T06:17:54.933107",
     "status": "completed"
    },
    "tags": []
   },
   "outputs": [
    {
     "name": "stdout",
     "output_type": "stream",
     "text": [
      "Before:\n",
      "torch.Size([13971, 1, 128])\n",
      "torch.Size([13971, 1, 128])\n",
      "torch.Size([13971])\n",
      "After:\n",
      "torch.Size([13971, 128])\n",
      "torch.Size([13971, 128])\n",
      "torch.Size([13971])\n"
     ]
    }
   ],
   "source": [
    "train_input_ids, train_attention_masks = tokenize_and_create_input_tensors(train_texts)\n",
    "train_labels = torch.tensor(train_labels).to(device)\n",
    "\n",
    "print(\"Before:\")\n",
    "print(train_input_ids.shape)\n",
    "print(train_attention_masks.shape)\n",
    "print(train_labels.shape)\n",
    "\n",
    "train_input_ids = train_input_ids.squeeze(dim=1).to(device)\n",
    "train_attention_masks = train_attention_masks.squeeze(dim=1).to(device)\n",
    "\n",
    "print(\"After:\")\n",
    "print(train_input_ids.shape)\n",
    "print(train_attention_masks.shape)\n",
    "print(train_labels.shape)"
   ]
  },
  {
   "cell_type": "code",
   "execution_count": 20,
   "id": "927086dc",
   "metadata": {
    "execution": {
     "iopub.execute_input": "2024-04-11T06:18:12.011612Z",
     "iopub.status.busy": "2024-04-11T06:18:12.010962Z",
     "iopub.status.idle": "2024-04-11T06:18:16.258030Z",
     "shell.execute_reply": "2024-04-11T06:18:16.257068Z"
    },
    "id": "FasS8C6PzUkb",
    "outputId": "293d2f9f-42cb-47ce-ca8a-35d86cd2cfd6",
    "papermill": {
     "duration": 4.273619,
     "end_time": "2024-04-11T06:18:16.260146",
     "exception": false,
     "start_time": "2024-04-11T06:18:11.986527",
     "status": "completed"
    },
    "tags": []
   },
   "outputs": [
    {
     "name": "stdout",
     "output_type": "stream",
     "text": [
      "After:\n",
      "torch.Size([3493, 128])\n",
      "torch.Size([3493, 128])\n",
      "torch.Size([3493])\n"
     ]
    }
   ],
   "source": [
    "test_input_ids, test_attention_masks = tokenize_and_create_input_tensors(test_texts)\n",
    "test_labels = torch.tensor(test_labels).to(device)\n",
    "\n",
    "test_input_ids = test_input_ids.squeeze(dim=1).to(device)\n",
    "test_attention_masks = test_attention_masks.squeeze(dim=1).to(device)\n",
    "\n",
    "print(\"After:\")\n",
    "print(test_input_ids.shape)\n",
    "print(test_attention_masks.shape)\n",
    "print(test_labels.shape)"
   ]
  },
  {
   "cell_type": "code",
   "execution_count": 21,
   "id": "b8bf4ace",
   "metadata": {
    "execution": {
     "iopub.execute_input": "2024-04-11T06:18:16.309068Z",
     "iopub.status.busy": "2024-04-11T06:18:16.308477Z",
     "iopub.status.idle": "2024-04-11T06:18:16.365317Z",
     "shell.execute_reply": "2024-04-11T06:18:16.364325Z"
    },
    "id": "bSfSfKSLYaDT",
    "papermill": {
     "duration": 0.083571,
     "end_time": "2024-04-11T06:18:16.367534",
     "exception": false,
     "start_time": "2024-04-11T06:18:16.283963",
     "status": "completed"
    },
    "tags": []
   },
   "outputs": [],
   "source": [
    "torch.save(train_input_ids, '/kaggle/working/train_input_ids.pt')\n",
    "torch.save(train_attention_masks, '/kaggle/working/train_attention_masks.pt')\n",
    "torch.save(train_labels, '/kaggle/working/train_labels.pt')\n",
    "\n",
    "torch.save(test_input_ids, '/kaggle/working/test_input_ids.pt')\n",
    "torch.save(test_attention_masks, '/kaggle/working/test_attention_masks.pt')\n",
    "torch.save(test_labels, '/kaggle/working/test_labels.pt')"
   ]
  },
  {
   "cell_type": "code",
   "execution_count": 22,
   "id": "fbc7dae6",
   "metadata": {
    "execution": {
     "iopub.execute_input": "2024-04-11T06:18:16.417626Z",
     "iopub.status.busy": "2024-04-11T06:18:16.417326Z",
     "iopub.status.idle": "2024-04-11T06:18:16.425171Z",
     "shell.execute_reply": "2024-04-11T06:18:16.424313Z"
    },
    "id": "N1tZqI7hzUkb",
    "papermill": {
     "duration": 0.033988,
     "end_time": "2024-04-11T06:18:16.427091",
     "exception": false,
     "start_time": "2024-04-11T06:18:16.393103",
     "status": "completed"
    },
    "tags": []
   },
   "outputs": [],
   "source": [
    "import torch.nn as nn\n",
    "# Define the model\n",
    "class BertLSTMClassifier(nn.Module):\n",
    "    def __init__(self, bert_model, hidden_size, num_layers, num_classes):\n",
    "        super(BertLSTMClassifier, self).__init__()\n",
    "        self.bert = bert_model\n",
    "        self.lstm = nn.LSTM(bert_model.config.hidden_size, hidden_size, num_layers, bias=True, batch_first=True, dropout=0.45, bidirectional=True)\n",
    "        self.classifier = nn.Linear(hidden_size * 2, num_classes, bias=True)\n",
    "\n",
    "    def forward(self, input_ids, attention_mask):\n",
    "        token_type_ids = torch.zeros_like(input_ids)  # Create token_type_ids tensor\n",
    "        outputs = self.bert(input_ids=input_ids, attention_mask=attention_mask, token_type_ids=token_type_ids)\n",
    "        last_hidden_state = outputs[0]\n",
    "        _, (hidden, _) = self.lstm(last_hidden_state)\n",
    "        hidden = torch.cat((hidden[-2,:,:], hidden[-1,:,:]), dim=1)\n",
    "        logits = self.classifier(hidden)\n",
    "        return logits"
   ]
  },
  {
   "cell_type": "code",
   "execution_count": 23,
   "id": "a739face",
   "metadata": {
    "execution": {
     "iopub.execute_input": "2024-04-11T06:18:16.476294Z",
     "iopub.status.busy": "2024-04-11T06:18:16.475969Z",
     "iopub.status.idle": "2024-04-11T06:18:17.172268Z",
     "shell.execute_reply": "2024-04-11T06:18:17.171462Z"
    },
    "id": "0bnCuvwSzUkb",
    "papermill": {
     "duration": 0.723281,
     "end_time": "2024-04-11T06:18:17.174598",
     "exception": false,
     "start_time": "2024-04-11T06:18:16.451317",
     "status": "completed"
    },
    "tags": []
   },
   "outputs": [],
   "source": [
    "# Initialize the model\n",
    "hidden_size = 700\n",
    "num_layers = 2\n",
    "num_classes = 2\n",
    "model = BertLSTMClassifier(bert_model, hidden_size, num_layers, num_classes).to(device)"
   ]
  },
  {
   "cell_type": "code",
   "execution_count": 24,
   "id": "36c2337f",
   "metadata": {
    "execution": {
     "iopub.execute_input": "2024-04-11T06:18:17.224174Z",
     "iopub.status.busy": "2024-04-11T06:18:17.223841Z",
     "iopub.status.idle": "2024-04-11T06:18:17.230911Z",
     "shell.execute_reply": "2024-04-11T06:18:17.230053Z"
    },
    "id": "R7Dw9l9OzUkb",
    "papermill": {
     "duration": 0.033891,
     "end_time": "2024-04-11T06:18:17.232931",
     "exception": false,
     "start_time": "2024-04-11T06:18:17.199040",
     "status": "completed"
    },
    "tags": []
   },
   "outputs": [],
   "source": [
    "# Define the loss function and optimizer\n",
    "criterion = nn.CrossEntropyLoss()\n",
    "optimizer = torch.optim.Adam(model.parameters(), lr=2.45e-5)"
   ]
  },
  {
   "cell_type": "code",
   "execution_count": 25,
   "id": "3a0fc496",
   "metadata": {
    "execution": {
     "iopub.execute_input": "2024-04-11T06:18:17.282203Z",
     "iopub.status.busy": "2024-04-11T06:18:17.281883Z",
     "iopub.status.idle": "2024-04-11T06:18:17.287007Z",
     "shell.execute_reply": "2024-04-11T06:18:17.286288Z"
    },
    "id": "Y2FnDurezUkc",
    "papermill": {
     "duration": 0.031411,
     "end_time": "2024-04-11T06:18:17.288901",
     "exception": false,
     "start_time": "2024-04-11T06:18:17.257490",
     "status": "completed"
    },
    "tags": []
   },
   "outputs": [],
   "source": [
    "from torch.utils.data import TensorDataset, DataLoader, RandomSampler, SequentialSampler\n",
    "\n",
    "# Create TensorDatasets and DataLoaders\n",
    "batch_size = 32\n",
    "\n",
    "train_data = TensorDataset(train_input_ids, train_attention_masks, train_labels)\n",
    "train_sampler = RandomSampler(train_data)\n",
    "train_dataloader = DataLoader(train_data, sampler=train_sampler, batch_size=batch_size)"
   ]
  },
  {
   "cell_type": "code",
   "execution_count": 26,
   "id": "909f587e",
   "metadata": {
    "execution": {
     "iopub.execute_input": "2024-04-11T06:18:17.336659Z",
     "iopub.status.busy": "2024-04-11T06:18:17.336390Z",
     "iopub.status.idle": "2024-04-11T06:18:17.340889Z",
     "shell.execute_reply": "2024-04-11T06:18:17.339898Z"
    },
    "id": "rjQsnweqFmhe",
    "outputId": "dc3d8876-a0e6-491c-b5f5-4c17971515ee",
    "papermill": {
     "duration": 0.030736,
     "end_time": "2024-04-11T06:18:17.343006",
     "exception": false,
     "start_time": "2024-04-11T06:18:17.312270",
     "status": "completed"
    },
    "tags": []
   },
   "outputs": [
    {
     "name": "stdout",
     "output_type": "stream",
     "text": [
      "437\n"
     ]
    }
   ],
   "source": [
    "print(len(train_dataloader)) # number of batches"
   ]
  },
  {
   "cell_type": "markdown",
   "id": "bc3e00b4",
   "metadata": {
    "id": "kpMdty1CUH8Z",
    "papermill": {
     "duration": 0.02532,
     "end_time": "2024-04-11T06:18:17.392528",
     "exception": false,
     "start_time": "2024-04-11T06:18:17.367208",
     "status": "completed"
    },
    "tags": []
   },
   "source": [
    "Training for 4 epochs"
   ]
  },
  {
   "cell_type": "code",
   "execution_count": 27,
   "id": "154b684f",
   "metadata": {
    "execution": {
     "iopub.execute_input": "2024-04-11T06:18:17.440981Z",
     "iopub.status.busy": "2024-04-11T06:18:17.440733Z",
     "iopub.status.idle": "2024-04-11T07:34:49.538893Z",
     "shell.execute_reply": "2024-04-11T07:34:49.538054Z"
    },
    "id": "adnjv4hBHIQ9",
    "outputId": "b14f4a81-9e96-484c-9d3a-f2f12a6c131f",
    "papermill": {
     "duration": 4592.12486,
     "end_time": "2024-04-11T07:34:49.541605",
     "exception": false,
     "start_time": "2024-04-11T06:18:17.416745",
     "status": "completed"
    },
    "tags": []
   },
   "outputs": [
    {
     "name": "stdout",
     "output_type": "stream",
     "text": [
      "epoch  0  batch  0   2024-04-11 06:18:17.636886\n",
      "epoch  0  batch  100   2024-04-11 06:22:30.656956\n",
      "epoch  0  batch  200   2024-04-11 06:26:53.843619\n",
      "epoch  0  batch  300   2024-04-11 06:31:17.022382\n",
      "epoch  0  batch  400   2024-04-11 06:35:40.330081\n",
      "epoch  1  batch  0   2024-04-11 06:37:16.759908\n",
      "epoch  1  batch  100   2024-04-11 06:41:39.853979\n",
      "epoch  1  batch  200   2024-04-11 06:46:03.002357\n",
      "epoch  1  batch  300   2024-04-11 06:50:25.942918\n",
      "epoch  1  batch  400   2024-04-11 06:54:49.181471\n",
      "epoch  2  batch  0   2024-04-11 06:56:25.659081\n",
      "epoch  2  batch  100   2024-04-11 07:00:48.772689\n",
      "epoch  2  batch  200   2024-04-11 07:05:11.960892\n",
      "epoch  2  batch  300   2024-04-11 07:09:35.138931\n",
      "epoch  2  batch  400   2024-04-11 07:13:58.344891\n",
      "epoch  3  batch  0   2024-04-11 07:15:34.803199\n",
      "epoch  3  batch  100   2024-04-11 07:19:57.849755\n",
      "epoch  3  batch  200   2024-04-11 07:24:21.030210\n",
      "epoch  3  batch  300   2024-04-11 07:28:43.894318\n",
      "epoch  3  batch  400   2024-04-11 07:33:07.115369\n"
     ]
    }
   ],
   "source": [
    "import datetime\n",
    "import gc\n",
    "# Train the model\n",
    "\n",
    "def save_ckp(state):\n",
    "    f_path = '/kaggle/working/' + 'checkpoint_epoch' + str(state['epoch']) + '.pt'\n",
    "    torch.save(state, f_path)\n",
    "\n",
    "num_epoch = 4\n",
    "gc.collect()\n",
    "torch.cuda.empty_cache()\n",
    "\n",
    "for i in range(num_epoch):\n",
    "  num_batch = 0\n",
    "  for batch in train_dataloader:\n",
    "    if (num_batch % 100 == 0):\n",
    "      print('epoch ', i, ' batch ', num_batch, ' ', datetime.datetime.now())\n",
    "    input_ids, attention_masks, labels = batch\n",
    "    outputs = model(input_ids, attention_masks)\n",
    "    loss = criterion(outputs, labels)\n",
    "\n",
    "    optimizer.zero_grad()\n",
    "    loss.backward()\n",
    "    optimizer.step()\n",
    "    num_batch+=1\n",
    "    del input_ids\n",
    "    del attention_masks\n",
    "    del labels\n",
    "    del outputs\n",
    "    gc.collect()\n",
    "    torch.cuda.empty_cache()\n",
    "\n",
    "checkpoint = {\n",
    "    'epoch': num_epoch - 1,\n",
    "    'state_dict': model.state_dict(),\n",
    "    'optimizer': optimizer.state_dict()\n",
    "}\n",
    "save_ckp(checkpoint)\n",
    "\n",
    "del train_data\n",
    "del train_sampler\n",
    "del train_dataloader\n",
    "gc.collect()\n",
    "torch.cuda.empty_cache()"
   ]
  },
  {
   "cell_type": "code",
   "execution_count": 28,
   "id": "f431c829",
   "metadata": {
    "execution": {
     "iopub.execute_input": "2024-04-11T07:34:52.015171Z",
     "iopub.status.busy": "2024-04-11T07:34:52.014222Z",
     "iopub.status.idle": "2024-04-11T07:36:24.012182Z",
     "shell.execute_reply": "2024-04-11T07:36:24.011295Z"
    },
    "id": "uUc-Si_6zUkc",
    "outputId": "4b9e884f-d4b0-4ada-f8bb-17f55cf5082c",
    "papermill": {
     "duration": 92.073209,
     "end_time": "2024-04-11T07:36:24.040825",
     "exception": false,
     "start_time": "2024-04-11T07:34:51.967616",
     "status": "completed"
    },
    "tags": []
   },
   "outputs": [
    {
     "name": "stdout",
     "output_type": "stream",
     "text": [
      "Accuracy: 0.9141\n",
      "Recall: 0.9570\n",
      "Precision: 0.8830\n",
      "F1-Score: 0.9185\n"
     ]
    },
    {
     "data": {
      "text/plain": [
       "0"
      ]
     },
     "execution_count": 28,
     "metadata": {},
     "output_type": "execute_result"
    }
   ],
   "source": [
    "from sklearn.metrics import accuracy_score, recall_score, precision_score, f1_score\n",
    "import torch.nn.functional as F\n",
    "\n",
    "# Evaluate the model on the test set\n",
    "test_preds = []\n",
    "test_proba = []\n",
    "test_labels_list = []\n",
    "\n",
    "test_data = TensorDataset(test_input_ids, test_attention_masks, test_labels)\n",
    "test_sampler = SequentialSampler(test_data)\n",
    "test_dataloader = DataLoader(test_data, sampler=test_sampler, batch_size=batch_size)\n",
    "\n",
    "with torch.no_grad():\n",
    "    model.eval()\n",
    "    for batch in test_dataloader:\n",
    "        input_ids, attention_masks, labels = batch\n",
    "        outputs = model(input_ids, attention_masks)\n",
    "        preds = torch.argmax(outputs, dim=1)\n",
    "        test_preds.extend(preds.tolist())\n",
    "        test_proba.extend(F.softmax(outputs, dim=1)[:, 1])\n",
    "        test_labels_list.extend(labels.tolist())\n",
    "\n",
    "accuracy = accuracy_score(test_labels_list, test_preds)\n",
    "recall = recall_score(test_labels_list, test_preds)\n",
    "precision = precision_score(test_labels_list, test_preds)\n",
    "f1 = f1_score(test_labels_list, test_preds)\n",
    "test_proba = [i.cpu().tolist() for i in test_proba]\n",
    "\n",
    "print(f\"Accuracy: {accuracy:.4f}\")\n",
    "print(f\"Recall: {recall:.4f}\")\n",
    "print(f\"Precision: {precision:.4f}\")\n",
    "print(f\"F1-Score: {f1:.4f}\")\n",
    "\n",
    "del test_data\n",
    "del test_sampler\n",
    "del test_dataloader\n",
    "gc.collect()\n",
    "torch.cuda.empty_cache()\n",
    "gc.collect()"
   ]
  },
  {
   "cell_type": "code",
   "execution_count": 29,
   "id": "43c18576",
   "metadata": {
    "execution": {
     "iopub.execute_input": "2024-04-11T07:36:24.093969Z",
     "iopub.status.busy": "2024-04-11T07:36:24.093659Z",
     "iopub.status.idle": "2024-04-11T07:36:24.590852Z",
     "shell.execute_reply": "2024-04-11T07:36:24.589973Z"
    },
    "id": "IX2onzamvDQ4",
    "outputId": "32a68059-c4dc-4c4c-dc25-e0ea10fc68bc",
    "papermill": {
     "duration": 0.525997,
     "end_time": "2024-04-11T07:36:24.592896",
     "exception": false,
     "start_time": "2024-04-11T07:36:24.066899",
     "status": "completed"
    },
    "tags": []
   },
   "outputs": [
    {
     "data": {
      "image/png": "[encoded data removed]",
      "text/plain": [
       "<Figure size 640x480 with 2 Axes>"
      ]
     },
     "metadata": {},
     "output_type": "display_data"
    }
   ],
   "source": [
    "from sklearn.metrics import confusion_matrix\n",
    "import seaborn as sns\n",
    "import matplotlib.pyplot as plt\n",
    "\n",
    "cf_matrix = confusion_matrix(test_labels_list, test_preds)\n",
    "\n",
    "cf = sns.heatmap(cf_matrix, annot=True, fmt='d')\n",
    "cf.xaxis.set_ticklabels(['Negative', 'Positive'])\n",
    "cf.set_xlabel('Predicted Label')\n",
    "cf.yaxis.set_ticklabels(['Negative', 'Positive'])\n",
    "cf.set_ylabel('True Label')\n",
    "cf.set_title(\"Confusion Matrix for Indonesian Language Suicidal Posts Classification\", pad=20)\n",
    "\n",
    "plt.show()"
   ]
  },
  {
   "cell_type": "code",
   "execution_count": 30,
   "id": "43341413",
   "metadata": {
    "execution": {
     "iopub.execute_input": "2024-04-11T07:36:24.648129Z",
     "iopub.status.busy": "2024-04-11T07:36:24.646875Z",
     "iopub.status.idle": "2024-04-11T07:36:24.989572Z",
     "shell.execute_reply": "2024-04-11T07:36:24.988694Z"
    },
    "id": "hZIUtNbZwRZn",
    "outputId": "0508be42-aea5-4de1-b133-fcfe417f1742",
    "papermill": {
     "duration": 0.372793,
     "end_time": "2024-04-11T07:36:24.991601",
     "exception": false,
     "start_time": "2024-04-11T07:36:24.618808",
     "status": "completed"
    },
    "tags": []
   },
   "outputs": [
    {
     "name": "stdout",
     "output_type": "stream",
     "text": [
      "ROC AUC Score:\n",
      "0.9674972671073833\n"
     ]
    },
    {
     "data": {
      "image/png": "[encoded data removed]",
      "text/plain": [
       "<Figure size 500x500 with 1 Axes>"
      ]
     },
     "metadata": {},
     "output_type": "display_data"
    }
   ],
   "source": [
    "from sklearn.metrics import roc_auc_score, roc_curve, RocCurveDisplay\n",
    "\n",
    "def plot_sklearn_roc_curve(y_real, y_pred, roc_score):\n",
    "    fpr, tpr, _ = roc_curve(y_real, y_pred)\n",
    "    df_fpr = pd.DataFrame(fpr)\n",
    "    df_fpr.to_csv(\"/kaggle/working/fpr.csv\")\n",
    "    df_tpr = pd.DataFrame(tpr)\n",
    "    df_tpr.to_csv(\"/kaggle/working/tpr.csv\")\n",
    "    print(\"ROC AUC Score:\")\n",
    "    print(roc_score)\n",
    "    roc_display = RocCurveDisplay(fpr=fpr, tpr=tpr, roc_auc=roc_score, estimator_name='ROC Curve').plot()\n",
    "    roc_display.figure_.set_size_inches(5,5)\n",
    "    plt.plot([0, 1], [0, 1], color='green', linestyle='dashed')\n",
    "    plt.title(\"ROC Curve for Indonesian Language Suicidal Posts Classification\")\n",
    "\n",
    "roc_score = roc_auc_score(test_labels_list, test_proba)\n",
    "plot_sklearn_roc_curve(test_labels_list, test_proba, roc_score)"
   ]
  }
 ],
 "metadata": {
  "accelerator": "GPU",
  "colab": {
   "gpuType": "T4",
   "provenance": []
  },
  "kaggle": {
   "accelerator": "nvidiaTeslaT4",
   "dataSources": [
    {
     "datasetId": 4625759,
     "sourceId": 7881365,
     "sourceType": "datasetVersion"
    },
    {
     "datasetId": 4750496,
     "sourceId": 8083396,
     "sourceType": "datasetVersion"
    }
   ],
   "dockerImageVersionId": 30673,
   "isGpuEnabled": true,
   "isInternetEnabled": true,
   "language": "python",
   "sourceType": "notebook"
  },
  "kernelspec": {
   "display_name": "Python 3",
   "language": "python",
   "name": "python3"
  },
  "language_info": {
   "codemirror_mode": {
    "name": "ipython",
    "version": 3
   },
   "file_extension": ".py",
   "mimetype": "text/x-python",
   "name": "python",
   "nbconvert_exporter": "python",
   "pygments_lexer": "ipython3",
   "version": "3.10.13"
  },
  "papermill": {
   "default_parameters": {},
   "duration": 5158.530641,
   "end_time": "2024-04-11T07:36:27.647399",
   "environment_variables": {},
   "exception": null,
   "input_path": "__notebook__.ipynb",
   "output_path": "__notebook__.ipynb",
   "parameters": {},
   "start_time": "2024-04-11T06:10:29.116758",
   "version": "2.5.0"
  },
  "widgets": {
   "application/vnd.jupyter.widget-state+json": {
    "state": {
     "01c4433f13c84e39a552f2136b14f205": {
      "model_module": "@jupyter-widgets/base",
      "model_module_version": "1.2.0",
      "model_name": "LayoutModel",
      "state": {
       "_model_module": "@jupyter-widgets/base",
       "_model_module_version": "1.2.0",
       "_model_name": "LayoutModel",
       "_view_count": null,
       "_view_module": "@jupyter-widgets/base",
       "_view_module_version": "1.2.0",
       "_view_name": "LayoutView",
       "align_content": null,
       "align_items": null,
       "align_self": null,
       "border": null,
       "bottom": null,
       "display": null,
       "flex": null,
       "flex_flow": null,
       "grid_area": null,
       "grid_auto_columns": null,
       "grid_auto_flow": null,
       "grid_auto_rows": null,
       "grid_column": null,
       "grid_gap": null,
       "grid_row": null,
       "grid_template_areas": null,
       "grid_template_columns": null,
       "grid_template_rows": null,
       "height": null,
       "justify_content": null,
       "justify_items": null,
       "left": null,
       "margin": null,
       "max_height": null,
       "max_width": null,
       "min_height": null,
       "min_width": null,
       "object_fit": null,
       "object_position": null,
       "order": null,
       "overflow": null,
       "overflow_x": null,
       "overflow_y": null,
       "padding": null,
       "right": null,
       "top": null,
       "visibility": null,
       "width": null
      }
     },
     "01d3be4cd4b5406e871ab71cd4035e90": {
      "model_module": "@jupyter-widgets/controls",
      "model_module_version": "1.5.0",
      "model_name": "HTMLModel",
      "state": {
       "_dom_classes": [],
       "_model_module": "@jupyter-widgets/controls",
       "_model_module_version": "1.5.0",
       "_model_name": "HTMLModel",
       "_view_count": null,
       "_view_module": "@jupyter-widgets/controls",
       "_view_module_version": "1.5.0",
       "_view_name": "HTMLView",
       "description": "",
       "description_tooltip": null,
       "layout": "IPY_MODEL_80f222f219a64709aa874566ee3bfc55",
       "placeholder": "​",
       "style": "IPY_MODEL_4f15e77c7bc84dcdbedc13f8d9bec86c",
       "value": "vocab.txt: 100%"
      }
     },
     "026fcc740e2d48128c3e8e64f25debba": {
      "model_module": "@jupyter-widgets/controls",
      "model_module_version": "1.5.0",
      "model_name": "ProgressStyleModel",
      "state": {
       "_model_module": "@jupyter-widgets/controls",
       "_model_module_version": "1.5.0",
       "_model_name": "ProgressStyleModel",
       "_view_count": null,
       "_view_module": "@jupyter-widgets/base",
       "_view_module_version": "1.2.0",
       "_view_name": "StyleView",
       "bar_color": null,
       "description_width": ""
      }
     },
     "03d1c399ceb542ffb6fa8d50e4539d64": {
      "model_module": "@jupyter-widgets/controls",
      "model_module_version": "1.5.0",
      "model_name": "HBoxModel",
      "state": {
       "_dom_classes": [],
       "_model_module": "@jupyter-widgets/controls",
       "_model_module_version": "1.5.0",
       "_model_name": "HBoxModel",
       "_view_count": null,
       "_view_module": "@jupyter-widgets/controls",
       "_view_module_version": "1.5.0",
       "_view_name": "HBoxView",
       "box_style": "",
       "children": [
        "IPY_MODEL_8132ddde49f04c21b119251750305603",
        "IPY_MODEL_123d67d63061443f9a6f76ee7c9b1066",
        "IPY_MODEL_8e775c9380af4492bfd82fbdb2692040"
       ],
       "layout": "IPY_MODEL_5abb33fd6e9d462ca8af0655fca41178"
      }
     },
     "123d67d63061443f9a6f76ee7c9b1066": {
      "model_module": "@jupyter-widgets/controls",
      "model_module_version": "1.5.0",
      "model_name": "FloatProgressModel",
      "state": {
       "_dom_classes": [],
       "_model_module": "@jupyter-widgets/controls",
       "_model_module_version": "1.5.0",
       "_model_name": "FloatProgressModel",
       "_view_count": null,
       "_view_module": "@jupyter-widgets/controls",
       "_view_module_version": "1.5.0",
       "_view_name": "ProgressView",
       "bar_style": "success",
       "description": "",
       "description_tooltip": null,
       "layout": "IPY_MODEL_4bed23e513854dd9b97c63db1f89ee89",
       "max": 1340657204.0,
       "min": 0.0,
       "orientation": "horizontal",
       "style": "IPY_MODEL_5b1275a840bf430490ed64925a840e60",
       "value": 1340657204.0
      }
     },
     "19c626f7bf1f4348866934af09a4549d": {
      "model_module": "@jupyter-widgets/controls",
      "model_module_version": "1.5.0",
      "model_name": "HBoxModel",
      "state": {
       "_dom_classes": [],
       "_model_module": "@jupyter-widgets/controls",
       "_model_module_version": "1.5.0",
       "_model_name": "HBoxModel",
       "_view_count": null,
       "_view_module": "@jupyter-widgets/controls",
       "_view_module_version": "1.5.0",
       "_view_name": "HBoxView",
       "box_style": "",
       "children": [
        "IPY_MODEL_01d3be4cd4b5406e871ab71cd4035e90",
        "IPY_MODEL_5cd537febedf4209a6c9253ea0f1679e",
        "IPY_MODEL_8d53562b82124cda98e0e4df07ebec45"
       ],
       "layout": "IPY_MODEL_6a7dbce64fac4513bd6054c04c6a6783"
      }
     },
     "19d476c161284c6ab8a1971f155bbf5b": {
      "model_module": "@jupyter-widgets/controls",
      "model_module_version": "1.5.0",
      "model_name": "HBoxModel",
      "state": {
       "_dom_classes": [],
       "_model_module": "@jupyter-widgets/controls",
       "_model_module_version": "1.5.0",
       "_model_name": "HBoxModel",
       "_view_count": null,
       "_view_module": "@jupyter-widgets/controls",
       "_view_module_version": "1.5.0",
       "_view_name": "HBoxView",
       "box_style": "",
       "children": [
        "IPY_MODEL_ea57d57843e8442aa6fdff476798a0ff",
        "IPY_MODEL_396d4085b07d49a0b02851dcfff6ca60",
        "IPY_MODEL_b67aa607b24c4b7dafdf9ec649a3cce3"
       ],
       "layout": "IPY_MODEL_01c4433f13c84e39a552f2136b14f205"
      }
     },
     "2799788ae65f49898aff7a467bddfcad": {
      "model_module": "@jupyter-widgets/controls",
      "model_module_version": "1.5.0",
      "model_name": "DescriptionStyleModel",
      "state": {
       "_model_module": "@jupyter-widgets/controls",
       "_model_module_version": "1.5.0",
       "_model_name": "DescriptionStyleModel",
       "_view_count": null,
       "_view_module": "@jupyter-widgets/base",
       "_view_module_version": "1.2.0",
       "_view_name": "StyleView",
       "description_width": ""
      }
     },
     "29cfe415646247088815e1e9a67f379b": {
      "model_module": "@jupyter-widgets/base",
      "model_module_version": "1.2.0",
      "model_name": "LayoutModel",
      "state": {
       "_model_module": "@jupyter-widgets/base",
       "_model_module_version": "1.2.0",
       "_model_name": "LayoutModel",
       "_view_count": null,
       "_view_module": "@jupyter-widgets/base",
       "_view_module_version": "1.2.0",
       "_view_name": "LayoutView",
       "align_content": null,
       "align_items": null,
       "align_self": null,
       "border": null,
       "bottom": null,
       "display": null,
       "flex": null,
       "flex_flow": null,
       "grid_area": null,
       "grid_auto_columns": null,
       "grid_auto_flow": null,
       "grid_auto_rows": null,
       "grid_column": null,
       "grid_gap": null,
       "grid_row": null,
       "grid_template_areas": null,
       "grid_template_columns": null,
       "grid_template_rows": null,
       "height": null,
       "justify_content": null,
       "justify_items": null,
       "left": null,
       "margin": null,
       "max_height": null,
       "max_width": null,
       "min_height": null,
       "min_width": null,
       "object_fit": null,
       "object_position": null,
       "order": null,
       "overflow": null,
       "overflow_x": null,
       "overflow_y": null,
       "padding": null,
       "right": null,
       "top": null,
       "visibility": null,
       "width": null
      }
     },
     "29e5ab470f67465d8e2109a410c92440": {
      "model_module": "@jupyter-widgets/controls",
      "model_module_version": "1.5.0",
      "model_name": "DescriptionStyleModel",
      "state": {
       "_model_module": "@jupyter-widgets/controls",
       "_model_module_version": "1.5.0",
       "_model_name": "DescriptionStyleModel",
       "_view_count": null,
       "_view_module": "@jupyter-widgets/base",
       "_view_module_version": "1.2.0",
       "_view_name": "StyleView",
       "description_width": ""
      }
     },
     "2bf8ce4312fe4bee87a06446c0a57b10": {
      "model_module": "@jupyter-widgets/base",
      "model_module_version": "1.2.0",
      "model_name": "LayoutModel",
      "state": {
       "_model_module": "@jupyter-widgets/base",
       "_model_module_version": "1.2.0",
       "_model_name": "LayoutModel",
       "_view_count": null,
       "_view_module": "@jupyter-widgets/base",
       "_view_module_version": "1.2.0",
       "_view_name": "LayoutView",
       "align_content": null,
       "align_items": null,
       "align_self": null,
       "border": null,
       "bottom": null,
       "display": null,
       "flex": null,
       "flex_flow": null,
       "grid_area": null,
       "grid_auto_columns": null,
       "grid_auto_flow": null,
       "grid_auto_rows": null,
       "grid_column": null,
       "grid_gap": null,
       "grid_row": null,
       "grid_template_areas": null,
       "grid_template_columns": null,
       "grid_template_rows": null,
       "height": null,
       "justify_content": null,
       "justify_items": null,
       "left": null,
       "margin": null,
       "max_height": null,
       "max_width": null,
       "min_height": null,
       "min_width": null,
       "object_fit": null,
       "object_position": null,
       "order": null,
       "overflow": null,
       "overflow_x": null,
       "overflow_y": null,
       "padding": null,
       "right": null,
       "top": null,
       "visibility": null,
       "width": null
      }
     },
     "354d947860764cd7bd77cf155e65fd80": {
      "model_module": "@jupyter-widgets/controls",
      "model_module_version": "1.5.0",
      "model_name": "FloatProgressModel",
      "state": {
       "_dom_classes": [],
       "_model_module": "@jupyter-widgets/controls",
       "_model_module_version": "1.5.0",
       "_model_name": "FloatProgressModel",
       "_view_count": null,
       "_view_module": "@jupyter-widgets/controls",
       "_view_module_version": "1.5.0",
       "_view_name": "ProgressView",
       "bar_style": "success",
       "description": "",
       "description_tooltip": null,
       "layout": "IPY_MODEL_8cbd59b7b6c04fb2804caebaf45e6d65",
       "max": 112.0,
       "min": 0.0,
       "orientation": "horizontal",
       "style": "IPY_MODEL_ac4d06df24ca4ab09eab2bf8dae3ed21",
       "value": 112.0
      }
     },
     "3616e86dbc87497d8ecac04cd294d346": {
      "model_module": "@jupyter-widgets/base",
      "model_module_version": "1.2.0",
      "model_name": "LayoutModel",
      "state": {
       "_model_module": "@jupyter-widgets/base",
       "_model_module_version": "1.2.0",
       "_model_name": "LayoutModel",
       "_view_count": null,
       "_view_module": "@jupyter-widgets/base",
       "_view_module_version": "1.2.0",
       "_view_name": "LayoutView",
       "align_content": null,
       "align_items": null,
       "align_self": null,
       "border": null,
       "bottom": null,
       "display": null,
       "flex": null,
       "flex_flow": null,
       "grid_area": null,
       "grid_auto_columns": null,
       "grid_auto_flow": null,
       "grid_auto_rows": null,
       "grid_column": null,
       "grid_gap": null,
       "grid_row": null,
       "grid_template_areas": null,
       "grid_template_columns": null,
       "grid_template_rows": null,
       "height": null,
       "justify_content": null,
       "justify_items": null,
       "left": null,
       "margin": null,
       "max_height": null,
       "max_width": null,
       "min_height": null,
       "min_width": null,
       "object_fit": null,
       "object_position": null,
       "order": null,
       "overflow": null,
       "overflow_x": null,
       "overflow_y": null,
       "padding": null,
       "right": null,
       "top": null,
       "visibility": null,
       "width": null
      }
     },
     "396d4085b07d49a0b02851dcfff6ca60": {
      "model_module": "@jupyter-widgets/controls",
      "model_module_version": "1.5.0",
      "model_name": "FloatProgressModel",
      "state": {
       "_dom_classes": [],
       "_model_module": "@jupyter-widgets/controls",
       "_model_module_version": "1.5.0",
       "_model_name": "FloatProgressModel",
       "_view_count": null,
       "_view_module": "@jupyter-widgets/controls",
       "_view_module_version": "1.5.0",
       "_view_name": "ProgressView",
       "bar_style": "success",
       "description": "",
       "description_tooltip": null,
       "layout": "IPY_MODEL_2bf8ce4312fe4bee87a06446c0a57b10",
       "max": 1535.0,
       "min": 0.0,
       "orientation": "horizontal",
       "style": "IPY_MODEL_ea2da4a8f6924f44b4eaa0e178a0c9d7",
       "value": 1535.0
      }
     },
     "42199eba62b74a5fb9d1ae99b2d7c6bc": {
      "model_module": "@jupyter-widgets/controls",
      "model_module_version": "1.5.0",
      "model_name": "DescriptionStyleModel",
      "state": {
       "_model_module": "@jupyter-widgets/controls",
       "_model_module_version": "1.5.0",
       "_model_name": "DescriptionStyleModel",
       "_view_count": null,
       "_view_module": "@jupyter-widgets/base",
       "_view_module_version": "1.2.0",
       "_view_name": "StyleView",
       "description_width": ""
      }
     },
     "48bf2e1685a143f4a7730305fe68663f": {
      "model_module": "@jupyter-widgets/base",
      "model_module_version": "1.2.0",
      "model_name": "LayoutModel",
      "state": {
       "_model_module": "@jupyter-widgets/base",
       "_model_module_version": "1.2.0",
       "_model_name": "LayoutModel",
       "_view_count": null,
       "_view_module": "@jupyter-widgets/base",
       "_view_module_version": "1.2.0",
       "_view_name": "LayoutView",
       "align_content": null,
       "align_items": null,
       "align_self": null,
       "border": null,
       "bottom": null,
       "display": null,
       "flex": null,
       "flex_flow": null,
       "grid_area": null,
       "grid_auto_columns": null,
       "grid_auto_flow": null,
       "grid_auto_rows": null,
       "grid_column": null,
       "grid_gap": null,
       "grid_row": null,
       "grid_template_areas": null,
       "grid_template_columns": null,
       "grid_template_rows": null,
       "height": null,
       "justify_content": null,
       "justify_items": null,
       "left": null,
       "margin": null,
       "max_height": null,
       "max_width": null,
       "min_height": null,
       "min_width": null,
       "object_fit": null,
       "object_position": null,
       "order": null,
       "overflow": null,
       "overflow_x": null,
       "overflow_y": null,
       "padding": null,
       "right": null,
       "top": null,
       "visibility": null,
       "width": null
      }
     },
     "4bed23e513854dd9b97c63db1f89ee89": {
      "model_module": "@jupyter-widgets/base",
      "model_module_version": "1.2.0",
      "model_name": "LayoutModel",
      "state": {
       "_model_module": "@jupyter-widgets/base",
       "_model_module_version": "1.2.0",
       "_model_name": "LayoutModel",
       "_view_count": null,
       "_view_module": "@jupyter-widgets/base",
       "_view_module_version": "1.2.0",
       "_view_name": "LayoutView",
       "align_content": null,
       "align_items": null,
       "align_self": null,
       "border": null,
       "bottom": null,
       "display": null,
       "flex": null,
       "flex_flow": null,
       "grid_area": null,
       "grid_auto_columns": null,
       "grid_auto_flow": null,
       "grid_auto_rows": null,
       "grid_column": null,
       "grid_gap": null,
       "grid_row": null,
       "grid_template_areas": null,
       "grid_template_columns": null,
       "grid_template_rows": null,
       "height": null,
       "justify_content": null,
       "justify_items": null,
       "left": null,
       "margin": null,
       "max_height": null,
       "max_width": null,
       "min_height": null,
       "min_width": null,
       "object_fit": null,
       "object_position": null,
       "order": null,
       "overflow": null,
       "overflow_x": null,
       "overflow_y": null,
       "padding": null,
       "right": null,
       "top": null,
       "visibility": null,
       "width": null
      }
     },
     "4eaec940a9214dbb9e7cc9f74063b6df": {
      "model_module": "@jupyter-widgets/controls",
      "model_module_version": "1.5.0",
      "model_name": "ProgressStyleModel",
      "state": {
       "_model_module": "@jupyter-widgets/controls",
       "_model_module_version": "1.5.0",
       "_model_name": "ProgressStyleModel",
       "_view_count": null,
       "_view_module": "@jupyter-widgets/base",
       "_view_module_version": "1.2.0",
       "_view_name": "StyleView",
       "bar_color": null,
       "description_width": ""
      }
     },
     "4f15e77c7bc84dcdbedc13f8d9bec86c": {
      "model_module": "@jupyter-widgets/controls",
      "model_module_version": "1.5.0",
      "model_name": "DescriptionStyleModel",
      "state": {
       "_model_module": "@jupyter-widgets/controls",
       "_model_module_version": "1.5.0",
       "_model_name": "DescriptionStyleModel",
       "_view_count": null,
       "_view_module": "@jupyter-widgets/base",
       "_view_module_version": "1.2.0",
       "_view_name": "StyleView",
       "description_width": ""
      }
     },
     "4ff54046c3cd4e948e334b48e4f695a0": {
      "model_module": "@jupyter-widgets/base",
      "model_module_version": "1.2.0",
      "model_name": "LayoutModel",
      "state": {
       "_model_module": "@jupyter-widgets/base",
       "_model_module_version": "1.2.0",
       "_model_name": "LayoutModel",
       "_view_count": null,
       "_view_module": "@jupyter-widgets/base",
       "_view_module_version": "1.2.0",
       "_view_name": "LayoutView",
       "align_content": null,
       "align_items": null,
       "align_self": null,
       "border": null,
       "bottom": null,
       "display": null,
       "flex": null,
       "flex_flow": null,
       "grid_area": null,
       "grid_auto_columns": null,
       "grid_auto_flow": null,
       "grid_auto_rows": null,
       "grid_column": null,
       "grid_gap": null,
       "grid_row": null,
       "grid_template_areas": null,
       "grid_template_columns": null,
       "grid_template_rows": null,
       "height": null,
       "justify_content": null,
       "justify_items": null,
       "left": null,
       "margin": null,
       "max_height": null,
       "max_width": null,
       "min_height": null,
       "min_width": null,
       "object_fit": null,
       "object_position": null,
       "order": null,
       "overflow": null,
       "overflow_x": null,
       "overflow_y": null,
       "padding": null,
       "right": null,
       "top": null,
       "visibility": null,
       "width": null
      }
     },
     "527b9579ff814ff4ae75c11825f65c15": {
      "model_module": "@jupyter-widgets/controls",
      "model_module_version": "1.5.0",
      "model_name": "HBoxModel",
      "state": {
       "_dom_classes": [],
       "_model_module": "@jupyter-widgets/controls",
       "_model_module_version": "1.5.0",
       "_model_name": "HBoxModel",
       "_view_count": null,
       "_view_module": "@jupyter-widgets/controls",
       "_view_module_version": "1.5.0",
       "_view_name": "HBoxView",
       "box_style": "",
       "children": [
        "IPY_MODEL_dbb0b54d2fbd4eb89e48ed9f90e9185b",
        "IPY_MODEL_354d947860764cd7bd77cf155e65fd80",
        "IPY_MODEL_ff0d05e63d6d428da8ee9bcb4f704438"
       ],
       "layout": "IPY_MODEL_c93f4af46c7a45bbaad04a975af83e83"
      }
     },
     "5abb33fd6e9d462ca8af0655fca41178": {
      "model_module": "@jupyter-widgets/base",
      "model_module_version": "1.2.0",
      "model_name": "LayoutModel",
      "state": {
       "_model_module": "@jupyter-widgets/base",
       "_model_module_version": "1.2.0",
       "_model_name": "LayoutModel",
       "_view_count": null,
       "_view_module": "@jupyter-widgets/base",
       "_view_module_version": "1.2.0",
       "_view_name": "LayoutView",
       "align_content": null,
       "align_items": null,
       "align_self": null,
       "border": null,
       "bottom": null,
       "display": null,
       "flex": null,
       "flex_flow": null,
       "grid_area": null,
       "grid_auto_columns": null,
       "grid_auto_flow": null,
       "grid_auto_rows": null,
       "grid_column": null,
       "grid_gap": null,
       "grid_row": null,
       "grid_template_areas": null,
       "grid_template_columns": null,
       "grid_template_rows": null,
       "height": null,
       "justify_content": null,
       "justify_items": null,
       "left": null,
       "margin": null,
       "max_height": null,
       "max_width": null,
       "min_height": null,
       "min_width": null,
       "object_fit": null,
       "object_position": null,
       "order": null,
       "overflow": null,
       "overflow_x": null,
       "overflow_y": null,
       "padding": null,
       "right": null,
       "top": null,
       "visibility": null,
       "width": null
      }
     },
     "5b1275a840bf430490ed64925a840e60": {
      "model_module": "@jupyter-widgets/controls",
      "model_module_version": "1.5.0",
      "model_name": "ProgressStyleModel",
      "state": {
       "_model_module": "@jupyter-widgets/controls",
       "_model_module_version": "1.5.0",
       "_model_name": "ProgressStyleModel",
       "_view_count": null,
       "_view_module": "@jupyter-widgets/base",
       "_view_module_version": "1.2.0",
       "_view_name": "StyleView",
       "bar_color": null,
       "description_width": ""
      }
     },
     "5bfd5a3872f646c7b3b7b04faf414b90": {
      "model_module": "@jupyter-widgets/controls",
      "model_module_version": "1.5.0",
      "model_name": "DescriptionStyleModel",
      "state": {
       "_model_module": "@jupyter-widgets/controls",
       "_model_module_version": "1.5.0",
       "_model_name": "DescriptionStyleModel",
       "_view_count": null,
       "_view_module": "@jupyter-widgets/base",
       "_view_module_version": "1.2.0",
       "_view_name": "StyleView",
       "description_width": ""
      }
     },
     "5cd537febedf4209a6c9253ea0f1679e": {
      "model_module": "@jupyter-widgets/controls",
      "model_module_version": "1.5.0",
      "model_name": "FloatProgressModel",
      "state": {
       "_dom_classes": [],
       "_model_module": "@jupyter-widgets/controls",
       "_model_module_version": "1.5.0",
       "_model_name": "FloatProgressModel",
       "_view_count": null,
       "_view_module": "@jupyter-widgets/controls",
       "_view_module_version": "1.5.0",
       "_view_name": "ProgressView",
       "bar_style": "success",
       "description": "",
       "description_tooltip": null,
       "layout": "IPY_MODEL_de76968f1dae4843a6a0d904ccd6f7b0",
       "max": 229167.0,
       "min": 0.0,
       "orientation": "horizontal",
       "style": "IPY_MODEL_026fcc740e2d48128c3e8e64f25debba",
       "value": 229167.0
      }
     },
     "6a7dbce64fac4513bd6054c04c6a6783": {
      "model_module": "@jupyter-widgets/base",
      "model_module_version": "1.2.0",
      "model_name": "LayoutModel",
      "state": {
       "_model_module": "@jupyter-widgets/base",
       "_model_module_version": "1.2.0",
       "_model_name": "LayoutModel",
       "_view_count": null,
       "_view_module": "@jupyter-widgets/base",
       "_view_module_version": "1.2.0",
       "_view_name": "LayoutView",
       "align_content": null,
       "align_items": null,
       "align_self": null,
       "border": null,
       "bottom": null,
       "display": null,
       "flex": null,
       "flex_flow": null,
       "grid_area": null,
       "grid_auto_columns": null,
       "grid_auto_flow": null,
       "grid_auto_rows": null,
       "grid_column": null,
       "grid_gap": null,
       "grid_row": null,
       "grid_template_areas": null,
       "grid_template_columns": null,
       "grid_template_rows": null,
       "height": null,
       "justify_content": null,
       "justify_items": null,
       "left": null,
       "margin": null,
       "max_height": null,
       "max_width": null,
       "min_height": null,
       "min_width": null,
       "object_fit": null,
       "object_position": null,
       "order": null,
       "overflow": null,
       "overflow_x": null,
       "overflow_y": null,
       "padding": null,
       "right": null,
       "top": null,
       "visibility": null,
       "width": null
      }
     },
     "6ad9ff03a27a4f8dba2d9baac02ceb22": {
      "model_module": "@jupyter-widgets/base",
      "model_module_version": "1.2.0",
      "model_name": "LayoutModel",
      "state": {
       "_model_module": "@jupyter-widgets/base",
       "_model_module_version": "1.2.0",
       "_model_name": "LayoutModel",
       "_view_count": null,
       "_view_module": "@jupyter-widgets/base",
       "_view_module_version": "1.2.0",
       "_view_name": "LayoutView",
       "align_content": null,
       "align_items": null,
       "align_self": null,
       "border": null,
       "bottom": null,
       "display": null,
       "flex": null,
       "flex_flow": null,
       "grid_area": null,
       "grid_auto_columns": null,
       "grid_auto_flow": null,
       "grid_auto_rows": null,
       "grid_column": null,
       "grid_gap": null,
       "grid_row": null,
       "grid_template_areas": null,
       "grid_template_columns": null,
       "grid_template_rows": null,
       "height": null,
       "justify_content": null,
       "justify_items": null,
       "left": null,
       "margin": null,
       "max_height": null,
       "max_width": null,
       "min_height": null,
       "min_width": null,
       "object_fit": null,
       "object_position": null,
       "order": null,
       "overflow": null,
       "overflow_x": null,
       "overflow_y": null,
       "padding": null,
       "right": null,
       "top": null,
       "visibility": null,
       "width": null
      }
     },
     "70be4a15ebc345e1bfdd6aa8b23499dc": {
      "model_module": "@jupyter-widgets/base",
      "model_module_version": "1.2.0",
      "model_name": "LayoutModel",
      "state": {
       "_model_module": "@jupyter-widgets/base",
       "_model_module_version": "1.2.0",
       "_model_name": "LayoutModel",
       "_view_count": null,
       "_view_module": "@jupyter-widgets/base",
       "_view_module_version": "1.2.0",
       "_view_name": "LayoutView",
       "align_content": null,
       "align_items": null,
       "align_self": null,
       "border": null,
       "bottom": null,
       "display": null,
       "flex": null,
       "flex_flow": null,
       "grid_area": null,
       "grid_auto_columns": null,
       "grid_auto_flow": null,
       "grid_auto_rows": null,
       "grid_column": null,
       "grid_gap": null,
       "grid_row": null,
       "grid_template_areas": null,
       "grid_template_columns": null,
       "grid_template_rows": null,
       "height": null,
       "justify_content": null,
       "justify_items": null,
       "left": null,
       "margin": null,
       "max_height": null,
       "max_width": null,
       "min_height": null,
       "min_width": null,
       "object_fit": null,
       "object_position": null,
       "order": null,
       "overflow": null,
       "overflow_x": null,
       "overflow_y": null,
       "padding": null,
       "right": null,
       "top": null,
       "visibility": null,
       "width": null
      }
     },
     "711baee366a84d2bb9471425749c0b3c": {
      "model_module": "@jupyter-widgets/controls",
      "model_module_version": "1.5.0",
      "model_name": "DescriptionStyleModel",
      "state": {
       "_model_module": "@jupyter-widgets/controls",
       "_model_module_version": "1.5.0",
       "_model_name": "DescriptionStyleModel",
       "_view_count": null,
       "_view_module": "@jupyter-widgets/base",
       "_view_module_version": "1.2.0",
       "_view_name": "StyleView",
       "description_width": ""
      }
     },
     "7190b732cd94498dad19bf37cec50140": {
      "model_module": "@jupyter-widgets/base",
      "model_module_version": "1.2.0",
      "model_name": "LayoutModel",
      "state": {
       "_model_module": "@jupyter-widgets/base",
       "_model_module_version": "1.2.0",
       "_model_name": "LayoutModel",
       "_view_count": null,
       "_view_module": "@jupyter-widgets/base",
       "_view_module_version": "1.2.0",
       "_view_name": "LayoutView",
       "align_content": null,
       "align_items": null,
       "align_self": null,
       "border": null,
       "bottom": null,
       "display": null,
       "flex": null,
       "flex_flow": null,
       "grid_area": null,
       "grid_auto_columns": null,
       "grid_auto_flow": null,
       "grid_auto_rows": null,
       "grid_column": null,
       "grid_gap": null,
       "grid_row": null,
       "grid_template_areas": null,
       "grid_template_columns": null,
       "grid_template_rows": null,
       "height": null,
       "justify_content": null,
       "justify_items": null,
       "left": null,
       "margin": null,
       "max_height": null,
       "max_width": null,
       "min_height": null,
       "min_width": null,
       "object_fit": null,
       "object_position": null,
       "order": null,
       "overflow": null,
       "overflow_x": null,
       "overflow_y": null,
       "padding": null,
       "right": null,
       "top": null,
       "visibility": null,
       "width": null
      }
     },
     "75b68d4d051a48b79f4bbe6a053c9858": {
      "model_module": "@jupyter-widgets/base",
      "model_module_version": "1.2.0",
      "model_name": "LayoutModel",
      "state": {
       "_model_module": "@jupyter-widgets/base",
       "_model_module_version": "1.2.0",
       "_model_name": "LayoutModel",
       "_view_count": null,
       "_view_module": "@jupyter-widgets/base",
       "_view_module_version": "1.2.0",
       "_view_name": "LayoutView",
       "align_content": null,
       "align_items": null,
       "align_self": null,
       "border": null,
       "bottom": null,
       "display": null,
       "flex": null,
       "flex_flow": null,
       "grid_area": null,
       "grid_auto_columns": null,
       "grid_auto_flow": null,
       "grid_auto_rows": null,
       "grid_column": null,
       "grid_gap": null,
       "grid_row": null,
       "grid_template_areas": null,
       "grid_template_columns": null,
       "grid_template_rows": null,
       "height": null,
       "justify_content": null,
       "justify_items": null,
       "left": null,
       "margin": null,
       "max_height": null,
       "max_width": null,
       "min_height": null,
       "min_width": null,
       "object_fit": null,
       "object_position": null,
       "order": null,
       "overflow": null,
       "overflow_x": null,
       "overflow_y": null,
       "padding": null,
       "right": null,
       "top": null,
       "visibility": null,
       "width": null
      }
     },
     "7a81fb848ce74c29bd994579e6e8e5a7": {
      "model_module": "@jupyter-widgets/controls",
      "model_module_version": "1.5.0",
      "model_name": "HBoxModel",
      "state": {
       "_dom_classes": [],
       "_model_module": "@jupyter-widgets/controls",
       "_model_module_version": "1.5.0",
       "_model_name": "HBoxModel",
       "_view_count": null,
       "_view_module": "@jupyter-widgets/controls",
       "_view_module_version": "1.5.0",
       "_view_name": "HBoxView",
       "box_style": "",
       "children": [
        "IPY_MODEL_a1bffad356ca40c7b41f8f6046ca7042",
        "IPY_MODEL_d0ffc850bbe1488ebf879adb0adce3ab",
        "IPY_MODEL_f79ed96cac9a4b899556a1c7aa90e24a"
       ],
       "layout": "IPY_MODEL_ff597c016ef64ca39b22b29a641b6987"
      }
     },
     "80f222f219a64709aa874566ee3bfc55": {
      "model_module": "@jupyter-widgets/base",
      "model_module_version": "1.2.0",
      "model_name": "LayoutModel",
      "state": {
       "_model_module": "@jupyter-widgets/base",
       "_model_module_version": "1.2.0",
       "_model_name": "LayoutModel",
       "_view_count": null,
       "_view_module": "@jupyter-widgets/base",
       "_view_module_version": "1.2.0",
       "_view_name": "LayoutView",
       "align_content": null,
       "align_items": null,
       "align_self": null,
       "border": null,
       "bottom": null,
       "display": null,
       "flex": null,
       "flex_flow": null,
       "grid_area": null,
       "grid_auto_columns": null,
       "grid_auto_flow": null,
       "grid_auto_rows": null,
       "grid_column": null,
       "grid_gap": null,
       "grid_row": null,
       "grid_template_areas": null,
       "grid_template_columns": null,
       "grid_template_rows": null,
       "height": null,
       "justify_content": null,
       "justify_items": null,
       "left": null,
       "margin": null,
       "max_height": null,
       "max_width": null,
       "min_height": null,
       "min_width": null,
       "object_fit": null,
       "object_position": null,
       "order": null,
       "overflow": null,
       "overflow_x": null,
       "overflow_y": null,
       "padding": null,
       "right": null,
       "top": null,
       "visibility": null,
       "width": null
      }
     },
     "8132ddde49f04c21b119251750305603": {
      "model_module": "@jupyter-widgets/controls",
      "model_module_version": "1.5.0",
      "model_name": "HTMLModel",
      "state": {
       "_dom_classes": [],
       "_model_module": "@jupyter-widgets/controls",
       "_model_module_version": "1.5.0",
       "_model_name": "HTMLModel",
       "_view_count": null,
       "_view_module": "@jupyter-widgets/controls",
       "_view_module_version": "1.5.0",
       "_view_name": "HTMLView",
       "description": "",
       "description_tooltip": null,
       "layout": "IPY_MODEL_a454847062fe426f896cc55fc59fc7e7",
       "placeholder": "​",
       "style": "IPY_MODEL_5bfd5a3872f646c7b3b7b04faf414b90",
       "value": "pytorch_model.bin: 100%"
      }
     },
     "82e71389340d4636bab18c0ffc74e94a": {
      "model_module": "@jupyter-widgets/base",
      "model_module_version": "1.2.0",
      "model_name": "LayoutModel",
      "state": {
       "_model_module": "@jupyter-widgets/base",
       "_model_module_version": "1.2.0",
       "_model_name": "LayoutModel",
       "_view_count": null,
       "_view_module": "@jupyter-widgets/base",
       "_view_module_version": "1.2.0",
       "_view_name": "LayoutView",
       "align_content": null,
       "align_items": null,
       "align_self": null,
       "border": null,
       "bottom": null,
       "display": null,
       "flex": null,
       "flex_flow": null,
       "grid_area": null,
       "grid_auto_columns": null,
       "grid_auto_flow": null,
       "grid_auto_rows": null,
       "grid_column": null,
       "grid_gap": null,
       "grid_row": null,
       "grid_template_areas": null,
       "grid_template_columns": null,
       "grid_template_rows": null,
       "height": null,
       "justify_content": null,
       "justify_items": null,
       "left": null,
       "margin": null,
       "max_height": null,
       "max_width": null,
       "min_height": null,
       "min_width": null,
       "object_fit": null,
       "object_position": null,
       "order": null,
       "overflow": null,
       "overflow_x": null,
       "overflow_y": null,
       "padding": null,
       "right": null,
       "top": null,
       "visibility": null,
       "width": null
      }
     },
     "8cbd59b7b6c04fb2804caebaf45e6d65": {
      "model_module": "@jupyter-widgets/base",
      "model_module_version": "1.2.0",
      "model_name": "LayoutModel",
      "state": {
       "_model_module": "@jupyter-widgets/base",
       "_model_module_version": "1.2.0",
       "_model_name": "LayoutModel",
       "_view_count": null,
       "_view_module": "@jupyter-widgets/base",
       "_view_module_version": "1.2.0",
       "_view_name": "LayoutView",
       "align_content": null,
       "align_items": null,
       "align_self": null,
       "border": null,
       "bottom": null,
       "display": null,
       "flex": null,
       "flex_flow": null,
       "grid_area": null,
       "grid_auto_columns": null,
       "grid_auto_flow": null,
       "grid_auto_rows": null,
       "grid_column": null,
       "grid_gap": null,
       "grid_row": null,
       "grid_template_areas": null,
       "grid_template_columns": null,
       "grid_template_rows": null,
       "height": null,
       "justify_content": null,
       "justify_items": null,
       "left": null,
       "margin": null,
       "max_height": null,
       "max_width": null,
       "min_height": null,
       "min_width": null,
       "object_fit": null,
       "object_position": null,
       "order": null,
       "overflow": null,
       "overflow_x": null,
       "overflow_y": null,
       "padding": null,
       "right": null,
       "top": null,
       "visibility": null,
       "width": null
      }
     },
     "8d0bd0dc8f0546118e8518b3364dbff3": {
      "model_module": "@jupyter-widgets/controls",
      "model_module_version": "1.5.0",
      "model_name": "DescriptionStyleModel",
      "state": {
       "_model_module": "@jupyter-widgets/controls",
       "_model_module_version": "1.5.0",
       "_model_name": "DescriptionStyleModel",
       "_view_count": null,
       "_view_module": "@jupyter-widgets/base",
       "_view_module_version": "1.2.0",
       "_view_name": "StyleView",
       "description_width": ""
      }
     },
     "8d53562b82124cda98e0e4df07ebec45": {
      "model_module": "@jupyter-widgets/controls",
      "model_module_version": "1.5.0",
      "model_name": "HTMLModel",
      "state": {
       "_dom_classes": [],
       "_model_module": "@jupyter-widgets/controls",
       "_model_module_version": "1.5.0",
       "_model_name": "HTMLModel",
       "_view_count": null,
       "_view_module": "@jupyter-widgets/controls",
       "_view_module_version": "1.5.0",
       "_view_name": "HTMLView",
       "description": "",
       "description_tooltip": null,
       "layout": "IPY_MODEL_82e71389340d4636bab18c0ffc74e94a",
       "placeholder": "​",
       "style": "IPY_MODEL_95eea9294b2d4ae48bb6f67ae10ec5a5",
       "value": " 229k/229k [00:00&lt;00:00, 1.41MB/s]"
      }
     },
     "8e775c9380af4492bfd82fbdb2692040": {
      "model_module": "@jupyter-widgets/controls",
      "model_module_version": "1.5.0",
      "model_name": "HTMLModel",
      "state": {
       "_dom_classes": [],
       "_model_module": "@jupyter-widgets/controls",
       "_model_module_version": "1.5.0",
       "_model_name": "HTMLModel",
       "_view_count": null,
       "_view_module": "@jupyter-widgets/controls",
       "_view_module_version": "1.5.0",
       "_view_name": "HTMLView",
       "description": "",
       "description_tooltip": null,
       "layout": "IPY_MODEL_3616e86dbc87497d8ecac04cd294d346",
       "placeholder": "​",
       "style": "IPY_MODEL_29e5ab470f67465d8e2109a410c92440",
       "value": " 1.34G/1.34G [00:47&lt;00:00, 31.8MB/s]"
      }
     },
     "95eea9294b2d4ae48bb6f67ae10ec5a5": {
      "model_module": "@jupyter-widgets/controls",
      "model_module_version": "1.5.0",
      "model_name": "DescriptionStyleModel",
      "state": {
       "_model_module": "@jupyter-widgets/controls",
       "_model_module_version": "1.5.0",
       "_model_name": "DescriptionStyleModel",
       "_view_count": null,
       "_view_module": "@jupyter-widgets/base",
       "_view_module_version": "1.2.0",
       "_view_name": "StyleView",
       "description_width": ""
      }
     },
     "a1bffad356ca40c7b41f8f6046ca7042": {
      "model_module": "@jupyter-widgets/controls",
      "model_module_version": "1.5.0",
      "model_name": "HTMLModel",
      "state": {
       "_dom_classes": [],
       "_model_module": "@jupyter-widgets/controls",
       "_model_module_version": "1.5.0",
       "_model_name": "HTMLModel",
       "_view_count": null,
       "_view_module": "@jupyter-widgets/controls",
       "_view_module_version": "1.5.0",
       "_view_name": "HTMLView",
       "description": "",
       "description_tooltip": null,
       "layout": "IPY_MODEL_75b68d4d051a48b79f4bbe6a053c9858",
       "placeholder": "​",
       "style": "IPY_MODEL_dc10d70b22fc484497193b3d243a3b38",
       "value": "tokenizer_config.json: 100%"
      }
     },
     "a454847062fe426f896cc55fc59fc7e7": {
      "model_module": "@jupyter-widgets/base",
      "model_module_version": "1.2.0",
      "model_name": "LayoutModel",
      "state": {
       "_model_module": "@jupyter-widgets/base",
       "_model_module_version": "1.2.0",
       "_model_name": "LayoutModel",
       "_view_count": null,
       "_view_module": "@jupyter-widgets/base",
       "_view_module_version": "1.2.0",
       "_view_name": "LayoutView",
       "align_content": null,
       "align_items": null,
       "align_self": null,
       "border": null,
       "bottom": null,
       "display": null,
       "flex": null,
       "flex_flow": null,
       "grid_area": null,
       "grid_auto_columns": null,
       "grid_auto_flow": null,
       "grid_auto_rows": null,
       "grid_column": null,
       "grid_gap": null,
       "grid_row": null,
       "grid_template_areas": null,
       "grid_template_columns": null,
       "grid_template_rows": null,
       "height": null,
       "justify_content": null,
       "justify_items": null,
       "left": null,
       "margin": null,
       "max_height": null,
       "max_width": null,
       "min_height": null,
       "min_width": null,
       "object_fit": null,
       "object_position": null,
       "order": null,
       "overflow": null,
       "overflow_x": null,
       "overflow_y": null,
       "padding": null,
       "right": null,
       "top": null,
       "visibility": null,
       "width": null
      }
     },
     "ac4d06df24ca4ab09eab2bf8dae3ed21": {
      "model_module": "@jupyter-widgets/controls",
      "model_module_version": "1.5.0",
      "model_name": "ProgressStyleModel",
      "state": {
       "_model_module": "@jupyter-widgets/controls",
       "_model_module_version": "1.5.0",
       "_model_name": "ProgressStyleModel",
       "_view_count": null,
       "_view_module": "@jupyter-widgets/base",
       "_view_module_version": "1.2.0",
       "_view_name": "StyleView",
       "bar_color": null,
       "description_width": ""
      }
     },
     "b67aa607b24c4b7dafdf9ec649a3cce3": {
      "model_module": "@jupyter-widgets/controls",
      "model_module_version": "1.5.0",
      "model_name": "HTMLModel",
      "state": {
       "_dom_classes": [],
       "_model_module": "@jupyter-widgets/controls",
       "_model_module_version": "1.5.0",
       "_model_name": "HTMLModel",
       "_view_count": null,
       "_view_module": "@jupyter-widgets/controls",
       "_view_module_version": "1.5.0",
       "_view_name": "HTMLView",
       "description": "",
       "description_tooltip": null,
       "layout": "IPY_MODEL_4ff54046c3cd4e948e334b48e4f695a0",
       "placeholder": "​",
       "style": "IPY_MODEL_42199eba62b74a5fb9d1ae99b2d7c6bc",
       "value": " 1.53k/1.53k [00:00&lt;00:00, 139kB/s]"
      }
     },
     "c93f4af46c7a45bbaad04a975af83e83": {
      "model_module": "@jupyter-widgets/base",
      "model_module_version": "1.2.0",
      "model_name": "LayoutModel",
      "state": {
       "_model_module": "@jupyter-widgets/base",
       "_model_module_version": "1.2.0",
       "_model_name": "LayoutModel",
       "_view_count": null,
       "_view_module": "@jupyter-widgets/base",
       "_view_module_version": "1.2.0",
       "_view_name": "LayoutView",
       "align_content": null,
       "align_items": null,
       "align_self": null,
       "border": null,
       "bottom": null,
       "display": null,
       "flex": null,
       "flex_flow": null,
       "grid_area": null,
       "grid_auto_columns": null,
       "grid_auto_flow": null,
       "grid_auto_rows": null,
       "grid_column": null,
       "grid_gap": null,
       "grid_row": null,
       "grid_template_areas": null,
       "grid_template_columns": null,
       "grid_template_rows": null,
       "height": null,
       "justify_content": null,
       "justify_items": null,
       "left": null,
       "margin": null,
       "max_height": null,
       "max_width": null,
       "min_height": null,
       "min_width": null,
       "object_fit": null,
       "object_position": null,
       "order": null,
       "overflow": null,
       "overflow_x": null,
       "overflow_y": null,
       "padding": null,
       "right": null,
       "top": null,
       "visibility": null,
       "width": null
      }
     },
     "d0ffc850bbe1488ebf879adb0adce3ab": {
      "model_module": "@jupyter-widgets/controls",
      "model_module_version": "1.5.0",
      "model_name": "FloatProgressModel",
      "state": {
       "_dom_classes": [],
       "_model_module": "@jupyter-widgets/controls",
       "_model_module_version": "1.5.0",
       "_model_name": "FloatProgressModel",
       "_view_count": null,
       "_view_module": "@jupyter-widgets/controls",
       "_view_module_version": "1.5.0",
       "_view_name": "ProgressView",
       "bar_style": "success",
       "description": "",
       "description_tooltip": null,
       "layout": "IPY_MODEL_70be4a15ebc345e1bfdd6aa8b23499dc",
       "max": 2.0,
       "min": 0.0,
       "orientation": "horizontal",
       "style": "IPY_MODEL_4eaec940a9214dbb9e7cc9f74063b6df",
       "value": 2.0
      }
     },
     "dbb0b54d2fbd4eb89e48ed9f90e9185b": {
      "model_module": "@jupyter-widgets/controls",
      "model_module_version": "1.5.0",
      "model_name": "HTMLModel",
      "state": {
       "_dom_classes": [],
       "_model_module": "@jupyter-widgets/controls",
       "_model_module_version": "1.5.0",
       "_model_name": "HTMLModel",
       "_view_count": null,
       "_view_module": "@jupyter-widgets/controls",
       "_view_module_version": "1.5.0",
       "_view_name": "HTMLView",
       "description": "",
       "description_tooltip": null,
       "layout": "IPY_MODEL_6ad9ff03a27a4f8dba2d9baac02ceb22",
       "placeholder": "​",
       "style": "IPY_MODEL_8d0bd0dc8f0546118e8518b3364dbff3",
       "value": "special_tokens_map.json: 100%"
      }
     },
     "dc10d70b22fc484497193b3d243a3b38": {
      "model_module": "@jupyter-widgets/controls",
      "model_module_version": "1.5.0",
      "model_name": "DescriptionStyleModel",
      "state": {
       "_model_module": "@jupyter-widgets/controls",
       "_model_module_version": "1.5.0",
       "_model_name": "DescriptionStyleModel",
       "_view_count": null,
       "_view_module": "@jupyter-widgets/base",
       "_view_module_version": "1.2.0",
       "_view_name": "StyleView",
       "description_width": ""
      }
     },
     "dc2db81f1d4d48e78150e9c03761c91c": {
      "model_module": "@jupyter-widgets/controls",
      "model_module_version": "1.5.0",
      "model_name": "DescriptionStyleModel",
      "state": {
       "_model_module": "@jupyter-widgets/controls",
       "_model_module_version": "1.5.0",
       "_model_name": "DescriptionStyleModel",
       "_view_count": null,
       "_view_module": "@jupyter-widgets/base",
       "_view_module_version": "1.2.0",
       "_view_name": "StyleView",
       "description_width": ""
      }
     },
     "de76968f1dae4843a6a0d904ccd6f7b0": {
      "model_module": "@jupyter-widgets/base",
      "model_module_version": "1.2.0",
      "model_name": "LayoutModel",
      "state": {
       "_model_module": "@jupyter-widgets/base",
       "_model_module_version": "1.2.0",
       "_model_name": "LayoutModel",
       "_view_count": null,
       "_view_module": "@jupyter-widgets/base",
       "_view_module_version": "1.2.0",
       "_view_name": "LayoutView",
       "align_content": null,
       "align_items": null,
       "align_self": null,
       "border": null,
       "bottom": null,
       "display": null,
       "flex": null,
       "flex_flow": null,
       "grid_area": null,
       "grid_auto_columns": null,
       "grid_auto_flow": null,
       "grid_auto_rows": null,
       "grid_column": null,
       "grid_gap": null,
       "grid_row": null,
       "grid_template_areas": null,
       "grid_template_columns": null,
       "grid_template_rows": null,
       "height": null,
       "justify_content": null,
       "justify_items": null,
       "left": null,
       "margin": null,
       "max_height": null,
       "max_width": null,
       "min_height": null,
       "min_width": null,
       "object_fit": null,
       "object_position": null,
       "order": null,
       "overflow": null,
       "overflow_x": null,
       "overflow_y": null,
       "padding": null,
       "right": null,
       "top": null,
       "visibility": null,
       "width": null
      }
     },
     "ea2da4a8f6924f44b4eaa0e178a0c9d7": {
      "model_module": "@jupyter-widgets/controls",
      "model_module_version": "1.5.0",
      "model_name": "ProgressStyleModel",
      "state": {
       "_model_module": "@jupyter-widgets/controls",
       "_model_module_version": "1.5.0",
       "_model_name": "ProgressStyleModel",
       "_view_count": null,
       "_view_module": "@jupyter-widgets/base",
       "_view_module_version": "1.2.0",
       "_view_name": "StyleView",
       "bar_color": null,
       "description_width": ""
      }
     },
     "ea57d57843e8442aa6fdff476798a0ff": {
      "model_module": "@jupyter-widgets/controls",
      "model_module_version": "1.5.0",
      "model_name": "HTMLModel",
      "state": {
       "_dom_classes": [],
       "_model_module": "@jupyter-widgets/controls",
       "_model_module_version": "1.5.0",
       "_model_name": "HTMLModel",
       "_view_count": null,
       "_view_module": "@jupyter-widgets/controls",
       "_view_module_version": "1.5.0",
       "_view_name": "HTMLView",
       "description": "",
       "description_tooltip": null,
       "layout": "IPY_MODEL_7190b732cd94498dad19bf37cec50140",
       "placeholder": "​",
       "style": "IPY_MODEL_711baee366a84d2bb9471425749c0b3c",
       "value": "config.json: 100%"
      }
     },
     "f79ed96cac9a4b899556a1c7aa90e24a": {
      "model_module": "@jupyter-widgets/controls",
      "model_module_version": "1.5.0",
      "model_name": "HTMLModel",
      "state": {
       "_dom_classes": [],
       "_model_module": "@jupyter-widgets/controls",
       "_model_module_version": "1.5.0",
       "_model_name": "HTMLModel",
       "_view_count": null,
       "_view_module": "@jupyter-widgets/controls",
       "_view_module_version": "1.5.0",
       "_view_name": "HTMLView",
       "description": "",
       "description_tooltip": null,
       "layout": "IPY_MODEL_48bf2e1685a143f4a7730305fe68663f",
       "placeholder": "​",
       "style": "IPY_MODEL_dc2db81f1d4d48e78150e9c03761c91c",
       "value": " 2.00/2.00 [00:00&lt;00:00, 156B/s]"
      }
     },
     "ff0d05e63d6d428da8ee9bcb4f704438": {
      "model_module": "@jupyter-widgets/controls",
      "model_module_version": "1.5.0",
      "model_name": "HTMLModel",
      "state": {
       "_dom_classes": [],
       "_model_module": "@jupyter-widgets/controls",
       "_model_module_version": "1.5.0",
       "_model_name": "HTMLModel",
       "_view_count": null,
       "_view_module": "@jupyter-widgets/controls",
       "_view_module_version": "1.5.0",
       "_view_name": "HTMLView",
       "description": "",
       "description_tooltip": null,
       "layout": "IPY_MODEL_29cfe415646247088815e1e9a67f379b",
       "placeholder": "​",
       "style": "IPY_MODEL_2799788ae65f49898aff7a467bddfcad",
       "value": " 112/112 [00:00&lt;00:00, 9.81kB/s]"
      }
     },
     "ff597c016ef64ca39b22b29a641b6987": {
      "model_module": "@jupyter-widgets/base",
      "model_module_version": "1.2.0",
      "model_name": "LayoutModel",
      "state": {
       "_model_module": "@jupyter-widgets/base",
       "_model_module_version": "1.2.0",
       "_model_name": "LayoutModel",
       "_view_count": null,
       "_view_module": "@jupyter-widgets/base",
       "_view_module_version": "1.2.0",
       "_view_name": "LayoutView",
       "align_content": null,
       "align_items": null,
       "align_self": null,
       "border": null,
       "bottom": null,
       "display": null,
       "flex": null,
       "flex_flow": null,
       "grid_area": null,
       "grid_auto_columns": null,
       "grid_auto_flow": null,
       "grid_auto_rows": null,
       "grid_column": null,
       "grid_gap": null,
       "grid_row": null,
       "grid_template_areas": null,
       "grid_template_columns": null,
       "grid_template_rows": null,
       "height": null,
       "justify_content": null,
       "justify_items": null,
       "left": null,
       "margin": null,
       "max_height": null,
       "max_width": null,
       "min_height": null,
       "min_width": null,
       "object_fit": null,
       "object_position": null,
       "order": null,
       "overflow": null,
       "overflow_x": null,
       "overflow_y": null,
       "padding": null,
       "right": null,
       "top": null,
       "visibility": null,
       "width": null
      }
     }
    },
    "version_major": 2,
    "version_minor": 0
   }
  }
 },
 "nbformat": 4,
 "nbformat_minor": 5
}
